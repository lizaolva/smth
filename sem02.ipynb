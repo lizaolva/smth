{
 "cells": [
  {
   "cell_type": "markdown",
   "id": "2bf91cd6-c280-4992-905a-6a4b1c0e72b9",
   "metadata": {},
   "source": [
    "### 2. ООП и лингвистические библиотеки"
   ]
  },
  {
   "cell_type": "markdown",
   "id": "e5e94f9d-5ed5-4288-a063-f6b385d555ca",
   "metadata": {},
   "source": [
    "#### Задача 1. \n",
    "\n",
    "У вас есть файл с разборами conllu (можете взять любой, например, [тут](https://github.com/dialogue-evaluation/GramEval2020), или получить его с помощью UDPipe online). Нужно просмотреть все примеры предложений с тегом dislocated и тегом discourse: напишите скрипт, который будет читать файл, находить все такие предложения и печатать: 1) сам текст предложения 2) слово, имеющее искомый тег. Если тег не был найден в файле, нужно об этом сообщить. Постарайтесь оформить вывод таким образом, чтобы это было удобно читать. "
   ]
  },
  {
   "cell_type": "code",
   "execution_count": 8,
   "id": "8a17fccb-9a62-483d-a591-14942da526db",
   "metadata": {},
   "outputs": [
    {
     "name": "stdout",
     "output_type": "stream",
     "text": [
      "('то', 'discourse'): - Иметь - то имеют , - сказала Марья Поликарповна .\n",
      "('Ну', 'discourse'): \" Ну , надо же , - подумал Илья Ильич , - так просто сказала , ходя с восьмерок : \" Мне , девки , недельки три еще - и до свидания \" .\n"
     ]
    }
   ],
   "source": [
    "import pyconll\n",
    "\n",
    "text = pyconll.load_from_file(r\"C:\\Users\\lizao\\Downloads\\GramEval2020-SynTagRus-dev.conllu\")\n",
    "\n",
    "for sentence in text:\n",
    "    for token in sentence:\n",
    "        if token.deprel == 'discourse':\n",
    "            print(f'{token.form, token.deprel}: {\" \".join([token.form for token in sentence])}')\n"
   ]
  },
  {
   "cell_type": "markdown",
   "id": "fe2fec84-b634-4577-89c2-ee4d6d435a8d",
   "metadata": {
    "tags": []
   },
   "source": [
    "#### Задача 2 (5 баллов). \n",
    "\n",
    "Напишем программу, имитирующую помощника-лингвиста. Наш помощник - это экземпляр специального класса. К этому помощнику пользователь может обращаться за помощью (через диалог в консоли). Помощник должен уметь: переводить с одного языка на другой; сообщать часть речи для указанного слова в определенном языке; рисовать деревья зависимостей; пытаться дать определение многозначному слову по контексту (только для английского языка). Советую сперва написать более общий класс \"бот-помощник\", а от него наследовать класс \"помощник-лингвист\". Подумайте, как лучше структурировать код. Пользователь не обязан только выбирать из предложенного списка пунктов: попробуйте сделать так, чтобы с программой можно было осмысленно общаться, например:\n",
    "\n",
    "    >>> Переведи, пожалуйста, на английский \"сегодня хорошая погода\".\n",
    "    >>> Вот: It's a good weather today.\n",
    "    >>> Переведи \"Я хочу изучать программирование\".\n",
    "    >>> На какой язык? Я знаю такие языки: английский...\n",
    "    \n",
    "    >>> Подбери определение для слова book в предложении \"I want to book a room in this hotel\".\n",
    "    >>> Book в этом предложении, вероятно, означает \"arrange for and reserve (something for someone else) in advance\".\n",
    "    \n",
    "    >>> Какая часть речи у слова \"печь\" в русском языке?\n",
    "    >>> Может быть существительное, а может быть глагол.\n",
    "    \n",
    "С этим вам могут помочь регулярные выражения.\n",
    "\n",
    "Доп. балл получите, если научите своего помощника предоставлять ссылку на страницу википедии по запросу (\"найди мне страницу википедии про ...\"). "
   ]
  },
  {
   "cell_type": "code",
   "execution_count": 7,
   "id": "42b9e2bf-9249-4ce2-b916-763713c63174",
   "metadata": {},
   "outputs": [
    {
     "ename": "AttributeError",
     "evalue": "'NoneType' object has no attribute 'group'",
     "output_type": "error",
     "traceback": [
      "\u001b[1;31m---------------------------------------------------------------------------\u001b[0m",
      "\u001b[1;31mAttributeError\u001b[0m                            Traceback (most recent call last)",
      "\u001b[1;32mc:\\Users\\lizao\\Desktop\\smth\\2 year\\sem02.ipynb Cell 5\u001b[0m line \u001b[0;36m5\n\u001b[0;32m     <a href='vscode-notebook-cell:/c%3A/Users/lizao/Desktop/smth/2%20year/sem02.ipynb#W4sZmlsZQ%3D%3D?line=55'>56</a>\u001b[0m         \u001b[39mpass\u001b[39;00m\n\u001b[0;32m     <a href='vscode-notebook-cell:/c%3A/Users/lizao/Desktop/smth/2%20year/sem02.ipynb#W4sZmlsZQ%3D%3D?line=57'>58</a>\u001b[0m l \u001b[39m=\u001b[39m Bot()\n\u001b[1;32m---> <a href='vscode-notebook-cell:/c%3A/Users/lizao/Desktop/smth/2%20year/sem02.ipynb#W4sZmlsZQ%3D%3D?line=58'>59</a>\u001b[0m l\u001b[39m.\u001b[39;49mprosess()\n",
      "\u001b[1;32mc:\\Users\\lizao\\Desktop\\smth\\2 year\\sem02.ipynb Cell 5\u001b[0m line \u001b[0;36m3\n\u001b[0;32m     <a href='vscode-notebook-cell:/c%3A/Users/lizao/Desktop/smth/2%20year/sem02.ipynb#W4sZmlsZQ%3D%3D?line=29'>30</a>\u001b[0m \u001b[39mwhile\u001b[39;00m \u001b[39mTrue\u001b[39;00m:\n\u001b[0;32m     <a href='vscode-notebook-cell:/c%3A/Users/lizao/Desktop/smth/2%20year/sem02.ipynb#W4sZmlsZQ%3D%3D?line=30'>31</a>\u001b[0m     question \u001b[39m=\u001b[39m \u001b[39minput\u001b[39m()\n\u001b[1;32m---> <a href='vscode-notebook-cell:/c%3A/Users/lizao/Desktop/smth/2%20year/sem02.ipynb#W4sZmlsZQ%3D%3D?line=31'>32</a>\u001b[0m     \u001b[39mself\u001b[39;49m\u001b[39m.\u001b[39;49mchat(question)\n",
      "\u001b[1;32mc:\\Users\\lizao\\Desktop\\smth\\2 year\\sem02.ipynb Cell 5\u001b[0m line \u001b[0;36m1\n\u001b[0;32m      <a href='vscode-notebook-cell:/c%3A/Users/lizao/Desktop/smth/2%20year/sem02.ipynb#W4sZmlsZQ%3D%3D?line=7'>8</a>\u001b[0m \u001b[39mvars\u001b[39m \u001b[39m=\u001b[39m \u001b[39mr\u001b[39m\u001b[39m'\u001b[39m\u001b[39m(пере(?:веди)|(?:вод))|((?:часть речи)|(?:POS))|(дерево (?:зависимости|ей)*)|(опредение|значение|смысл)\u001b[39m\u001b[39m'\u001b[39m\n\u001b[0;32m      <a href='vscode-notebook-cell:/c%3A/Users/lizao/Desktop/smth/2%20year/sem02.ipynb#W4sZmlsZQ%3D%3D?line=8'>9</a>\u001b[0m m \u001b[39m=\u001b[39m re\u001b[39m.\u001b[39mmatch(\u001b[39mvars\u001b[39m, inp, re\u001b[39m.\u001b[39mI) \u001b[39m# почему inp не передается как строка\u001b[39;00m\n\u001b[1;32m---> <a href='vscode-notebook-cell:/c%3A/Users/lizao/Desktop/smth/2%20year/sem02.ipynb#W4sZmlsZQ%3D%3D?line=9'>10</a>\u001b[0m \u001b[39mif\u001b[39;00m m\u001b[39m.\u001b[39;49mgroup(\u001b[39m1\u001b[39m):\n\u001b[0;32m     <a href='vscode-notebook-cell:/c%3A/Users/lizao/Desktop/smth/2%20year/sem02.ipynb#W4sZmlsZQ%3D%3D?line=10'>11</a>\u001b[0m     lang \u001b[39m=\u001b[39m re\u001b[39m.\u001b[39mmatch(\u001b[39mr\u001b[39m\u001b[39m'\u001b[39m\u001b[39m\\\u001b[39m\u001b[39mb\u001b[39m\u001b[39m\\\u001b[39m\u001b[39mw+ий\u001b[39m\u001b[39m\\\u001b[39m\u001b[39mb\u001b[39m\u001b[39m'\u001b[39m, inp)\n\u001b[0;32m     <a href='vscode-notebook-cell:/c%3A/Users/lizao/Desktop/smth/2%20year/sem02.ipynb#W4sZmlsZQ%3D%3D?line=11'>12</a>\u001b[0m     sent \u001b[39m=\u001b[39m re\u001b[39m.\u001b[39mmatch(\u001b[39mr\u001b[39m\u001b[39m'\u001b[39m\u001b[39m\\'\u001b[39;00m\u001b[39m|\u001b[39m\u001b[39m\\\u001b[39m\u001b[39m\"\u001b[39m\u001b[39m.+\u001b[39m\u001b[39m\\'\u001b[39;00m\u001b[39m|\u001b[39m\u001b[39m\\\u001b[39m\u001b[39m\"\u001b[39m\u001b[39m'\u001b[39m, inp)\n",
      "\u001b[1;31mAttributeError\u001b[0m: 'NoneType' object has no attribute 'group'"
     ]
    }
   ],
   "source": [
    "import googletrans, spacy, pymorphy2, re \n",
    "from spacy import displacy\n",
    "\n",
    "class Bot:\n",
    "    def __init__(self):\n",
    "        self = self\n",
    "    def chat(self, inp):\n",
    "        vars = r'(пере(?:веди)|(?:вод))|((?:часть речи)|(?:POS))|(дерево (?:зависимости|ей)*)|(опредение|значение|смысл)'\n",
    "        m = re.match(vars, inp, re.I) # почему inp не передается как строка\n",
    "        if m.group(1):\n",
    "            lang = re.match(r'\\b\\w+ий\\b', inp)\n",
    "            sent = re.match(r'\\'|\\\".+\\'|\\\"', inp)\n",
    "            if lang.group():\n",
    "                Linguist.translate(sent, lang)\n",
    "            else:\n",
    "                print('на какой язык перевести?')\n",
    "                n = input()\n",
    "                lang = re.match(r'\\'|\\\".+\\'|\\\"', n)\n",
    "                Linguist.translate(sent, lang)\n",
    "        elif m.group(2):\n",
    "            word = re.match(r'\\'|\\\".+\\'|\\\"', inp)\n",
    "            Linguist.part_speech(word)\n",
    "        elif m.group(3):\n",
    "            sent = re.match(r'\\'|\\\".+\\'|\\\"', inp)\n",
    "            Linguist.parse_tree(sent)\n",
    "        elif m.group(4):\n",
    "            word = re.match(r'\\'|\\\".+\\'|\\\"', inp)\n",
    "            Linguist.definition(word)\n",
    "    def prosess(self):\n",
    "        while True:\n",
    "            question = input()\n",
    "            self.chat(question)\n",
    "\n",
    "class Linguist(Bot):\n",
    "    def __init__(self):\n",
    "        self = self\n",
    "    def translate(self, text, lang2):\n",
    "        trans = googletrans.Translator()\n",
    "        return trans.translate(text, dest = lang2) # можно ли сюда передавать только dest?\n",
    "    def part_speech(self, word):\n",
    "        morph = pymorphy2.MorphAnalyzer()\n",
    "        parse = morph.parse(word)\n",
    "        return parse[0].tag.POS\n",
    "    def parse_tree(self, sent):\n",
    "        trans = googletrans.Translator()\n",
    "        lang = trans.detect(sent)\n",
    "        models = [\"en_core_web_sm\", \"nl_core_news_sm\", \"fr_core_news_sm\", \"de_core_news_sm\", \"ru_core_news_sm\"]\n",
    "        if lang == 'en':\n",
    "            nlp = spacy.load(\"en_core_web_sm\")\n",
    "        elif lang == 'ru':\n",
    "            nlp = spacy.load(\"ru_core_news_sm\")\n",
    "        doc = nlp(sent)\n",
    "        return displacy.serve(doc, style=\"dep\")\n",
    "    def definition(self, word):\n",
    "        # а как какать\n",
    "        pass\n",
    "\n",
    "l = Bot()\n",
    "l.prosess()\n",
    "    "
   ]
  },
  {
   "cell_type": "code",
   "execution_count": 9,
   "id": "710c594f",
   "metadata": {},
   "outputs": [
    {
     "name": "stdout",
     "output_type": "stream",
     "text": [
      "None\n"
     ]
    }
   ],
   "source": [
    "import re\n",
    "print(re.match(r'\\b\\w+ий\\b', \"переведи на английский\"))"
   ]
  },
  {
   "cell_type": "markdown",
   "id": "91ad2677-7278-48ee-be09-89f0d58b872e",
   "metadata": {},
   "source": [
    "#### Задача 3 (2 балла). \n",
    "\n",
    "Сымитируйте с помощью классов работу ресторана. У нас должен быть общий класс \"ресторан\", у которого есть официанты и повара; также есть класс \"еда\", который умеют готовить повара, и класс \"посетитель\", который приходит в ресторан и заказывает у официанта еду. Посетитель с определенным количеством денег приходит в ресторан, официант предлагает ему меню, посетитель выбирает, какое блюдо он хочет заказать. Если у него не хватает денег, он не может это сделать! Официант должен передать заказ (если денег хватило) повару, а повар возвращает экземпляр класса \"еда\" с нужными атрибутами. Официант выдает заказ посетителю. Можете сделать возможность выбирать блюдо пользователю, а можно все рандомизировать, чтобы программа работала в режиме \"один день из жизни ресторана\": в цикле приходят один за другим посетители и что-то случайным образом заказывают, а программа только печатает логи в консоль."
   ]
  },
  {
   "cell_type": "code",
   "execution_count": 12,
   "id": "c53b12e4-3efb-41b4-bf77-606e2369e65d",
   "metadata": {},
   "outputs": [
    {
     "ename": "TypeError",
     "evalue": "Waiter.bring_menu() missing 1 required positional argument: 'guest'",
     "output_type": "error",
     "traceback": [
      "\u001b[1;31m---------------------------------------------------------------------------\u001b[0m",
      "\u001b[1;31mTypeError\u001b[0m                                 Traceback (most recent call last)",
      "\u001b[1;32mc:\\Users\\lizao\\Desktop\\smth\\2 year\\sem02.ipynb Cell 8\u001b[0m line \u001b[0;36m3\n\u001b[0;32m     <a href='vscode-notebook-cell:/c%3A/Users/lizao/Desktop/smth/2%20year/sem02.ipynb#W6sZmlsZQ%3D%3D?line=31'>32</a>\u001b[0m         \u001b[39mreturn\u001b[39;00m Waiter\u001b[39m.\u001b[39morder_to_kitchen(random\u001b[39m.\u001b[39mchoice([k \u001b[39mfor\u001b[39;00m k \u001b[39min\u001b[39;00m able])) \n\u001b[0;32m     <a href='vscode-notebook-cell:/c%3A/Users/lizao/Desktop/smth/2%20year/sem02.ipynb#W6sZmlsZQ%3D%3D?line=33'>34</a>\u001b[0m r \u001b[39m=\u001b[39m Restoraunt()\n\u001b[1;32m---> <a href='vscode-notebook-cell:/c%3A/Users/lizao/Desktop/smth/2%20year/sem02.ipynb#W6sZmlsZQ%3D%3D?line=34'>35</a>\u001b[0m r\u001b[39m.\u001b[39;49mwork()\n",
      "\u001b[1;32mc:\\Users\\lizao\\Desktop\\smth\\2 year\\sem02.ipynb Cell 8\u001b[0m line \u001b[0;36m9\n\u001b[0;32m      <a href='vscode-notebook-cell:/c%3A/Users/lizao/Desktop/smth/2%20year/sem02.ipynb#W6sZmlsZQ%3D%3D?line=6'>7</a>\u001b[0m \u001b[39mwhile\u001b[39;00m \u001b[39mTrue\u001b[39;00m:\n\u001b[0;32m      <a href='vscode-notebook-cell:/c%3A/Users/lizao/Desktop/smth/2%20year/sem02.ipynb#W6sZmlsZQ%3D%3D?line=7'>8</a>\u001b[0m     g \u001b[39m=\u001b[39m Guest(random\u001b[39m.\u001b[39mrandint(\u001b[39m200\u001b[39m, \u001b[39m10000\u001b[39m))\n\u001b[1;32m----> <a href='vscode-notebook-cell:/c%3A/Users/lizao/Desktop/smth/2%20year/sem02.ipynb#W6sZmlsZQ%3D%3D?line=8'>9</a>\u001b[0m     Waiter\u001b[39m.\u001b[39;49mbring_menu(g)\n",
      "\u001b[1;31mTypeError\u001b[0m: Waiter.bring_menu() missing 1 required positional argument: 'guest'"
     ]
    }
   ],
   "source": [
    "import random\n",
    "\n",
    "class Restoraunt:\n",
    "    def __init__(self):\n",
    "        self.menu = {\"carbonara\" : 400, \"pizza\" : 1200, \"sushi\" : 2000, \"pizza_set\" : 4000, \"sushi_set\" : 5000, \"desert\" : 500, \"water\" : 200, \"beer\" : 300}\n",
    "    def work(self):\n",
    "        while True:\n",
    "            g = Guest(random.randint(200, 10000))\n",
    "            Waiter.bring_menu(g) # как так нет гостя?\n",
    "\n",
    "class Waiter(Restoraunt):\n",
    "    def __init__(self, menu):\n",
    "        super().__init__(menu)\n",
    "    def bring_menu(self, guest):\n",
    "        return guest.make_order(self.menu)\n",
    "    def order_to_kitchen(self, order):\n",
    "        return Chef.return_food(order)\n",
    "    def give_order(self, food):\n",
    "        print(f'the order{food} is ready')\n",
    "\n",
    "class Chef:\n",
    "    def __init__(self):\n",
    "        self = self\n",
    "    def return_food(self, order):\n",
    "        return Waiter.give_order(order)\n",
    "\n",
    "class Guest:\n",
    "    def __init__(self, money):\n",
    "        self.money = money\n",
    "    def make_order(self, menu):\n",
    "        able = {k : v for k, v in menu if v <= self.money}\n",
    "        return Waiter.order_to_kitchen(random.choice([k for k in able])) \n",
    "    \n",
    "r = Restoraunt()\n",
    "r.work()\n",
    "\n"
   ]
  }
 ],
 "metadata": {
  "kernelspec": {
   "display_name": "Python 3 (ipykernel)",
   "language": "python",
   "name": "python3"
  },
  "language_info": {
   "codemirror_mode": {
    "name": "ipython",
    "version": 3
   },
   "file_extension": ".py",
   "mimetype": "text/x-python",
   "name": "python",
   "nbconvert_exporter": "python",
   "pygments_lexer": "ipython3",
   "version": "3.10.2"
  }
 },
 "nbformat": 4,
 "nbformat_minor": 5
}
