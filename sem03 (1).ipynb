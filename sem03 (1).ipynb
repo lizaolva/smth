{
 "cells": [
  {
   "cell_type": "markdown",
   "id": "17ccd59c-3d08-413f-9039-778e2faf18d5",
   "metadata": {},
   "source": [
    "## Инкапсуляция. Статические методы и методы классов. super()"
   ]
  },
  {
   "cell_type": "markdown",
   "id": "0d2d0fe0-28ed-46ea-845d-808338308771",
   "metadata": {},
   "source": [
    "#### Задача 1. \n",
    "\n",
    "Напишем класс - имитацию класса Token в spacy: у класса должен быть определенный набор атрибутов, создавать новые нельзя. По умолчанию все атрибуты, кроме text, устанавливаются в None, у класса есть методы для установления этих атрибутов (обычные методы экземпляра). "
   ]
  },
  {
   "cell_type": "code",
   "execution_count": 16,
   "id": "92ed34c5-60be-47ce-96c1-2512b902fd1b",
   "metadata": {},
   "outputs": [],
   "source": [
    "class Token:\n",
    "    __slots__ = ['text', 'lemma', 'POS']\n",
    "    def __init__(self, text):\n",
    "        self.text = text\n",
    "        self.lemma = None\n",
    "        self.POS = None\n",
    "    def set_lemma(self, lemma):\n",
    "        self.lemma = lemma\n",
    "        print(f'lemma is {self.lemma}')\n"
   ]
  },
  {
   "cell_type": "code",
   "execution_count": 17,
   "id": "37b96603",
   "metadata": {},
   "outputs": [
    {
     "name": "stdout",
     "output_type": "stream",
     "text": [
      "lemma is cat\n"
     ]
    }
   ],
   "source": [
    "t = Token('cat')\n",
    "t.set_lemma('cat')\n"
   ]
  },
  {
   "cell_type": "markdown",
   "id": "7b19b674-d6e9-43b6-aa09-fef693c67e8b",
   "metadata": {},
   "source": [
    "#### Задача 2. \n",
    "\n",
    "Напишем класс-лемматизатор. Класс Token должен иметь атрибут lemma и свойство этого атрибута; метод setname должен принимать объект морфопарсера (можно взять рнн или пайморфи) и использовать его внутри себя, чтобы морфопарсер вернул лемму; getname либо возвращает лемму, либо пишет, что разбор отсутствует. "
   ]
  },
  {
   "cell_type": "code",
   "execution_count": 6,
   "id": "df614087-74ce-439b-85af-b271c279d95a",
   "metadata": {},
   "outputs": [],
   "source": [
    "import pymystem3\n",
    "\n",
    "m = pymystem3.Mystem(entire_input=False)\n",
    "\n",
    "class Token:\n",
    "    __slots__ = ['lemma']\n",
    "    def __init__(self, lemma):\n",
    "        self.lemma = lemma\n",
    "    def setname(self):\n",
    "        l = m.lemmatize(self.lemma)\n",
    "        return l\n",
    "    def getname(self):\n",
    "        if self.setname():\n",
    "            print(f'lemma is {self.setname()}')\n",
    "        else:\n",
    "            print('lemma is not fond')"
   ]
  },
  {
   "cell_type": "code",
   "execution_count": 29,
   "id": "eeec98c1",
   "metadata": {},
   "outputs": [
    {
     "name": "stdout",
     "output_type": "stream",
     "text": [
      "lemma is ['оиыочис']\n"
     ]
    }
   ],
   "source": [
    "t = Token('оиыочис')\n",
    "t.getname()"
   ]
  },
  {
   "cell_type": "markdown",
   "id": "750ef4f3-9a32-414f-94d4-d8d4602f3843",
   "metadata": {},
   "source": [
    "#### Задача 3. \n",
    "\n",
    "Перепишем задачу 2 с полноценным дескриптором Lemmatize."
   ]
  },
  {
   "cell_type": "code",
   "execution_count": 16,
   "id": "f5a7a7fb-3ffd-4031-ba7c-8a897e8480c6",
   "metadata": {},
   "outputs": [],
   "source": [
    "class Lemmatize:\n",
    "    def __get__(self, text, type = None):\n",
    "        if hasattr(text, 'lemma'):\n",
    "            return text.lemma\n",
    "        else:\n",
    "            raise AttributeError\n",
    "    def __set__(self, text, parser):\n",
    "        if text:\n",
    "            text.lemma = parser.lemmatize(text)\n",
    "        else:\n",
    "            print('lemma is not found')\n",
    "    def __delete__(self, text):\n",
    "        del text.lemma\n",
    "\n",
    "class Lemma:\n",
    "    lm = Lemmatize()\n",
    "    def __init__(self, token):\n",
    "        self.token = token\n",
    "    "
   ]
  },
  {
   "cell_type": "code",
   "execution_count": 17,
   "id": "b6440ced",
   "metadata": {},
   "outputs": [
    {
     "ename": "AttributeError",
     "evalue": "'Lemma' object has no attribute 'splitlines'",
     "output_type": "error",
     "traceback": [
      "\u001b[1;31m---------------------------------------------------------------------------\u001b[0m",
      "\u001b[1;31mAttributeError\u001b[0m                            Traceback (most recent call last)",
      "Cell \u001b[1;32mIn[17], line 3\u001b[0m\n\u001b[0;32m      1\u001b[0m m \u001b[38;5;241m=\u001b[39m pymystem3\u001b[38;5;241m.\u001b[39mMystem(entire_input\u001b[38;5;241m=\u001b[39m\u001b[38;5;28;01mFalse\u001b[39;00m)\n\u001b[0;32m      2\u001b[0m l \u001b[38;5;241m=\u001b[39m Lemma(\u001b[38;5;124m'\u001b[39m\u001b[38;5;124mкоты\u001b[39m\u001b[38;5;124m'\u001b[39m)\n\u001b[1;32m----> 3\u001b[0m \u001b[43ml\u001b[49m\u001b[38;5;241;43m.\u001b[39;49m\u001b[43mlm\u001b[49m \u001b[38;5;241m=\u001b[39m m\n\u001b[0;32m      4\u001b[0m l\u001b[38;5;241m.\u001b[39mlm\n",
      "Cell \u001b[1;32mIn[16], line 9\u001b[0m, in \u001b[0;36mLemmatize.__set__\u001b[1;34m(self, text, parser)\u001b[0m\n\u001b[0;32m      7\u001b[0m \u001b[38;5;28;01mdef\u001b[39;00m \u001b[38;5;21m__set__\u001b[39m(\u001b[38;5;28mself\u001b[39m, text, parser):\n\u001b[0;32m      8\u001b[0m     \u001b[38;5;28;01mif\u001b[39;00m text:\n\u001b[1;32m----> 9\u001b[0m         text\u001b[38;5;241m.\u001b[39mlemma \u001b[38;5;241m=\u001b[39m \u001b[43mparser\u001b[49m\u001b[38;5;241;43m.\u001b[39;49m\u001b[43mlemmatize\u001b[49m\u001b[43m(\u001b[49m\u001b[43mtext\u001b[49m\u001b[43m)\u001b[49m\n\u001b[0;32m     10\u001b[0m     \u001b[38;5;28;01melse\u001b[39;00m:\n\u001b[0;32m     11\u001b[0m         \u001b[38;5;28mprint\u001b[39m(\u001b[38;5;124m'\u001b[39m\u001b[38;5;124mlemma is not found\u001b[39m\u001b[38;5;124m'\u001b[39m)\n",
      "File \u001b[1;32mc:\\Users\\lizao\\AppData\\Local\\Programs\\Python\\Python310\\lib\\site-packages\\pymystem3\\mystem.py:265\u001b[0m, in \u001b[0;36mMystem.lemmatize\u001b[1;34m(self, text)\u001b[0m\n\u001b[0;32m    254\u001b[0m \u001b[38;5;250m\u001b[39m\u001b[38;5;124;03m\"\"\"\u001b[39;00m\n\u001b[0;32m    255\u001b[0m \u001b[38;5;124;03mMake morphology analysis for a text and return list of lemmas.\u001b[39;00m\n\u001b[0;32m    256\u001b[0m \n\u001b[1;32m   (...)\u001b[0m\n\u001b[0;32m    260\u001b[0m \u001b[38;5;124;03m:rtype:         list\u001b[39;00m\n\u001b[0;32m    261\u001b[0m \u001b[38;5;124;03m\"\"\"\u001b[39;00m\n\u001b[0;32m    263\u001b[0m need_encode \u001b[38;5;241m=\u001b[39m (sys\u001b[38;5;241m.\u001b[39mversion_info[\u001b[38;5;241m0\u001b[39m] \u001b[38;5;241m<\u001b[39m \u001b[38;5;241m3\u001b[39m \u001b[38;5;129;01mand\u001b[39;00m \u001b[38;5;28misinstance\u001b[39m(text, \u001b[38;5;28mstr\u001b[39m))\n\u001b[1;32m--> 265\u001b[0m infos \u001b[38;5;241m=\u001b[39m \u001b[38;5;28;43mself\u001b[39;49m\u001b[38;5;241;43m.\u001b[39;49m\u001b[43manalyze\u001b[49m\u001b[43m(\u001b[49m\u001b[43mtext\u001b[49m\u001b[43m)\u001b[49m\n\u001b[0;32m    266\u001b[0m lemmas \u001b[38;5;241m=\u001b[39m \u001b[38;5;28mlist\u001b[39m(\u001b[38;5;28mfilter\u001b[39m(\u001b[38;5;28;01mNone\u001b[39;00m, \u001b[38;5;28mmap\u001b[39m(\u001b[38;5;28mself\u001b[39m\u001b[38;5;241m.\u001b[39m_get_lemma, infos)))\n\u001b[0;32m    268\u001b[0m \u001b[38;5;28;01mif\u001b[39;00m need_encode \u001b[38;5;129;01mis\u001b[39;00m \u001b[38;5;28;01mTrue\u001b[39;00m:\n",
      "File \u001b[1;32mc:\\Users\\lizao\\AppData\\Local\\Programs\\Python\\Python310\\lib\\site-packages\\pymystem3\\mystem.py:249\u001b[0m, in \u001b[0;36mMystem.analyze\u001b[1;34m(self, text)\u001b[0m\n\u001b[0;32m    239\u001b[0m \u001b[38;5;250m\u001b[39m\u001b[38;5;124;03m\"\"\"\u001b[39;00m\n\u001b[0;32m    240\u001b[0m \u001b[38;5;124;03mMake morphology analysis for a text.\u001b[39;00m\n\u001b[0;32m    241\u001b[0m \n\u001b[1;32m   (...)\u001b[0m\n\u001b[0;32m    245\u001b[0m \u001b[38;5;124;03m:rtype:         dict\u001b[39;00m\n\u001b[0;32m    246\u001b[0m \u001b[38;5;124;03m\"\"\"\u001b[39;00m\n\u001b[0;32m    248\u001b[0m result \u001b[38;5;241m=\u001b[39m []\n\u001b[1;32m--> 249\u001b[0m \u001b[38;5;28;01mfor\u001b[39;00m line \u001b[38;5;129;01min\u001b[39;00m \u001b[43mtext\u001b[49m\u001b[38;5;241;43m.\u001b[39;49m\u001b[43msplitlines\u001b[49m():\n\u001b[0;32m    250\u001b[0m     result\u001b[38;5;241m.\u001b[39mextend(\u001b[38;5;28mself\u001b[39m\u001b[38;5;241m.\u001b[39m_analyze_impl(line))\n\u001b[0;32m    251\u001b[0m \u001b[38;5;28;01mreturn\u001b[39;00m result\n",
      "\u001b[1;31mAttributeError\u001b[0m: 'Lemma' object has no attribute 'splitlines'"
     ]
    }
   ],
   "source": [
    "m = pymystem3.Mystem(entire_input=False)\n",
    "l = Lemma('коты')\n",
    "l.lm = m\n",
    "l.lm"
   ]
  },
  {
   "cell_type": "markdown",
   "id": "52b3db1a-93da-4646-9509-69aa0d387c56",
   "metadata": {},
   "source": [
    "#### Задача 4. \n",
    "\n",
    "Напишите класс \"пациент\", у которого есть устанавливаемые атрибуты \"диагноз\" и \"температура\". Атрибут \"температура\" должен устанавливаться таким образом, чтобы пользователь не мог установить нереалистичное значение типа 15, даже используя синтаксис Patient.temperature = 15. "
   ]
  },
  {
   "cell_type": "code",
   "execution_count": null,
   "id": "3062f408-a846-4b1b-ba00-eac9d2a8413a",
   "metadata": {},
   "outputs": [],
   "source": []
  },
  {
   "cell_type": "markdown",
   "id": "7c240cd2-f4bc-4c49-ac80-b1a3bc43c588",
   "metadata": {},
   "source": [
    "#### Задача 5. \n",
    "\n",
    "Вернемся к нашему классу Token (первому) и добавим ему метод для подсчета количества созданных токенов. Реализуйте два варианта: через статические методы и методы класса. "
   ]
  },
  {
   "cell_type": "code",
   "execution_count": null,
   "id": "23eb5784-bcb0-43d0-af6d-a9e86f71baae",
   "metadata": {},
   "outputs": [],
   "source": [
    "# your code here"
   ]
  }
 ],
 "metadata": {
  "kernelspec": {
   "display_name": "Python 3 (ipykernel)",
   "language": "python",
   "name": "python3"
  },
  "language_info": {
   "codemirror_mode": {
    "name": "ipython",
    "version": 3
   },
   "file_extension": ".py",
   "mimetype": "text/x-python",
   "name": "python",
   "nbconvert_exporter": "python",
   "pygments_lexer": "ipython3",
   "version": "3.10.2"
  }
 },
 "nbformat": 4,
 "nbformat_minor": 5
}
