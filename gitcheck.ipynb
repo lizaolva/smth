{
 "cells": [
  {
   "cell_type": "code",
   "execution_count": 4,
   "metadata": {},
   "outputs": [
    {
     "name": "stdout",
     "output_type": "stream",
     "text": [
      "что\n",
      "блять\n",
      "делать\n",
      "я\n",
      "нихуя\n",
      "не\n",
      "понимаю\n",
      "хэлп\n",
      "ми\n",
      "это\n",
      "как\n"
     ]
    }
   ],
   "source": [
    "file=open(r\"C:\\Users\\lizao\\Desktop\\smth\\Текстовый документ.txt\", 'r', encoding='utf-8')\n",
    "for line in file:\n",
    "    for word in line.split():\n",
    "        print(word)"
   ]
  }
 ],
 "metadata": {
  "kernelspec": {
   "display_name": "Python 3",
   "language": "python",
   "name": "python3"
  },
  "language_info": {
   "codemirror_mode": {
    "name": "ipython",
    "version": 3
   },
   "file_extension": ".py",
   "mimetype": "text/x-python",
   "name": "python",
   "nbconvert_exporter": "python",
   "pygments_lexer": "ipython3",
   "version": "3.10.2"
  },
  "orig_nbformat": 4
 },
 "nbformat": 4,
 "nbformat_minor": 2
}
