{
  "cells": [
    {
      "cell_type": "code",
      "source": [
        "#https://huggingface.co/docs/transformers/model_doc/bert"
      ],
      "metadata": {
        "id": "Wuy7KcQ588Ey"
      },
      "execution_count": null,
      "outputs": []
    },
    {
      "cell_type": "code",
      "source": [
        "!pip install evaluate\n",
        "!pip install seqeval\n",
        "!pip install datasets"
      ],
      "metadata": {
        "collapsed": true,
        "id": "4imWOrQwi-he",
        "colab": {
          "base_uri": "https://localhost:8080/"
        },
        "outputId": "d5e47329-e28a-4a2f-e0c5-4881af47ee07"
      },
      "execution_count": null,
      "outputs": [
        {
          "output_type": "stream",
          "name": "stdout",
          "text": [
            "Requirement already satisfied: evaluate in /usr/local/lib/python3.11/dist-packages (0.4.3)\n",
            "Requirement already satisfied: datasets>=2.0.0 in /usr/local/lib/python3.11/dist-packages (from evaluate) (3.3.2)\n",
            "Requirement already satisfied: numpy>=1.17 in /usr/local/lib/python3.11/dist-packages (from evaluate) (1.26.4)\n",
            "Requirement already satisfied: dill in /usr/local/lib/python3.11/dist-packages (from evaluate) (0.3.8)\n",
            "Requirement already satisfied: pandas in /usr/local/lib/python3.11/dist-packages (from evaluate) (2.2.2)\n",
            "Requirement already satisfied: requests>=2.19.0 in /usr/local/lib/python3.11/dist-packages (from evaluate) (2.32.3)\n",
            "Requirement already satisfied: tqdm>=4.62.1 in /usr/local/lib/python3.11/dist-packages (from evaluate) (4.67.1)\n",
            "Requirement already satisfied: xxhash in /usr/local/lib/python3.11/dist-packages (from evaluate) (3.5.0)\n",
            "Requirement already satisfied: multiprocess in /usr/local/lib/python3.11/dist-packages (from evaluate) (0.70.16)\n",
            "Requirement already satisfied: fsspec>=2021.05.0 in /usr/local/lib/python3.11/dist-packages (from fsspec[http]>=2021.05.0->evaluate) (2024.10.0)\n",
            "Requirement already satisfied: huggingface-hub>=0.7.0 in /usr/local/lib/python3.11/dist-packages (from evaluate) (0.28.1)\n",
            "Requirement already satisfied: packaging in /usr/local/lib/python3.11/dist-packages (from evaluate) (24.2)\n",
            "Requirement already satisfied: filelock in /usr/local/lib/python3.11/dist-packages (from datasets>=2.0.0->evaluate) (3.17.0)\n",
            "Requirement already satisfied: pyarrow>=15.0.0 in /usr/local/lib/python3.11/dist-packages (from datasets>=2.0.0->evaluate) (18.1.0)\n",
            "Requirement already satisfied: aiohttp in /usr/local/lib/python3.11/dist-packages (from datasets>=2.0.0->evaluate) (3.11.13)\n",
            "Requirement already satisfied: pyyaml>=5.1 in /usr/local/lib/python3.11/dist-packages (from datasets>=2.0.0->evaluate) (6.0.2)\n",
            "Requirement already satisfied: typing-extensions>=3.7.4.3 in /usr/local/lib/python3.11/dist-packages (from huggingface-hub>=0.7.0->evaluate) (4.12.2)\n",
            "Requirement already satisfied: charset-normalizer<4,>=2 in /usr/local/lib/python3.11/dist-packages (from requests>=2.19.0->evaluate) (3.4.1)\n",
            "Requirement already satisfied: idna<4,>=2.5 in /usr/local/lib/python3.11/dist-packages (from requests>=2.19.0->evaluate) (3.10)\n",
            "Requirement already satisfied: urllib3<3,>=1.21.1 in /usr/local/lib/python3.11/dist-packages (from requests>=2.19.0->evaluate) (2.3.0)\n",
            "Requirement already satisfied: certifi>=2017.4.17 in /usr/local/lib/python3.11/dist-packages (from requests>=2.19.0->evaluate) (2025.1.31)\n",
            "Requirement already satisfied: python-dateutil>=2.8.2 in /usr/local/lib/python3.11/dist-packages (from pandas->evaluate) (2.8.2)\n",
            "Requirement already satisfied: pytz>=2020.1 in /usr/local/lib/python3.11/dist-packages (from pandas->evaluate) (2025.1)\n",
            "Requirement already satisfied: tzdata>=2022.7 in /usr/local/lib/python3.11/dist-packages (from pandas->evaluate) (2025.1)\n",
            "Requirement already satisfied: aiohappyeyeballs>=2.3.0 in /usr/local/lib/python3.11/dist-packages (from aiohttp->datasets>=2.0.0->evaluate) (2.5.0)\n",
            "Requirement already satisfied: aiosignal>=1.1.2 in /usr/local/lib/python3.11/dist-packages (from aiohttp->datasets>=2.0.0->evaluate) (1.3.2)\n",
            "Requirement already satisfied: attrs>=17.3.0 in /usr/local/lib/python3.11/dist-packages (from aiohttp->datasets>=2.0.0->evaluate) (25.1.0)\n",
            "Requirement already satisfied: frozenlist>=1.1.1 in /usr/local/lib/python3.11/dist-packages (from aiohttp->datasets>=2.0.0->evaluate) (1.5.0)\n",
            "Requirement already satisfied: multidict<7.0,>=4.5 in /usr/local/lib/python3.11/dist-packages (from aiohttp->datasets>=2.0.0->evaluate) (6.1.0)\n",
            "Requirement already satisfied: propcache>=0.2.0 in /usr/local/lib/python3.11/dist-packages (from aiohttp->datasets>=2.0.0->evaluate) (0.3.0)\n",
            "Requirement already satisfied: yarl<2.0,>=1.17.0 in /usr/local/lib/python3.11/dist-packages (from aiohttp->datasets>=2.0.0->evaluate) (1.18.3)\n",
            "Requirement already satisfied: six>=1.5 in /usr/local/lib/python3.11/dist-packages (from python-dateutil>=2.8.2->pandas->evaluate) (1.17.0)\n",
            "Requirement already satisfied: seqeval in /usr/local/lib/python3.11/dist-packages (1.2.2)\n",
            "Requirement already satisfied: numpy>=1.14.0 in /usr/local/lib/python3.11/dist-packages (from seqeval) (1.26.4)\n",
            "Requirement already satisfied: scikit-learn>=0.21.3 in /usr/local/lib/python3.11/dist-packages (from seqeval) (1.6.1)\n",
            "Requirement already satisfied: scipy>=1.6.0 in /usr/local/lib/python3.11/dist-packages (from scikit-learn>=0.21.3->seqeval) (1.14.1)\n",
            "Requirement already satisfied: joblib>=1.2.0 in /usr/local/lib/python3.11/dist-packages (from scikit-learn>=0.21.3->seqeval) (1.4.2)\n",
            "Requirement already satisfied: threadpoolctl>=3.1.0 in /usr/local/lib/python3.11/dist-packages (from scikit-learn>=0.21.3->seqeval) (3.5.0)\n",
            "Requirement already satisfied: datasets in /usr/local/lib/python3.11/dist-packages (3.3.2)\n",
            "Requirement already satisfied: filelock in /usr/local/lib/python3.11/dist-packages (from datasets) (3.17.0)\n",
            "Requirement already satisfied: numpy>=1.17 in /usr/local/lib/python3.11/dist-packages (from datasets) (1.26.4)\n",
            "Requirement already satisfied: pyarrow>=15.0.0 in /usr/local/lib/python3.11/dist-packages (from datasets) (18.1.0)\n",
            "Requirement already satisfied: dill<0.3.9,>=0.3.0 in /usr/local/lib/python3.11/dist-packages (from datasets) (0.3.8)\n",
            "Requirement already satisfied: pandas in /usr/local/lib/python3.11/dist-packages (from datasets) (2.2.2)\n",
            "Requirement already satisfied: requests>=2.32.2 in /usr/local/lib/python3.11/dist-packages (from datasets) (2.32.3)\n",
            "Requirement already satisfied: tqdm>=4.66.3 in /usr/local/lib/python3.11/dist-packages (from datasets) (4.67.1)\n",
            "Requirement already satisfied: xxhash in /usr/local/lib/python3.11/dist-packages (from datasets) (3.5.0)\n",
            "Requirement already satisfied: multiprocess<0.70.17 in /usr/local/lib/python3.11/dist-packages (from datasets) (0.70.16)\n",
            "Requirement already satisfied: fsspec<=2024.12.0,>=2023.1.0 in /usr/local/lib/python3.11/dist-packages (from fsspec[http]<=2024.12.0,>=2023.1.0->datasets) (2024.10.0)\n",
            "Requirement already satisfied: aiohttp in /usr/local/lib/python3.11/dist-packages (from datasets) (3.11.13)\n",
            "Requirement already satisfied: huggingface-hub>=0.24.0 in /usr/local/lib/python3.11/dist-packages (from datasets) (0.28.1)\n",
            "Requirement already satisfied: packaging in /usr/local/lib/python3.11/dist-packages (from datasets) (24.2)\n",
            "Requirement already satisfied: pyyaml>=5.1 in /usr/local/lib/python3.11/dist-packages (from datasets) (6.0.2)\n",
            "Requirement already satisfied: aiohappyeyeballs>=2.3.0 in /usr/local/lib/python3.11/dist-packages (from aiohttp->datasets) (2.5.0)\n",
            "Requirement already satisfied: aiosignal>=1.1.2 in /usr/local/lib/python3.11/dist-packages (from aiohttp->datasets) (1.3.2)\n",
            "Requirement already satisfied: attrs>=17.3.0 in /usr/local/lib/python3.11/dist-packages (from aiohttp->datasets) (25.1.0)\n",
            "Requirement already satisfied: frozenlist>=1.1.1 in /usr/local/lib/python3.11/dist-packages (from aiohttp->datasets) (1.5.0)\n",
            "Requirement already satisfied: multidict<7.0,>=4.5 in /usr/local/lib/python3.11/dist-packages (from aiohttp->datasets) (6.1.0)\n",
            "Requirement already satisfied: propcache>=0.2.0 in /usr/local/lib/python3.11/dist-packages (from aiohttp->datasets) (0.3.0)\n",
            "Requirement already satisfied: yarl<2.0,>=1.17.0 in /usr/local/lib/python3.11/dist-packages (from aiohttp->datasets) (1.18.3)\n",
            "Requirement already satisfied: typing-extensions>=3.7.4.3 in /usr/local/lib/python3.11/dist-packages (from huggingface-hub>=0.24.0->datasets) (4.12.2)\n",
            "Requirement already satisfied: charset-normalizer<4,>=2 in /usr/local/lib/python3.11/dist-packages (from requests>=2.32.2->datasets) (3.4.1)\n",
            "Requirement already satisfied: idna<4,>=2.5 in /usr/local/lib/python3.11/dist-packages (from requests>=2.32.2->datasets) (3.10)\n",
            "Requirement already satisfied: urllib3<3,>=1.21.1 in /usr/local/lib/python3.11/dist-packages (from requests>=2.32.2->datasets) (2.3.0)\n",
            "Requirement already satisfied: certifi>=2017.4.17 in /usr/local/lib/python3.11/dist-packages (from requests>=2.32.2->datasets) (2025.1.31)\n",
            "Requirement already satisfied: python-dateutil>=2.8.2 in /usr/local/lib/python3.11/dist-packages (from pandas->datasets) (2.8.2)\n",
            "Requirement already satisfied: pytz>=2020.1 in /usr/local/lib/python3.11/dist-packages (from pandas->datasets) (2025.1)\n",
            "Requirement already satisfied: tzdata>=2022.7 in /usr/local/lib/python3.11/dist-packages (from pandas->datasets) (2025.1)\n",
            "Requirement already satisfied: six>=1.5 in /usr/local/lib/python3.11/dist-packages (from python-dateutil>=2.8.2->pandas->datasets) (1.17.0)\n"
          ]
        }
      ]
    },
    {
      "cell_type": "markdown",
      "source": [
        "1. что такое логи и логиты?  \n",
        "2. как понять, какие аргументы мне нужны?\n",
        "3. до какого качества надо добить бэйзлайн?\n",
        "4.\n",
        "5. что то типа теория"
      ],
      "metadata": {
        "id": "F4t2uYkdZvdY"
      }
    },
    {
      "cell_type": "code",
      "source": [
        "import torch\n",
        "import torch.nn as nn\n",
        "import torch.nn.functional as F\n",
        "from torch.utils.data import Dataset, DataLoader, RandomSampler, SequentialSampler\n",
        "from sklearn.metrics import precision_recall_fscore_support, accuracy_score\n",
        "\n",
        "from datasets import load_dataset\n",
        "from collections import Counter\n",
        "import evaluate\n",
        "\n",
        "from transformers import BertConfig, BertModel, BertTokenizerFast, BertForSequenceClassification, TrainingArguments, Trainer, get_linear_schedule_with_warmup, AdamW, get_cosine_schedule_with_warmup"
      ],
      "metadata": {
        "id": "eSWLfACa7hwD"
      },
      "execution_count": null,
      "outputs": []
    },
    {
      "cell_type": "code",
      "source": [
        "ds = load_dataset(\"ai-forever/kinopoisk-sentiment-classification\")"
      ],
      "metadata": {
        "id": "Klc7oQha9oN-",
        "colab": {
          "base_uri": "https://localhost:8080/"
        },
        "outputId": "ea24dee1-2467-4b5a-b279-29d58b4a9cc0"
      },
      "execution_count": null,
      "outputs": [
        {
          "output_type": "stream",
          "name": "stderr",
          "text": [
            "/usr/local/lib/python3.11/dist-packages/huggingface_hub/utils/_auth.py:94: UserWarning: \n",
            "The secret `HF_TOKEN` does not exist in your Colab secrets.\n",
            "To authenticate with the Hugging Face Hub, create a token in your settings tab (https://huggingface.co/settings/tokens), set it as secret in your Google Colab and restart your session.\n",
            "You will be able to reuse this secret in all of your notebooks.\n",
            "Please note that authentication is recommended but still optional to access public models or datasets.\n",
            "  warnings.warn(\n"
          ]
        }
      ]
    },
    {
      "cell_type": "code",
      "source": [
        "tokenizer = BertTokenizerFast.from_pretrained('google-bert/bert-base-uncased')"
      ],
      "metadata": {
        "id": "pVLrvMRXC81T",
        "collapsed": true
      },
      "execution_count": null,
      "outputs": []
    },
    {
      "cell_type": "code",
      "source": [
        "def slice_token(index, sentences, labels, tokenizer, max_length):\n",
        "    start, stop, step = index.indices(len(sentences))\n",
        "    result = []\n",
        "    for i in range(start, stop, step):\n",
        "        encoding = tokenizer(\n",
        "                sentences[i],\n",
        "                padding='max_length',\n",
        "                truncation = True,\n",
        "                max_length = max_length,\n",
        "                return_tensors = 'pt'\n",
        "            )\n",
        "        encoding['labels'] = [labels[i]]\n",
        "        result.append({key : value[0] for key, value in encoding.items()})\n",
        "\n",
        "    return result"
      ],
      "metadata": {
        "id": "ufbLPw0wtcCT"
      },
      "execution_count": null,
      "outputs": []
    },
    {
      "cell_type": "code",
      "source": [
        "class NERDataset(Dataset):\n",
        "    def __init__(self, sentences, labels, tokenizer, max_length):\n",
        "        self.sentences = sentences\n",
        "        self.labels = labels\n",
        "        self.tokenizer = tokenizer\n",
        "        self.max_length = max_length\n",
        "    def __len__(self):\n",
        "        return len(self.sentences)\n",
        "\n",
        "    def __getitem__(self, idx):\n",
        "\n",
        "        if isinstance(idx, slice):\n",
        "            # Обработка среза\n",
        "            return slice_token(idx, self.sentences, self.labels, self.tokenizer, self.max_length)\n",
        "        elif isinstance(idx, int):\n",
        "            tokens = self.sentences[idx]\n",
        "            tag = self.labels[idx]\n",
        "            print(tokens, tag)\n",
        "            # токенизируем\n",
        "            encoding = self.tokenizer(\n",
        "                tokens,\n",
        "                padding='max_length',\n",
        "                truncation = True,\n",
        "                max_length = self.max_length,\n",
        "                return_tensors = 'pt'\n",
        "            )\n",
        "            encoding['labels'] = [tag]\n",
        "            return {key : value[0] for key, value in encoding.items()}"
      ],
      "metadata": {
        "id": "SN5giZ_jDA0U"
      },
      "execution_count": null,
      "outputs": []
    },
    {
      "cell_type": "code",
      "source": [
        "dataset_train = NERDataset(ds['train']['text'], ds['train']['label'], tokenizer, 512)\n",
        "dataset_test = NERDataset(ds['test']['text'], ds['test']['label'], tokenizer, 512)\n",
        "dataset_val = NERDataset(ds['validation']['text'], ds['validation']['label'], tokenizer, 512)"
      ],
      "metadata": {
        "id": "aQuY231uywmQ",
        "collapsed": true
      },
      "execution_count": null,
      "outputs": []
    },
    {
      "cell_type": "code",
      "source": [
        "little_train_loader = DataLoader(dataset_train[0:5250], batch_size=32)\n",
        "little_val_loader = DataLoader(dataset_val[0:750], batch_size = 32)"
      ],
      "metadata": {
        "id": "3IEPb6Dcg6V4"
      },
      "execution_count": null,
      "outputs": []
    },
    {
      "cell_type": "code",
      "source": [
        "test_loader = DataLoader(dataset_test, batch_size=32, pin_memory=True)\n",
        "train_loader = DataLoader(dataset_train, batch_size=32)\n",
        "val_loader = DataLoader(dataset_val, batch_size = 32)"
      ],
      "metadata": {
        "id": "OFK1TJH8EjpZ"
      },
      "execution_count": null,
      "outputs": []
    },
    {
      "cell_type": "code",
      "source": [
        "# Initializing a model (with random weights) from the google-bert/bert-base-uncased style configuration\n",
        "model = BertForSequenceClassification.from_pretrained('google-bert/bert-base-uncased', num_labels = len(set(ds['train']['label'])))\n",
        "#num_labels = len(set(ds['train']['label']))"
      ],
      "metadata": {
        "id": "1L-4B4pOC_xv",
        "colab": {
          "base_uri": "https://localhost:8080/",
          "height": 104,
          "referenced_widgets": [
            "585abdd0e80d4897a49ac1976d5c9614",
            "9362195787a34c39bc1fa2c1150062c4",
            "96c4b8d40e5248d497d8fd923d5844ea",
            "3457d1e7c90141a2adea5e4301c24d6d",
            "c6b55ed62c854bd4b7475723d406ba0a",
            "6a215da19be342e6b1febf7604d228b5",
            "b71432c2067246a8aa869b9e0ce0461c",
            "f708b15964f644ec96a69b4c09f85d70",
            "c2dd0af258a44377937a09b0cda3de52",
            "1a0547998b0543d998bb11a676542a7e",
            "33f6c86c419241eeb21012c611ace2a8"
          ]
        },
        "outputId": "abcae5af-3ad9-4163-a3ca-bbb0eb447a2f"
      },
      "execution_count": null,
      "outputs": [
        {
          "output_type": "display_data",
          "data": {
            "text/plain": [
              "model.safetensors:   0%|          | 0.00/440M [00:00<?, ?B/s]"
            ],
            "application/vnd.jupyter.widget-view+json": {
              "version_major": 2,
              "version_minor": 0,
              "model_id": "585abdd0e80d4897a49ac1976d5c9614"
            }
          },
          "metadata": {}
        },
        {
          "output_type": "stream",
          "name": "stderr",
          "text": [
            "Some weights of BertForSequenceClassification were not initialized from the model checkpoint at google-bert/bert-base-uncased and are newly initialized: ['classifier.bias', 'classifier.weight']\n",
            "You should probably TRAIN this model on a down-stream task to be able to use it for predictions and inference.\n"
          ]
        }
      ]
    },
    {
      "cell_type": "code",
      "source": [
        "device = torch.device(\"cuda:0\" if torch.cuda.is_available() else \"cpu\")\n",
        "model = model.to(device)"
      ],
      "metadata": {
        "id": "gU4Lw1SlyDb-"
      },
      "execution_count": null,
      "outputs": []
    },
    {
      "cell_type": "code",
      "source": [
        "torch.cuda.empty_cache()"
      ],
      "metadata": {
        "id": "HOwUnHbdO19G"
      },
      "execution_count": null,
      "outputs": []
    },
    {
      "cell_type": "code",
      "source": [
        "optimizer = AdamW(filter(lambda p: p.requires_grad, model.parameters()), correct_bias=False) # а здесь можно не фильтровать?\n",
        "total_steps = len(dataset_train) * 5 * 32\n",
        "\n",
        "scheduler = get_cosine_schedule_with_warmup(\n",
        "  optimizer,\n",
        "  num_warmup_steps=total_steps*0.05,\n",
        "  num_training_steps=total_steps\n",
        ")"
      ],
      "metadata": {
        "colab": {
          "base_uri": "https://localhost:8080/"
        },
        "id": "tUlphU7qbhSr",
        "outputId": "aed88276-c0cd-4adc-d375-b9403322f87e"
      },
      "execution_count": null,
      "outputs": [
        {
          "output_type": "stream",
          "name": "stderr",
          "text": [
            "/usr/local/lib/python3.11/dist-packages/transformers/optimization.py:591: FutureWarning: This implementation of AdamW is deprecated and will be removed in a future version. Use the PyTorch implementation torch.optim.AdamW instead, or set `no_deprecation_warning=True` to disable this warning\n",
            "  warnings.warn(\n"
          ]
        }
      ]
    },
    {
      "cell_type": "code",
      "source": [
        "training_args = TrainingArguments(\n",
        "    output_dir='./results',          # Output directory\n",
        "    eval_strategy=\"epoch\",    # Evaluate after each epoch\n",
        "    learning_rate=1.8562022777790423e-05,             # Learning rate\n",
        "    per_device_train_batch_size=32, # Batch size for training\n",
        "    per_device_eval_batch_size=32,  # Batch size for evaluation\n",
        "    num_train_epochs=5,             # Number of epochs\n",
        "    weight_decay=0.001928128030703447,              # Strength of weight decay\n",
        "    logging_dir=\"./logs\",           # Directory for storing logs\n",
        "    logging_steps=10,               # что это такое?\n",
        "    save_strategy=\"epoch\",          # Save model after each epoch\n",
        "    load_best_model_at_end=True,    # Load the best model after training\n",
        "    metric_for_best_model=\"f1\", # Use F1 score to choose the best model\n",
        "    seed=224\n",
        ")"
      ],
      "metadata": {
        "id": "VylvAz2LWZrq"
      },
      "execution_count": null,
      "outputs": []
    },
    {
      "cell_type": "code",
      "source": [
        "def compute_metrics(p):\n",
        "\n",
        "    predictions, labels = p\n",
        "    print(predictions, labels)\n",
        "    # логиты в индексы\n",
        "    predictions = predictions.argmax(axis=-1)\n",
        "\n",
        "    # пихнем в метрику и получим результат\n",
        "    precision, recall, f1, _ = precision_recall_fscore_support(labels, predictions, average='macro')\n",
        "    acc = accuracy_score(labels, predictions)\n",
        "    return {\n",
        "        'accuracy': acc,\n",
        "        'f1': f1,\n",
        "        'precision': precision,\n",
        "        'recall': recall\n",
        "    }"
      ],
      "metadata": {
        "id": "u5LGwFaFimHO"
      },
      "execution_count": null,
      "outputs": []
    },
    {
      "cell_type": "code",
      "source": [
        "def hp_space_fn(trial):\n",
        "    return {\n",
        "        \"learning_rate\": trial.suggest_float(\"learning_rate\", 1e-5, 1e-3,log=True),\n",
        "        \"weight_decay\" : trial.suggest_float(\"weight_decay\", 1e-5, 0.1, log=True) # логарифмический масштаб для lr\n",
        "        }\n",
        "\n",
        "def model_init():\n",
        "    return BertForSequenceClassification.from_pretrained('google-bert/bert-base-uncased', num_labels = len(set(ds['train']['label'])))"
      ],
      "metadata": {
        "id": "tw0qBFcsdbc9"
      },
      "execution_count": null,
      "outputs": []
    },
    {
      "cell_type": "code",
      "source": [
        "trainer = Trainer(\n",
        "    model=model,\n",
        "    #model_init = model_init,\n",
        "    args=training_args,\n",
        "    train_dataset=little_train_loader.dataset,  # Training dataset\n",
        "    eval_dataset=little_val_loader.dataset,   # Evaluation dataset\n",
        "    tokenizer=tokenizer,\n",
        "    compute_metrics=compute_metrics,\n",
        "    optimizers=(optimizer, scheduler)\n",
        "    )\n"
      ],
      "metadata": {
        "id": "58K0ddsyjHM2",
        "colab": {
          "base_uri": "https://localhost:8080/"
        },
        "outputId": "c1f7a2a6-542e-4252-b5f7-0424f5bc8b19"
      },
      "execution_count": null,
      "outputs": [
        {
          "output_type": "stream",
          "name": "stderr",
          "text": [
            "<ipython-input-18-be7e97f11a5a>:1: FutureWarning: `tokenizer` is deprecated and will be removed in version 5.0.0 for `Trainer.__init__`. Use `processing_class` instead.\n",
            "  trainer = Trainer(\n"
          ]
        }
      ]
    },
    {
      "cell_type": "code",
      "source": [
        "!pip install optuna"
      ],
      "metadata": {
        "colab": {
          "base_uri": "https://localhost:8080/"
        },
        "id": "Awiqa5vnfPif",
        "outputId": "c2ceaa14-b914-44c8-c24c-404a41cd9cf1",
        "collapsed": true
      },
      "execution_count": null,
      "outputs": [
        {
          "output_type": "stream",
          "name": "stdout",
          "text": [
            "Collecting optuna\n",
            "  Downloading optuna-4.2.1-py3-none-any.whl.metadata (17 kB)\n",
            "Collecting alembic>=1.5.0 (from optuna)\n",
            "  Downloading alembic-1.14.1-py3-none-any.whl.metadata (7.4 kB)\n",
            "Collecting colorlog (from optuna)\n",
            "  Downloading colorlog-6.9.0-py3-none-any.whl.metadata (10 kB)\n",
            "Requirement already satisfied: numpy in /usr/local/lib/python3.11/dist-packages (from optuna) (1.26.4)\n",
            "Requirement already satisfied: packaging>=20.0 in /usr/local/lib/python3.11/dist-packages (from optuna) (24.2)\n",
            "Requirement already satisfied: sqlalchemy>=1.4.2 in /usr/local/lib/python3.11/dist-packages (from optuna) (2.0.38)\n",
            "Requirement already satisfied: tqdm in /usr/local/lib/python3.11/dist-packages (from optuna) (4.67.1)\n",
            "Requirement already satisfied: PyYAML in /usr/local/lib/python3.11/dist-packages (from optuna) (6.0.2)\n",
            "Collecting Mako (from alembic>=1.5.0->optuna)\n",
            "  Downloading Mako-1.3.9-py3-none-any.whl.metadata (2.9 kB)\n",
            "Requirement already satisfied: typing-extensions>=4 in /usr/local/lib/python3.11/dist-packages (from alembic>=1.5.0->optuna) (4.12.2)\n",
            "Requirement already satisfied: greenlet!=0.4.17 in /usr/local/lib/python3.11/dist-packages (from sqlalchemy>=1.4.2->optuna) (3.1.1)\n",
            "Requirement already satisfied: MarkupSafe>=0.9.2 in /usr/local/lib/python3.11/dist-packages (from Mako->alembic>=1.5.0->optuna) (3.0.2)\n",
            "Downloading optuna-4.2.1-py3-none-any.whl (383 kB)\n",
            "\u001b[2K   \u001b[90m━━━━━━━━━━━━━━━━━━━━━━━━━━━━━━━━━━━━━━━━\u001b[0m \u001b[32m383.6/383.6 kB\u001b[0m \u001b[31m12.0 MB/s\u001b[0m eta \u001b[36m0:00:00\u001b[0m\n",
            "\u001b[?25hDownloading alembic-1.14.1-py3-none-any.whl (233 kB)\n",
            "\u001b[2K   \u001b[90m━━━━━━━━━━━━━━━━━━━━━━━━━━━━━━━━━━━━━━━━\u001b[0m \u001b[32m233.6/233.6 kB\u001b[0m \u001b[31m21.4 MB/s\u001b[0m eta \u001b[36m0:00:00\u001b[0m\n",
            "\u001b[?25hDownloading colorlog-6.9.0-py3-none-any.whl (11 kB)\n",
            "Downloading Mako-1.3.9-py3-none-any.whl (78 kB)\n",
            "\u001b[2K   \u001b[90m━━━━━━━━━━━━━━━━━━━━━━━━━━━━━━━━━━━━━━━━\u001b[0m \u001b[32m78.5/78.5 kB\u001b[0m \u001b[31m6.9 MB/s\u001b[0m eta \u001b[36m0:00:00\u001b[0m\n",
            "\u001b[?25hInstalling collected packages: Mako, colorlog, alembic, optuna\n",
            "Successfully installed Mako-1.3.9 alembic-1.14.1 colorlog-6.9.0 optuna-4.2.1\n"
          ]
        }
      ]
    },
    {
      "cell_type": "code",
      "source": [
        "best_run = trainer.hyperparameter_search(\n",
        "    hp_space=hp_space_fn,\n",
        "    n_trials=5, # количество запусков с разными гиперпараметрами\n",
        "    direction=\"maximize\", # максимизируем f1\n",
        "    backend=\"optuna\" # backend для поиска по сетке\n",
        ")"
      ],
      "metadata": {
        "colab": {
          "base_uri": "https://localhost:8080/",
          "height": 1000
        },
        "id": "bAw88L4KeBZg",
        "outputId": "197ff579-05dd-452f-fa9a-842c497751e9"
      },
      "execution_count": null,
      "outputs": [
        {
          "output_type": "stream",
          "name": "stderr",
          "text": [
            "[I 2025-02-24 18:42:00,255] A new study created in memory with name: no-name-ec992fbe-b9d6-4e5d-a0ab-6375c9506657\n",
            "Some weights of BertForSequenceClassification were not initialized from the model checkpoint at google-bert/bert-base-uncased and are newly initialized: ['classifier.bias', 'classifier.weight']\n",
            "You should probably TRAIN this model on a down-stream task to be able to use it for predictions and inference.\n"
          ]
        },
        {
          "output_type": "display_data",
          "data": {
            "text/plain": [
              "<IPython.core.display.Javascript object>"
            ],
            "application/javascript": [
              "\n",
              "        window._wandbApiKey = new Promise((resolve, reject) => {\n",
              "            function loadScript(url) {\n",
              "            return new Promise(function(resolve, reject) {\n",
              "                let newScript = document.createElement(\"script\");\n",
              "                newScript.onerror = reject;\n",
              "                newScript.onload = resolve;\n",
              "                document.body.appendChild(newScript);\n",
              "                newScript.src = url;\n",
              "            });\n",
              "            }\n",
              "            loadScript(\"https://cdn.jsdelivr.net/npm/postmate/build/postmate.min.js\").then(() => {\n",
              "            const iframe = document.createElement('iframe')\n",
              "            iframe.style.cssText = \"width:0;height:0;border:none\"\n",
              "            document.body.appendChild(iframe)\n",
              "            const handshake = new Postmate({\n",
              "                container: iframe,\n",
              "                url: 'https://wandb.ai/authorize'\n",
              "            });\n",
              "            const timeout = setTimeout(() => reject(\"Couldn't auto authenticate\"), 5000)\n",
              "            handshake.then(function(child) {\n",
              "                child.on('authorize', data => {\n",
              "                    clearTimeout(timeout)\n",
              "                    resolve(data)\n",
              "                });\n",
              "            });\n",
              "            })\n",
              "        });\n",
              "    "
            ]
          },
          "metadata": {}
        },
        {
          "output_type": "stream",
          "name": "stderr",
          "text": [
            "\u001b[34m\u001b[1mwandb\u001b[0m: Logging into wandb.ai. (Learn how to deploy a W&B server locally: https://wandb.me/wandb-server)\n",
            "\u001b[34m\u001b[1mwandb\u001b[0m: You can find your API key in your browser here: https://wandb.ai/authorize\n",
            "wandb: Paste an API key from your profile and hit enter:"
          ]
        },
        {
          "name": "stdout",
          "output_type": "stream",
          "text": [
            " ··········\n"
          ]
        },
        {
          "output_type": "stream",
          "name": "stderr",
          "text": [
            "\u001b[34m\u001b[1mwandb\u001b[0m: \u001b[33mWARNING\u001b[0m If you're specifying your api key in code, ensure this code is not shared publicly.\n",
            "\u001b[34m\u001b[1mwandb\u001b[0m: \u001b[33mWARNING\u001b[0m Consider setting the WANDB_API_KEY environment variable, or running `wandb login` from the command line.\n",
            "\u001b[34m\u001b[1mwandb\u001b[0m: Appending key for api.wandb.ai to your netrc file: /root/.netrc\n",
            "\u001b[34m\u001b[1mwandb\u001b[0m: Currently logged in as: \u001b[33mlizaolva123\u001b[0m (\u001b[33mlizaolva123-rggu\u001b[0m) to \u001b[32mhttps://api.wandb.ai\u001b[0m. Use \u001b[1m`wandb login --relogin`\u001b[0m to force relogin\n",
            "\u001b[34m\u001b[1mwandb\u001b[0m: Using wandb-core as the SDK backend.  Please refer to https://wandb.me/wandb-core for more information.\n"
          ]
        },
        {
          "output_type": "display_data",
          "data": {
            "text/plain": [
              "<IPython.core.display.HTML object>"
            ],
            "text/html": [
              "Tracking run with wandb version 0.19.6"
            ]
          },
          "metadata": {}
        },
        {
          "output_type": "display_data",
          "data": {
            "text/plain": [
              "<IPython.core.display.HTML object>"
            ],
            "text/html": [
              "Run data is saved locally in <code>/content/wandb/run-20250224_184237-rriu453w</code>"
            ]
          },
          "metadata": {}
        },
        {
          "output_type": "display_data",
          "data": {
            "text/plain": [
              "<IPython.core.display.HTML object>"
            ],
            "text/html": [
              "Syncing run <strong><a href='https://wandb.ai/lizaolva123-rggu/huggingface/runs/rriu453w' target=\"_blank\">comfy-moon-21</a></strong> to <a href='https://wandb.ai/lizaolva123-rggu/huggingface' target=\"_blank\">Weights & Biases</a> (<a href='https://wandb.me/developer-guide' target=\"_blank\">docs</a>)<br>"
            ]
          },
          "metadata": {}
        },
        {
          "output_type": "display_data",
          "data": {
            "text/plain": [
              "<IPython.core.display.HTML object>"
            ],
            "text/html": [
              " View project at <a href='https://wandb.ai/lizaolva123-rggu/huggingface' target=\"_blank\">https://wandb.ai/lizaolva123-rggu/huggingface</a>"
            ]
          },
          "metadata": {}
        },
        {
          "output_type": "display_data",
          "data": {
            "text/plain": [
              "<IPython.core.display.HTML object>"
            ],
            "text/html": [
              " View run at <a href='https://wandb.ai/lizaolva123-rggu/huggingface/runs/rriu453w' target=\"_blank\">https://wandb.ai/lizaolva123-rggu/huggingface/runs/rriu453w</a>"
            ]
          },
          "metadata": {}
        },
        {
          "output_type": "display_data",
          "data": {
            "text/plain": [
              "<IPython.core.display.HTML object>"
            ],
            "text/html": [
              "\n",
              "    <div>\n",
              "      \n",
              "      <progress value='327' max='327' style='width:300px; height:20px; vertical-align: middle;'></progress>\n",
              "      [327/327 17:44, Epoch 3/3]\n",
              "    </div>\n",
              "    <table border=\"1\" class=\"dataframe\">\n",
              "  <thead>\n",
              " <tr style=\"text-align: left;\">\n",
              "      <th>Epoch</th>\n",
              "      <th>Training Loss</th>\n",
              "      <th>Validation Loss</th>\n",
              "      <th>Accuracy</th>\n",
              "      <th>F1</th>\n",
              "      <th>Precision</th>\n",
              "      <th>Recall</th>\n",
              "    </tr>\n",
              "  </thead>\n",
              "  <tbody>\n",
              "    <tr>\n",
              "      <td>1</td>\n",
              "      <td>1.114800</td>\n",
              "      <td>1.122535</td>\n",
              "      <td>0.329293</td>\n",
              "      <td>0.329293</td>\n",
              "      <td>0.329293</td>\n",
              "      <td>0.329293</td>\n",
              "    </tr>\n",
              "    <tr>\n",
              "      <td>2</td>\n",
              "      <td>1.104800</td>\n",
              "      <td>1.102365</td>\n",
              "      <td>0.351515</td>\n",
              "      <td>0.351515</td>\n",
              "      <td>0.351515</td>\n",
              "      <td>0.351515</td>\n",
              "    </tr>\n",
              "    <tr>\n",
              "      <td>3</td>\n",
              "      <td>1.094000</td>\n",
              "      <td>1.098755</td>\n",
              "      <td>0.329293</td>\n",
              "      <td>0.329293</td>\n",
              "      <td>0.329293</td>\n",
              "      <td>0.329293</td>\n",
              "    </tr>\n",
              "  </tbody>\n",
              "</table><p>"
            ]
          },
          "metadata": {}
        },
        {
          "output_type": "stream",
          "name": "stderr",
          "text": [
            "[I 2025-02-24 19:00:27,830] Trial 0 finished with value: 1.3171717171717172 and parameters: {'learning_rate': 0.0005351162243849087, 'weight_decay': 5.341480658783592e-05}. Best is trial 0 with value: 1.3171717171717172.\n",
            "Some weights of BertForSequenceClassification were not initialized from the model checkpoint at google-bert/bert-base-uncased and are newly initialized: ['classifier.bias', 'classifier.weight']\n",
            "You should probably TRAIN this model on a down-stream task to be able to use it for predictions and inference.\n"
          ]
        },
        {
          "output_type": "display_data",
          "data": {
            "text/plain": [
              "<IPython.core.display.HTML object>"
            ],
            "text/html": []
          },
          "metadata": {}
        },
        {
          "output_type": "display_data",
          "data": {
            "text/plain": [
              "<IPython.core.display.HTML object>"
            ],
            "text/html": [
              "<br>    <style><br>        .wandb-row {<br>            display: flex;<br>            flex-direction: row;<br>            flex-wrap: wrap;<br>            justify-content: flex-start;<br>            width: 100%;<br>        }<br>        .wandb-col {<br>            display: flex;<br>            flex-direction: column;<br>            flex-basis: 100%;<br>            flex: 1;<br>            padding: 10px;<br>        }<br>    </style><br><div class=\"wandb-row\"><div class=\"wandb-col\"><h3>Run history:</h3><br/><table class=\"wandb\"><tr><td>eval/accuracy</td><td>▁█▁</td></tr><tr><td>eval/f1</td><td>▁█▁</td></tr><tr><td>eval/loss</td><td>█▂▁</td></tr><tr><td>eval/precision</td><td>▁█▁</td></tr><tr><td>eval/recall</td><td>▁█▁</td></tr><tr><td>eval/runtime</td><td>█▇▁</td></tr><tr><td>eval/samples_per_second</td><td>▁▂█</td></tr><tr><td>eval/steps_per_second</td><td>▁▂█</td></tr><tr><td>train/epoch</td><td>▁▁▁▂▂▂▂▃▃▃▃▃▃▄▄▄▄▅▅▅▅▅▆▆▆▆▆▇▇▇▇▇████</td></tr><tr><td>train/global_step</td><td>▁▁▁▂▂▂▂▃▃▃▃▃▃▄▄▄▄▅▅▅▅▅▆▆▆▆▆▇▇▇▇▇████</td></tr><tr><td>train/grad_norm</td><td>█▄▂▄▃▂▅▂▂▂▃▂▂▂▂▂▂▁▂▁▁▂▂▁▂▂▂▁▂▂▂▂</td></tr><tr><td>train/learning_rate</td><td>███▇▇▇▇▆▆▆▆▆▅▅▅▅▄▄▄▄▃▃▃▃▃▂▂▂▂▁▁▁</td></tr><tr><td>train/loss</td><td>█▃▆▅▃▅▅▄▃▃▃▄▄▃▂▂▂▂▃▂▂▃▂▃▂▂▂▄▁▂▂▁</td></tr></table><br/></div><div class=\"wandb-col\"><h3>Run summary:</h3><br/><table class=\"wandb\"><tr><td>eval/accuracy</td><td>0.32929</td></tr><tr><td>eval/f1</td><td>0.32929</td></tr><tr><td>eval/loss</td><td>1.09875</td></tr><tr><td>eval/precision</td><td>0.32929</td></tr><tr><td>eval/recall</td><td>0.32929</td></tr><tr><td>eval/runtime</td><td>14.1296</td></tr><tr><td>eval/samples_per_second</td><td>35.033</td></tr><tr><td>eval/steps_per_second</td><td>1.132</td></tr><tr><td>total_flos</td><td>2735063977282560.0</td></tr><tr><td>train/epoch</td><td>3</td></tr><tr><td>train/global_step</td><td>327</td></tr><tr><td>train/grad_norm</td><td>1.88596</td></tr><tr><td>train/learning_rate</td><td>1e-05</td></tr><tr><td>train/loss</td><td>1.094</td></tr><tr><td>train_loss</td><td>1.1156</td></tr><tr><td>train_runtime</td><td>1105.5574</td></tr><tr><td>train_samples_per_second</td><td>9.402</td></tr><tr><td>train_steps_per_second</td><td>0.296</td></tr></table><br/></div></div>"
            ]
          },
          "metadata": {}
        },
        {
          "output_type": "display_data",
          "data": {
            "text/plain": [
              "<IPython.core.display.HTML object>"
            ],
            "text/html": [
              " View run <strong style=\"color:#cdcd00\">comfy-moon-21</strong> at: <a href='https://wandb.ai/lizaolva123-rggu/huggingface/runs/rriu453w' target=\"_blank\">https://wandb.ai/lizaolva123-rggu/huggingface/runs/rriu453w</a><br> View project at: <a href='https://wandb.ai/lizaolva123-rggu/huggingface' target=\"_blank\">https://wandb.ai/lizaolva123-rggu/huggingface</a><br>Synced 5 W&B file(s), 0 media file(s), 0 artifact file(s) and 0 other file(s)"
            ]
          },
          "metadata": {}
        },
        {
          "output_type": "display_data",
          "data": {
            "text/plain": [
              "<IPython.core.display.HTML object>"
            ],
            "text/html": [
              "Find logs at: <code>./wandb/run-20250224_184237-rriu453w/logs</code>"
            ]
          },
          "metadata": {}
        },
        {
          "output_type": "display_data",
          "data": {
            "text/plain": [
              "<IPython.core.display.HTML object>"
            ],
            "text/html": [
              "Tracking run with wandb version 0.19.6"
            ]
          },
          "metadata": {}
        },
        {
          "output_type": "display_data",
          "data": {
            "text/plain": [
              "<IPython.core.display.HTML object>"
            ],
            "text/html": [
              "Run data is saved locally in <code>/content/wandb/run-20250224_190030-yh5o0di9</code>"
            ]
          },
          "metadata": {}
        },
        {
          "output_type": "display_data",
          "data": {
            "text/plain": [
              "<IPython.core.display.HTML object>"
            ],
            "text/html": [
              "Syncing run <strong><a href='https://wandb.ai/lizaolva123-rggu/huggingface/runs/yh5o0di9' target=\"_blank\">deep-resonance-22</a></strong> to <a href='https://wandb.ai/lizaolva123-rggu/huggingface' target=\"_blank\">Weights & Biases</a> (<a href='https://wandb.me/developer-guide' target=\"_blank\">docs</a>)<br>"
            ]
          },
          "metadata": {}
        },
        {
          "output_type": "display_data",
          "data": {
            "text/plain": [
              "<IPython.core.display.HTML object>"
            ],
            "text/html": [
              " View project at <a href='https://wandb.ai/lizaolva123-rggu/huggingface' target=\"_blank\">https://wandb.ai/lizaolva123-rggu/huggingface</a>"
            ]
          },
          "metadata": {}
        },
        {
          "output_type": "display_data",
          "data": {
            "text/plain": [
              "<IPython.core.display.HTML object>"
            ],
            "text/html": [
              " View run at <a href='https://wandb.ai/lizaolva123-rggu/huggingface/runs/yh5o0di9' target=\"_blank\">https://wandb.ai/lizaolva123-rggu/huggingface/runs/yh5o0di9</a>"
            ]
          },
          "metadata": {}
        },
        {
          "output_type": "display_data",
          "data": {
            "text/plain": [
              "<IPython.core.display.HTML object>"
            ],
            "text/html": [
              "\n",
              "    <div>\n",
              "      \n",
              "      <progress value='327' max='327' style='width:300px; height:20px; vertical-align: middle;'></progress>\n",
              "      [327/327 17:55, Epoch 3/3]\n",
              "    </div>\n",
              "    <table border=\"1\" class=\"dataframe\">\n",
              "  <thead>\n",
              " <tr style=\"text-align: left;\">\n",
              "      <th>Epoch</th>\n",
              "      <th>Training Loss</th>\n",
              "      <th>Validation Loss</th>\n",
              "      <th>Accuracy</th>\n",
              "      <th>F1</th>\n",
              "      <th>Precision</th>\n",
              "      <th>Recall</th>\n",
              "    </tr>\n",
              "  </thead>\n",
              "  <tbody>\n",
              "    <tr>\n",
              "      <td>1</td>\n",
              "      <td>1.112800</td>\n",
              "      <td>1.098445</td>\n",
              "      <td>0.351515</td>\n",
              "      <td>0.351515</td>\n",
              "      <td>0.351515</td>\n",
              "      <td>0.351515</td>\n",
              "    </tr>\n",
              "    <tr>\n",
              "      <td>2</td>\n",
              "      <td>1.102500</td>\n",
              "      <td>1.098884</td>\n",
              "      <td>0.351515</td>\n",
              "      <td>0.351515</td>\n",
              "      <td>0.351515</td>\n",
              "      <td>0.351515</td>\n",
              "    </tr>\n",
              "    <tr>\n",
              "      <td>3</td>\n",
              "      <td>1.095500</td>\n",
              "      <td>1.098397</td>\n",
              "      <td>0.351515</td>\n",
              "      <td>0.351515</td>\n",
              "      <td>0.351515</td>\n",
              "      <td>0.351515</td>\n",
              "    </tr>\n",
              "  </tbody>\n",
              "</table><p>"
            ]
          },
          "metadata": {}
        },
        {
          "output_type": "stream",
          "name": "stderr",
          "text": [
            "[I 2025-02-24 19:18:31,753] Trial 1 finished with value: 1.406060606060606 and parameters: {'learning_rate': 8.92506586920253e-05, 'weight_decay': 0.00021803260634171252}. Best is trial 1 with value: 1.406060606060606.\n",
            "Some weights of BertForSequenceClassification were not initialized from the model checkpoint at google-bert/bert-base-uncased and are newly initialized: ['classifier.bias', 'classifier.weight']\n",
            "You should probably TRAIN this model on a down-stream task to be able to use it for predictions and inference.\n"
          ]
        },
        {
          "output_type": "display_data",
          "data": {
            "text/plain": [
              "<IPython.core.display.HTML object>"
            ],
            "text/html": []
          },
          "metadata": {}
        },
        {
          "output_type": "display_data",
          "data": {
            "text/plain": [
              "<IPython.core.display.HTML object>"
            ],
            "text/html": [
              "<br>    <style><br>        .wandb-row {<br>            display: flex;<br>            flex-direction: row;<br>            flex-wrap: wrap;<br>            justify-content: flex-start;<br>            width: 100%;<br>        }<br>        .wandb-col {<br>            display: flex;<br>            flex-direction: column;<br>            flex-basis: 100%;<br>            flex: 1;<br>            padding: 10px;<br>        }<br>    </style><br><div class=\"wandb-row\"><div class=\"wandb-col\"><h3>Run history:</h3><br/><table class=\"wandb\"><tr><td>eval/accuracy</td><td>▁▁▁</td></tr><tr><td>eval/f1</td><td>▁▁▁</td></tr><tr><td>eval/loss</td><td>▂█▁</td></tr><tr><td>eval/precision</td><td>▁▁▁</td></tr><tr><td>eval/recall</td><td>▁▁▁</td></tr><tr><td>eval/runtime</td><td>▇█▁</td></tr><tr><td>eval/samples_per_second</td><td>▂▁█</td></tr><tr><td>eval/steps_per_second</td><td>▂▁█</td></tr><tr><td>train/epoch</td><td>▁▁▁▂▂▂▂▃▃▃▃▃▃▄▄▄▄▅▅▅▅▅▆▆▆▆▆▇▇▇▇▇████</td></tr><tr><td>train/global_step</td><td>▁▁▁▂▂▂▂▃▃▃▃▃▃▄▄▄▄▅▅▅▅▅▆▆▆▆▆▇▇▇▇▇████</td></tr><tr><td>train/grad_norm</td><td>▇▄▆▇█▃▇▁▃▄▅▅▃▁▅▄▅▂▃▂▁▃▂▂▅▄▂▁▄▅▃▄</td></tr><tr><td>train/learning_rate</td><td>███▇▇▇▇▆▆▆▆▆▅▅▅▅▄▄▄▄▃▃▃▃▃▂▂▂▂▁▁▁</td></tr><tr><td>train/loss</td><td>▄▃▄▆█▅▄▄▆▅▆▃▆▄▄▂▃▄▄▃▃▄▂▃▃▄▃▄▁▃▃▂</td></tr></table><br/></div><div class=\"wandb-col\"><h3>Run summary:</h3><br/><table class=\"wandb\"><tr><td>eval/accuracy</td><td>0.35152</td></tr><tr><td>eval/f1</td><td>0.35152</td></tr><tr><td>eval/loss</td><td>1.0984</td></tr><tr><td>eval/precision</td><td>0.35152</td></tr><tr><td>eval/recall</td><td>0.35152</td></tr><tr><td>eval/runtime</td><td>14.5134</td></tr><tr><td>eval/samples_per_second</td><td>34.106</td></tr><tr><td>eval/steps_per_second</td><td>1.102</td></tr><tr><td>total_flos</td><td>2735063977282560.0</td></tr><tr><td>train/epoch</td><td>3</td></tr><tr><td>train/global_step</td><td>327</td></tr><tr><td>train/grad_norm</td><td>2.19725</td></tr><tr><td>train/learning_rate</td><td>0.0</td></tr><tr><td>train/loss</td><td>1.0955</td></tr><tr><td>train_loss</td><td>1.10578</td></tr><tr><td>train_runtime</td><td>1082.0516</td></tr><tr><td>train_samples_per_second</td><td>9.607</td></tr><tr><td>train_steps_per_second</td><td>0.302</td></tr></table><br/></div></div>"
            ]
          },
          "metadata": {}
        },
        {
          "output_type": "display_data",
          "data": {
            "text/plain": [
              "<IPython.core.display.HTML object>"
            ],
            "text/html": [
              " View run <strong style=\"color:#cdcd00\">deep-resonance-22</strong> at: <a href='https://wandb.ai/lizaolva123-rggu/huggingface/runs/yh5o0di9' target=\"_blank\">https://wandb.ai/lizaolva123-rggu/huggingface/runs/yh5o0di9</a><br> View project at: <a href='https://wandb.ai/lizaolva123-rggu/huggingface' target=\"_blank\">https://wandb.ai/lizaolva123-rggu/huggingface</a><br>Synced 5 W&B file(s), 0 media file(s), 0 artifact file(s) and 0 other file(s)"
            ]
          },
          "metadata": {}
        },
        {
          "output_type": "display_data",
          "data": {
            "text/plain": [
              "<IPython.core.display.HTML object>"
            ],
            "text/html": [
              "Find logs at: <code>./wandb/run-20250224_190030-yh5o0di9/logs</code>"
            ]
          },
          "metadata": {}
        },
        {
          "output_type": "display_data",
          "data": {
            "text/plain": [
              "<IPython.core.display.HTML object>"
            ],
            "text/html": [
              "Tracking run with wandb version 0.19.6"
            ]
          },
          "metadata": {}
        },
        {
          "output_type": "display_data",
          "data": {
            "text/plain": [
              "<IPython.core.display.HTML object>"
            ],
            "text/html": [
              "Run data is saved locally in <code>/content/wandb/run-20250224_191834-shnq61os</code>"
            ]
          },
          "metadata": {}
        },
        {
          "output_type": "display_data",
          "data": {
            "text/plain": [
              "<IPython.core.display.HTML object>"
            ],
            "text/html": [
              "Syncing run <strong><a href='https://wandb.ai/lizaolva123-rggu/huggingface/runs/shnq61os' target=\"_blank\">visionary-sound-23</a></strong> to <a href='https://wandb.ai/lizaolva123-rggu/huggingface' target=\"_blank\">Weights & Biases</a> (<a href='https://wandb.me/developer-guide' target=\"_blank\">docs</a>)<br>"
            ]
          },
          "metadata": {}
        },
        {
          "output_type": "display_data",
          "data": {
            "text/plain": [
              "<IPython.core.display.HTML object>"
            ],
            "text/html": [
              " View project at <a href='https://wandb.ai/lizaolva123-rggu/huggingface' target=\"_blank\">https://wandb.ai/lizaolva123-rggu/huggingface</a>"
            ]
          },
          "metadata": {}
        },
        {
          "output_type": "display_data",
          "data": {
            "text/plain": [
              "<IPython.core.display.HTML object>"
            ],
            "text/html": [
              " View run at <a href='https://wandb.ai/lizaolva123-rggu/huggingface/runs/shnq61os' target=\"_blank\">https://wandb.ai/lizaolva123-rggu/huggingface/runs/shnq61os</a>"
            ]
          },
          "metadata": {}
        },
        {
          "output_type": "display_data",
          "data": {
            "text/plain": [
              "<IPython.core.display.HTML object>"
            ],
            "text/html": [
              "\n",
              "    <div>\n",
              "      \n",
              "      <progress value='327' max='327' style='width:300px; height:20px; vertical-align: middle;'></progress>\n",
              "      [327/327 17:53, Epoch 3/3]\n",
              "    </div>\n",
              "    <table border=\"1\" class=\"dataframe\">\n",
              "  <thead>\n",
              " <tr style=\"text-align: left;\">\n",
              "      <th>Epoch</th>\n",
              "      <th>Training Loss</th>\n",
              "      <th>Validation Loss</th>\n",
              "      <th>Accuracy</th>\n",
              "      <th>F1</th>\n",
              "      <th>Precision</th>\n",
              "      <th>Recall</th>\n",
              "    </tr>\n",
              "  </thead>\n",
              "  <tbody>\n",
              "    <tr>\n",
              "      <td>1</td>\n",
              "      <td>1.107300</td>\n",
              "      <td>1.098007</td>\n",
              "      <td>0.329293</td>\n",
              "      <td>0.329293</td>\n",
              "      <td>0.329293</td>\n",
              "      <td>0.329293</td>\n",
              "    </tr>\n",
              "    <tr>\n",
              "      <td>2</td>\n",
              "      <td>1.103200</td>\n",
              "      <td>1.097428</td>\n",
              "      <td>0.369697</td>\n",
              "      <td>0.369697</td>\n",
              "      <td>0.369697</td>\n",
              "      <td>0.369697</td>\n",
              "    </tr>\n",
              "    <tr>\n",
              "      <td>3</td>\n",
              "      <td>1.094100</td>\n",
              "      <td>1.097030</td>\n",
              "      <td>0.353535</td>\n",
              "      <td>0.353535</td>\n",
              "      <td>0.353535</td>\n",
              "      <td>0.353535</td>\n",
              "    </tr>\n",
              "  </tbody>\n",
              "</table><p>"
            ]
          },
          "metadata": {}
        },
        {
          "output_type": "stream",
          "name": "stderr",
          "text": [
            "[I 2025-02-24 19:36:32,735] Trial 2 finished with value: 1.4141414141414141 and parameters: {'learning_rate': 4.1943381308714734e-05, 'weight_decay': 1.3548983937073615e-05}. Best is trial 2 with value: 1.4141414141414141.\n",
            "Some weights of BertForSequenceClassification were not initialized from the model checkpoint at google-bert/bert-base-uncased and are newly initialized: ['classifier.bias', 'classifier.weight']\n",
            "You should probably TRAIN this model on a down-stream task to be able to use it for predictions and inference.\n"
          ]
        },
        {
          "output_type": "display_data",
          "data": {
            "text/plain": [
              "<IPython.core.display.HTML object>"
            ],
            "text/html": []
          },
          "metadata": {}
        },
        {
          "output_type": "display_data",
          "data": {
            "text/plain": [
              "<IPython.core.display.HTML object>"
            ],
            "text/html": [
              "<br>    <style><br>        .wandb-row {<br>            display: flex;<br>            flex-direction: row;<br>            flex-wrap: wrap;<br>            justify-content: flex-start;<br>            width: 100%;<br>        }<br>        .wandb-col {<br>            display: flex;<br>            flex-direction: column;<br>            flex-basis: 100%;<br>            flex: 1;<br>            padding: 10px;<br>        }<br>    </style><br><div class=\"wandb-row\"><div class=\"wandb-col\"><h3>Run history:</h3><br/><table class=\"wandb\"><tr><td>eval/accuracy</td><td>▁█▅</td></tr><tr><td>eval/f1</td><td>▁█▅</td></tr><tr><td>eval/loss</td><td>█▄▁</td></tr><tr><td>eval/precision</td><td>▁█▅</td></tr><tr><td>eval/recall</td><td>▁█▅</td></tr><tr><td>eval/runtime</td><td>▇█▁</td></tr><tr><td>eval/samples_per_second</td><td>▂▁█</td></tr><tr><td>eval/steps_per_second</td><td>▂▁█</td></tr><tr><td>train/epoch</td><td>▁▁▁▂▂▂▂▃▃▃▃▃▃▄▄▄▄▅▅▅▅▅▆▆▆▆▆▇▇▇▇▇████</td></tr><tr><td>train/global_step</td><td>▁▁▁▂▂▂▂▃▃▃▃▃▃▄▄▄▄▅▅▅▅▅▆▆▆▆▆▇▇▇▇▇████</td></tr><tr><td>train/grad_norm</td><td>▅▃▄█▆▃▆▂▂▄▄▄▃▁▄▄▄▂▃▂▁▂▃▂▅▄▂▁▄▄▃▄</td></tr><tr><td>train/learning_rate</td><td>███▇▇▇▇▆▆▆▆▆▅▅▅▅▄▄▄▄▃▃▃▃▃▂▂▂▂▁▁▁</td></tr><tr><td>train/loss</td><td>▆▆▅▇█▆▄▅▇▆▆▅█▆▅▄▃▄▆▄▅▆▃▅▄▄▄▅▁▄▃▂</td></tr></table><br/></div><div class=\"wandb-col\"><h3>Run summary:</h3><br/><table class=\"wandb\"><tr><td>eval/accuracy</td><td>0.35354</td></tr><tr><td>eval/f1</td><td>0.35354</td></tr><tr><td>eval/loss</td><td>1.09703</td></tr><tr><td>eval/precision</td><td>0.35354</td></tr><tr><td>eval/recall</td><td>0.35354</td></tr><tr><td>eval/runtime</td><td>14.7322</td></tr><tr><td>eval/samples_per_second</td><td>33.6</td></tr><tr><td>eval/steps_per_second</td><td>1.086</td></tr><tr><td>total_flos</td><td>2735063977282560.0</td></tr><tr><td>train/epoch</td><td>3</td></tr><tr><td>train/global_step</td><td>327</td></tr><tr><td>train/grad_norm</td><td>2.40739</td></tr><tr><td>train/learning_rate</td><td>0.0</td></tr><tr><td>train/loss</td><td>1.0941</td></tr><tr><td>train_loss</td><td>1.10359</td></tr><tr><td>train_runtime</td><td>1079.1236</td></tr><tr><td>train_samples_per_second</td><td>9.633</td></tr><tr><td>train_steps_per_second</td><td>0.303</td></tr></table><br/></div></div>"
            ]
          },
          "metadata": {}
        },
        {
          "output_type": "display_data",
          "data": {
            "text/plain": [
              "<IPython.core.display.HTML object>"
            ],
            "text/html": [
              " View run <strong style=\"color:#cdcd00\">visionary-sound-23</strong> at: <a href='https://wandb.ai/lizaolva123-rggu/huggingface/runs/shnq61os' target=\"_blank\">https://wandb.ai/lizaolva123-rggu/huggingface/runs/shnq61os</a><br> View project at: <a href='https://wandb.ai/lizaolva123-rggu/huggingface' target=\"_blank\">https://wandb.ai/lizaolva123-rggu/huggingface</a><br>Synced 5 W&B file(s), 0 media file(s), 0 artifact file(s) and 0 other file(s)"
            ]
          },
          "metadata": {}
        },
        {
          "output_type": "display_data",
          "data": {
            "text/plain": [
              "<IPython.core.display.HTML object>"
            ],
            "text/html": [
              "Find logs at: <code>./wandb/run-20250224_191834-shnq61os/logs</code>"
            ]
          },
          "metadata": {}
        },
        {
          "output_type": "display_data",
          "data": {
            "text/plain": [
              "<IPython.core.display.HTML object>"
            ],
            "text/html": [
              "Tracking run with wandb version 0.19.6"
            ]
          },
          "metadata": {}
        },
        {
          "output_type": "display_data",
          "data": {
            "text/plain": [
              "<IPython.core.display.HTML object>"
            ],
            "text/html": [
              "Run data is saved locally in <code>/content/wandb/run-20250224_193635-06hvqt9k</code>"
            ]
          },
          "metadata": {}
        },
        {
          "output_type": "display_data",
          "data": {
            "text/plain": [
              "<IPython.core.display.HTML object>"
            ],
            "text/html": [
              "Syncing run <strong><a href='https://wandb.ai/lizaolva123-rggu/huggingface/runs/06hvqt9k' target=\"_blank\">silver-armadillo-24</a></strong> to <a href='https://wandb.ai/lizaolva123-rggu/huggingface' target=\"_blank\">Weights & Biases</a> (<a href='https://wandb.me/developer-guide' target=\"_blank\">docs</a>)<br>"
            ]
          },
          "metadata": {}
        },
        {
          "output_type": "display_data",
          "data": {
            "text/plain": [
              "<IPython.core.display.HTML object>"
            ],
            "text/html": [
              " View project at <a href='https://wandb.ai/lizaolva123-rggu/huggingface' target=\"_blank\">https://wandb.ai/lizaolva123-rggu/huggingface</a>"
            ]
          },
          "metadata": {}
        },
        {
          "output_type": "display_data",
          "data": {
            "text/plain": [
              "<IPython.core.display.HTML object>"
            ],
            "text/html": [
              " View run at <a href='https://wandb.ai/lizaolva123-rggu/huggingface/runs/06hvqt9k' target=\"_blank\">https://wandb.ai/lizaolva123-rggu/huggingface/runs/06hvqt9k</a>"
            ]
          },
          "metadata": {}
        },
        {
          "output_type": "display_data",
          "data": {
            "text/plain": [
              "<IPython.core.display.HTML object>"
            ],
            "text/html": [
              "\n",
              "    <div>\n",
              "      \n",
              "      <progress value='327' max='327' style='width:300px; height:20px; vertical-align: middle;'></progress>\n",
              "      [327/327 18:06, Epoch 3/3]\n",
              "    </div>\n",
              "    <table border=\"1\" class=\"dataframe\">\n",
              "  <thead>\n",
              " <tr style=\"text-align: left;\">\n",
              "      <th>Epoch</th>\n",
              "      <th>Training Loss</th>\n",
              "      <th>Validation Loss</th>\n",
              "      <th>Accuracy</th>\n",
              "      <th>F1</th>\n",
              "      <th>Precision</th>\n",
              "      <th>Recall</th>\n",
              "    </tr>\n",
              "  </thead>\n",
              "  <tbody>\n",
              "    <tr>\n",
              "      <td>1</td>\n",
              "      <td>1.124100</td>\n",
              "      <td>1.097858</td>\n",
              "      <td>0.351515</td>\n",
              "      <td>0.351515</td>\n",
              "      <td>0.351515</td>\n",
              "      <td>0.351515</td>\n",
              "    </tr>\n",
              "    <tr>\n",
              "      <td>2</td>\n",
              "      <td>1.120200</td>\n",
              "      <td>1.099805</td>\n",
              "      <td>0.351515</td>\n",
              "      <td>0.351515</td>\n",
              "      <td>0.351515</td>\n",
              "      <td>0.351515</td>\n",
              "    </tr>\n",
              "    <tr>\n",
              "      <td>3</td>\n",
              "      <td>1.090500</td>\n",
              "      <td>1.099279</td>\n",
              "      <td>0.329293</td>\n",
              "      <td>0.329293</td>\n",
              "      <td>0.329293</td>\n",
              "      <td>0.329293</td>\n",
              "    </tr>\n",
              "  </tbody>\n",
              "</table><p>"
            ]
          },
          "metadata": {}
        },
        {
          "output_type": "stream",
          "name": "stderr",
          "text": [
            "[I 2025-02-24 19:54:46,688] Trial 3 finished with value: 1.3171717171717172 and parameters: {'learning_rate': 0.0007959039239082345, 'weight_decay': 0.0011870453400170528}. Best is trial 2 with value: 1.4141414141414141.\n",
            "Some weights of BertForSequenceClassification were not initialized from the model checkpoint at google-bert/bert-base-uncased and are newly initialized: ['classifier.bias', 'classifier.weight']\n",
            "You should probably TRAIN this model on a down-stream task to be able to use it for predictions and inference.\n"
          ]
        },
        {
          "output_type": "display_data",
          "data": {
            "text/plain": [
              "<IPython.core.display.HTML object>"
            ],
            "text/html": []
          },
          "metadata": {}
        },
        {
          "output_type": "display_data",
          "data": {
            "text/plain": [
              "<IPython.core.display.HTML object>"
            ],
            "text/html": [
              "<br>    <style><br>        .wandb-row {<br>            display: flex;<br>            flex-direction: row;<br>            flex-wrap: wrap;<br>            justify-content: flex-start;<br>            width: 100%;<br>        }<br>        .wandb-col {<br>            display: flex;<br>            flex-direction: column;<br>            flex-basis: 100%;<br>            flex: 1;<br>            padding: 10px;<br>        }<br>    </style><br><div class=\"wandb-row\"><div class=\"wandb-col\"><h3>Run history:</h3><br/><table class=\"wandb\"><tr><td>eval/accuracy</td><td>██▁</td></tr><tr><td>eval/f1</td><td>██▁</td></tr><tr><td>eval/loss</td><td>▁█▆</td></tr><tr><td>eval/precision</td><td>██▁</td></tr><tr><td>eval/recall</td><td>██▁</td></tr><tr><td>eval/runtime</td><td>▄█▁</td></tr><tr><td>eval/samples_per_second</td><td>▅▁█</td></tr><tr><td>eval/steps_per_second</td><td>▅▁█</td></tr><tr><td>train/epoch</td><td>▁▁▁▂▂▂▂▃▃▃▃▃▃▄▄▄▄▅▅▅▅▅▆▆▆▆▆▇▇▇▇▇████</td></tr><tr><td>train/global_step</td><td>▁▁▁▂▂▂▂▃▃▃▃▃▃▄▄▄▄▅▅▅▅▅▆▆▆▆▆▇▇▇▇▇████</td></tr><tr><td>train/grad_norm</td><td>▆▃▅▄▅▄█▃▂▃▃▅▄▂▃▃▄▁▃▃▂▂▃▂▄▃▄▁▄▄▃▃</td></tr><tr><td>train/learning_rate</td><td>███▇▇▇▇▆▆▆▆▆▅▅▅▅▄▄▄▄▃▃▃▃▃▂▂▂▂▁▁▁</td></tr><tr><td>train/loss</td><td>▆▆▅▅▇█▅▄▃▃▄▄▅▂▄▃▂▃▄▂▃▃▃▃▂▃▃▄▂▃▃▁</td></tr></table><br/></div><div class=\"wandb-col\"><h3>Run summary:</h3><br/><table class=\"wandb\"><tr><td>eval/accuracy</td><td>0.32929</td></tr><tr><td>eval/f1</td><td>0.32929</td></tr><tr><td>eval/loss</td><td>1.09928</td></tr><tr><td>eval/precision</td><td>0.32929</td></tr><tr><td>eval/recall</td><td>0.32929</td></tr><tr><td>eval/runtime</td><td>14.055</td></tr><tr><td>eval/samples_per_second</td><td>35.219</td></tr><tr><td>eval/steps_per_second</td><td>1.138</td></tr><tr><td>total_flos</td><td>2735063977282560.0</td></tr><tr><td>train/epoch</td><td>3</td></tr><tr><td>train/global_step</td><td>327</td></tr><tr><td>train/grad_norm</td><td>4.13643</td></tr><tr><td>train/learning_rate</td><td>2e-05</td></tr><tr><td>train/loss</td><td>1.0905</td></tr><tr><td>train_loss</td><td>1.13088</td></tr><tr><td>train_runtime</td><td>1092.2658</td></tr><tr><td>train_samples_per_second</td><td>9.517</td></tr><tr><td>train_steps_per_second</td><td>0.299</td></tr></table><br/></div></div>"
            ]
          },
          "metadata": {}
        },
        {
          "output_type": "display_data",
          "data": {
            "text/plain": [
              "<IPython.core.display.HTML object>"
            ],
            "text/html": [
              " View run <strong style=\"color:#cdcd00\">silver-armadillo-24</strong> at: <a href='https://wandb.ai/lizaolva123-rggu/huggingface/runs/06hvqt9k' target=\"_blank\">https://wandb.ai/lizaolva123-rggu/huggingface/runs/06hvqt9k</a><br> View project at: <a href='https://wandb.ai/lizaolva123-rggu/huggingface' target=\"_blank\">https://wandb.ai/lizaolva123-rggu/huggingface</a><br>Synced 5 W&B file(s), 0 media file(s), 0 artifact file(s) and 0 other file(s)"
            ]
          },
          "metadata": {}
        },
        {
          "output_type": "display_data",
          "data": {
            "text/plain": [
              "<IPython.core.display.HTML object>"
            ],
            "text/html": [
              "Find logs at: <code>./wandb/run-20250224_193635-06hvqt9k/logs</code>"
            ]
          },
          "metadata": {}
        },
        {
          "output_type": "display_data",
          "data": {
            "text/plain": [
              "<IPython.core.display.HTML object>"
            ],
            "text/html": [
              "Tracking run with wandb version 0.19.6"
            ]
          },
          "metadata": {}
        },
        {
          "output_type": "display_data",
          "data": {
            "text/plain": [
              "<IPython.core.display.HTML object>"
            ],
            "text/html": [
              "Run data is saved locally in <code>/content/wandb/run-20250224_195449-c75k6aek</code>"
            ]
          },
          "metadata": {}
        },
        {
          "output_type": "display_data",
          "data": {
            "text/plain": [
              "<IPython.core.display.HTML object>"
            ],
            "text/html": [
              "Syncing run <strong><a href='https://wandb.ai/lizaolva123-rggu/huggingface/runs/c75k6aek' target=\"_blank\">feasible-rain-25</a></strong> to <a href='https://wandb.ai/lizaolva123-rggu/huggingface' target=\"_blank\">Weights & Biases</a> (<a href='https://wandb.me/developer-guide' target=\"_blank\">docs</a>)<br>"
            ]
          },
          "metadata": {}
        },
        {
          "output_type": "display_data",
          "data": {
            "text/plain": [
              "<IPython.core.display.HTML object>"
            ],
            "text/html": [
              " View project at <a href='https://wandb.ai/lizaolva123-rggu/huggingface' target=\"_blank\">https://wandb.ai/lizaolva123-rggu/huggingface</a>"
            ]
          },
          "metadata": {}
        },
        {
          "output_type": "display_data",
          "data": {
            "text/plain": [
              "<IPython.core.display.HTML object>"
            ],
            "text/html": [
              " View run at <a href='https://wandb.ai/lizaolva123-rggu/huggingface/runs/c75k6aek' target=\"_blank\">https://wandb.ai/lizaolva123-rggu/huggingface/runs/c75k6aek</a>"
            ]
          },
          "metadata": {}
        },
        {
          "output_type": "display_data",
          "data": {
            "text/plain": [
              "<IPython.core.display.HTML object>"
            ],
            "text/html": [
              "\n",
              "    <div>\n",
              "      \n",
              "      <progress value='327' max='327' style='width:300px; height:20px; vertical-align: middle;'></progress>\n",
              "      [327/327 18:37, Epoch 3/3]\n",
              "    </div>\n",
              "    <table border=\"1\" class=\"dataframe\">\n",
              "  <thead>\n",
              " <tr style=\"text-align: left;\">\n",
              "      <th>Epoch</th>\n",
              "      <th>Training Loss</th>\n",
              "      <th>Validation Loss</th>\n",
              "      <th>Accuracy</th>\n",
              "      <th>F1</th>\n",
              "      <th>Precision</th>\n",
              "      <th>Recall</th>\n",
              "    </tr>\n",
              "  </thead>\n",
              "  <tbody>\n",
              "    <tr>\n",
              "      <td>1</td>\n",
              "      <td>1.105600</td>\n",
              "      <td>1.099564</td>\n",
              "      <td>0.329293</td>\n",
              "      <td>0.329293</td>\n",
              "      <td>0.329293</td>\n",
              "      <td>0.329293</td>\n",
              "    </tr>\n",
              "    <tr>\n",
              "      <td>2</td>\n",
              "      <td>1.099500</td>\n",
              "      <td>1.094747</td>\n",
              "      <td>0.375758</td>\n",
              "      <td>0.375758</td>\n",
              "      <td>0.375758</td>\n",
              "      <td>0.375758</td>\n",
              "    </tr>\n",
              "    <tr>\n",
              "      <td>3</td>\n",
              "      <td>1.089900</td>\n",
              "      <td>1.090811</td>\n",
              "      <td>0.373737</td>\n",
              "      <td>0.373737</td>\n",
              "      <td>0.373737</td>\n",
              "      <td>0.373737</td>\n",
              "    </tr>\n",
              "  </tbody>\n",
              "</table><p>"
            ]
          },
          "metadata": {}
        },
        {
          "output_type": "stream",
          "name": "stderr",
          "text": [
            "[I 2025-02-24 20:13:32,224] Trial 4 finished with value: 1.494949494949495 and parameters: {'learning_rate': 1.8562022777790423e-05, 'weight_decay': 0.001928128030703447}. Best is trial 4 with value: 1.494949494949495.\n"
          ]
        }
      ]
    },
    {
      "cell_type": "code",
      "source": [
        "best_run.hyperparameters\n",
        "#{'learning_rate': 1.8562022777790423e-05, 'weight_decay': 0.001928128030703447}"
      ],
      "metadata": {
        "id": "uj-ZlDFFeQ8l",
        "colab": {
          "base_uri": "https://localhost:8080/",
          "height": 141
        },
        "outputId": "6649e900-aede-418c-88c5-f2b0985702d9",
        "collapsed": true
      },
      "execution_count": null,
      "outputs": [
        {
          "output_type": "error",
          "ename": "NameError",
          "evalue": "name 'best_run' is not defined",
          "traceback": [
            "\u001b[0;31m---------------------------------------------------------------------------\u001b[0m",
            "\u001b[0;31mNameError\u001b[0m                                 Traceback (most recent call last)",
            "\u001b[0;32m<ipython-input-1-99fe999b96df>\u001b[0m in \u001b[0;36m<cell line: 0>\u001b[0;34m()\u001b[0m\n\u001b[0;32m----> 1\u001b[0;31m \u001b[0mbest_run\u001b[0m\u001b[0;34m.\u001b[0m\u001b[0mhyperparameters\u001b[0m\u001b[0;34m\u001b[0m\u001b[0;34m\u001b[0m\u001b[0m\n\u001b[0m",
            "\u001b[0;31mNameError\u001b[0m: name 'best_run' is not defined"
          ]
        }
      ]
    },
    {
      "cell_type": "code",
      "source": [
        "# собственно обучение - автоматически делает логи\n",
        "trainer.train()\n",
        "\n",
        "# оценим модельку\n",
        "eval_results = trainer.evaluate()\n",
        "print(f\"Evaluation Results: {eval_results}\")\n",
        "\n",
        "# Сохраним, что получилось\n",
        "trainer.save_model(\"./ner_model\")\n",
        "#b5a31e3a762dc4fdbd905c7a205899ee8116917a"
      ],
      "metadata": {
        "id": "2yi9NsSclkHJ",
        "colab": {
          "base_uri": "https://localhost:8080/",
          "height": 1000
        },
        "outputId": "74cce000-6621-4348-933d-759a31605596",
        "collapsed": true
      },
      "execution_count": null,
      "outputs": [
        {
          "output_type": "stream",
          "name": "stderr",
          "text": [
            "\u001b[34m\u001b[1mwandb\u001b[0m: \u001b[33mWARNING\u001b[0m The `run_name` is currently set to the same value as `TrainingArguments.output_dir`. If this was not intended, please specify a different run name by setting the `TrainingArguments.run_name` parameter.\n",
            "\u001b[34m\u001b[1mwandb\u001b[0m: Using wandb-core as the SDK backend.  Please refer to https://wandb.me/wandb-core for more information.\n"
          ]
        },
        {
          "output_type": "display_data",
          "data": {
            "text/plain": [
              "<IPython.core.display.Javascript object>"
            ],
            "application/javascript": [
              "\n",
              "        window._wandbApiKey = new Promise((resolve, reject) => {\n",
              "            function loadScript(url) {\n",
              "            return new Promise(function(resolve, reject) {\n",
              "                let newScript = document.createElement(\"script\");\n",
              "                newScript.onerror = reject;\n",
              "                newScript.onload = resolve;\n",
              "                document.body.appendChild(newScript);\n",
              "                newScript.src = url;\n",
              "            });\n",
              "            }\n",
              "            loadScript(\"https://cdn.jsdelivr.net/npm/postmate/build/postmate.min.js\").then(() => {\n",
              "            const iframe = document.createElement('iframe')\n",
              "            iframe.style.cssText = \"width:0;height:0;border:none\"\n",
              "            document.body.appendChild(iframe)\n",
              "            const handshake = new Postmate({\n",
              "                container: iframe,\n",
              "                url: 'https://wandb.ai/authorize'\n",
              "            });\n",
              "            const timeout = setTimeout(() => reject(\"Couldn't auto authenticate\"), 5000)\n",
              "            handshake.then(function(child) {\n",
              "                child.on('authorize', data => {\n",
              "                    clearTimeout(timeout)\n",
              "                    resolve(data)\n",
              "                });\n",
              "            });\n",
              "            })\n",
              "        });\n",
              "    "
            ]
          },
          "metadata": {}
        },
        {
          "output_type": "stream",
          "name": "stderr",
          "text": [
            "\u001b[34m\u001b[1mwandb\u001b[0m: Logging into wandb.ai. (Learn how to deploy a W&B server locally: https://wandb.me/wandb-server)\n",
            "\u001b[34m\u001b[1mwandb\u001b[0m: You can find your API key in your browser here: https://wandb.ai/authorize\n",
            "wandb: Paste an API key from your profile and hit enter:"
          ]
        },
        {
          "name": "stdout",
          "output_type": "stream",
          "text": [
            " ··········\n"
          ]
        },
        {
          "output_type": "stream",
          "name": "stderr",
          "text": [
            "\u001b[34m\u001b[1mwandb\u001b[0m: \u001b[33mWARNING\u001b[0m If you're specifying your api key in code, ensure this code is not shared publicly.\n",
            "\u001b[34m\u001b[1mwandb\u001b[0m: \u001b[33mWARNING\u001b[0m Consider setting the WANDB_API_KEY environment variable, or running `wandb login` from the command line.\n",
            "\u001b[34m\u001b[1mwandb\u001b[0m: No netrc file found, creating one.\n",
            "\u001b[34m\u001b[1mwandb\u001b[0m: Appending key for api.wandb.ai to your netrc file: /root/.netrc\n",
            "\u001b[34m\u001b[1mwandb\u001b[0m: Currently logged in as: \u001b[33mlizaolva123\u001b[0m (\u001b[33mlizaolva123-rggu\u001b[0m) to \u001b[32mhttps://api.wandb.ai\u001b[0m. Use \u001b[1m`wandb login --relogin`\u001b[0m to force relogin\n"
          ]
        },
        {
          "output_type": "display_data",
          "data": {
            "text/plain": [
              "<IPython.core.display.HTML object>"
            ],
            "text/html": [
              "Tracking run with wandb version 0.19.8"
            ]
          },
          "metadata": {}
        },
        {
          "output_type": "display_data",
          "data": {
            "text/plain": [
              "<IPython.core.display.HTML object>"
            ],
            "text/html": [
              "Run data is saved locally in <code>/content/wandb/run-20250313_145108-xn34fjc8</code>"
            ]
          },
          "metadata": {}
        },
        {
          "output_type": "display_data",
          "data": {
            "text/plain": [
              "<IPython.core.display.HTML object>"
            ],
            "text/html": [
              "Syncing run <strong><a href='https://wandb.ai/lizaolva123-rggu/huggingface/runs/xn34fjc8' target=\"_blank\">./results</a></strong> to <a href='https://wandb.ai/lizaolva123-rggu/huggingface' target=\"_blank\">Weights & Biases</a> (<a href='https://wandb.me/developer-guide' target=\"_blank\">docs</a>)<br>"
            ]
          },
          "metadata": {}
        },
        {
          "output_type": "display_data",
          "data": {
            "text/plain": [
              "<IPython.core.display.HTML object>"
            ],
            "text/html": [
              " View project at <a href='https://wandb.ai/lizaolva123-rggu/huggingface' target=\"_blank\">https://wandb.ai/lizaolva123-rggu/huggingface</a>"
            ]
          },
          "metadata": {}
        },
        {
          "output_type": "display_data",
          "data": {
            "text/plain": [
              "<IPython.core.display.HTML object>"
            ],
            "text/html": [
              " View run at <a href='https://wandb.ai/lizaolva123-rggu/huggingface/runs/xn34fjc8' target=\"_blank\">https://wandb.ai/lizaolva123-rggu/huggingface/runs/xn34fjc8</a>"
            ]
          },
          "metadata": {}
        },
        {
          "output_type": "display_data",
          "data": {
            "text/plain": [
              "<IPython.core.display.HTML object>"
            ],
            "text/html": [
              "\n",
              "    <div>\n",
              "      \n",
              "      <progress value='354' max='825' style='width:300px; height:20px; vertical-align: middle;'></progress>\n",
              "      [354/825 18:48 < 25:09, 0.31 it/s, Epoch 2.14/5]\n",
              "    </div>\n",
              "    <table border=\"1\" class=\"dataframe\">\n",
              "  <thead>\n",
              " <tr style=\"text-align: left;\">\n",
              "      <th>Epoch</th>\n",
              "      <th>Training Loss</th>\n",
              "      <th>Validation Loss</th>\n",
              "      <th>Accuracy</th>\n",
              "      <th>F1</th>\n",
              "      <th>Precision</th>\n",
              "      <th>Recall</th>\n",
              "    </tr>\n",
              "  </thead>\n",
              "  <tbody>\n",
              "    <tr>\n",
              "      <td>1</td>\n",
              "      <td>1.098600</td>\n",
              "      <td>1.098207</td>\n",
              "      <td>0.341333</td>\n",
              "      <td>0.265523</td>\n",
              "      <td>0.231310</td>\n",
              "      <td>0.347706</td>\n",
              "    </tr>\n",
              "    <tr>\n",
              "      <td>2</td>\n",
              "      <td>1.105100</td>\n",
              "      <td>1.079131</td>\n",
              "      <td>0.428000</td>\n",
              "      <td>0.390884</td>\n",
              "      <td>0.444034</td>\n",
              "      <td>0.423574</td>\n",
              "    </tr>\n",
              "  </tbody>\n",
              "</table><p>"
            ]
          },
          "metadata": {}
        },
        {
          "output_type": "stream",
          "name": "stdout",
          "text": [
            "[[ 0.00046749  0.21961598  0.12087952]\n",
            " [-0.03553335  0.192562    0.15544751]\n",
            " [-0.04315472  0.17604083  0.14022285]\n",
            " ...\n",
            " [-0.05274145  0.07253872  0.12016419]\n",
            " [-0.01645893  0.12051017  0.11495606]\n",
            " [-0.06673492  0.08820871  0.13595843]] [1 1 1 1 0 1 1 0 2 2 0 2 2 1 1 2 2 0 2 1 2 2 0 1 1 0 2 1 1 1 1 1 1 2 2 1 1\n",
            " 1 0 0 0 2 0 0 1 0 2 0 0 0 0 1 0 1 2 0 0 1 2 2 0 1 0 2 2 2 2 1 0 2 2 1 0 2\n",
            " 1 2 1 1 0 1 1 2 1 2 2 1 1 1 1 0 1 2 0 0 0 0 2 0 0 0 0 1 0 1 0 1 2 1 1 2 2\n",
            " 2 2 1 0 2 0 0 2 1 0 2 0 2 2 0 2 1 1 0 0 1 0 1 2 0 2 2 1 0 1 0 1 0 2 2 2 2\n",
            " 2 2 0 0 0 0 2 2 0 2 2 2 0 1 0 0 0 1 2 0 0 1 0 2 2 1 1 2 2 2 0 2 2 0 0 0 1\n",
            " 1 1 1 2 1 1 1 0 1 2 0 0 1 2 2 2 0 1 2 0 0 2 0 1 0 2 1 0 0 1 1 1 1 1 0 1 0\n",
            " 0 2 1 0 0 1 0 2 0 0 2 0 0 1 0 0 2 1 2 1 1 2 0 1 0 0 2 1 2 1 1 0 2 0 2 0 1\n",
            " 0 2 0 0 2 2 2 0 1 0 2 2 0 0 1 0 1 1 1 1 1 2 0 2 1 0 2 2 1 2 2 0 0 0 1 2 2\n",
            " 2 2 0 0 0 2 1 0 1 0 2 2 2 0 0 2 1 0 1 0 2 1 1 2 1 0 1 2 1 0 1 2 2 0 1 0 1\n",
            " 2 1 0 2 0 1 2 2 2 0 1 2 1 0 1 0 2 1 1 0 0 1 1 2 2 0 2 1 0 2 2 1 1 1 0 0 0\n",
            " 0 2 1 1 2 2 2 2 0 0 2 2 2 0 0 2 2 0 0 2 0 1 1 1 0 0 2 2 1 1 0 1 1 1 2 2 2\n",
            " 2 0 0 0 0 2 2 2 2 0 1 1 1 1 2 2 1 0 1 2 0 2 1 0 1 1 0 2 0 2 2 0 2 0 0 0 1\n",
            " 2 0 0 1 2 1 1 0 2 2 0 0 1 0 0 1 2 1 0 1 1 0 1 1 2 2 0 1 0 1 0 1 2 0 0 1 1\n",
            " 0 2 2 0 1 0 2 0 2 2 1 2 0 2 0 0 1 2 2 0 2 1 1 2 2 0 1 0 0 2 1 2 2 0 0 2 2\n",
            " 1 1 0 0 1 1 0 0 0 1 0 2 2 1 2 1 2 0 0 1 2 2 2 1 0 1 0 1 1 0 1 1 1 1 2 0 0\n",
            " 2 1 0 2 0 0 1 2 2 2 0 1 2 2 2 0 0 2 2 2 0 2 2 2 2 0 1 0 1 1 2 2 2 0 0 0 0\n",
            " 0 2 2 0 0 2 1 1 1 2 1 2 2 2 1 2 1 0 2 1 1 0 2 2 0 2 1 1 2 0 2 1 1 0 2 1 1\n",
            " 0 0 1 2 2 0 2 1 2 1 0 1 1 2 0 0 0 1 2 2 2 0 1 1 0 0 2 1 2 0 1 2 0 2 0 2 1\n",
            " 2 0 2 2 0 0 2 1 1 1 1 2 1 0 0 0 2 0 1 1 0 0 2 1 1 0 1 1 2 2 1 0 0 1 1 1 1\n",
            " 1 2 0 1 2 2 0 2 0 0 2 2 2 1 0 1 2 0 0 2 1 1 1 2 1 2 0 1 1 0 2 1 0 1 0 0 0\n",
            " 1 1 0 1 2 2 2 2 1 2]\n"
          ]
        },
        {
          "output_type": "stream",
          "name": "stderr",
          "text": [
            "/usr/local/lib/python3.11/dist-packages/sklearn/metrics/_classification.py:1565: UndefinedMetricWarning: Precision is ill-defined and being set to 0.0 in labels with no predicted samples. Use `zero_division` parameter to control this behavior.\n",
            "  _warn_prf(average, modifier, f\"{metric.capitalize()} is\", len(result))\n"
          ]
        },
        {
          "output_type": "stream",
          "name": "stdout",
          "text": [
            "[[ 0.37310582  0.18517362 -0.09300851]\n",
            " [ 0.2947414   0.15488403 -0.00180222]\n",
            " [ 0.1043917   0.08972649  0.1436004 ]\n",
            " ...\n",
            " [ 0.15666664  0.06193187  0.094532  ]\n",
            " [ 0.30395177  0.07567859 -0.00928094]\n",
            " [ 0.11123661  0.0594676   0.12483993]] [1 1 1 1 0 1 1 0 2 2 0 2 2 1 1 2 2 0 2 1 2 2 0 1 1 0 2 1 1 1 1 1 1 2 2 1 1\n",
            " 1 0 0 0 2 0 0 1 0 2 0 0 0 0 1 0 1 2 0 0 1 2 2 0 1 0 2 2 2 2 1 0 2 2 1 0 2\n",
            " 1 2 1 1 0 1 1 2 1 2 2 1 1 1 1 0 1 2 0 0 0 0 2 0 0 0 0 1 0 1 0 1 2 1 1 2 2\n",
            " 2 2 1 0 2 0 0 2 1 0 2 0 2 2 0 2 1 1 0 0 1 0 1 2 0 2 2 1 0 1 0 1 0 2 2 2 2\n",
            " 2 2 0 0 0 0 2 2 0 2 2 2 0 1 0 0 0 1 2 0 0 1 0 2 2 1 1 2 2 2 0 2 2 0 0 0 1\n",
            " 1 1 1 2 1 1 1 0 1 2 0 0 1 2 2 2 0 1 2 0 0 2 0 1 0 2 1 0 0 1 1 1 1 1 0 1 0\n",
            " 0 2 1 0 0 1 0 2 0 0 2 0 0 1 0 0 2 1 2 1 1 2 0 1 0 0 2 1 2 1 1 0 2 0 2 0 1\n",
            " 0 2 0 0 2 2 2 0 1 0 2 2 0 0 1 0 1 1 1 1 1 2 0 2 1 0 2 2 1 2 2 0 0 0 1 2 2\n",
            " 2 2 0 0 0 2 1 0 1 0 2 2 2 0 0 2 1 0 1 0 2 1 1 2 1 0 1 2 1 0 1 2 2 0 1 0 1\n",
            " 2 1 0 2 0 1 2 2 2 0 1 2 1 0 1 0 2 1 1 0 0 1 1 2 2 0 2 1 0 2 2 1 1 1 0 0 0\n",
            " 0 2 1 1 2 2 2 2 0 0 2 2 2 0 0 2 2 0 0 2 0 1 1 1 0 0 2 2 1 1 0 1 1 1 2 2 2\n",
            " 2 0 0 0 0 2 2 2 2 0 1 1 1 1 2 2 1 0 1 2 0 2 1 0 1 1 0 2 0 2 2 0 2 0 0 0 1\n",
            " 2 0 0 1 2 1 1 0 2 2 0 0 1 0 0 1 2 1 0 1 1 0 1 1 2 2 0 1 0 1 0 1 2 0 0 1 1\n",
            " 0 2 2 0 1 0 2 0 2 2 1 2 0 2 0 0 1 2 2 0 2 1 1 2 2 0 1 0 0 2 1 2 2 0 0 2 2\n",
            " 1 1 0 0 1 1 0 0 0 1 0 2 2 1 2 1 2 0 0 1 2 2 2 1 0 1 0 1 1 0 1 1 1 1 2 0 0\n",
            " 2 1 0 2 0 0 1 2 2 2 0 1 2 2 2 0 0 2 2 2 0 2 2 2 2 0 1 0 1 1 2 2 2 0 0 0 0\n",
            " 0 2 2 0 0 2 1 1 1 2 1 2 2 2 1 2 1 0 2 1 1 0 2 2 0 2 1 1 2 0 2 1 1 0 2 1 1\n",
            " 0 0 1 2 2 0 2 1 2 1 0 1 1 2 0 0 0 1 2 2 2 0 1 1 0 0 2 1 2 0 1 2 0 2 0 2 1\n",
            " 2 0 2 2 0 0 2 1 1 1 1 2 1 0 0 0 2 0 1 1 0 0 2 1 1 0 1 1 2 2 1 0 0 1 1 1 1\n",
            " 1 2 0 1 2 2 0 2 0 0 2 2 2 1 0 1 2 0 0 2 1 1 1 2 1 2 0 1 1 0 2 1 0 1 0 0 0\n",
            " 1 1 0 1 2 2 2 2 1 2]\n"
          ]
        },
        {
          "output_type": "error",
          "ename": "KeyboardInterrupt",
          "evalue": "",
          "traceback": [
            "\u001b[0;31m---------------------------------------------------------------------------\u001b[0m",
            "\u001b[0;31mKeyboardInterrupt\u001b[0m                         Traceback (most recent call last)",
            "\u001b[0;32m<ipython-input-19-2d723e49119e>\u001b[0m in \u001b[0;36m<cell line: 0>\u001b[0;34m()\u001b[0m\n\u001b[1;32m      1\u001b[0m \u001b[0;31m# собственно обучение - автоматически делает логи\u001b[0m\u001b[0;34m\u001b[0m\u001b[0;34m\u001b[0m\u001b[0m\n\u001b[0;32m----> 2\u001b[0;31m \u001b[0mtrainer\u001b[0m\u001b[0;34m.\u001b[0m\u001b[0mtrain\u001b[0m\u001b[0;34m(\u001b[0m\u001b[0;34m)\u001b[0m\u001b[0;34m\u001b[0m\u001b[0;34m\u001b[0m\u001b[0m\n\u001b[0m\u001b[1;32m      3\u001b[0m \u001b[0;34m\u001b[0m\u001b[0m\n\u001b[1;32m      4\u001b[0m \u001b[0;31m# оценим модельку\u001b[0m\u001b[0;34m\u001b[0m\u001b[0;34m\u001b[0m\u001b[0m\n\u001b[1;32m      5\u001b[0m \u001b[0meval_results\u001b[0m \u001b[0;34m=\u001b[0m \u001b[0mtrainer\u001b[0m\u001b[0;34m.\u001b[0m\u001b[0mevaluate\u001b[0m\u001b[0;34m(\u001b[0m\u001b[0;34m)\u001b[0m\u001b[0;34m\u001b[0m\u001b[0;34m\u001b[0m\u001b[0m\n",
            "\u001b[0;32m/usr/local/lib/python3.11/dist-packages/transformers/trainer.py\u001b[0m in \u001b[0;36mtrain\u001b[0;34m(self, resume_from_checkpoint, trial, ignore_keys_for_eval, **kwargs)\u001b[0m\n\u001b[1;32m   2169\u001b[0m                 \u001b[0mhf_hub_utils\u001b[0m\u001b[0;34m.\u001b[0m\u001b[0menable_progress_bars\u001b[0m\u001b[0;34m(\u001b[0m\u001b[0;34m)\u001b[0m\u001b[0;34m\u001b[0m\u001b[0;34m\u001b[0m\u001b[0m\n\u001b[1;32m   2170\u001b[0m         \u001b[0;32melse\u001b[0m\u001b[0;34m:\u001b[0m\u001b[0;34m\u001b[0m\u001b[0;34m\u001b[0m\u001b[0m\n\u001b[0;32m-> 2171\u001b[0;31m             return inner_training_loop(\n\u001b[0m\u001b[1;32m   2172\u001b[0m                 \u001b[0margs\u001b[0m\u001b[0;34m=\u001b[0m\u001b[0margs\u001b[0m\u001b[0;34m,\u001b[0m\u001b[0;34m\u001b[0m\u001b[0;34m\u001b[0m\u001b[0m\n\u001b[1;32m   2173\u001b[0m                 \u001b[0mresume_from_checkpoint\u001b[0m\u001b[0;34m=\u001b[0m\u001b[0mresume_from_checkpoint\u001b[0m\u001b[0;34m,\u001b[0m\u001b[0;34m\u001b[0m\u001b[0;34m\u001b[0m\u001b[0m\n",
            "\u001b[0;32m/usr/local/lib/python3.11/dist-packages/transformers/trainer.py\u001b[0m in \u001b[0;36m_inner_training_loop\u001b[0;34m(self, batch_size, args, resume_from_checkpoint, trial, ignore_keys_for_eval)\u001b[0m\n\u001b[1;32m   2534\u001b[0m                         \u001b[0margs\u001b[0m\u001b[0;34m.\u001b[0m\u001b[0mlogging_nan_inf_filter\u001b[0m\u001b[0;34m\u001b[0m\u001b[0;34m\u001b[0m\u001b[0m\n\u001b[1;32m   2535\u001b[0m                         \u001b[0;32mand\u001b[0m \u001b[0;32mnot\u001b[0m \u001b[0mis_torch_xla_available\u001b[0m\u001b[0;34m(\u001b[0m\u001b[0;34m)\u001b[0m\u001b[0;34m\u001b[0m\u001b[0;34m\u001b[0m\u001b[0m\n\u001b[0;32m-> 2536\u001b[0;31m                         \u001b[0;32mand\u001b[0m \u001b[0;34m(\u001b[0m\u001b[0mtorch\u001b[0m\u001b[0;34m.\u001b[0m\u001b[0misnan\u001b[0m\u001b[0;34m(\u001b[0m\u001b[0mtr_loss_step\u001b[0m\u001b[0;34m)\u001b[0m \u001b[0;32mor\u001b[0m \u001b[0mtorch\u001b[0m\u001b[0;34m.\u001b[0m\u001b[0misinf\u001b[0m\u001b[0;34m(\u001b[0m\u001b[0mtr_loss_step\u001b[0m\u001b[0;34m)\u001b[0m\u001b[0;34m)\u001b[0m\u001b[0;34m\u001b[0m\u001b[0;34m\u001b[0m\u001b[0m\n\u001b[0m\u001b[1;32m   2537\u001b[0m                     ):\n\u001b[1;32m   2538\u001b[0m                         \u001b[0;31m# if loss is nan or inf simply add the average of previous logged losses\u001b[0m\u001b[0;34m\u001b[0m\u001b[0;34m\u001b[0m\u001b[0m\n",
            "\u001b[0;31mKeyboardInterrupt\u001b[0m: "
          ]
        }
      ]
    },
    {
      "cell_type": "code",
      "source": [
        "def eval_model(model, data_loader, device):\n",
        "  model = model.eval()\n",
        "\n",
        "  all_preds = torch.tensor([], device=device)\n",
        "  all_trues = torch.tensor([], device=device)\n",
        "\n",
        "  with torch.no_grad():\n",
        "    for d in data_loader:\n",
        "      input_ids = d[\"input_ids\"].to(device)\n",
        "      attention_mask = d[\"attention_mask\"].to(device)\n",
        "      targets = d[\"labels\"].to(device)\n",
        "\n",
        "      outputs = model(\n",
        "        input_ids=input_ids,\n",
        "        attention_mask=attention_mask\n",
        "      )\n",
        "      #print(outputs)\n",
        "      preds = torch.argmax(outputs['logits'], axis=-1)\n",
        "      all_preds = torch.cat((all_preds, preds), -1)\n",
        "      all_trues = torch.cat((all_trues, targets), -1)\n",
        "\n",
        "  precision, recall, f1, _ = precision_recall_fscore_support(all_trues.cpu(), all_preds.cpu(), average='macro')\n",
        "  acc = accuracy_score(all_trues.cpu(), all_preds.cpu())\n",
        "  return {\n",
        "      'accuracy': acc,\n",
        "      'f1': f1,\n",
        "      'precision': precision,\n",
        "      'recall': recall\n",
        "  }"
      ],
      "metadata": {
        "id": "-1lOXaUYM7xh"
      },
      "execution_count": null,
      "outputs": []
    },
    {
      "cell_type": "code",
      "source": [
        "test = eval_model(model, test_loader, device)"
      ],
      "metadata": {
        "id": "6eRA5k4SOV0P"
      },
      "execution_count": null,
      "outputs": []
    },
    {
      "cell_type": "code",
      "source": [
        "test"
      ],
      "metadata": {
        "colab": {
          "base_uri": "https://localhost:8080/"
        },
        "id": "HVHcBokPZ-cE",
        "outputId": "9fbd1787-0cb5-4e76-cf9a-33e9befa3535"
      },
      "execution_count": null,
      "outputs": [
        {
          "output_type": "execute_result",
          "data": {
            "text/plain": [
              "{'accuracy': 0.498,\n",
              " 'f1': 0.49186082461483105,\n",
              " 'precision': 0.4945688694129702,\n",
              " 'recall': 0.498}"
            ]
          },
          "metadata": {},
          "execution_count": 55
        }
      ]
    },
    {
      "cell_type": "code",
      "source": [
        "precision, recall, f1, _ = precision_recall_fscore_support(torch.tensor(ds['test']['label']), torch.zeros(1500), average='macro')\n",
        "acc = accuracy_score(torch.tensor(ds['test']['label']), torch.zeros(1500))\n",
        "print({\n",
        "      'accuracy': acc,\n",
        "      'f1': f1,\n",
        "      'precision': precision,\n",
        "      'recall': recall})"
      ],
      "metadata": {
        "colab": {
          "base_uri": "https://localhost:8080/"
        },
        "id": "qO_b4idZgtDK",
        "outputId": "750138b8-4581-48ad-c11a-3dca455454e6"
      },
      "execution_count": null,
      "outputs": [
        {
          "output_type": "stream",
          "name": "stdout",
          "text": [
            "{'accuracy': 0.3333333333333333, 'f1': 0.16666666666666666, 'precision': 0.1111111111111111, 'recall': 0.3333333333333333}\n"
          ]
        },
        {
          "output_type": "stream",
          "name": "stderr",
          "text": [
            "/usr/local/lib/python3.11/dist-packages/sklearn/metrics/_classification.py:1565: UndefinedMetricWarning: Precision is ill-defined and being set to 0.0 in labels with no predicted samples. Use `zero_division` parameter to control this behavior.\n",
            "  _warn_prf(average, modifier, f\"{metric.capitalize()} is\", len(result))\n"
          ]
        }
      ]
    },
    {
      "cell_type": "code",
      "source": [
        "from google.colab import drive\n",
        "drive.mount('/content/drive', force_remount=True) # Подключите Google Drive\n",
        "!cp -r /content/results /content/drive/MyDrive/чекпоинты # Замените на ваши пути"
      ],
      "metadata": {
        "colab": {
          "base_uri": "https://localhost:8080/"
        },
        "id": "N4T8djGcqFBF",
        "outputId": "6ad86cd8-4a18-443f-8676-9cdeb9bc18d6"
      },
      "execution_count": null,
      "outputs": [
        {
          "output_type": "stream",
          "name": "stdout",
          "text": [
            "Mounted at /content/drive\n"
          ]
        }
      ]
    }
  ],
  "metadata": {
    "colab": {
      "provenance": [],
      "gpuType": "T4"
    },
    "kernelspec": {
      "display_name": "Python 3",
      "name": "python3"
    },
    "language_info": {
      "name": "python"
    },
    "accelerator": "GPU",
    "widgets": {
      "application/vnd.jupyter.widget-state+json": {
        "585abdd0e80d4897a49ac1976d5c9614": {
          "model_module": "@jupyter-widgets/controls",
          "model_name": "HBoxModel",
          "model_module_version": "1.5.0",
          "state": {
            "_dom_classes": [],
            "_model_module": "@jupyter-widgets/controls",
            "_model_module_version": "1.5.0",
            "_model_name": "HBoxModel",
            "_view_count": null,
            "_view_module": "@jupyter-widgets/controls",
            "_view_module_version": "1.5.0",
            "_view_name": "HBoxView",
            "box_style": "",
            "children": [
              "IPY_MODEL_9362195787a34c39bc1fa2c1150062c4",
              "IPY_MODEL_96c4b8d40e5248d497d8fd923d5844ea",
              "IPY_MODEL_3457d1e7c90141a2adea5e4301c24d6d"
            ],
            "layout": "IPY_MODEL_c6b55ed62c854bd4b7475723d406ba0a"
          }
        },
        "9362195787a34c39bc1fa2c1150062c4": {
          "model_module": "@jupyter-widgets/controls",
          "model_name": "HTMLModel",
          "model_module_version": "1.5.0",
          "state": {
            "_dom_classes": [],
            "_model_module": "@jupyter-widgets/controls",
            "_model_module_version": "1.5.0",
            "_model_name": "HTMLModel",
            "_view_count": null,
            "_view_module": "@jupyter-widgets/controls",
            "_view_module_version": "1.5.0",
            "_view_name": "HTMLView",
            "description": "",
            "description_tooltip": null,
            "layout": "IPY_MODEL_6a215da19be342e6b1febf7604d228b5",
            "placeholder": "​",
            "style": "IPY_MODEL_b71432c2067246a8aa869b9e0ce0461c",
            "value": "model.safetensors: 100%"
          }
        },
        "96c4b8d40e5248d497d8fd923d5844ea": {
          "model_module": "@jupyter-widgets/controls",
          "model_name": "FloatProgressModel",
          "model_module_version": "1.5.0",
          "state": {
            "_dom_classes": [],
            "_model_module": "@jupyter-widgets/controls",
            "_model_module_version": "1.5.0",
            "_model_name": "FloatProgressModel",
            "_view_count": null,
            "_view_module": "@jupyter-widgets/controls",
            "_view_module_version": "1.5.0",
            "_view_name": "ProgressView",
            "bar_style": "success",
            "description": "",
            "description_tooltip": null,
            "layout": "IPY_MODEL_f708b15964f644ec96a69b4c09f85d70",
            "max": 440449768,
            "min": 0,
            "orientation": "horizontal",
            "style": "IPY_MODEL_c2dd0af258a44377937a09b0cda3de52",
            "value": 440449768
          }
        },
        "3457d1e7c90141a2adea5e4301c24d6d": {
          "model_module": "@jupyter-widgets/controls",
          "model_name": "HTMLModel",
          "model_module_version": "1.5.0",
          "state": {
            "_dom_classes": [],
            "_model_module": "@jupyter-widgets/controls",
            "_model_module_version": "1.5.0",
            "_model_name": "HTMLModel",
            "_view_count": null,
            "_view_module": "@jupyter-widgets/controls",
            "_view_module_version": "1.5.0",
            "_view_name": "HTMLView",
            "description": "",
            "description_tooltip": null,
            "layout": "IPY_MODEL_1a0547998b0543d998bb11a676542a7e",
            "placeholder": "​",
            "style": "IPY_MODEL_33f6c86c419241eeb21012c611ace2a8",
            "value": " 440M/440M [00:06&lt;00:00, 95.3MB/s]"
          }
        },
        "c6b55ed62c854bd4b7475723d406ba0a": {
          "model_module": "@jupyter-widgets/base",
          "model_name": "LayoutModel",
          "model_module_version": "1.2.0",
          "state": {
            "_model_module": "@jupyter-widgets/base",
            "_model_module_version": "1.2.0",
            "_model_name": "LayoutModel",
            "_view_count": null,
            "_view_module": "@jupyter-widgets/base",
            "_view_module_version": "1.2.0",
            "_view_name": "LayoutView",
            "align_content": null,
            "align_items": null,
            "align_self": null,
            "border": null,
            "bottom": null,
            "display": null,
            "flex": null,
            "flex_flow": null,
            "grid_area": null,
            "grid_auto_columns": null,
            "grid_auto_flow": null,
            "grid_auto_rows": null,
            "grid_column": null,
            "grid_gap": null,
            "grid_row": null,
            "grid_template_areas": null,
            "grid_template_columns": null,
            "grid_template_rows": null,
            "height": null,
            "justify_content": null,
            "justify_items": null,
            "left": null,
            "margin": null,
            "max_height": null,
            "max_width": null,
            "min_height": null,
            "min_width": null,
            "object_fit": null,
            "object_position": null,
            "order": null,
            "overflow": null,
            "overflow_x": null,
            "overflow_y": null,
            "padding": null,
            "right": null,
            "top": null,
            "visibility": null,
            "width": null
          }
        },
        "6a215da19be342e6b1febf7604d228b5": {
          "model_module": "@jupyter-widgets/base",
          "model_name": "LayoutModel",
          "model_module_version": "1.2.0",
          "state": {
            "_model_module": "@jupyter-widgets/base",
            "_model_module_version": "1.2.0",
            "_model_name": "LayoutModel",
            "_view_count": null,
            "_view_module": "@jupyter-widgets/base",
            "_view_module_version": "1.2.0",
            "_view_name": "LayoutView",
            "align_content": null,
            "align_items": null,
            "align_self": null,
            "border": null,
            "bottom": null,
            "display": null,
            "flex": null,
            "flex_flow": null,
            "grid_area": null,
            "grid_auto_columns": null,
            "grid_auto_flow": null,
            "grid_auto_rows": null,
            "grid_column": null,
            "grid_gap": null,
            "grid_row": null,
            "grid_template_areas": null,
            "grid_template_columns": null,
            "grid_template_rows": null,
            "height": null,
            "justify_content": null,
            "justify_items": null,
            "left": null,
            "margin": null,
            "max_height": null,
            "max_width": null,
            "min_height": null,
            "min_width": null,
            "object_fit": null,
            "object_position": null,
            "order": null,
            "overflow": null,
            "overflow_x": null,
            "overflow_y": null,
            "padding": null,
            "right": null,
            "top": null,
            "visibility": null,
            "width": null
          }
        },
        "b71432c2067246a8aa869b9e0ce0461c": {
          "model_module": "@jupyter-widgets/controls",
          "model_name": "DescriptionStyleModel",
          "model_module_version": "1.5.0",
          "state": {
            "_model_module": "@jupyter-widgets/controls",
            "_model_module_version": "1.5.0",
            "_model_name": "DescriptionStyleModel",
            "_view_count": null,
            "_view_module": "@jupyter-widgets/base",
            "_view_module_version": "1.2.0",
            "_view_name": "StyleView",
            "description_width": ""
          }
        },
        "f708b15964f644ec96a69b4c09f85d70": {
          "model_module": "@jupyter-widgets/base",
          "model_name": "LayoutModel",
          "model_module_version": "1.2.0",
          "state": {
            "_model_module": "@jupyter-widgets/base",
            "_model_module_version": "1.2.0",
            "_model_name": "LayoutModel",
            "_view_count": null,
            "_view_module": "@jupyter-widgets/base",
            "_view_module_version": "1.2.0",
            "_view_name": "LayoutView",
            "align_content": null,
            "align_items": null,
            "align_self": null,
            "border": null,
            "bottom": null,
            "display": null,
            "flex": null,
            "flex_flow": null,
            "grid_area": null,
            "grid_auto_columns": null,
            "grid_auto_flow": null,
            "grid_auto_rows": null,
            "grid_column": null,
            "grid_gap": null,
            "grid_row": null,
            "grid_template_areas": null,
            "grid_template_columns": null,
            "grid_template_rows": null,
            "height": null,
            "justify_content": null,
            "justify_items": null,
            "left": null,
            "margin": null,
            "max_height": null,
            "max_width": null,
            "min_height": null,
            "min_width": null,
            "object_fit": null,
            "object_position": null,
            "order": null,
            "overflow": null,
            "overflow_x": null,
            "overflow_y": null,
            "padding": null,
            "right": null,
            "top": null,
            "visibility": null,
            "width": null
          }
        },
        "c2dd0af258a44377937a09b0cda3de52": {
          "model_module": "@jupyter-widgets/controls",
          "model_name": "ProgressStyleModel",
          "model_module_version": "1.5.0",
          "state": {
            "_model_module": "@jupyter-widgets/controls",
            "_model_module_version": "1.5.0",
            "_model_name": "ProgressStyleModel",
            "_view_count": null,
            "_view_module": "@jupyter-widgets/base",
            "_view_module_version": "1.2.0",
            "_view_name": "StyleView",
            "bar_color": null,
            "description_width": ""
          }
        },
        "1a0547998b0543d998bb11a676542a7e": {
          "model_module": "@jupyter-widgets/base",
          "model_name": "LayoutModel",
          "model_module_version": "1.2.0",
          "state": {
            "_model_module": "@jupyter-widgets/base",
            "_model_module_version": "1.2.0",
            "_model_name": "LayoutModel",
            "_view_count": null,
            "_view_module": "@jupyter-widgets/base",
            "_view_module_version": "1.2.0",
            "_view_name": "LayoutView",
            "align_content": null,
            "align_items": null,
            "align_self": null,
            "border": null,
            "bottom": null,
            "display": null,
            "flex": null,
            "flex_flow": null,
            "grid_area": null,
            "grid_auto_columns": null,
            "grid_auto_flow": null,
            "grid_auto_rows": null,
            "grid_column": null,
            "grid_gap": null,
            "grid_row": null,
            "grid_template_areas": null,
            "grid_template_columns": null,
            "grid_template_rows": null,
            "height": null,
            "justify_content": null,
            "justify_items": null,
            "left": null,
            "margin": null,
            "max_height": null,
            "max_width": null,
            "min_height": null,
            "min_width": null,
            "object_fit": null,
            "object_position": null,
            "order": null,
            "overflow": null,
            "overflow_x": null,
            "overflow_y": null,
            "padding": null,
            "right": null,
            "top": null,
            "visibility": null,
            "width": null
          }
        },
        "33f6c86c419241eeb21012c611ace2a8": {
          "model_module": "@jupyter-widgets/controls",
          "model_name": "DescriptionStyleModel",
          "model_module_version": "1.5.0",
          "state": {
            "_model_module": "@jupyter-widgets/controls",
            "_model_module_version": "1.5.0",
            "_model_name": "DescriptionStyleModel",
            "_view_count": null,
            "_view_module": "@jupyter-widgets/base",
            "_view_module_version": "1.2.0",
            "_view_name": "StyleView",
            "description_width": ""
          }
        }
      }
    }
  },
  "nbformat": 4,
  "nbformat_minor": 0
}