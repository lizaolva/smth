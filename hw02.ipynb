{
 "cells": [
  {
   "cell_type": "markdown",
   "id": "9a4d80af-d232-43b9-a24d-33fca4dab435",
   "metadata": {},
   "source": [
    "Единственная задача: обобщить написанный на семинаре код и сымитировать работу одного большого отдела ABBYY, в котором есть три маленьких подотдела с лингвистами, программистами и комплингом. То есть, что у нас должно быть реализовано:\n",
    "\n",
    "- родительский класс \"работник\"\n",
    "- базовые классы \"лингвист\", \"программист\" и \"компьютерный лингвист\"\n",
    "- у всех методы work\n",
    "- классы \"босс_лингвист\", \"босс_программист\" и \"босс_кл\", которые могут наследовать (с подмешиванием) от общего класса \"босс\"\n",
    "- у боссов в атрибутах сидят их подчиненные\n",
    "- босс подотдела получает квесты от менеджера главного отдела и принуждает сотрудников работать\n",
    "- в главном отделе есть метод для выдачи квестов\n",
    "- соответственно, используем как наследование, так и композицию с делегированием"
   ]
  },
  {
   "cell_type": "code",
   "execution_count": 46,
   "id": "4615e11a-f081-41b3-a3eb-d8519e59ef4c",
   "metadata": {},
   "outputs": [],
   "source": [
    "from time import sleep\n",
    "import random\n",
    "\n",
    "class Main():\n",
    "    def __init__(self):\n",
    "        self = self\n",
    "    def generate(self):\n",
    "        hours = random.uniform(1, 6)\n",
    "        return hours\n",
    "    \n",
    "class Worker():\n",
    "    def __init__(self, name, surname):\n",
    "        self.name = name\n",
    "        self.surname = surname\n",
    "        self.__salary = 350  # _Employee__salary\n",
    "        self.bankaccount = 0\n",
    "    def work(self, hours):\n",
    "        sleep(hours)\n",
    "        self.bankaccount += self.__salary * hours\n",
    "\n",
    "class Manager(Worker):\n",
    "    def __init__(self, name, surname, bosses):\n",
    "        Worker.__init__(self, name, surname)\n",
    "        self.main = Main()\n",
    "        self.bosses = bosses\n",
    "    def give_work(self):\n",
    "        hours = self.main.generate()\n",
    "        boss = random.choice(self.bosses)\n",
    "        boss.make_work(hours)\n",
    "        print(f'i gave work to {boss} for {hours} hours')\n"
   ]
  },
  {
   "cell_type": "code",
   "execution_count": 41,
   "id": "468de77c",
   "metadata": {},
   "outputs": [],
   "source": [
    "class Linguist(Worker):\n",
    "    def __init__(self, name, surname):\n",
    "        Worker.__init__(self, name, surname)\n",
    "\n",
    "class Ingineer(Worker):\n",
    "    def __init__(self, name, surname):\n",
    "        Worker.__init__(self, name, surname)\n",
    "\n",
    "class CompLinguist(Worker):\n",
    "    def __init__(self, name, surname):\n",
    "        Worker.__init__(self, name, surname)"
   ]
  },
  {
   "cell_type": "code",
   "execution_count": 40,
   "id": "301472d2",
   "metadata": {},
   "outputs": [],
   "source": [
    "class Boss(Worker):\n",
    "    def __init__(self, name, surname, slaves):\n",
    "        Worker.__init__(self, name, surname)\n",
    "        self.__salary = 500\n",
    "        self.bankaccount = 0\n",
    "        self.slaves = slaves\n",
    "    def make_work(self, hours):\n",
    "        slave = random.choice(self.slaves)\n",
    "        slave.work(hours)\n",
    "        print(f'i made {slave} work for {hours} hours')\n",
    "        print(f'her bankaccout is {slave.bankaccount} dollars')\n",
    "\n",
    "class LingBoss(Boss, Linguist):\n",
    "    def __init__(self, name, surname, slaves):\n",
    "        Boss.__init__(self, name, surname, slaves)\n",
    "        Linguist.__init__(self, name, surname)\n",
    "    \n",
    "class ProgBoss(Boss, Ingineer):\n",
    "    def __init__(self, name, surname, slaves):\n",
    "        Boss.__init__(self, name, surname, slaves)\n",
    "        Ingineer.__init__(self, name, surname)\n",
    "\n",
    "class CLBoss(Boss, CompLinguist):\n",
    "    def __init__(self, name, surname, slaves):\n",
    "        Boss.__init__(self, name, surname, slaves)\n",
    "        CompLinguist.__init__(self, name, surname)"
   ]
  },
  {
   "cell_type": "code",
   "execution_count": 47,
   "id": "c3fb15e9",
   "metadata": {},
   "outputs": [
    {
     "name": "stdout",
     "output_type": "stream",
     "text": [
      "my bankaccout is 382.31911666308537 dollars\n",
      "i made <__main__.Linguist object at 0x0000022A63FD3910> work for 1.092340333323101 hours\n",
      "her bankaccout is 382.31911666308537 dollars\n",
      "i gave work to <__main__.LingBoss object at 0x0000022A63FD3D60> for 1.092340333323101 hours\n"
     ]
    }
   ],
   "source": [
    "ling = Linguist('liza', 'oleynikova')\n",
    "boss = LingBoss('alexandra', 'ivoylova', [ling])\n",
    "manager = Manager('dasha', 'konovalova', [boss])\n",
    "manager.give_work()\n"
   ]
  }
 ],
 "metadata": {
  "kernelspec": {
   "display_name": "Python 3 (ipykernel)",
   "language": "python",
   "name": "python3"
  },
  "language_info": {
   "codemirror_mode": {
    "name": "ipython",
    "version": 3
   },
   "file_extension": ".py",
   "mimetype": "text/x-python",
   "name": "python",
   "nbconvert_exporter": "python",
   "pygments_lexer": "ipython3",
   "version": "3.10.2"
  }
 },
 "nbformat": 4,
 "nbformat_minor": 5
}
