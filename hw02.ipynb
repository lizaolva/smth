{
 "cells": [
  {
   "cell_type": "markdown",
   "id": "521c0845-4c9a-45f5-9079-5b795f0356ec",
   "metadata": {},
   "source": [
    "### Задача 1 (10 баллов)\n",
    "\n",
    "Вы разрабатываете игру, в которой главный герой — археолог и исследователь древних цивилизаций. Его цель — собрать и исследовать артефакты, которые разбросаны по разным древним руинам. Ваша задача — создать класс ArtifactCollector, который будет управлять коллекцией артефактов. Эта коллекция должна быть итерируемой, поддерживать сортировку и фильтрацию артефактов по разным критериям.\n",
    "\n",
    "Требования:\n",
    "\n",
    "Создайте класс Artifact, который представляет артефакт. Артефакт должен иметь следующие свойства:\n",
    "\n",
    "- name — название артефакта.\n",
    "- age — возраст артефакта (в годах).\n",
    "- origin — происхождение артефакта (например, \"Egypt\", \"Greece\", \"Aztec\").\n",
    "- rarity — редкость артефакта (например, \"common\", \"rare\", \"legendary\").\n",
    "\n",
    "Создайте класс ArtifactCollector, который управляет коллекцией артефактов. Коллекция должна:\n",
    "\n",
    "- Поддерживать добавление артефактов.\n",
    "- Быть итерируемой (по умолчанию артефакты выводятся в порядке добавления).\n",
    "- Поддерживать сортировку по возрасту артефактов с помощью метода sort_by_age().\n",
    "- Поддерживать фильтрацию артефактов по происхождению с помощью метода filter_by_origin(origin).\n",
    "- Поддерживать фильтрацию по редкости с помощью метода filter_by_rarity(rarity).\n",
    "- Метод reversed должен возвращать артефакты в обратном порядке (например, чтобы археолог мог просмотреть последние найденные).\n",
    "\n",
    "Дополнительное задание (+балл):\n",
    "\n",
    "- Реализуйте возможность находить самый древний артефакт с помощью метода find_oldest().\n",
    "- Добавьте возможность находить артефакт с определённым именем через метод find_by_name(name).\n",
    "\n",
    "Пример использования:\n",
    "\n",
    "\n",
    "#### Создаем артефакты\n",
    "\n",
    "    mask = Artifact(\"Golden Mask\", 3000, \"Egypt\", \"legendary\")\n",
    "    vase = Artifact(\"Ancient Vase\", 2000, \"Greece\", \"rare\")\n",
    "    statue = Artifact(\"Stone Statue\", 1500, \"Aztec\", \"common\")\n",
    "    amulet = Artifact(\"Amulet of Anubis\", 5000, \"Egypt\", \"legendary\")\n",
    "\n",
    "#### Создаем коллекционера артефактов и добавляем в коллекцию\n",
    "\n",
    "    collector = ArtifactCollector()\n",
    "    collector.add_artifact(mask)\n",
    "    collector.add_artifact(vase)\n",
    "    collector.add_artifact(statue)\n",
    "    collector.add_artifact(amulet)\n",
    "\n",
    "#### Итерация по коллекции\n",
    "\n",
    "    print(\"Все артефакты:\")\n",
    "    for artifact in collector:\n",
    "        print(artifact.name)\n",
    "\n",
    "#### Сортировка по возрасту\n",
    "\n",
    "    print(\"\\nАртефакты по возрасту:\")\n",
    "    collector.sort_by_age()\n",
    "    for artifact in collector:\n",
    "        print(f\"{artifact.name}: {artifact.age} лет\")\n",
    "\n",
    "#### Фильтрация по происхождению\n",
    "\n",
    "    print(\"\\nАртефакты из Египта:\")\n",
    "    for artifact in collector.filter_by_origin(\"Egypt\"):\n",
    "        print(artifact.name)\n",
    "\n",
    "#### Самый древний артефакт\n",
    "\n",
    "    oldest = collector.find_oldest()\n",
    "    print(f\"\\nСамый древний артефакт: {oldest.name} ({oldest.age} лет)\")\n",
    "\n",
    "#### Поиск по имени\n",
    "\n",
    "    artifact = collector.find_by_name(\"Ancient Vase\")\n",
    "    if artifact:\n",
    "        print(f\"\\nАртефакт найден: {artifact.name}, {artifact.age} лет, {artifact.origin}\")\n",
    "    else:\n",
    "        print(\"\\nАртефакт не найден\")\n",
    "\n",
    "#### Обратный порядок итерации\n",
    "\n",
    "    print(\"\\nАртефакты в обратном порядке:\")\n",
    "    for artifact in reversed(collector):\n",
    "        print(artifact.name)\n",
    "        \n",
    "Подсказки:\n",
    "\n",
    "Магические методы \\_\\_iter\\_\\_ и \\_\\_reversed\\_\\_ помогут сделать коллекцию итерируемой.\n",
    "\n",
    "Для сортировки и фильтрации используйте генераторы или списковые включения.\n",
    "\n",
    "Для поиска используйте стандартные методы работы с коллекциями (max(), min())."
   ]
  },
  {
   "cell_type": "code",
   "execution_count": 1,
   "id": "78551ac7-c386-4e14-b714-3ea9a6dd71b2",
   "metadata": {},
   "outputs": [],
   "source": [
    "class Artifact:\n",
    "    def __init__(self, name, age, origin, rarity):\n",
    "        self.name = name\n",
    "        self.age = age\n",
    "        self.origin = origin\n",
    "        self.rarity = rarity"
   ]
  },
  {
   "cell_type": "code",
   "execution_count": 2,
   "id": "445cb0ef",
   "metadata": {},
   "outputs": [],
   "source": [
    "mask = Artifact(\"Golden Mask\", 3000, \"Egypt\", \"legendary\")\n",
    "vase = Artifact(\"Ancient Vase\", 2000, \"Greece\", \"rare\")\n",
    "statue = Artifact(\"Stone Statue\", 1500, \"Aztec\", \"common\")\n",
    "amulet = Artifact(\"Amulet of Anubis\", 5000, \"Egypt\", \"legendary\")"
   ]
  },
  {
   "cell_type": "code",
   "execution_count": 28,
   "id": "7b08cc9d",
   "metadata": {},
   "outputs": [],
   "source": [
    "def custom(item):\n",
    "    if item.rarity == 'common':\n",
    "        return 1\n",
    "    elif item.rarity == 'rare':\n",
    "        return 2\n",
    "    else:\n",
    "        return 3"
   ]
  },
  {
   "cell_type": "code",
   "execution_count": 54,
   "id": "2cf6934e",
   "metadata": {},
   "outputs": [],
   "source": [
    "class ArtifactCollector:\n",
    "    def __init__(self):\n",
    "        self.collection = []\n",
    "    def __iter__(self):\n",
    "        for i in range(0, len(self.collection)):\n",
    "            yield self.collection[i]\n",
    "    def __reversed__(self):\n",
    "        return self.collection[::-1]\n",
    "    def add_artifact(self, art):\n",
    "        self.collection.append(art)\n",
    "    def sort_by_age(self):\n",
    "        res = sorted(self.collection, key = lambda art: art.age)\n",
    "        return res\n",
    "    def filter_by_origin(self, origin):\n",
    "        res = sorted(self.collection, key = lambda art: art.rarity)\n",
    "        return res\n",
    "    def sort_by_rarity(self):\n",
    "        res = sorted(self.collection, key = lambda art: custom(art))\n",
    "        return res\n",
    "        '''здесь у меня возникла проблема: я могу просто отсортировать по ключу rarity, но я хочу чтобы сортировка была от common к legendary.\n",
    "        я могу собрать их в списки, а потом списки склеить, что я не хочу создавать лишние списки. \n",
    "        я уверена, что тут можно использовать какую-нибудь функцию посложнее в качестве ключа, но какую?'''\n",
    "    def find_oldest(self):\n",
    "        return max(self.collection, key = lambda art: art.age)\n",
    "    def find_by_name(self, name):\n",
    "        for art in self.collection:\n",
    "            if art.name == name:\n",
    "                return art"
   ]
  },
  {
   "cell_type": "code",
   "execution_count": 55,
   "id": "6f6e7fd9",
   "metadata": {},
   "outputs": [],
   "source": [
    "collector = ArtifactCollector()\n",
    "collector.add_artifact(mask)\n",
    "collector.add_artifact(vase)\n",
    "collector.add_artifact(statue)\n",
    "collector.add_artifact(amulet)"
   ]
  },
  {
   "cell_type": "code",
   "execution_count": 47,
   "id": "fff4a2e1",
   "metadata": {},
   "outputs": [
    {
     "name": "stdout",
     "output_type": "stream",
     "text": [
      "Все артефакты:\n",
      "Golden Mask legendary\n",
      "Ancient Vase rare\n",
      "Stone Statue common\n",
      "Amulet of Anubis legendary\n"
     ]
    }
   ],
   "source": [
    "print(\"Все артефакты:\")\n",
    "for artifact in collector:\n",
    "    print(artifact.name, artifact.rarity)"
   ]
  },
  {
   "cell_type": "code",
   "execution_count": 48,
   "id": "1f27abee",
   "metadata": {},
   "outputs": [
    {
     "name": "stdout",
     "output_type": "stream",
     "text": [
      "\n",
      "Артефакты в обратном порядке:\n",
      "Amulet of Anubis\n",
      "Stone Statue\n",
      "Ancient Vase\n",
      "Golden Mask\n"
     ]
    }
   ],
   "source": [
    "print(\"\\nАртефакты в обратном порядке:\")\n",
    "for artifact in reversed(collector):\n",
    "    print(artifact.name)"
   ]
  },
  {
   "cell_type": "code",
   "execution_count": 20,
   "id": "f97d7e50",
   "metadata": {},
   "outputs": [
    {
     "name": "stdout",
     "output_type": "stream",
     "text": [
      "\n",
      "Артефакты по возрасту:\n",
      "Golden Mask: 3000 лет\n",
      "Ancient Vase: 2000 лет\n",
      "Stone Statue: 1500 лет\n"
     ]
    }
   ],
   "source": [
    "print(\"\\nАртефакты по возрасту:\")\n",
    "collector.sort_by_age()\n",
    "for artifact in collector:\n",
    "    print(f\"{artifact.name}: {artifact.age} лет\")"
   ]
  },
  {
   "cell_type": "code",
   "execution_count": 32,
   "id": "d595d199",
   "metadata": {},
   "outputs": [
    {
     "ename": "TypeError",
     "evalue": "'int' object is not reversible",
     "output_type": "error",
     "traceback": [
      "\u001b[0;31m---------------------------------------------------------------------------\u001b[0m",
      "\u001b[0;31mTypeError\u001b[0m                                 Traceback (most recent call last)",
      "Cell \u001b[0;32mIn[32], line 1\u001b[0m\n\u001b[0;32m----> 1\u001b[0m \u001b[43mcollector\u001b[49m\u001b[38;5;241;43m.\u001b[39;49m\u001b[43msort_by_rarity\u001b[49m\u001b[43m(\u001b[49m\u001b[43m)\u001b[49m\n\u001b[1;32m      2\u001b[0m \u001b[38;5;28;01mfor\u001b[39;00m artifact \u001b[38;5;129;01min\u001b[39;00m collector:\n\u001b[1;32m      3\u001b[0m     \u001b[38;5;28mprint\u001b[39m(\u001b[38;5;124mf\u001b[39m\u001b[38;5;124m\"\u001b[39m\u001b[38;5;132;01m{\u001b[39;00martifact\u001b[38;5;241m.\u001b[39mname\u001b[38;5;132;01m}\u001b[39;00m\u001b[38;5;124m: \u001b[39m\u001b[38;5;132;01m{\u001b[39;00martifact\u001b[38;5;241m.\u001b[39mrarity\u001b[38;5;132;01m}\u001b[39;00m\u001b[38;5;124m\"\u001b[39m)\n",
      "Cell \u001b[0;32mIn[29], line 16\u001b[0m, in \u001b[0;36mArtifactCollector.sort_by_rarity\u001b[0;34m(self)\u001b[0m\n\u001b[1;32m     15\u001b[0m \u001b[38;5;28;01mdef\u001b[39;00m \u001b[38;5;21msort_by_rarity\u001b[39m(\u001b[38;5;28mself\u001b[39m):\n\u001b[0;32m---> 16\u001b[0m     res \u001b[38;5;241m=\u001b[39m \u001b[38;5;28;43msorted\u001b[39;49m\u001b[43m(\u001b[49m\u001b[38;5;28;43mself\u001b[39;49m\u001b[38;5;241;43m.\u001b[39;49m\u001b[43mcollection\u001b[49m\u001b[43m,\u001b[49m\u001b[43m \u001b[49m\u001b[43mkey\u001b[49m\u001b[43m \u001b[49m\u001b[38;5;241;43m=\u001b[39;49m\u001b[43m \u001b[49m\u001b[38;5;28;43;01mlambda\u001b[39;49;00m\u001b[43m \u001b[49m\u001b[43mart\u001b[49m\u001b[43m:\u001b[49m\u001b[43m \u001b[49m\u001b[38;5;28;43mreversed\u001b[39;49m\u001b[43m(\u001b[49m\u001b[43mcustom\u001b[49m\u001b[43m(\u001b[49m\u001b[43mart\u001b[49m\u001b[43m)\u001b[49m\u001b[43m)\u001b[49m\u001b[43m)\u001b[49m\n\u001b[1;32m     17\u001b[0m     \u001b[38;5;28;01mreturn\u001b[39;00m res\n\u001b[1;32m     18\u001b[0m \u001b[38;5;250m    \u001b[39m\u001b[38;5;124;03m'''здесь у меня возникла проблема: я могу просто отсортировать по ключу rarity, но я хочу чтобы сортировка была от common к legendary.\u001b[39;00m\n\u001b[1;32m     19\u001b[0m \u001b[38;5;124;03m    я могу собрать их в списки, а потом списки склеить, что я не хочу создавать лишние списки. \u001b[39;00m\n\u001b[1;32m     20\u001b[0m \u001b[38;5;124;03m    я уверена, что тут можно использовать какую-нибудь функцию посложнее в качестве ключа, но какую?'''\u001b[39;00m\n",
      "Cell \u001b[0;32mIn[29], line 16\u001b[0m, in \u001b[0;36mArtifactCollector.sort_by_rarity.<locals>.<lambda>\u001b[0;34m(art)\u001b[0m\n\u001b[1;32m     15\u001b[0m \u001b[38;5;28;01mdef\u001b[39;00m \u001b[38;5;21msort_by_rarity\u001b[39m(\u001b[38;5;28mself\u001b[39m):\n\u001b[0;32m---> 16\u001b[0m     res \u001b[38;5;241m=\u001b[39m \u001b[38;5;28msorted\u001b[39m(\u001b[38;5;28mself\u001b[39m\u001b[38;5;241m.\u001b[39mcollection, key \u001b[38;5;241m=\u001b[39m \u001b[38;5;28;01mlambda\u001b[39;00m art: \u001b[38;5;28;43mreversed\u001b[39;49m\u001b[43m(\u001b[49m\u001b[43mcustom\u001b[49m\u001b[43m(\u001b[49m\u001b[43mart\u001b[49m\u001b[43m)\u001b[49m\u001b[43m)\u001b[49m)\n\u001b[1;32m     17\u001b[0m     \u001b[38;5;28;01mreturn\u001b[39;00m res\n\u001b[1;32m     18\u001b[0m \u001b[38;5;250m    \u001b[39m\u001b[38;5;124;03m'''здесь у меня возникла проблема: я могу просто отсортировать по ключу rarity, но я хочу чтобы сортировка была от common к legendary.\u001b[39;00m\n\u001b[1;32m     19\u001b[0m \u001b[38;5;124;03m    я могу собрать их в списки, а потом списки склеить, что я не хочу создавать лишние списки. \u001b[39;00m\n\u001b[1;32m     20\u001b[0m \u001b[38;5;124;03m    я уверена, что тут можно использовать какую-нибудь функцию посложнее в качестве ключа, но какую?'''\u001b[39;00m\n",
      "\u001b[0;31mTypeError\u001b[0m: 'int' object is not reversible"
     ]
    }
   ],
   "source": [
    "collector.sort_by_rarity()\n",
    "for artifact in collector:\n",
    "    print(f\"{artifact.name}: {artifact.rarity}\")"
   ]
  },
  {
   "cell_type": "code",
   "execution_count": 53,
   "id": "b3fea9d7",
   "metadata": {},
   "outputs": [
    {
     "name": "stdout",
     "output_type": "stream",
     "text": [
      "\n",
      "Артефакт не найден\n"
     ]
    }
   ],
   "source": [
    "artifact = collector.find_by_name(\"Ancient Vase\")\n",
    "if artifact:\n",
    "    print(f\"\\nАртефакт найден: {artifact.name}, {artifact.age} лет, {artifact.origin}\")\n",
    "else:\n",
    "    print(\"\\nАртефакт не найден\")"
   ]
  },
  {
   "cell_type": "code",
   "execution_count": 56,
   "id": "41c5d53f",
   "metadata": {},
   "outputs": [
    {
     "name": "stdout",
     "output_type": "stream",
     "text": [
      "\n",
      "Самый древний артефакт: Amulet of Anubis (5000 лет)\n"
     ]
    }
   ],
   "source": [
    "oldest = collector.find_oldest()\n",
    "print(f\"\\nСамый древний артефакт: {oldest.name} ({oldest.age} лет)\")"
   ]
  }
 ],
 "metadata": {
  "kernelspec": {
   "display_name": "Python 3 (ipykernel)",
   "language": "python",
   "name": "python3"
  },
  "language_info": {
   "codemirror_mode": {
    "name": "ipython",
    "version": 3
   },
   "file_extension": ".py",
   "mimetype": "text/x-python",
   "name": "python",
   "nbconvert_exporter": "python",
   "pygments_lexer": "ipython3",
   "version": "3.12.5"
  }
 },
 "nbformat": 4,
 "nbformat_minor": 5
}
