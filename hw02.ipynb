{
 "cells": [
  {
   "cell_type": "markdown",
   "id": "9a4d80af-d232-43b9-a24d-33fca4dab435",
   "metadata": {},
   "source": [
    "Единственная задача: обобщить написанный на семинаре код и сымитировать работу одного большого отдела ABBYY, в котором есть три маленьких подотдела с лингвистами, программистами и комплингом. То есть, что у нас должно быть реализовано:\n",
    "\n",
    "- родительский класс \"работник\"\n",
    "- базовые классы \"лингвист\", \"программист\" и \"компьютерный лингвист\"\n",
    "- у всех методы work\n",
    "- классы \"босс_лингвист\", \"босс_программист\" и \"босс_кл\", которые могут наследовать (с подмешиванием) от общего класса \"босс\"\n",
    "- у боссов в атрибутах сидят их подчиненные\n",
    "- босс подотдела получает квесты от менеджера главного отдела и принуждает сотрудников работать\n",
    "- в главном отделе есть метод для выдачи квестов\n",
    "- соответственно, используем как наследование, так и композицию с делегированием"
   ]
  },
  {
   "cell_type": "code",
   "execution_count": 9,
   "id": "4615e11a-f081-41b3-a3eb-d8519e59ef4c",
   "metadata": {},
   "outputs": [],
   "source": [
    "from time import sleep\n",
    "import random\n",
    "\n",
    "class Main():\n",
    "    def __init__(self):\n",
    "        self = self\n",
    "    def generate(self):\n",
    "        hours = random.uniform(1, 6)\n",
    "        return hours\n",
    "    \n",
    "class Worker():\n",
    "    def __init__(self, name, surname):\n",
    "        self.name = name\n",
    "        self.surname = surname\n",
    "        self.__salary = 350  # _Employee__salary\n",
    "        self.bankaccount = 0\n",
    "    def work(self, hours):\n",
    "        sleep(hours)\n",
    "        self.bankaccount += self.__salary * hours\n",
    "\n",
    "class Manager(Worker):\n",
    "    def __init__(self, name, slaves):\n",
    "        Worker.__init__(self, name, surname)\n",
    "        self.main = Main()\n",
    "        self.slaves = slaves\n",
    "    def give_work(self):\n",
    "        work = self.main.generate()\n",
    "        slave = random.generate(self.slaves)\n",
    "        slave.make_work(work)\n",
    "\n"
   ]
  },
  {
   "cell_type": "code",
   "execution_count": 10,
   "id": "468de77c",
   "metadata": {},
   "outputs": [],
   "source": [
    "class Linguist(Worker):\n",
    "    def __init__(self, name, surname):\n",
    "        Worker.__init__(self, name, surname)\n",
    "        publications = []\n",
    "\n",
    "class Ingineer(Worker):\n",
    "    def __init__(self, name, surname):\n",
    "        Worker.__init__(self, name, surname)\n",
    "        projects = []\n",
    "\n",
    "class CompLinguist(Worker):\n",
    "    def __init__(self, name, surname):\n",
    "        Worker.__init__(self, name, surname)\n",
    "        projects = []"
   ]
  },
  {
   "cell_type": "code",
   "execution_count": 11,
   "id": "301472d2",
   "metadata": {},
   "outputs": [],
   "source": [
    "class Boss(Worker):\n",
    "    def __init__(self, name, surname):\n",
    "        Worker.__init__(self, name, surname)\n",
    "        self.__salary = 500\n",
    "        self.bankaccount = 0\n",
    "    def make_work(self, work):\n",
    "        slave = random.choice(self.slaves)\n",
    "        slave.make_work(work)\n",
    "\n",
    "class LingBoss(Boss, Linguist):\n",
    "    def __init__(self, name, surname):\n",
    "        Boss.__init__(self, name, surname)\n",
    "        Linguist.__init__(self, name, surname)\n",
    "        publications = []\n",
    "        projects = []\n",
    "        self.slaves = ['a', 'b', 'c']\n",
    "    def make_work(self, work):\n",
    "        slave = random.choice(self.slaves)\n",
    "        slave.work(work)\n",
    "\n",
    "class ProgBoss(Boss, Ingineer):\n",
    "    def __init__(self, name, surname):\n",
    "        Boss.__init__(self, name, surname)\n",
    "        Ingineer.__init__(self, name, surname)\n",
    "        projects = []\n",
    "        self.slaves = ['d', 'e', 'f']\n",
    "\n",
    "class CLBoss(Boss, CompLinguist):\n",
    "    def __init__(self, name, surname):\n",
    "        Boss.__init__(self, name, surname)\n",
    "        CompLinguist.__init__(self, name, surname)\n",
    "        publications = []\n",
    "        projects = []\n",
    "        self.slaves =['h', 'i', 'j']"
   ]
  },
  {
   "cell_type": "code",
   "execution_count": 12,
   "id": "c3fb15e9",
   "metadata": {},
   "outputs": [
    {
     "ename": "TypeError",
     "evalue": "Manager.__init__() takes 3 positional arguments but 4 were given",
     "output_type": "error",
     "traceback": [
      "\u001b[1;31m---------------------------------------------------------------------------\u001b[0m",
      "\u001b[1;31mTypeError\u001b[0m                                 Traceback (most recent call last)",
      "Cell \u001b[1;32mIn[12], line 3\u001b[0m\n\u001b[0;32m      1\u001b[0m boss \u001b[38;5;241m=\u001b[39m LingBoss(\u001b[38;5;124m'\u001b[39m\u001b[38;5;124malexandra\u001b[39m\u001b[38;5;124m'\u001b[39m, \u001b[38;5;124m'\u001b[39m\u001b[38;5;124mivoylova\u001b[39m\u001b[38;5;124m'\u001b[39m)\n\u001b[0;32m      2\u001b[0m ling \u001b[38;5;241m=\u001b[39m Linguist(\u001b[38;5;124m'\u001b[39m\u001b[38;5;124mliza\u001b[39m\u001b[38;5;124m'\u001b[39m, \u001b[38;5;124m'\u001b[39m\u001b[38;5;124moleynikova\u001b[39m\u001b[38;5;124m'\u001b[39m)\n\u001b[1;32m----> 3\u001b[0m manager \u001b[38;5;241m=\u001b[39m \u001b[43mManager\u001b[49m\u001b[43m(\u001b[49m\u001b[38;5;124;43m'\u001b[39;49m\u001b[38;5;124;43mdasha\u001b[39;49m\u001b[38;5;124;43m'\u001b[39;49m\u001b[43m,\u001b[49m\u001b[43m \u001b[49m\u001b[38;5;124;43m'\u001b[39;49m\u001b[38;5;124;43mkonovalova\u001b[39;49m\u001b[38;5;124;43m'\u001b[39;49m\u001b[43m,\u001b[49m\u001b[43m \u001b[49m\u001b[43mboss\u001b[49m\u001b[43m)\u001b[49m\n",
      "\u001b[1;31mTypeError\u001b[0m: Manager.__init__() takes 3 positional arguments but 4 were given"
     ]
    }
   ],
   "source": [
    "boss = LingBoss('alexandra', 'ivoylova')\n",
    "ling = Linguist('liza', 'oleynikova')\n",
    "manager = Manager('dasha', 'konovalova', boss)"
   ]
  }
 ],
 "metadata": {
  "kernelspec": {
   "display_name": "Python 3 (ipykernel)",
   "language": "python",
   "name": "python3"
  },
  "language_info": {
   "codemirror_mode": {
    "name": "ipython",
    "version": 3
   },
   "file_extension": ".py",
   "mimetype": "text/x-python",
   "name": "python",
   "nbconvert_exporter": "python",
   "pygments_lexer": "ipython3",
   "version": "3.10.2"
  }
 },
 "nbformat": 4,
 "nbformat_minor": 5
}
