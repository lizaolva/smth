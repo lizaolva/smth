{
  "cells": [
    {
      "cell_type": "markdown",
      "metadata": {
        "id": "3XmA47b1Uktg"
      },
      "source": [
        "В моей курсовой я использую датасеты на русском для задач анализа тональности и детекции токсичности. Я решила попробовать посчитать на них статистику, а именно: у меня есть идея, что токсичные тексты и тексты с негативной тональностью будут более похожи, чем все остальные. Возможно, это будет работать и в обратную сторону - не токсичные тексты и положительные, но мне кажется, что токсичности и негативность более маркированы.\n",
        "\n",
        "\n",
        "**Итого имеем:**\n",
        "\n",
        "Нулевая гипотеза: тексты с лэйблами Bad + 1 *будут не больше похожи*, чем тексты с лэйблами Bad + 0, Good + 1, Good + 0\n",
        "\n",
        "Альтернативная гипотеза: тексты с лэйблами Bad + 1 будут *более похожи*, чем тексты с лэйблами Bad + 0, Good + 1, Good + 0\n",
        "\n",
        "\n",
        "Про сами датасеты:\n",
        "\n",
        "[Датасет для анализа тональности](https://huggingface.co/datasets/ai-forever/kinopoisk-sentiment-classification):\n",
        "* Объем: 10500 текстов\n",
        "* Соотношение классов: 3500:3500:3500\n",
        "* Классы: Good, Bad, Neutral\n",
        "* Состав: отзывы на фильмы из Кинопоиска\n",
        "\n",
        "[Датасет для детекции токсичности](https://www.kaggle.com/datasets/blackmoon/russian-language-toxic-comments):\n",
        "* Объем: 14412 текста\n",
        "* Соотношение классов: 4826:9586\n",
        "* Классы: 0, 1\n",
        "* Состав: комментарии из Двача и Пикабу"
      ]
    },
    {
      "cell_type": "code",
      "execution_count": 2,
      "metadata": {
        "collapsed": true,
        "id": "6QvC-B3bxVjZ",
        "colab": {
          "base_uri": "https://localhost:8080/"
        },
        "outputId": "f0d7776a-a965-4d6f-e514-388119c0c0b9"
      },
      "outputs": [
        {
          "output_type": "stream",
          "name": "stdout",
          "text": [
            "Requirement already satisfied: datasets==2.16.1 in /usr/local/lib/python3.11/dist-packages (2.16.1)\n",
            "Requirement already satisfied: fsspec==2023.6.0 in /usr/local/lib/python3.11/dist-packages (2023.6.0)\n",
            "Requirement already satisfied: filelock in /usr/local/lib/python3.11/dist-packages (from datasets==2.16.1) (3.18.0)\n",
            "Requirement already satisfied: numpy>=1.17 in /usr/local/lib/python3.11/dist-packages (from datasets==2.16.1) (2.0.2)\n",
            "Requirement already satisfied: pyarrow>=8.0.0 in /usr/local/lib/python3.11/dist-packages (from datasets==2.16.1) (18.1.0)\n",
            "Requirement already satisfied: pyarrow-hotfix in /usr/local/lib/python3.11/dist-packages (from datasets==2.16.1) (0.7)\n",
            "Requirement already satisfied: dill<0.3.8,>=0.3.0 in /usr/local/lib/python3.11/dist-packages (from datasets==2.16.1) (0.3.7)\n",
            "Requirement already satisfied: pandas in /usr/local/lib/python3.11/dist-packages (from datasets==2.16.1) (2.2.2)\n",
            "Requirement already satisfied: requests>=2.19.0 in /usr/local/lib/python3.11/dist-packages (from datasets==2.16.1) (2.32.3)\n",
            "Requirement already satisfied: tqdm>=4.62.1 in /usr/local/lib/python3.11/dist-packages (from datasets==2.16.1) (4.67.1)\n",
            "Requirement already satisfied: xxhash in /usr/local/lib/python3.11/dist-packages (from datasets==2.16.1) (3.5.0)\n",
            "Requirement already satisfied: multiprocess in /usr/local/lib/python3.11/dist-packages (from datasets==2.16.1) (0.70.15)\n",
            "Requirement already satisfied: aiohttp in /usr/local/lib/python3.11/dist-packages (from datasets==2.16.1) (3.11.15)\n",
            "Requirement already satisfied: huggingface-hub>=0.19.4 in /usr/local/lib/python3.11/dist-packages (from datasets==2.16.1) (0.32.2)\n",
            "Requirement already satisfied: packaging in /usr/local/lib/python3.11/dist-packages (from datasets==2.16.1) (24.2)\n",
            "Requirement already satisfied: pyyaml>=5.1 in /usr/local/lib/python3.11/dist-packages (from datasets==2.16.1) (6.0.2)\n",
            "Requirement already satisfied: aiohappyeyeballs>=2.3.0 in /usr/local/lib/python3.11/dist-packages (from aiohttp->datasets==2.16.1) (2.6.1)\n",
            "Requirement already satisfied: aiosignal>=1.1.2 in /usr/local/lib/python3.11/dist-packages (from aiohttp->datasets==2.16.1) (1.3.2)\n",
            "Requirement already satisfied: attrs>=17.3.0 in /usr/local/lib/python3.11/dist-packages (from aiohttp->datasets==2.16.1) (25.3.0)\n",
            "Requirement already satisfied: frozenlist>=1.1.1 in /usr/local/lib/python3.11/dist-packages (from aiohttp->datasets==2.16.1) (1.6.0)\n",
            "Requirement already satisfied: multidict<7.0,>=4.5 in /usr/local/lib/python3.11/dist-packages (from aiohttp->datasets==2.16.1) (6.4.4)\n",
            "Requirement already satisfied: propcache>=0.2.0 in /usr/local/lib/python3.11/dist-packages (from aiohttp->datasets==2.16.1) (0.3.1)\n",
            "Requirement already satisfied: yarl<2.0,>=1.17.0 in /usr/local/lib/python3.11/dist-packages (from aiohttp->datasets==2.16.1) (1.20.0)\n",
            "Requirement already satisfied: typing-extensions>=3.7.4.3 in /usr/local/lib/python3.11/dist-packages (from huggingface-hub>=0.19.4->datasets==2.16.1) (4.13.2)\n",
            "Requirement already satisfied: hf-xet<2.0.0,>=1.1.2 in /usr/local/lib/python3.11/dist-packages (from huggingface-hub>=0.19.4->datasets==2.16.1) (1.1.2)\n",
            "Requirement already satisfied: charset-normalizer<4,>=2 in /usr/local/lib/python3.11/dist-packages (from requests>=2.19.0->datasets==2.16.1) (3.4.2)\n",
            "Requirement already satisfied: idna<4,>=2.5 in /usr/local/lib/python3.11/dist-packages (from requests>=2.19.0->datasets==2.16.1) (3.10)\n",
            "Requirement already satisfied: urllib3<3,>=1.21.1 in /usr/local/lib/python3.11/dist-packages (from requests>=2.19.0->datasets==2.16.1) (2.4.0)\n",
            "Requirement already satisfied: certifi>=2017.4.17 in /usr/local/lib/python3.11/dist-packages (from requests>=2.19.0->datasets==2.16.1) (2025.4.26)\n",
            "Requirement already satisfied: python-dateutil>=2.8.2 in /usr/local/lib/python3.11/dist-packages (from pandas->datasets==2.16.1) (2.9.0.post0)\n",
            "Requirement already satisfied: pytz>=2020.1 in /usr/local/lib/python3.11/dist-packages (from pandas->datasets==2.16.1) (2025.2)\n",
            "Requirement already satisfied: tzdata>=2022.7 in /usr/local/lib/python3.11/dist-packages (from pandas->datasets==2.16.1) (2025.2)\n",
            "Requirement already satisfied: six>=1.5 in /usr/local/lib/python3.11/dist-packages (from python-dateutil>=2.8.2->pandas->datasets==2.16.1) (1.17.0)\n",
            "Collecting ru-core-news-sm==3.8.0\n",
            "  Downloading https://github.com/explosion/spacy-models/releases/download/ru_core_news_sm-3.8.0/ru_core_news_sm-3.8.0-py3-none-any.whl (15.3 MB)\n",
            "\u001b[2K     \u001b[90m━━━━━━━━━━━━━━━━━━━━━━━━━━━━━━━━━━━━━━━\u001b[0m \u001b[32m15.3/15.3 MB\u001b[0m \u001b[31m115.6 MB/s\u001b[0m eta \u001b[36m0:00:00\u001b[0m\n",
            "\u001b[?25hRequirement already satisfied: pymorphy3>=1.0.0 in /usr/local/lib/python3.11/dist-packages (from ru-core-news-sm==3.8.0) (2.0.3)\n",
            "Requirement already satisfied: dawg2-python>=0.8.0 in /usr/local/lib/python3.11/dist-packages (from pymorphy3>=1.0.0->ru-core-news-sm==3.8.0) (0.9.0)\n",
            "Requirement already satisfied: pymorphy3-dicts-ru in /usr/local/lib/python3.11/dist-packages (from pymorphy3>=1.0.0->ru-core-news-sm==3.8.0) (2.4.417150.4580142)\n",
            "\u001b[38;5;2m✔ Download and installation successful\u001b[0m\n",
            "You can now load the package via spacy.load('ru_core_news_sm')\n",
            "\u001b[38;5;3m⚠ Restart to reload dependencies\u001b[0m\n",
            "If you are in a Jupyter or Colab notebook, you may need to restart Python in\n",
            "order to load all the package's dependencies. You can do this by selecting the\n",
            "'Restart kernel' or 'Restart runtime' option.\n"
          ]
        }
      ],
      "source": [
        "!pip install datasets==2.16.1 fsspec==2023.6.0\n",
        "!python -m spacy download ru_core_news_sm"
      ]
    },
    {
      "cell_type": "code",
      "execution_count": 3,
      "metadata": {
        "id": "xJyi6neqvNJD"
      },
      "outputs": [],
      "source": [
        "import kagglehub\n",
        "import pandas as pd\n",
        "from datasets import load_dataset\n",
        "from collections import Counter, defaultdict\n",
        "import spacy\n",
        "import multiprocessing\n",
        "from tqdm import tqdm\n",
        "from scipy.stats import chi2_contingency\n",
        "import os"
      ]
    },
    {
      "cell_type": "markdown",
      "metadata": {
        "id": "IdBlDOGKPl7P"
      },
      "source": [
        "Импортирую датасеты"
      ]
    },
    {
      "cell_type": "code",
      "execution_count": 4,
      "metadata": {
        "id": "kEUOZUJZwneS",
        "colab": {
          "base_uri": "https://localhost:8080/"
        },
        "outputId": "9f034af4-c68f-411f-d969-be2c1c3ab8fe"
      },
      "outputs": [
        {
          "output_type": "stream",
          "name": "stdout",
          "text": [
            "Path to dataset files: /kaggle/input/russian-language-toxic-comments\n"
          ]
        }
      ],
      "source": [
        "path = kagglehub.dataset_download(\"blackmoon/russian-language-toxic-comments\")\n",
        "\n",
        "print(\"Path to dataset files:\", path)"
      ]
    },
    {
      "cell_type": "code",
      "execution_count": 5,
      "metadata": {
        "id": "PE6JqPNiw9gy"
      },
      "outputs": [],
      "source": [
        "tox_raw = pd.read_csv('/root/.cache/kagglehub/datasets/blackmoon/russian-language-toxic-comments/versions/1/labeled.csv')\n",
        "tox_raw = tox_raw"
      ]
    },
    {
      "cell_type": "markdown",
      "metadata": {
        "id": "EC9T6qErPpfC"
      },
      "source": [
        "Этот датасет поделен на train, val и test по дефолту, нам трейна хватит"
      ]
    },
    {
      "cell_type": "code",
      "execution_count": 6,
      "metadata": {
        "id": "aG9OVdCjxAYR",
        "colab": {
          "base_uri": "https://localhost:8080/"
        },
        "outputId": "6d43c4b0-c6be-439f-a245-bccdd11e9790"
      },
      "outputs": [
        {
          "output_type": "stream",
          "name": "stderr",
          "text": [
            "/usr/local/lib/python3.11/dist-packages/huggingface_hub/utils/_auth.py:94: UserWarning: \n",
            "The secret `HF_TOKEN` does not exist in your Colab secrets.\n",
            "To authenticate with the Hugging Face Hub, create a token in your settings tab (https://huggingface.co/settings/tokens), set it as secret in your Google Colab and restart your session.\n",
            "You will be able to reuse this secret in all of your notebooks.\n",
            "Please note that authentication is recommended but still optional to access public models or datasets.\n",
            "  warnings.warn(\n"
          ]
        }
      ],
      "source": [
        "sent_raw = load_dataset(\"ai-forever/kinopoisk-sentiment-classification\")\n",
        "sent_raw = sent_raw['train']"
      ]
    },
    {
      "cell_type": "markdown",
      "metadata": {
        "id": "KFruVxHCP-ki"
      },
      "source": [
        "Создаю частотные словари для сентимента"
      ]
    },
    {
      "cell_type": "code",
      "execution_count": 7,
      "metadata": {
        "colab": {
          "base_uri": "https://localhost:8080/"
        },
        "id": "hq02ZDlbzfd3",
        "outputId": "16efe9f4-454f-4cdb-efca-bf0718da5787"
      },
      "outputs": [
        {
          "output_type": "stream",
          "name": "stdout",
          "text": [
            "Сохранён файл: freq_sent/freq_sent_label_Good.csv (строк: 42444)\n",
            "Сохранён файл: freq_sent/freq_sent_label_Bad.csv (строк: 47433)\n",
            "Сохранён файл: freq_sent/freq_sent_label_Neutral.csv (строк: 45814)\n",
            "Топ лемм для класса Good:\n",
            "фильм: 16533\n",
            "человек: 5397\n",
            "жизнь: 3633\n",
            "хороший: 3277\n",
            "герой: 2986\n",
            "время: 2436\n",
            "главный: 2419\n",
            "актёр: 2415\n",
            "смотреть: 2319\n",
            "роль: 2309\n",
            "картина: 2204\n",
            "история: 2179\n",
            "первый: 1990\n",
            "сказать: 1986\n",
            "кино: 1912\n",
            "раз: 1828\n",
            "мир: 1792\n",
            "сюжет: 1773\n",
            "год: 1740\n",
            "любовь: 1686\n",
            "Топ лемм для класса Bad:\n",
            "фильм: 18639\n",
            "хороший: 3374\n",
            "человек: 3022\n",
            "смотреть: 2674\n",
            "актёр: 2643\n",
            "герой: 2617\n",
            "сюжет: 2475\n",
            "кино: 2407\n",
            "сказать: 2379\n",
            "главный: 2266\n",
            "первый: 2213\n",
            "ни: 2206\n",
            "время: 2123\n",
            "игра: 2013\n",
            "говорить: 1805\n",
            "раз: 1735\n",
            "картина: 1704\n",
            "режиссёр: 1651\n",
            "зритель: 1576\n",
            "просмотр: 1575\n",
            "Топ лемм для класса Neutral:\n",
            "фильм: 15655\n",
            "человек: 3570\n",
            "хороший: 3107\n",
            "герой: 2648\n",
            "жизнь: 2258\n",
            "главный: 2080\n",
            "сказать: 2051\n",
            "смотреть: 2037\n",
            "актёр: 1962\n",
            "первый: 1922\n",
            "время: 1912\n",
            "кино: 1853\n",
            "сюжет: 1853\n",
            "картина: 1681\n",
            "роль: 1663\n",
            "игра: 1640\n",
            "ни: 1610\n",
            "раз: 1560\n",
            "посмотреть: 1492\n",
            "история: 1458\n"
          ]
        }
      ],
      "source": [
        "# Загружаем модель spaCy\n",
        "nlp = spacy.load(\"ru_core_news_sm\", disable=[\"ner\", \"parser\"])\n",
        "nlp.max_length = 2000000  # на всякий случай\n",
        "\n",
        "# Предобработка одной пачки\n",
        "def process_batch(batch):\n",
        "    results = []\n",
        "    docs = list(nlp.pipe(batch[\"text\"], batch_size=64, n_process=multiprocessing.cpu_count()))\n",
        "    for doc in docs:\n",
        "        lemmas = [\n",
        "            token.lemma_.lower()\n",
        "            for token in doc\n",
        "            if token.is_alpha and not token.is_stop\n",
        "        ]\n",
        "        results.append(lemmas)\n",
        "    return {\"lemmas\": results}\n",
        "\n",
        "\n",
        "# Применяем к датасету\n",
        "ds_with_lemmas = sent_raw.map(\n",
        "    process_batch,\n",
        "    batched=True,\n",
        "    batch_size=64,\n",
        "    num_proc=multiprocessing.cpu_count(),\n",
        "    desc=\"Лемматизация\",\n",
        ")\n",
        "\n",
        "# Строим частотные словари по лейблам\n",
        "label_freqs_sent = defaultdict(Counter)\n",
        "\n",
        "for example in ds_with_lemmas:\n",
        "    label = example[\"label_text\"]\n",
        "    label_freqs_sent[label].update(example[\"lemmas\"])\n",
        "\n",
        "# это я сохраняю результаты\n",
        "output_dir = \"freq_sent\"\n",
        "os.makedirs(output_dir, exist_ok=True)\n",
        "\n",
        "for lbl, counter in label_freqs_sent.items():\n",
        "    # Превращаем Counter в DataFrame\n",
        "    df = pd.DataFrame(counter.items(), columns=[\"lemma\", \"frequency\"])\n",
        "    # Сортируем по убыванию частоты\n",
        "    df = df.sort_values(by=\"frequency\", ascending=False).reset_index(drop=True)\n",
        "    # Сохраняем в CSV\n",
        "    out_path = os.path.join(output_dir, f\"freq_sent_label_{lbl}.csv\")\n",
        "    df.to_csv(out_path, index=False, encoding=\"utf-8\")\n",
        "    print(f\"Сохранён файл: {out_path} (строк: {len(df)})\")\n",
        "\n",
        "# Пример: вывести топ-20 лемм\n",
        "print(\"Топ лемм для класса Good:\")\n",
        "for lemma, freq in label_freqs_sent['Good'].most_common(20):\n",
        "    print(f\"{lemma}: {freq}\")\n",
        "print(\"Топ лемм для класса Bad:\")\n",
        "for lemma, freq in label_freqs_sent['Bad'].most_common(20):\n",
        "    print(f\"{lemma}: {freq}\")\n",
        "print(\"Топ лемм для класса Neutral:\")\n",
        "for lemma, freq in label_freqs_sent['Neutral'].most_common(20):\n",
        "    print(f\"{lemma}: {freq}\")"
      ]
    },
    {
      "cell_type": "markdown",
      "metadata": {
        "id": "-XnbeM5LW9LK"
      },
      "source": [
        "Пипипупу.\n",
        "\n",
        "У положительных и негативных отзывов частотные слова практически одинаковые. Это странно, но у меня и в курсаче подозрительно низкое качество на нем выходило, я планировала проверить датасет. Вот и проверила:)"
      ]
    },
    {
      "cell_type": "markdown",
      "metadata": {
        "id": "mD8lBGTaQFJX"
      },
      "source": [
        "То же самое для тональности"
      ]
    },
    {
      "cell_type": "code",
      "execution_count": 8,
      "metadata": {
        "id": "D1R-Kcum8_ra"
      },
      "outputs": [],
      "source": [
        "batch_size = 64\n",
        "# проверить равномерность распределения\n",
        "# === ЗАГРУЗКА CSV ===\n",
        "texts = tox_raw['comment'].tolist()\n",
        "labels = tox_raw['toxic'].tolist()"
      ]
    },
    {
      "cell_type": "code",
      "execution_count": 9,
      "metadata": {
        "colab": {
          "base_uri": "https://localhost:8080/"
        },
        "id": "5JHBxldR8ib0",
        "outputId": "8eb4adff-9f6c-45ab-8967-c92733e34bfc"
      },
      "outputs": [
        {
          "output_type": "stream",
          "name": "stderr",
          "text": [
            "100%|██████████| 226/226 [03:00<00:00,  1.25it/s]"
          ]
        },
        {
          "output_type": "stream",
          "name": "stdout",
          "text": [
            "Сохранён файл: freq_tox/freq_tox_label_1.0.csv (строк: 19917)\n",
            "Сохранён файл: freq_tox/freq_tox_label_0.0.csv (строк: 28584)\n",
            "\n",
            "Топ-20 лемм для класса 1.0:\n",
            "человек: 331\n",
            "хохол: 241\n",
            "год: 194\n",
            "говорить: 181\n",
            "хороший: 164\n",
            "тупой: 155\n",
            "русский: 155\n",
            "раз: 155\n",
            "тред: 142\n",
            "знать: 142\n",
            "делать: 135\n",
            "нахуй: 129\n",
            "смотреть: 124\n",
            "думать: 121\n",
            "россия: 120\n",
            "видеть: 119\n",
            "ни: 117\n",
            "писать: 110\n",
            "сделать: 109\n",
            "дело: 109\n",
            "\n",
            "Топ-20 лемм для класса 0.0:\n",
            "год: 1311\n",
            "человек: 786\n",
            "раз: 687\n",
            "время: 579\n",
            "хороший: 518\n",
            "работать: 497\n",
            "знать: 477\n",
            "делать: 445\n",
            "деньга: 439\n",
            "работа: 415\n",
            "говорить: 371\n",
            "два: 351\n",
            "первый: 350\n",
            "случай: 347\n",
            "дело: 343\n",
            "день: 341\n",
            "новый: 339\n",
            "стоить: 335\n",
            "сделать: 316\n",
            "сказать: 312\n"
          ]
        },
        {
          "output_type": "stream",
          "name": "stderr",
          "text": [
            "\n"
          ]
        }
      ],
      "source": [
        "# === ИНИЦИАЛИЗАЦИЯ spaCy ===\n",
        "nlp = spacy.load(\"ru_core_news_sm\", disable=[\"ner\", \"parser\"])\n",
        "nlp.max_length = 2_000_000\n",
        "\n",
        "# === ХРАНИЛИЩЕ ДЛЯ ЧАСТОТ ===\n",
        "label_freqs_tox = defaultdict(Counter)\n",
        "\n",
        "# === ОБРАБОТКА БАТЧАМИ ===\n",
        "def yield_batches(texts, labels, batch_size):\n",
        "    for i in range(0, len(texts), batch_size):\n",
        "        yield texts[i:i+batch_size], labels[i:i+batch_size]\n",
        "\n",
        "for text_batch, label_batch in tqdm(yield_batches(texts, labels, batch_size), total=len(texts)//batch_size + 1):\n",
        "    docs = list(nlp.pipe(text_batch, batch_size=64, n_process=multiprocessing.cpu_count()))\n",
        "    for doc, label in zip(docs, label_batch):\n",
        "        lemmas = [\n",
        "            token.lemma_.lower()\n",
        "            for token in doc\n",
        "            if token.is_alpha and not token.is_stop\n",
        "        ]\n",
        "        label_freqs_tox[label].update(lemmas)\n",
        "\n",
        "output_dir = \"freq_tox\"\n",
        "os.makedirs(output_dir, exist_ok=True)\n",
        "\n",
        "for lbl, counter in label_freqs_tox.items():\n",
        "    # Превращаем Counter в DataFrame\n",
        "    df = pd.DataFrame(counter.items(), columns=[\"lemma\", \"frequency\"])\n",
        "    # Сортируем по убыванию частоты\n",
        "    df = df.sort_values(by=\"frequency\", ascending=False).reset_index(drop=True)\n",
        "    # Сохраняем в CSV\n",
        "    out_path = os.path.join(output_dir, f\"freq_tox_label_{lbl}.csv\")\n",
        "    df.to_csv(out_path, index=False, encoding=\"utf-8\")\n",
        "    print(f\"Сохранён файл: {out_path} (строк: {len(df)})\")\n",
        "\n",
        "# === ВЫВОД ТОП-20 ЛЕММ ДЛЯ КАЖДОГО КЛАССА ===\n",
        "for lbl, counter in label_freqs_tox.items():\n",
        "    print(f\"\\nТоп-20 лемм для класса {lbl}:\")\n",
        "    for lemma, freq in counter.most_common(20):\n",
        "        print(f\"{lemma}: {freq}\")"
      ]
    },
    {
      "cell_type": "markdown",
      "metadata": {
        "id": "WAFWW_EOXZXt"
      },
      "source": [
        "Ну с тональностью частотные списки выглядят очень даже неплохо"
      ]
    },
    {
      "cell_type": "markdown",
      "metadata": {
        "id": "ufKr0cLdQNdo"
      },
      "source": [
        "Делаю частотные списки по датасетам в общем, без деления по лэйблам"
      ]
    },
    {
      "cell_type": "code",
      "execution_count": 10,
      "metadata": {
        "colab": {
          "base_uri": "https://localhost:8080/"
        },
        "id": "LxVbEhuFNmoM",
        "outputId": "71119e93-bc8a-40c6-aa3c-c0e3967e20c3"
      },
      "outputs": [
        {
          "output_type": "stream",
          "name": "stdout",
          "text": [
            "Sent\n",
            "фильм: 50827\n",
            "человек: 11989\n",
            "хороший: 9758\n",
            "герой: 8251\n",
            "жизнь: 7085\n",
            "смотреть: 7030\n",
            "актёр: 7020\n",
            "главный: 6765\n",
            "время: 6471\n",
            "сказать: 6416\n",
            "кино: 6172\n",
            "первый: 6125\n",
            "сюжет: 6101\n",
            "картина: 5589\n",
            "роль: 5343\n",
            "игра: 5325\n",
            "ни: 5324\n",
            "раз: 5123\n",
            "история: 4739\n",
            "говорить: 4694\n",
            "посмотреть: 4639\n",
            "просмотр: 4563\n",
            "год: 4470\n",
            "зритель: 4362\n",
            "режиссёр: 4201\n",
            "знать: 4168\n",
            "мир: 3984\n",
            "конец: 3910\n",
            "персонаж: 3848\n",
            "видеть: 3630\n",
            "сцена: 3624\n",
            "момент: 3565\n",
            "сделать: 3553\n",
            "интересный: 3425\n",
            "часть: 3398\n",
            "любовь: 3241\n",
            "понравиться: 3223\n",
            "слово: 3215\n",
            "стоить: 3215\n",
            "два: 3072\n",
            "дело: 3014\n",
            "новый: 3005\n",
            "снять: 2982\n",
            "думать: 2964\n",
            "работа: 2826\n",
            "место: 2823\n",
            "образ: 2809\n",
            "ребёнок: 2724\n",
            "увидеть: 2706\n",
            "получиться: 2668\n",
            "играть: 2619\n",
            "делать: 2619\n",
            "понять: 2587\n",
            "друг: 2545\n",
            "идея: 2538\n",
            "общий: 2500\n",
            "любить: 2473\n",
            "второй: 2469\n",
            "сыграть: 2463\n",
            "показать: 2457\n",
            "плохой: 2351\n",
            "актёрский: 2311\n",
            "понимать: 2265\n",
            "смысл: 2224\n",
            "книга: 2217\n",
            "музыка: 2211\n",
            "глаз: 2206\n",
            "экран: 2186\n",
            "каждый: 2183\n",
            "сценарий: 2173\n",
            "чувство: 2146\n",
            "лицо: 2143\n",
            "взгляд: 2133\n",
            "последний: 2073\n",
            "хотеться: 2050\n",
            "смешной: 2016\n",
            "минута: 1990\n",
            "сторона: 1973\n",
            "юмор: 1937\n",
            "впечатление: 1936\n",
            "душа: 1929\n",
            "происходить: 1922\n",
            "являться: 1919\n",
            "идти: 1895\n",
            "красивый: 1880\n",
            "совершенно: 1860\n",
            "шедевр: 1857\n",
            "снимать: 1847\n",
            "вопрос: 1832\n",
            "больший: 1817\n",
            "жить: 1813\n",
            "итог: 1802\n",
            "день: 1791\n",
            "создатель: 1790\n",
            "остаться: 1770\n",
            "деньга: 1749\n",
            "полный: 1748\n",
            "настолько: 1726\n",
            "большой: 1719\n",
            "сказка: 1693\n",
            "Tox\n",
            "год: 1505\n",
            "человек: 1117\n",
            "раз: 842\n",
            "хороший: 682\n",
            "время: 674\n",
            "знать: 619\n",
            "делать: 580\n",
            "работать: 568\n",
            "говорить: 552\n",
            "деньга: 505\n",
            "работа: 458\n",
            "дело: 452\n",
            "первый: 439\n",
            "два: 435\n",
            "сделать: 425\n",
            "думать: 419\n",
            "ни: 418\n",
            "сказать: 415\n",
            "случай: 399\n",
            "день: 399\n",
            "стоить: 394\n",
            "новый: 385\n",
            "место: 380\n",
            "видеть: 378\n",
            "страна: 376\n",
            "смотреть: 370\n",
            "ребёнок: 365\n",
            "проблема: 362\n",
            "идти: 362\n",
            "жить: 338\n",
            "жизнь: 335\n",
            "цена: 322\n",
            "вопрос: 308\n",
            "россия: 305\n",
            "город: 302\n",
            "интересный: 299\n",
            "час: 295\n",
            "какой: 285\n",
            "нормальный: 285\n",
            "дом: 283\n",
            "месяц: 282\n",
            "машина: 278\n",
            "рубль: 269\n",
            "нужный: 260\n",
            "понимать: 258\n",
            "слово: 254\n",
            "хохол: 245\n",
            "последний: 245\n",
            "писать: 243\n",
            "пост: 242\n",
            "найти: 242\n",
            "пара: 241\n",
            "купить: 240\n",
            "разный: 237\n",
            "второй: 229\n",
            "мир: 225\n",
            "хотеть: 225\n",
            "спасибо: 225\n",
            "часть: 224\n",
            "понять: 223\n",
            "игра: 223\n",
            "считать: 221\n",
            "фильм: 221\n",
            "вода: 218\n",
            "система: 216\n",
            "получить: 213\n",
            "сторона: 210\n",
            "дать: 207\n",
            "посмотреть: 199\n",
            "русский: 198\n",
            "тип: 197\n",
            "тред: 196\n",
            "факт: 193\n",
            "написать: 192\n",
            "три: 191\n",
            "читать: 190\n",
            "больший: 190\n",
            "помнить: 190\n",
            "брать: 190\n",
            "получать: 189\n",
            "ситуация: 189\n",
            "рука: 187\n",
            "давать: 187\n",
            "взять: 186\n",
            "закон: 185\n",
            "начать: 184\n",
            "платить: 184\n",
            "пойти: 182\n",
            "телефон: 182\n",
            "остаться: 181\n",
            "покупать: 180\n",
            "интернет: 180\n",
            "сша: 180\n",
            "тупой: 177\n",
            "магазин: 177\n",
            "момент: 176\n",
            "уровень: 174\n",
            "дешёвый: 174\n",
            "обычный: 173\n",
            "дорогой: 173\n"
          ]
        }
      ],
      "source": [
        "total_freq_sent = Counter()\n",
        "for counter in label_freqs_sent.values():\n",
        "    total_freq_sent.update(counter)\n",
        "\n",
        "total_freq_tox = Counter()\n",
        "for counter in label_freqs_tox.values():\n",
        "    total_freq_tox.update(counter)\n",
        "# Теперь total_freq — это единый Counter со всеми леммами из всех лэйблов\n",
        "top_n = 100  # например, 100 самых частотных\n",
        "print('Sent')\n",
        "for lemma, freq in total_freq_sent.most_common(top_n):\n",
        "    print(f\"{lemma}: {freq}\")\n",
        "print('Tox')\n",
        "for lemma, freq in total_freq_tox.most_common(top_n):\n",
        "    print(f\"{lemma}: {freq}\")"
      ]
    },
    {
      "cell_type": "code",
      "execution_count": 11,
      "metadata": {
        "colab": {
          "base_uri": "https://localhost:8080/"
        },
        "id": "n8LAvqORBFMt",
        "outputId": "31d91b09-92e2-466e-e1d4-afe7c9ff8d28"
      },
      "outputs": [
        {
          "output_type": "stream",
          "name": "stdout",
          "text": [
            "207014\n",
            "1616936\n"
          ]
        }
      ],
      "source": [
        "print(sum(total_freq_tox.values()))\n",
        "print(sum(total_freq_sent.values()))"
      ]
    },
    {
      "cell_type": "markdown",
      "metadata": {
        "id": "QGIABKSUQgFe"
      },
      "source": [
        "Так как абсолютные частоты по датасетам сильно разнятся, посчитаем относительные"
      ]
    },
    {
      "cell_type": "code",
      "execution_count": 12,
      "metadata": {
        "collapsed": true,
        "id": "Lp1xR3xr46ka"
      },
      "outputs": [],
      "source": [
        "label_freqs_tox_per = {}\n",
        "for k, v in label_freqs_tox.items():\n",
        "  v = {key : value/sum(total_freq_tox.values()) for key, value in v.items()}\n",
        "  v = v = {k: v for k, v in sorted(v.items(), key=lambda item: item[1], reverse=True)}\n",
        "  label_freqs_tox_per[k] = v\n",
        "\n",
        "label_freqs_sent_per = {}\n",
        "for k, v in label_freqs_sent.items():\n",
        "  v = {key : value/sum(total_freq_sent.values()) for key, value in v.items()}\n",
        "  v = {k: v for k, v in sorted(v.items(), key=lambda item: item[1], reverse=True)}\n",
        "  label_freqs_sent_per[k] = v\n",
        "\n",
        "total_freq_tox_per = {}\n",
        "for k, v in total_freq_tox.items():\n",
        "    total_freq_tox_per[k] = v/sum(total_freq_tox.values())\n",
        "total_freq_tox_per = {k: v for k, v in sorted(total_freq_tox_per.items(), key=lambda item: item[1], reverse=True)}\n",
        "\n",
        "total_freq_sent_per = {}\n",
        "for k, v in total_freq_sent.items():\n",
        "    total_freq_sent_per[k] = v/sum(total_freq_tox.values())\n",
        "total_freq_sent_per = {k: v for k, v in sorted(total_freq_sent_per.items(), key=lambda item: item[1], reverse=True)}"
      ]
    },
    {
      "cell_type": "markdown",
      "metadata": {
        "id": "6sENsUFcRId4"
      },
      "source": [
        "Функция для подсчета меры Шайкевича\n",
        "\n",
        "Я решила попробовать убрать слово \"фильм\", потому что оно овер частотно в датасете для сентимента и портит картину. Заодно убрала еще три самых частотных везде, но это картину не поменяло все равно."
      ]
    },
    {
      "cell_type": "code",
      "execution_count": 13,
      "metadata": {
        "id": "Rx-RW5Jxsi83"
      },
      "outputs": [],
      "source": [
        "def compute_shaykevich_metric(corpus1_counts, corpus2_counts, top_n=1000):\n",
        "    all_lemmas = set(corpus1_counts) | set(corpus2_counts)\n",
        "    combined_freq = {\n",
        "        lemma: corpus1_counts.get(lemma, 0) + corpus2_counts.get(lemma, 0)\n",
        "        for lemma in all_lemmas\n",
        "    }\n",
        "\n",
        "    top_lemmas = sorted(combined_freq.items(), key=lambda x: x[1], reverse=True)[:top_n]\n",
        "    top_words = [lemma for lemma, _ in top_lemmas ]\n",
        "\n",
        "    top_words.remove('фильм')\n",
        "    top_words.remove('человек')\n",
        "    top_words.remove('хороший')\n",
        "    top_words.remove('год')\n",
        "    print(top_words)\n",
        "\n",
        "    sum_min = 0\n",
        "    sum_avg = 0\n",
        "    for lemma in top_words:\n",
        "        f1 = corpus1_counts.get(lemma, 0)\n",
        "        f2 = corpus2_counts.get(lemma, 0)\n",
        "        sum_min += min(f1, f2)\n",
        "        sum_avg += (f1 + f2) / 2\n",
        "\n",
        "    if sum_avg == 0:\n",
        "        return 0.0\n",
        "\n",
        "    return sum_min / sum_avg"
      ]
    },
    {
      "cell_type": "markdown",
      "metadata": {
        "id": "HjBWpCESRMsk"
      },
      "source": [
        "Считаем меры для разных сочетаний: первые две - по датасетам в целом, дальще комбинируем датасеты по лэйблам. Например, sent_tox_bad_1 - берем список из сентимента по лэйблу Bad и список из токсичности по лэйблу 1.0\n",
        "\n",
        "Для сравнения я решила игнорить нейтральные отзывы в сентименте, хотя можно было бы, например, объединить их с положительными, хотя не думаю, что это сильно бы что-то поменяло"
      ]
    },
    {
      "cell_type": "code",
      "execution_count": 14,
      "metadata": {
        "colab": {
          "base_uri": "https://localhost:8080/"
        },
        "id": "M0frPQKn_JDv",
        "outputId": "3284aec4-d408-45f6-e8b9-dc34c3ffabf1"
      },
      "outputs": [
        {
          "output_type": "stream",
          "name": "stdout",
          "text": [
            "['герой', 'актёр', 'смотреть', 'жизнь', 'главный', 'время', 'сказать', 'кино', 'сюжет', 'первый', 'картина', 'ни', 'игра', 'роль', 'раз', 'говорить', 'история', 'просмотр', 'посмотреть', 'зритель', 'знать', 'режиссёр', 'мир', 'персонаж', 'видеть', 'конец', 'сцена', 'сделать', 'слово', 'момент', 'любовь', 'часть', 'интересный', 'стоить', 'два', 'снять', 'думать', 'новый', 'дело', 'ребёнок', 'понравиться', 'работа', 'увидеть', 'делать', 'образ', 'играть', 'место', 'друг', 'понять', 'получиться', 'сыграть', 'любить', 'показать', 'актёрский', 'второй', 'плохой', 'понимать', 'общий', 'идея', 'сценарий', 'каждый', 'музыка', 'экран', 'смысл', 'чувство', 'минута', 'смешной', 'хотеться', 'глаз', 'лицо', 'книга', 'последний', 'юмор', 'взгляд', 'снимать', 'являться', 'шедевр', 'происходить', 'душа', 'деньга', 'создатель', 'полный', 'настолько', 'идти', 'вопрос', 'итог', 'день', 'совершенно', 'жить', 'мультфильм', 'красивый', 'кинематограф', 'сказка', 'шутка', 'впечатление', 'больший', 'эмоция', 'единственный', 'сторона', 'большой', 'комедия', 'абсолютно', 'остаться', 'жанр', 'пытаться', 'решить', 'считать', 'какой', 'прекрасный', 'хотеть', 'начинать', 'тема', 'голова', 'час', 'мысль', 'добрый', 'вызывать', 'ждать', 'случай', 'оказаться', 'пародия', 'найти', 'любимый', 'американский', 'русский', 'девушка', 'выглядеть', 'спецэффект', 'становиться', 'действие', 'оценка', 'получить', 'великолепный', 'кадр', 'страшный', 'внимание', 'смочь', 'выйти', 'сильный', 'правда', 'холмс', 'похожий', 'война', 'никакой', 'понятный', 'назвать', 'сложный', 'атмосфера', 'сила', 'уровень', 'показывать', 'отношение', 'отец', 'рука', 'очередной', 'отличный', 'простой', 'наверное', 'проблема', 'важный', 'событие', 'верить', 'маленький', 'великий', 'известный', 'мнение', 'пара', 'т', 'взять', 'создать', 'дать', 'план', 'лента', 'огромный', 'диалог', 'заставлять', 'разный', 'сердце', 'сон', 'вид', 'оставаться', 'поставить', 'ощущение', 'российский', 'пойти', 'героиня', 'сценарист', 'высокий', 'давать', 'начать', 'ожидать', 'глупый', 'плюс', 'имя', 'отметить', 'честно', 'старый', 'лучше', 'удаться', 'начало', 'современный', 'желание', 'вместе', 'качество', 'кинотеатр', 'лично', 'сильно', 'замечательный', 'яркий', 'настоящий', 'ужасный', 'написать', 'оскар', 'практически', 'иметь', 'название', 'приятный', 'парень', 'весьма', 'ужас', 'писать', 'странный', 'реальный', 'забыть', 'рецензия', 'фраза', 'молодой', 'женщина', 'автор', 'обычный', 'невозможный', 'несмотря', 'гениальный', 'город', 'судьба', 'три', 'равный', 'непонятный', 'творение', 'драма', 'смерть', 'достойный', 'смотреться', 'линия', 'ситуация', 'детский', 'тёмный', 'отзыв', 'дом', 'боевик', 'человеческий', 'эпизод', 'вещь', 'способный', 'семья', 'остров', 'положительный', 'произведение', 'полностью', 'протяжение', 'талант', 'столько', 'нравиться', 'читать', 'неплохой', 'количество', 'песня', 'скучный', 'пример', 'мера', 'счастие', 'нужный', 'сожаление', 'свет', 'надежда', 'жаль', 'спасибо', 'сюжетный', 'шерлок', 'принцип', 'характер', 'показаться', 'финал', 'видимо', 'исполнение', 'путь', 'целое', 'страна', 'отлично', 'реальность', 'детство', 'тупой', 'минус', 'глубокий', 'состав', 'оригинальный', 'ставить', 'король', 'собственный', 'живой', 'заставить', 'лёгкий', 'оставить', 'попытка', 'бог', 'брат', 'сидеть', 'эффект', 'заметить', 'экранизация', 'цель', 'третий', 'собака', 'бюджет', 'надеяться', 'актриса', 'большинство', 'фон', 'жена', 'трудный', 'основный', 'смеяться', 'уметь', 'сын', 'взрослый', 'представить', 'чёрный', 'стать', 'бред', 'факт', 'ум', 'удовольствие', 'столь', 'напоминать', 'прийти', 'мозг', 'помнить', 'успех', 'дух', 'близкий', 'получаться', 'некий', 'тяжёлый', 'готовый', 'работать', 'мальчик', 'речь', 'мечта', 'страх', 'отдельный', 'половина', 'стараться', 'серьёзный', 'мастер', 'вызвать', 'убить', 'триллер', 'заслуживать', 'продолжение', 'самым', 'причина', 'проект', 'нормальный', 'девочка', 'концовка', 'россия', 'ход', 'выходить', 'поверить', 'справиться', 'передать', 'слеза', 'возможность', 'присутствовать', 'умный', 'достаточно', 'порадовать', 'вспомнить', 'ходить', 'удивительный', 'целый', 'представлять', 'машина', 'многих', 'отсутствие', 'обязательно', 'ричи', 'постоянно', 'относиться', 'оставлять', 'зал', 'картинка', 'улыбка', 'отечественный', 'общество', 'остальные', 'талантливый', 'чувствовать', 'ответ', 'появляться', 'актёры', 'саундтрек', 'забавный', 'самые', 'съёмка', 'джон', 'множество', 'пройти', 'называть', 'спасти', 'милый', 'наблюдать', 'оказываться', 'узнать', 'попасть', 'появиться', 'стиль', 'мужчина', 'век', 'кристофер', 'миллион', 'нолан', 'джек', 'потерять', 'касаться', 'память', 'джокер', 'находиться', 'белый', 'подумать', 'бояться', 'трогательный', 'народ', 'хватать', 'мировой', 'особый', 'вывод', 'балл', 'роман', 'советский', 'помочь', 'майкл', 'режиссура', 'будущее', 'захватывать', 'искать', 'голос', 'существовать', 'потратить', 'зло', 'рассказывать', 'помощь', 'смех', 'получать', 'роберт', 'рыцарь', 'уйти', 'очередь', 'море', 'выход', 'качественный', 'бондарчук', 'мать', 'поступок', 'чудо', 'искусство', 'прийтись', 'свобода', 'гай', 'всякий', 'интерес', 'тип', 'клуб', 'злодей', 'восторг', 'банальный', 'возникать', 'приключение', 'лишний', 'задуматься', 'куча', 'мультик', 'право', 'начинаться', 'звучать', 'против', 'другого', 'точка', 'идеальный', 'красота', 'придумать', 'сравнение', 'дружба', 'трейлер', 'исключение', 'убивать', 'финальный', 'слышать', 'насколько', 'выбор', 'отрицательный', 'счастливый', 'повод', 'создавать', 'советовать', 'радовать', 'земля', 'ясный', 'подобный', 'личность', 'костюм', 'музыкальный', 'буквально', 'родитель', 'ожидание', 'прекрасно', 'чистый', 'группа', 'сниматься', 'декорация', 'потрясать', 'подходить', 'приходиться', 'компания', 'друга', 'порядок', 'доктор', 'следующий', 'весёлый', 'любитель', 'возраст', 'слабый', 'плакать', 'ошибка', 'голливудский', 'ватсон', 'изменить', 'предыдущий', 'словно', 'жестокий', 'род', 'рассказать', 'настроение', 'блокбастер', 'классика', 'титр', 'радость', 'деталь', 'необычный', 'естественно', 'развитие', 'вести', 'невероятный', 'высоко', 'счёт', 'использовать', 'добавить', 'камера', 'кровь', 'судить', 'дочь', 'реклама', 'связать', 'список', 'голливуд', 'звезда', 'суть', 'раскрыть', 'уве', 'находить', 'грустный', 'оператор', 'пол', 'удачный', 'язык', 'подобрать', 'ладно', 'намного', 'долгий', 'плохо', 'закончиться', 'крайне', 'приходить', 'отвратительный', 'прямо', 'продолжать', 'участие', 'правильный', 'помогать', 'светлый', 'компьютерный', 'результат', 'середина', 'секунда', 'ценность', 'порой', 'брать', 'забывать', 'боль', 'бессмысленный', 'удивить', 'число', 'первых', 'разум', 'режиссёрский', 'слава', 'нолана', 'держать', 'добро', 'простить', 'глубина', 'вечный', 'желать', 'уважение', 'хватить', 'оригинал', 'крайний', 'поклонник', 'бездарный', 'повествование', 'малый', 'дорогой', 'волшебный', 'постановка', 'произойти', 'игрушка', 'согласиться', 'криминальный', 'поразить', 'сомнение', 'нога', 'драка', 'искренне', 'матрица', 'создание', 'нести', 'фантазия', 'чёрт', 'прошлое', 'откровенно', 'мечтать', 'прочитать', 'америка', 'настоящему', 'спасать', 'уверенный', 'оценить', 'небольшой', 'графика', 'появление', 'каменный', 'разговор', 'сознание', 'пересматривать', 'истинный', 'отдельно', 'правило', 'состояние', 'дикаприо', 'хит', 'пират', 'цвет', 'вернуться', 'начаться', 'чужой', 'дисней', 'проходить', 'злой', 'собрать', 'планета', 'крутой', 'неплохо', 'американец', 'достоинство', 'детектив', 'корабль', 'задача', 'ряд', 'переживать', 'вера', 'небо', 'ночь', 'умереть', 'борьба', 'верный', 'улица', 'разочаровать', 'фантастический', 'невероятно', 'элемент', 'бороться', 'личный', 'мораль', 'отличие', 'жалко', 'сериал', 'принять', 'запомниться', 'пустой', 'определённый', 'великолепно', 'творчество', 'жизненный', 'масса', 'недостаток', 'отличаться', 'знакомый', 'точнее', 'скорсезе', 'фанат', 'раздражать', 'робот', 'суметь', 'случиться', 'решать', 'операторский', 'впервые', 'поражать', 'убийство', 'дешёвый', 'описать', 'сходить', 'сравнивать', 'исключительно', 'рейтинг', 'пересмотреть', 'золотой', 'наивный', 'иван', 'фантастика', 'обидный', 'пять', 'степень', 'команда', 'разочарование', 'некоторый', 'вкус', 'продюсер', 'пошлый', 'выражение', 'исполнить', 'заниматься', 'крупный', 'звук', 'вспоминать', 'впечатлить', 'любовный', 'сопровождение', 'попадать', 'подросток', 'остальных', 'способность', 'прокат', 'шикарный', 'бедный', 'знаменитый', 'природа', 'далёкий', 'поведение', 'труд', 'основа', 'рекомендовать', 'кольцо', 'задумка', 'одновременно', 'закон', 'сегодня', 'бой', 'напряжение', 'классический', 'тонкий', 'способ', 'внутренний', 'мастерство', 'дьявол', 'подруга', 'решение', 'прошлый', 'испытывать', 'визуальный', 'жертва', 'шоу', 'выбрать', 'неожиданный', 'учить', 'взрыв', 'хозяин', 'остальное', 'максим', 'тело', 'обладать', 'сомневаться', 'награда', 'нелепый', 'мрачный', 'солдат', 'браво', 'поиск', 'быстро', 'трилогия', 'рот', 'загадка', 'вторых', 'воспоминание', 'серия', 'внутри', 'поколение', 'погоня', 'дауни', 'открыть', 'жестокость', 'провал', 'вода', 'печальный', 'воспринимать', 'редко', 'семь', 'претензия', 'стоять', 'зрение', 'ваш', 'система', 'отдать', 'английский', 'философский', 'убийца', 'богатый', 'крыса', 'зелёный', 'минимум', 'говориться', 'больной', 'правильно', 'затянуть', 'аудитория', 'различный', 'враг', 'низкий', 'действовать', 'экранный', 'сложиться', 'признать', 'чей', 'версия', 'жалкий', 'экшен', 'объяснить', 'возникнуть', 'пёс', 'убогий', 'хатико', 'психологический', 'цветок', 'обитаемый', 'искренний', 'тюрьма', 'постоянный', 'тысяча', 'наверно', 'стена', 'безумно', 'мелочь', 'особенный', 'переживание', 'собираться', 'спилберг', 'достаточный', 'средний', 'художественный', 'страдать', 'позволять', 'драматический', 'власть', 'лес', 'неизвестный', 'мистер', 'зрелище', 'культовый', 'постараться', 'сбор', 'полтора', 'душевный', 'студия', 'рассказ', 'популярный', 'форма', 'продукт', 'бежать', 'ди', 'отвращение', 'шанс', 'анимация', 'восхищаться', 'слушать', 'улыбаться', 'философия', 'несколько', 'меняться', 'воля', 'услышать', 'кой', 'окружать', 'женский', 'шаг', 'сиквел', 'военный', 'дорога', 'дикий', 'случайно', 'михаил', 'тарантино', 'щелкунчик', 'глупость', 'джим', 'стремиться', 'бойцовский', 'смит', 'представление', 'доказать', 'уникальный', 'терять', 'плоский', 'семейный', 'узнавать', 'интрига', 'внешний', 'побег', 'грань', 'навсегда', 'животное', 'состоять', 'равнодушный', 'ребята', 'неприятный', 'понимание', 'самую', 'отсутствовать', 'десяток', 'привыкнуть', 'связь', 'создаваться', 'опыт', 'ужасно', 'критик', 'доброта', 'понятие', 'течение', 'подарить', 'ухо', 'вариант', 'привести', 'телевизор', 'экшн', 'мама', 'традиция', 'композитор', 'каприо', 'комикс', 'принимать', 'досмотреть', 'красиво', 'доллар', 'эдвард', 'исторический', 'высота', 'посмеяться', 'терминатор', 'палец', 'выделить', 'существо', 'набор', 'школа', 'откровенный', 'позволить', 'несчастный', 'эмоциональный', 'неинтересный', 'стыдно', 'истина', 'смело', 'здоровый', 'товарищ', 'типичный', 'тратить', 'пошлость', 'провести', 'пейзаж', 'процесс', 'кевин', 'поворот', 'пугать', 'движение', 'успеть', 'карьера', 'волос', 'комедийный']\n",
            "['раз', 'время', 'знать', 'делать', 'работать', 'говорить', 'деньга', 'работа', 'дело', 'первый', 'два', 'сделать', 'думать', 'ни', 'сказать', 'случай', 'день', 'стоить', 'новый', 'место', 'видеть', 'страна', 'смотреть', 'ребёнок', 'проблема', 'идти', 'жить', 'жизнь', 'цена', 'вопрос', 'россия', 'город', 'интересный', 'час', 'нормальный', 'какой', 'дом', 'месяц', 'машина', 'рубль', 'нужный', 'понимать', 'слово', 'хохол', 'последний', 'писать', 'пост', 'найти', 'пара', 'купить', 'разный', 'второй', 'хотеть', 'спасибо', 'мир', 'часть', 'понять', 'игра', 'считать', 'вода', 'система', 'получить', 'сторона', 'дать', 'посмотреть', 'русский', 'тип', 'тред', 'факт', 'написать', 'три', 'больший', 'брать', 'читать', 'помнить', 'ситуация', 'получать', 'давать', 'рука', 'взять', 'закон', 'начать', 'платить', 'пойти', 'телефон', 'остаться', 'покупать', 'интернет', 'сша', 'магазин', 'тупой', 'момент', 'дешёвый', 'уровень', 'обычный', 'дорогой', 'вариант', 'компания', 'история', 'друг', 'равный', 'счёт', 'смысл', 'сидеть', 'право', 'плохой', 'банк', 'конец', 'вид', 'тысяча', 'правило', 'полный', 'ходить', 'видео', 'иметь', 'никакой', 'минута', 'квартира', 'нахуй', 'тема', 'хуй', 'правда', 'карта', 'итог', 'старый', 'государство', 'использовать', 'большой', 'общий', 'зарплата', 'норма', 'пытаться', 'народ', 'пример', 'сложный', 'женщина', 'лицо', 'говно', 'главный', 'качество', 'вещь', 'отношение', 'условие', 'белый', 'дорога', 'решить', 'рынок', 'любить', 'суд', 'неделя', 'стоять', 'школа', 'каждый', 'причина', 'играть', 'возможность', 'заниматься', 'реклама', 'москва', 'пройти', 'получаться', 'производство', 'сильно', 'являться', 'лучше', 'большинство', 'принцип', 'выйти', 'средний', 'нравиться', 'прийти', 'сила', 'плюс', 'похожий', 'понятный', 'товар', 'всякий', 'количество', 'против', 'голова', 'пиздец', 'блядь', 'сайт', 'начинать', 'идея', 'примерно', 'блять', 'ставить', 'пользоваться', 'выходить', 'основный', 'маленький', 'высокий', 'поставить', 'важный', 'речь', 'пол', 'оказаться', 'результат', 'куча', 'камера', 'статья', 'видимо', 'высоко', 'реально', 'земля', 'ваш', 'решение', 'завод', 'ждать', 'мнение', 'искать', 'хуйня', 'стоимость', 'ремонт', 'увидеть', 'рф', 'процент', 'улица', 'показывать', 'собака', 'власть', 'постоянно', 'номер', 'называть', 'смочь', 'фото', 'украина', 'девушка', 'курс', 'скорость', 'население', 'твой', 'число', 'ссср', 'война', 'договор', 'сеть', 'готовый', 'жопа', 'российский', 'сумма', 'китай', 'ехать', 'кредит', 'доход', 'выбор', 'появиться', 'забыть', 'клиент', 'срок', 'дебил', 'км', 'советский', 'менять', 'канал', 'мозг', 'мужик', 'минимум', 'показать', 'наверное', 'выглядеть', 'жена', 'язык', 'хватать', 'получиться', 'продукт', 'простой', 'информация', 'книга', 'услуга', 'продавать', 'группа', 'родитель', 'уйти', 'глаз', 'быдло', 'проект', 'автор', 'существовать', 'верить', 'картинка', 'правильно', 'точка', 'мужчина', 'желание', 'цель', 'столько', 'происходить', 'состояние', 'рабочий', 'удобный', 'хз', 'животное', 'ездить', 'регион', 'ответ', 'судить', 'образ', 'лично', 'проходить', 'зависеть', 'налог', 'современный', 'реальный', 'предлагать', 'метр', 'разница', 'помощь', 'план', 'пидор', 'путин', 'лол', 'район', 'половина', 'открыть', 'отдельный', 'пять', 'вместе', 'прямо', 'повод', 'становиться', 'центр', 'личный', 'семья', 'приходить', 'лёгкий', 'новость', 'надеяться', 'документ', 'класс', 'модель', 'военный', 'понравиться', 'чёрный', 'третий', 'стать', 'ёбаный', 'узнать', 'размер', 'название', 'уметь', 'врач', 'порядок', 'полиция', 'построить', 'средство', 'выход', 'мелкий', 'хватить', 'быстро', 'местный', 'ночь', 'штат', 'штраф', 'целое', 'огромный', 'красивый', 'практически', 'снять', 'дверь', 'ролик', 'снимать', 'процесс', 'бизнес', 'парень', 'мера', 'принять', 'просить', 'опыт', 'создать', 'область', 'возраст', 'самолёт', 'тариф', 'вывод', 'закрыть', 'известный', 'странный', 'век', 'нормально', 'намного', 'полностью', 'прошлый', 'слышать', 'рост', 'ссылка', 'близкий', 'ошибка', 'пикабу', 'помочь', 'продажа', 'суть', 'уходить', 'требовать', 'рассказать', 'очередь', 'правый', 'бог', 'малый', 'добавить', 'оставаться', 'минус', 'указать', 'страшный', 'нихуя', 'стена', 'вести', 'миллион', 'честно', 'общество', 'контент', 'тяжёлый', 'авто', 'насколько', 'частный', 'че', 'сильный', 'небольшой', 'согласный', 'свет', 'мать', 'снег', 'еда', 'использование', 'сегодня', 'попасть', 'цвет', 'правильный', 'проверить', 'свободный', 'кот', 'следующий', 'сосед', 'организация', 'мама', 'наличие', 'гражданин', 'связь', 'назвать', 'нога', 'аппарат', 'отсутствие', 'прийтись', 'президент', 'материал', 'очередной', 'ладно', 'действие', 'находиться', 'выгодный', 'движение', 'мешать', 'запретить', 'сука', 'способ', 'сотрудник', 'учитывать', 'коммент', 'свобода', 'поехать', 'вашингтон', 'пункт', 'привести', 'детство', 'мм', 'определённый', 'технология', 'зп', 'режим', 'отличный', 'продать', 'оставить', 'здоровье', 'ресурс', 'внимание', 'придумать', 'март', 'доллар', 'целый', 'водитель', 'быстрый', 'музыка', 'пользователь', 'образование', 'развитие', 'смешной', 'позволять', 'тс', 'сравнение', 'смерть', 'линия', 'лето', 'утро', 'бояться', 'температура', 'отвечать', 'оружие', 'модератор', 'умный', 'программа', 'автомобиль', 'вернуть', 'билет', 'отправить', 'виноватый', 'использоваться', 'зайти', 'крутой', 'сожаление', 'форма', 'низкий', 'убить', 'оператор', 'мост', 'территория', 'красный', 'отличаться', 'собственный', 'покупка', 'отец', 'объяснить', 'зима', 'защита', 'подумать', 'служба', 'учиться', 'тупо', 'деревня', 'схема', 'путь', 'подобный', 'слушать', 'сообщение', 'приходиться', 'достаточно', 'чистый', 'называться', 'продолжать', 'труд', 'молодой', 'мысль', 'сюда', 'серия', 'пить', 'настолько', 'связать', 'производитель', 'доставка', 'похуй', 'работник', 'остальные', 'остальное', 'окно', 'обязательно', 'крайний', 'прибыль', 'ок', 'неплохой', 'принимать', 'самые', 'источник', 'дома', 'заявление', 'европа', 'дегенерат', 'операция', 'рот', 'штука', 'строить', 'совершенно', 'помогать', 'ебать', 'невозможный', 'предложить', 'муж', 'бля', 'требование', 'бесплатный', 'бутылка', 'спокойно', 'считаться', 'чувак', 'транспорт', 'высота', 'деталь', 'вспомнить', 'вес', 'почта', 'вкус', 'представлять', 'заметить', 'держать', 'блин', 'течение', 'деятельность', 'начаться', 'крупный', 'техника', 'отдать', 'достаточный', 'свинья', 'хотеться', 'попытка', 'собирать', 'девочка', 'ответить', 'говна', 'заказ', 'вырасти', 'выше', 'попробовать', 'энергия', 'вызывать', 'комп', 'тратить', 'относиться', 'установить', 'совок', 'десяток', 'единственный', 'расход', 'объём', 'армия', 'поезд', 'бумага', 'мясо', 'оплата', 'спросить', 'масса', 'список', 'предприятие', 'спрашивать', 'батарея', 'обратно', 'сервис', 'согласно', 'интерес', 'текст', 'перестать', 'лежать', 'предложение', 'млн', 'курить', 'умереть', 'статистика', 'поддерживать', 'копейка', 'бюджет', 'нарушение', 'цифра', 'зрение', 'метро', 'показатель', 'полезный', 'комментарий', 'баба', 'долгий', 'экономика', 'позволить', 'рейтинг', 'учёт', 'китайский', 'секунда', 'почитать', 'забрать', 'решать', 'произойти', 'выбирать', 'максимум', 'хозяин', 'практика', 'оплатить', 'мразь', 'жаль', 'долг', 'экономический', 'легко', 'расти', 'владелец', 'взгляд', 'дорого', 'инструмент', 'ход', 'зуб', 'пакет', 'версия', 'круг', 'адекватный', 'представить', 'нагрузка', 'ясный', 'перейти', 'чисто', 'пенсия', 'живой', 'шутка', 'уверенный', 'поход', 'жирный', 'бесплатно', 'собрать', 'конкретный', 'нести', 'провести', 'поменять', 'ряд', 'ядерный', 'кг', 'устройство', 'газ', 'крайне', 'пиво', 'граница', 'лезть', 'детский', 'сравнивать', 'рассказывать', 'автобус', 'кровь', 'безопасность', 'направление', 'внутри', 'устроить', 'заплатить', 'американский', 'комната', 'многих', 'гореть', 'край', 'душа', 'фирма', 'житель', 'капитализм', 'готовить', 'совет', 'понятие', 'поколение', 'возможный', 'пизда', 'оба', 'подъезд', 'скидка', 'двигатель', 'ютубе', 'исследование', 'негр', 'крым', 'теория', 'анон', 'официальный', 'сезон', 'выбрать', 'культура', 'установка', 'подарок', 'подходить', 'расчёт', 'задача', 'весьма', 'разговор', 'имя', 'отказаться', 'общественный', 'популярный', 'тело', 'создание', 'политика', 'питер', 'смена', 'успеть', 'китаец', 'сотня', 'заходить', 'планета', 'любой', 'вечер', 'нация', 'взрослый', 'иметься', 'кухня', 'ребята', 'звонить', 'собираться', 'адрес', 'платный', 'приехать', 'экран', 'февраль', 'фотография', 'спать', 'специалист', 'удовольствие', 'мировой', 'стрим', 'переход', 'здоровый', 'фильтр', 'польза', 'действовать', 'бывший', 'участок', 'вина', 'солнце', 'т', 'добрый', 'естественно', 'обратный', 'ограничение', 'левый', 'период', 'лишний', 'оборудование', 'сообщить', 'социальный', 'член', 'знакомый', 'отличие', 'ввести', 'база', 'провод', 'медицина', 'реакция', 'сериал', 'изначально', 'рамка', 'абсолютно', 'запись', 'запад', 'полтора', 'приложение', 'проверка', 'помещение', 'прочитать', 'потратить', 'ощущение', 'начинаться', 'разу', 'пыня', 'обсуждать', 'продавец', 'убрать', 'проверять', 'наука', 'фраза', 'открытый', 'будущее', 'специально', 'описать', 'метод', 'ответственность', 'полгода', 'гарантия', 'бан', 'офис', 'шлюха', 'песня', 'треде', 'удалить', 'специальный', 'гей', 'дополнительный', 'имхо', 'заявить', 'отдавать', 'верный', 'одежда', 'внутренний', 'двор', 'страховка', 'шанс', 'покупатель', 'начальник', 'позиция', 'фон', 'коммунизм', 'четыре', 'алкоголь', 'звонок', 'школьник', 'сюжет', 'сходить', 'великий', 'товарищ', 'выходной', 'ук', 'давление', 'здание', 'советовать', 'ракета', 'кошка', 'израиль', 'падать', 'исключительно', 'питание', 'значение', 'зависимость', 'прямой', 'герой', 'постинг', 'приятный', 'станция', 'риск', 'оплачивать', 'ловить', 'угодно', 'память', 'чужой', 'рыба', 'ток', 'лес', 'холодный', 'плохо', 'создавать', 'ровно', 'открывать', 'этаж', 'спорить', 'объект', 'вчера', 'площадка', 'доля', 'имущество', 'жалко', 'молодец', 'выдавать', 'основание', 'телевизор', 'палец', 'прекрасный', 'жалоба', 'брак', 'другом', 'яндекс', 'логика', 'русня', 'гора', 'смартфон', 'сирия', 'больной', 'воздух', 'русских', 'конкретно', 'маркетинг', 'двое', 'предмет', 'серьёзный', 'площадь', 'обсуждение', 'убивать', 'включить', 'дурак', 'измениться', 'обязательный', 'фотка', 'элемент', 'существование', 'кусок', 'кредитный', 'пароль', 'влиять', 'потерять', 'компьютер', 'рад', 'доска', 'бабка', 'эффект', 'вред', 'комплекс', 'другого', 'контроль', 'мусор', 'повезти', 'бороться', 'нож', 'россиянин', 'терпи', 'паспорт', 'проститутка', 'друга', 'напомнить', 'непонятный', 'бабушка', 'зелёный', 'политический', 'носить', 'кино', 'сахар', 'сын', 'полно', 'случиться', 'доказать', 'акция', 'труба', 'даун', 'чо']\n",
            "['смотреть', 'говорить', 'сказать', 'ни', 'раз', 'первый', 'время', 'герой', 'актёр', 'знать', 'сюжет', 'главный', 'кино', 'игра', 'сделать', 'видеть', 'делать', 'русский', 'жизнь', 'думать', 'ребёнок', 'слово', 'посмотреть', 'хохол', 'дело', 'картина', 'тупой', 'часть', 'мир', 'режиссёр', 'два', 'зритель', 'плохой', 'просмотр', 'конец', 'лицо', 'понять', 'место', 'история', 'идти', 'стоить', 'снять', 'деньга', 'сцена', 'интересный', 'понимать', 'роль', 'смешной', 'какой', 'момент', 'россия', 'идея', 'играть', 'писать', 'новый', 'второй', 'персонаж', 'увидеть', 'получиться', 'хотеть', 'снимать', 'общий', 'страна', 'любить', 'вопрос', 'понравиться', 'пытаться', 'голова', 'жить', 'шутка', 'последний', 'тред', 'итог', 'минута', 'решить', 'смысл', 'друг', 'работа', 'сценарий', 'полный', 'считать', 'нахуй', 'пойти', 'тема', 'показать', 'создатель', 'дать', 'рука', 'случай', 'юмор', 'народ', 'нормальный', 'уровень', 'сказка', 'образ', 'пародия', 'очередной', 'читать', 'российский', 'день', 'книга', 'начать', 'глаз', 'абсолютно', 'экран', 'совершенно', 'выглядеть', 'единственный', 'актёрский', 'никакой', 'лучше', 'мнение', 'являться', 'час', 'понятный', 'сидеть', 'давать', 'комедия', 'ждать', 'мозг', 'хуй', 'настолько', 'блядь', 'похожий', 'пост', 'остаться', 'сторона', 'пара', 'правда', 'война', 'любовь', 'блять', 'найти', 'выйти', 'страшный', 'американский', 'хотеться', 'проблема', 'написать', 'пиздец', 'происходить', 'назвать', 'начинать', 'белый', 'кинематограф', 'работать', 'тип', 'дебил', 'больший', 'взять', 'получить', 'нужный', 'отношение', 'поставить', 'вызывать', 'называть', 'впечатление', 'старый', 'женщина', 'оказаться', 'видимо', 'против', 'мысль', 'наверное', 'иметь', 'глупый', 'большой', 'факт', 'вид', 'музыка', 'девушка', 'каждый', 'говно', 'лично', 'сыграть', 'шедевр', 'показывать', 'забыть', 'смочь', 'т', 'верить', 'спецэффект', 'чувство', 'взгляд', 'оценка', 'автор', 'хуйня', 'красивый', 'быдло', 'действие', 'известный', 'равный', 'внимание', 'пидор', 'ходить', 'собака', 'право', 'плюс', 'твой', 'ужасный', 'жанр', 'бог', 'надеяться', 'название', 'нравиться', 'сценарист', 'качество', 'непонятный', 'кадр', 'дом', 'эмоция', 'честно', 'прийти', 'жопа', 'ужас', 'ощущение', 'имя', 'украина', 'лол', 'обычный', 'кинотеатр', 'три', 'маленький', 'сила', 'пример', 'девочка', 'бред', 'убить', 'город', 'мультфильм', 'ёбаный', 'принцип', 'великий', 'путин', 'вместе', 'жаль', 'становиться', 'скучный', 'душа', 'диалог', 'героиня', 'создать', 'сильно', 'ожидать', 'неплохой', 'отец', 'план', 'сука', 'мужик', 'попытка', 'умный', 'рот', 'желание', 'уметь', 'всякий', 'сон', 'язык', 'бюджет', 'столько', 'странный', 'чёрный', 'детский', 'сложный', 'ваш', 'ставить', 'ответ', 'получаться', 'минус', 'советский', 'современный', 'судить', 'причина', 'напоминать', 'ситуация', 'мать', 'получать', 'парень', 'помнить', 'добрый', 'третий', 'куча', 'дегенерат', 'баба', 'высокий', 'смеяться', 'ладно', 'лента', 'речь', 'половина', 'вывод', 'большинство', 'целое', 'власть', 'заметить', 'отсутствие', 'вещь', 'оставаться', 'мужчина', 'интернет', 'отзыв', 'простой', 'рецензия', 'картинка', 'смерть', 'собственный', 'фраза', 'творение', 'выходить', 'уйти', 'готовый', 'группа', 'практически', 'правильно', 'земля', 'машина', 'огромный', 'важный', 'мера', 'повод', 'любимый', 'придумать', 'хватить', 'сожаление', 'похуй', 'относиться', 'разный', 'основный', 'реальный', 'свет', 'достойный', 'постоянно', 'весьма', 'песня', 'начало', 'закон', 'спасибо', 'вызвать', 'слышать', 'животное', 'сюда', 'век', 'появиться', 'свинья', 'че', 'ебать', 'ролик', 'количество', 'прямо', 'остальные', 'боевик', 'отечественный', 'полностью', 'семья', 'попасть', 'проект', 'правило', 'молодой', 'нихуя', 'искать', 'жена', 'положительный', 'убивать', 'мразь', 'стать', 'вспомнить', 'остров', 'нога', 'удаться', 'линия', 'прекрасный', 'реклама', 'цель', 'стараться', 'представлять', 'фон', 'событие', 'потратить', 'тёмный', 'сильный', 'убогий', 'продолжать', 'совок', 'миллион', 'протяжение', 'представить', 'бля', 'хватать', 'вести', 'некий', 'сравнение', 'возможность', 'дешёвый', 'коммент', 'пол', 'выбор', 'свобода', 'брат', 'государство', 'бондарчук', 'население', 'пройти', 'нести', 'отвратительный', 'забавный', 'эпизод', 'смотреться', 'оригинальный', 'реально', 'живой', 'заставить', 'русских', 'порядок', 'канал', 'кровь', 'продолжение', 'плохо', 'заниматься', 'подумать', 'тысяча', 'дурак', 'эффект', 'слабый', 'холмс', 'бояться', 'нация', 'камера', 'произведение', 'самые', 'видео', 'лёгкий', 'говна', 'типичный', 'шлюха', 'негр', 'приятный', 'рф', 'талант', 'жалко', 'ясный', 'идиот', 'показаться', 'принять', 'суть', 'еврей', 'серьёзный', 'улица', 'норма', 'смех', 'подобный', 'взрослый', 'больной', 'целый', 'отметить', 'пять', 'правый', 'сюжетный', 'мальчик', 'счёт', 'откровенно', 'существовать', 'ум', 'достаточно', 'любитель', 'результат', 'ход', 'пикабу', 'русня', 'следующий', 'школа', 'простить', 'атмосфера', 'зал', 'суд', 'оставить', 'стоять', 'интерес', 'слава', 'невозможный', 'общество', 'пизда', 'уве', 'спасти', 'рассказать', 'реальность', 'ненавидеть', 'стыдно', 'способный', 'культура', 'бездарный', 'чёрт', 'поехать', 'заставлять', 'дерьмо', 'голос', 'съёмка', 'даун', 'поверить', 'состав', 'выход', 'терпи', 'пыня', 'виноватый', 'экранизация', 'дорогой', 'использовать', 'банальный', 'надежда', 'ночь', 'очередь', 'мировой', 'настоящий', 'обидный', 'балл', 'оказываться', 'отличный', 'сын', 'самым', 'масса', 'удовольствие', 'касаться', 'мастер', 'член', 'чувак', 'гей', 'добавить', 'русские', 'точка', 'малолетний', 'детство', 'трейлер', 'появляться', 'путь', 'отдельный', 'просить', 'несмотря', 'высоко', 'гениальный', 'чужой', 'анон', 'компания', 'узнать', 'начаться', 'дорога', 'исполнение', 'средний', 'фантазия', 'платить', 'крайне', 'местный', 'бессмысленный', 'помощь', 'драма', 'малый', 'популярный', 'сниматься', 'сша', 'ошибка', 'быстро', 'александр', 'каменный', 'мама', 'актриса', 'финал', 'стиль', 'жид', 'развитие', 'отвечать', 'сегодня', 'клуб', 'трудный', 'связать', 'жалкий', 'присутствовать', 'яркий', 'жирный', 'неприятный', 'максим', 'объяснить', 'сообщение', 'комментарий', 'другого', 'слушать', 'актёры', 'родитель', 'вода', 'аудитория', 'начинаться', 'москва', 'создавать', 'тупо', 'крутой', 'клоун', 'хозяин', 'адекватный', 'чистый', 'ехать', 'закончиться', 'близкий', 'лезть', 'тяжёлый', 'число', 'создание', 'урод', 'сайт', 'намного', 'остальное', 'чудо', 'ответить', 'отдать', 'купить', 'фанат', 'дух', 'запад', 'советовать', 'отрицательный', 'предыдущий', 'оружие', 'порадовать', 'первых', 'месяц', 'прошлый', 'состояние', 'президент', 'пустой', 'вариант', 'господин', 'крым', 'особый', 'обязательно', 'приходить', 'минимум', 'лишний', 'помочь', 'прочитать', 'женский', 'що', 'возникать', 'прийтись', 'оскар', 'кусок', 'характер', 'заслуживать', 'тратить', 'поддерживать', 'столь', 'поведение', 'армия', 'качественный', 'король', 'раздражать', 'судьба', 'враг', 'наблюдать', 'рейтинг', 'рассказывать', 'исключительно', 'подруга', 'милый', 'сериал', 'голливудский', 'удалить', 'телевизор', 'модератор', 'мусор', 'низкий', 'стрим', 'пидорас', 'приходиться', 'концовка', 'наверно', 'помойка', 'моча', 'угодно', 'форма', 'школьник', 'десяток', 'американец', 'блокбастер', 'доктор', 'многих', 'личность', 'обезьяна', 'личный', 'участие', 'откровенный', 'список', 'шерлок', 'умереть', 'весёлый', 'ожидание', 'понятие', 'товарищ', 'правильный', 'костюм', 'исключение', 'оператор', 'претензия', 'рашке', 'борьба', 'палец', 'логика', 'доска', 'дочь', 'рубль', 'естественно', 'терпеть', 'коммунист', 'решать', 'звучать', 'иван', 'согласиться', 'улыбка', 'подходить', 'маска', 'привести', 'бедный', 'разочарование', 'волос', 'разговор', 'хохлы', 'ебал', 'роман', 'мораль', 'декорация', 'планета', 'середина', 'крайний', 'звезда', 'успех', 'номер', 'свободный', 'оставлять', 'сердце', 'брать', 'злодей', 'желать', 'обсуждать', 'петух', 'отличаться', 'полиция', 'неплохо', 'ссылка', 'выражение', 'запретить', 'солдат', 'вторых', 'глубокий', 'военный', 'отличие', 'пиндос', 'разочаровать', 'тело', 'будущее', 'плоский', 'труд', 'обосрался', 'треде', 'глупость', 'счастие', 'лес', 'шоу', 'страх', 'политический', 'компьютерный', 'разница', 'существование', 'произойти', 'искренне', 'человеческий', 'пошлый', 'провал', 'учиться', 'продюсер', 'западный', 'крыса', 'собрать', 'находиться', 'рад', 'построить', 'полтора', 'замечательный', 'традиция', 'система', 'ряд', 'поклонник', 'проходить', 'творчество', 'коммунизм', 'степень', 'шизик', 'курс', 'чурка', 'треды', 'хуя', 'обитаемый', 'держать', 'ухо', 'зло', 'злой', 'ссср', 'бутылка', 'позволять', 'мерзкий', 'убийство', 'зайти', 'гореть', 'дурачок', 'нормально', 'бороться', 'вернуться', 'оригинал', 'секс', 'поколение', 'сходить', 'устроить', 'чувствовать', 'мелкий', 'продукт', 'буквально', 'настроение', 'выбирать', 'спрашивать', 'извинить', 'предлагать', 'сосать', 'драка', 'друга', 'педофил', 'дикий', 'тупость', 'зрение', 'украинец', 'движение', 'звук', 'искусство', 'финальный', 'зарплата', 'спасать', 'триллер', 'тварь', 'нелепый', 'называться', 'далёкий', 'цветок', 'победить', 'гражданин', 'уважение', 'бесить', 'согласный', 'михаил', 'случиться', 'спать', 'здоровый', 'удачный', 'род', 'перестать', 'раскрыть', 'новость', 'дверь', 'возраст', 'серия', 'бывший', 'бабка', 'кричать', 'насколько', 'талантливый', 'контент', 'цвет', 'примерно', 'фамилия', 'дваче', 'заебали', 'слеза', 'стрелять', 'толпа', 'щелкунчик', 'графика', 'голливуд', 'учить', 'открыть', 'уверенный', 'связь', 'красный', 'корабль', 'прочие', 'уходить', 'политика', 'удивительный', 'остальных', 'гитлер', 'команда', 'принимать', 'плакать', 'образование', 'хохлов', 'зелёный', 'кой', 'быстрый', 'жертва', 'состоять', 'жрать', 'режиссура', 'вкус', 'бандит', 'признать', 'грустный', 'крупный', 'цена', 'постановка', 'очко', 'захотеть', 'восторг', 'мультик', 'память', 'отлично', 'наивный', 'пидорашка', 'собираться', 'точнее', 'случайно', 'ребята', 'фашист', 'оба', 'опыт', 'потерять', 'неизвестный', 'сравнивать', 'грязь', 'текст', 'наличие', 'грязный', 'приём', 'прокат', 'задумка', 'неинтересный', 'оценить', 'говориться', 'тянуть', 'почитать', 'решение', 'сук', 'маргинал', 'хз', 'спросить', 'доллар', 'секунда', 'мешать', 'внешность', 'стас', 'ватник', 'научиться', 'реакция', 'ценность', 'дьявол', 'топить', 'пропаганда', 'сто', 'чмо', 'параша', 'мудак', 'досмотреть', 'нос', 'попытаться', 'отсутствовать', 'неделя', 'мужской', 'маша', 'кот', 'специально', 'способ', 'некоторый', 'затянуть', 'социальный', 'сплошной', 'задача', 'подросток', 'испортить', 'критик', 'стена', 'титр', 'удивить', 'зрелище', 'спорить', 'создаваться', 'отвращение', 'ужасно', 'отказаться', 'знакомый', 'сомневаться', 'барин', 'помогать', 'поступок', 'взрыв', 'аргумент', 'бить', 'разу']\n",
            "['раз', 'время', 'знать', 'первый', 'сказать', 'говорить', 'смотреть', 'ни', 'делать', 'деньга', 'работать', 'работа', 'сделать', 'два', 'дело', 'стоить', 'новый', 'игра', 'думать', 'место', 'случай', 'видеть', 'интересный', 'главный', 'день', 'ребёнок', 'жизнь', 'часть', 'проблема', 'актёр', 'герой', 'сюжет', 'идти', 'посмотреть', 'вопрос', 'кино', 'час', 'слово', 'страна', 'цена', 'момент', 'город', 'второй', 'конец', 'какой', 'понимать', 'машина', 'понять', 'дом', 'пара', 'жить', 'плохой', 'последний', 'месяц', 'общий', 'разный', 'минута', 'история', 'найти', 'рубль', 'нормальный', 'больший', 'играть', 'мир', 'картина', 'россия', 'смысл', 'купить', 'сторона', 'хотеть', 'нужный', 'получить', 'снять', 'взять', 'спасибо', 'полный', 'просмотр', 'вода', 'получиться', 'три', 'итог', 'остаться', 'считать', 'никакой', 'режиссёр', 'система', 'зритель', 'большой', 'увидеть', 'брать', 'ситуация', 'идея', 'сцена', 'понравиться', 'друг', 'роль', 'решить', 'вид', 'помнить', 'пойти', 'дать', 'дешёвый', 'уровень', 'снимать', 'компания', 'написать', 'рука', 'писать', 'книга', 'начать', 'выйти', 'качество', 'телефон', 'плюс', 'правда', 'получать', 'пытаться', 'смешной', 'факт', 'обычный', 'дорогой', 'показать', 'персонаж', 'магазин', 'каждый', 'являться', 'понятный', 'сложный', 'покупать', 'тема', 'любить', 'равный', 'тип', 'иметь', 'образ', 'счёт', 'вариант', 'старый', 'сша', 'лицо', 'шутка', 'сильно', 'ходить', 'похожий', 'читать', 'закон', 'оказаться', 'российский', 'банк', 'начинать', 'платить', 'давать', 'использовать', 'получаться', 'реклама', 'девушка', 'количество', 'квартира', 'принцип', 'пример', 'выглядеть', 'вещь', 'лучше', 'глаз', 'происходить', 'сила', 'русский', 'карта', 'сценарий', 'ждать', 'причина', 'интернет', 'видимо', 'показывать', 'тысяча', 'экран', 'пост', 'большинство', 'красивый', 'поставить', 'единственный', 'ставить', 'возможность', 'высокий', 'маленький', 'производство', 'условие', 'совершенно', 'правило', 'отношение', 'основный', 'пройти', 'средний', 'наверное', 'музыка', 'сидеть', 'видео', 'неделя', 'рынок', 'москва', 'заниматься', 'нравиться', 'выходить', 'абсолютно', 'создатель', 'стоять', 'право', 'голова', 'дорога', 'смочь', 'зарплата', 'становиться', 'проект', 'камера', 'примерно', 'современный', 'важный', 'автор', 'школа', 'прийти', 'хотеться', 'юмор', 'план', 'куча', 'практически', 'простой', 'честно', 'товар', 'сказка', 'название', 'страшный', 'пародия', 'речь', 'желание', 'результат', 'неплохой', 'странный', 'настолько', 'норма', 'американский', 'высоко', 'государство', 'вызывать', 'действие', 'мнение', 'постоянно', 'известный', 'взгляд', 'женщина', 'пользоваться', 'всякий', 'комедия', 'пол', 'назвать', 'решение', 'забыть', 'актёрский', 'суд', 'стоимость', 'целое', 'впечатление', 'ремонт', 'хватать', 'оценка', 'искать', 'скорость', 'минус', 'продукт', 'огромный', 'сожаление', 'столько', 'лично', 'появиться', 'мера', 'статья', 'любовь', 'число', 'оставаться', 'парень', 'отдельный', 'третий', 'процент', 'уйти', 'непонятный', 'картинка', 'завод', 'сумма', 'сайт', 'половина', 'цель', 'улица', 'мысль', 'минимум', 'ощущение', 'полностью', 'очередной', 'бюджет', 'родитель', 'кинематограф', 'попытка', 'номер', 'готовый', 'лёгкий', 'линия', 'кадр', 'внимание', 'отсутствие', 'группа', 'менять', 'сеть', 'жанр', 'клиент', 'верить', 'узнать', 'точка', 'советский', 'доход', 'земля', 'помощь', 'чувство', 'услуга', 'реальный', 'создать', 'отличный', 'договор', 'проходить', 'реально', 'выход', 'кредит', 'глупый', 'т', 'повод', 'жена', 'км', 'миллион', 'рабочий', 'намного', 'порядок', 'надеяться', 'детский', 'ошибка', 'приходить', 'курс', 'китай', 'сильный', 'информация', 'тупой', 'сыграть', 'фото', 'существовать', 'срок', 'состояние', 'уметь', 'кинотеатр', 'пять', 'ужас', 'ужасный', 'война', 'ссср', 'прийтись', 'весьма', 'отзыв', 'выбор', 'стать', 'метр', 'спецэффект', 'размер', 'чёрный', 'добавить', 'процесс', 'средство', 'ожидать', 'народ', 'вывод', 'продавать', 'район', 'шедевр', 'прямо', 'модель', 'находиться', 'ехать', 'близкий', 'опыт', 'против', 'вместе', 'судить', 'зависеть', 'невозможный', 'молодой', 'насколько', 'небольшой', 'открыть', 'свет', 'прошлый', 'белый', 'сравнение', 'детство', 'семья', 'быстро', 'класс', 'ладно', 'заметить', 'военный', 'удобный', 'центр', 'предлагать', 'придумать', 'хватить', 'возраст', 'добрый', 'ваш', 'налог', 'следующий', 'ответ', 'собака', 'ездить', 'документ', 'оставить', 'попасть', 'язык', 'подумать', 'тяжёлый', 'оператор', 'эмоция', 'разница', 'суть', 'личный', 'бизнес', 'называть', 'жаль', 'цвет', 'сценарист', 'ход', 'способ', 'потратить', 'крутой', 'имя', 'закрыть', 'подобный', 'регион', 'песня', 'мультфильм', 'душа', 'крайний', 'ночь', 'достаточно', 'остальные', 'бред', 'фраза', 'определённый', 'доллар', 'помочь', 'целый', 'власть', 'связь', 'рассказать', 'вести', 'сон', 'рф', 'построить', 'штат', 'малый', 'материал', 'самолёт', 'врач', 'приходиться', 'наличие', 'очередь', 'стена', 'стараться', 'серия', 'продажа', 'бог', 'мужчина', 'население', 'использование', 'канал', 'связать', 'смерть', 'мелкий', 'слышать', 'дверь', 'эффект', 'тариф', 'низкий', 'развитие', 'частный', 'вспомнить', 'билет', 'рост', 'требовать', 'остальное', 'аппарат', 'указать', 'героиня', 'согласный', 'век', 'правильный', 'представлять', 'учитывать', 'принять', 'программа', 'путь', 'скучный', 'рейтинг', 'крупный', 'хз', 'взрослый', 'общество', 'диалог', 'уходить', 'нормально', 'правильно', 'вызвать', 'еда', 'технология', 'область', 'труд', 'авто', 'штраф', 'девочка', 'сотрудник', 'собственный', 'собрать', 'вкус', 'отличаться', 'автомобиль', 'мозг', 'фон', 'крайне', 'пункт', 'говно', 'объяснить', 'организация', 'новость', 'мм', 'движение', 'самые', 'мужик', 'красный', 'форма', 'снег', 'сосед', 'сериал', 'обязательно', 'лента', 'отметить', 'событие', 'удаться', 'приятный', 'деталь', 'лето', 'список', 'убить', 'просить', 'остров', 'отец', 'начало', 'привести', 'представить', 'температура', 'начинаться', 'вашингтон', 'местный', 'млн', 'течение', 'полиция', 'оригинальный', 'мешать', 'напоминать', 'нога', 'март', 'великий', 'схема', 'тратить', 'атмосфера', 'многих', 'производитель', 'интерес', 'чистый', 'дома', 'ясный', 'покупка', 'использоваться', 'продать', 'произойти', 'положительный', 'достаточный', 'высота', 'серьёзный', 'качественный', 'животное', 'быстрый', 'версия', 'окно', 'секунда', 'бояться', 'попробовать', 'относиться', 'называться', 'кот', 'любимый', 'свободный', 'долгий', 'прекрасный', 'естественно', 'появляться', 'достойный', 'водитель', 'работник', 'выгодный', 'подходить', 'техника', 'предложить', 'режим', 'живой', 'прибыль', 'зима', 'здоровье', 'считаться', 'ребята', 'сегодня', 'тупо', 'продолжение', 'отечественный', 'проверить', 'лишний', 'мама', 'служба', 'касаться', 'ролик', 'мост', 'начаться', 'сравнивать', 'текст', 'сходить', 'нагрузка', 'плохо', 'ресурс', 'операция', 'ряд', 'смотреться', 'спокойно', 'зп', 'держать', 'позволять', 'успех', 'выше', 'вес', 'гражданин', 'зал', 'утро', 'полтора', 'умереть', 'масса', 'легко', 'транспорт', 'тред', 'планета', 'середина', 'элемент', 'пить', 'защита', 'оружие', 'творение', 'знакомый', 'помогать', 'пустой', 'лежать', 'особый', 'удовольствие', 'деревня', 'показаться', 'доставка', 'разговор', 'максимум', 'потерять', 'оставлять', 'пользователь', 'принимать', 'учиться', 'провести', 'объём', 'требование', 'заказ', 'смеяться', 'строить', 'исключительно', 'продолжать', 'мастер', 'зуб', 'изначально', 'возникать', 'вырасти', 'рецензия', 'уверенный', 'китайский', 'выбрать', 'бесплатный', 'умный', 'возможный', 'штука', 'рассказывать', 'вернуть', 'исключение', 'прочитать', 'память', 'почта', 'собираться', 'расход', 'отправить', 'трудный', 'ум', 'предприятие', 'иметься', 'задача', 'десяток', 'полезный', 'копейка', 'перейти', 'установить', 'оказываться', 'ссылка', 'спросить', 'территория', 'состав', 'произведение', 'протяжение', 'будущее', 'энергия', 'тс', 'собирать', 'правый', 'согласно', 'чисто', 'комп', 'предложение', 'тёмный', 'советовать', 'вечер', 'долг', 'учёт', 'оплата', 'инструмент', 'внутри', 'зрение', 'источник', 'действовать', 'муж', 'позволить', 'бумага', 'деятельность', 'решать', 'сервис', 'практика', 'цифра', 'комната', 'другого', 'описать', 'слушать', 'брат', 'батарея', 'показатель', 'отдать', 'блин', 'вина', 'логика', 'четыре', 'мировой', 'конкретный', 'эпизод', 'пакет', 'метро', 'расчёт', 'запретить', 'совет', 'создание', 'отличие', 'хуй', 'солнце', 'заставить', 'клуб', 'мясо', 'реальность', 'фирма', 'заплатить', 'некий', 'образование', 'скидка', 'предыдущий', 'жалко', 'владелец', 'говориться', 'род', 'несмотря', 'слабый', 'контент', 'тело', 'расти', 'лес', 'поезд', 'оплатить', 'человеческий', 'кровь', 'успеть', 'армия', 'рамка', 'круг', 'заставлять', 'спать', 'здоровый', 'поменять', 'перестать', 'неплохо', 'житель', 'свобода', 'разу', 'устройство', 'согласиться', 'пиво', 'статистика', 'диск', 'стиль', 'редко', 'метод', 'сюжетный', 'переход', 'дорого', 'заявить', 'зайти', 'кг', 'двигатель', 'претензия', 'одежда', 'автобус', 'счастие', 'мальчик', 'падать', 'направление', 'смена', 'корабль', 'характер', 'доля', 'теория', 'убивать', 'боевик', 'способный', 'звонить', 'настоящий', 'талант', 'заявление', 'популярный', 'самым', 'телевизор', 'исследование', 'безопасность', 'питер', 'другом', 'ограничение', 'бондарчук', 'отлично', 'курить', 'сотня', 'исполнение', 'напомнить', 'оригинал', 'период', 'граница', 'верный', 'замечательный', 'сомневаться', 'президент', 'подарок', 'почитать', 'нарушение', 'кухня', 'холмс', 'актриса', 'здание', 'поверить', 'специалист', 'мать', 'чудо', 'набор', 'отвечать', 'воздух', 'установка', 'палец', 'спасти', 'помещение', 'предмет', 'сезон', 'надежда', 'экономика', 'звезда', 'оборудование', 'поколение', 'трейлер', 'случиться', 'европа', 'забрать', 'отдавать', 'сын', 'внутренний', 'станция', 'комментарий', 'бывший', 'подруга', 'товарищ', 'участок', 'звук', 'польза', 'риск', 'продавец', 'открывать', 'специально', 'простить', 'летать', 'яркий', 'сердце', 'супер', 'заработать', 'балл', 'обратно', 'готовить', 'отказаться', 'приложение', 'сниматься', 'обратный', 'алкоголь', 'рыба', 'маркетинг', 'специальный', 'офис', 'технический', 'ноль', 'площадка', 'край', 'ответить', 'виноватый', 'рекомендовать', 'ок', 'оба', 'некоторый', 'шанс', 'присутствовать', 'американец', 'полёт', 'бесплатно', 'обязательный', 'молодец', 'изменение', 'бессмысленный', 'любой', 'возникнуть', 'пенсия', 'покупатель', 'февраль', 'мелочь', 'закончиться', 'ровно', 'проверять', 'понятие', 'полгода', 'открытый', 'делаться', 'платный', 'проверка', 'страховка', 'наука', 'банальный', 'холодный', 'ядерный', 'компьютер', 'хозяин', 'дополнительный', 'буквально', 'этаж', 'обидный', 'медицина', 'забавный', 'спорить', 'приехать', 'первых', 'труба', 'гарантия', 'стандартный', 'друга', 'китаец', 'давление', 'питание', 'капитализм', 'выдавать', 'включить', 'реакция', 'фильтр']\n",
            "['жизнь', 'смотреть', 'время', 'герой', 'раз', 'говорить', 'сказать', 'первый', 'главный', 'мир', 'история', 'знать', 'ни', 'актёр', 'видеть', 'роль', 'картина', 'думать', 'посмотреть', 'сделать', 'слово', 'кино', 'делать', 'игра', 'хохол', 'дело', 'сюжет', 'любовь', 'два', 'ребёнок', 'просмотр', 'жить', 'стоить', 'друг', 'конец', 'зритель', 'работа', 'место', 'персонаж', 'новый', 'интересный', 'любить', 'идти', 'русский', 'понимать', 'понять', 'момент', 'часть', 'каждый', 'режиссёр', 'лицо', 'тупой', 'день', 'образ', 'последний', 'считать', 'сыграть', 'душа', 'писать', 'увидеть', 'тред', 'второй', 'показать', 'какой', 'хотеть', 'страна', 'играть', 'сцена', 'война', 'являться', 'понравиться', 'сторона', 'чувство', 'музыка', 'голова', 'нахуй', 'россия', 'вопрос', 'идея', 'глаз', 'смысл', 'прекрасный', 'давать', 'дать', 'хотеться', 'отношение', 'проблема', 'пытаться', 'снять', 'тема', 'женщина', 'найти', 'рука', 'взгляд', 'отец', 'случай', 'остаться', 'деньга', 'народ', 'белый', 'происходить', 'настолько', 'хуй', 'работать', 'получить', 'верить', 'пост', 'блядь', 'актёрский', 'читать', 'нужный', 'мнение', 'блять', 'важный', 'великолепный', 'сильный', 'эмоция', 'уровень', 'мультфильм', 'больший', 'начинать', 'сидеть', 'экран', 'шедевр', 'начать', 'пиздец', 'смочь', 'полный', 'получиться', 'добрый', 'час', 'плохой', 'вместе', 'красивый', 'правда', 'собака', 'итог', 'написать', 'ждать', 'сила', 'большой', 'дебил', 'мысль', 'любимый', 'общий', 'мозг', 'нормальный', 'создать', 'пойти', 'сердце', 'книга', 'внимание', 'великий', 'решить', 'маленький', 'против', 'сложный', 'атмосфера', 'минута', 'отличный', 'простой', 'очередной', 'твой', 'право', 'заставлять', 'обычный', 'становиться', 'называть', 'похожий', 'разный', 'реальный', 'старый', 'говно', 'семья', 'оказаться', 'событие', 'факт', 'совершенно', 'хуйня', 'огромный', 'равный', 'впечатление', 'показывать', 'холмс', 'город', 'поставить', 'пидор', 'дом', 'действие', 'высокий', 'сценарий', 'лично', 'смешной', 'иметь', 'тип', 'мать', 'смерть', 'нравиться', 'лучше', 'быдло', 'страшный', 'жанр', 'юмор', 'наверное', 'назвать', 'настоящий', 'забыть', 'оставаться', 'спасибо', 'понятный', 'замечательный', 'план', 'мужчина', 'девушка', 'вызывать', 'известный', 'выйти', 'жопа', 'лол', 'жена', 'украина', 'бог', 'прийти', 'вид', 'единственный', 'ситуация', 'умный', 'ёбаный', 'свобода', 'пара', 'имя', 'вещь', 'взять', 'желание', 'путин', 'приятный', 'способный', 'собственный', 'кинематограф', 'абсолютно', 'выглядеть', 'пример', 'путь', 'ответ', 'сука', 'оскар', 'земля', 'свет', 'парень', 'готовый', 'снимать', 'молодой', 'лента', 'отлично', 'столько', 'ваш', 'получать', 'яркий', 'отметить', 'человеческий', 'судьба', 'т', 'помнить', 'гениальный', 'живой', 'чёрный', 'начало', 'власть', 'невозможный', 'стать', 'всякий', 'реальность', 'сын', 'несмотря', 'надеяться', 'убить', 'выбор', 'век', 'сказка', 'общество', 'никакой', 'сильно', 'правило', 'удаться', 'цель', 'американский', 'детство', 'уметь', 'речь', 'рот', 'дегенерат', 'современный', 'оставить', 'три', 'драма', 'счастие', 'язык', 'качество', 'лёгкий', 'возможность', 'кадр', 'большинство', 'полностью', 'тяжёлый', 'сон', 'бояться', 'фраза', 'закон', 'оценка', 'искать', 'животное', 'существовать', 'пройти', 'близкий', 'характер', 'передать', 'советский', 'ходить', 'автор', 'удовольствие', 'дух', 'мечта', 'глубокий', 'мужик', 'обязательно', 'достойный', 'относиться', 'правильно', 'чувствовать', 'похуй', 'помочь', 'представить', 'ставить', 'название', 'интернет', 'очередь', 'слышать', 'принцип', 'причина', 'весьма', 'мера', 'целый', 'тёмный', 'ебать', 'свинья', 'диалог', 'создатель', 'шерлок', 'жаль', 'брат', 'постоянно', 'девочка', 'ощущение', 'нихуя', 'самые', 'судить', 'мразь', 'половина', 'выходить', 'ум', 'линия', 'честно', 'заставить', 'машина', 'основный', 'комедия', 'создавать', 'практически', 'плюс', 'третий', 'че', 'картинка', 'мировой', 'странный', 'нести', 'состав', 'количество', 'удивительный', 'надежда', 'продолжать', 'баба', 'совок', 'появиться', 'представлять', 'бля', 'личность', 'самым', 'спецэффект', 'тысяча', 'мальчик', 'заметить', 'рассказывать', 'наблюдать', 'справиться', 'забавный', 'попасть', 'вспомнить', 'коммент', 'государство', 'талант', 'боевик', 'король', 'достаточно', 'песня', 'страх', 'идеальный', 'исполнение', 'чистый', 'поверить', 'многих', 'улица', 'точка', 'нога', 'милый', 'некий', 'отдельный', 'финал', 'помощь', 'джон', 'трогательный', 'сегодня', 'рассказать', 'реально', 'принять', 'еврей', 'кровь', 'взрослый', 'больной', 'друга', 'трудный', 'фон', 'бороться', 'целое', 'вывод', 'дружба', 'смотреться', 'пол', 'нация', 'шлюха', 'группа', 'помогать', 'любитель', 'говна', 'слава', 'ненавидеть', 'будущее', 'память', 'хозяин', 'кристофер', 'шутка', 'норма', 'борьба', 'видимо', 'сюда', 'протяжение', 'возраст', 'вести', 'остальные', 'прямо', 'убивать', 'слеза', 'узнать', 'ричи', 'личный', 'суд', 'захватывать', 'правый', 'уйти', 'прекрасно', 'джек', 'враг', 'население', 'повод', 'доктор', 'правильный', 'школа', 'родитель', 'интерес', 'русских', 'куча', 'серьёзный', 'ночь', 'эпизод', 'пикабу', 'рф', 'русня', 'ожидать', 'дорога', 'заслуживать', 'потрясать', 'изменить', 'море', 'негр', 'задуматься', 'множество', 'рецензия', 'детский', 'пизда', 'майкл', 'канал', 'показаться', 'высоко', 'стоять', 'ролик', 'хватать', 'произведение', 'выход', 'суть', 'чужой', 'хватить', 'состояние', 'героиня', 'минус', 'держать', 'потерять', 'терпи', 'находиться', 'роберт', 'пыня', 'счёт', 'плакать', 'российский', 'слушать', 'видео', 'заниматься', 'остров', 'оставлять', 'триллер', 'убийство', 'джокер', 'мама', 'нолан', 'типичный', 'положительный', 'сюжетный', 'эффект', 'успех', 'малый', 'получаться', 'боль', 'актриса', 'столь', 'просить', 'советовать', 'саундтрек', 'поехать', 'число', 'насколько', 'дорогой', 'даун', 'красота', 'член', 'другого', 'поддерживать', 'развитие', 'анон', 'позволять', 'подумать', 'виноватый', 'буквально', 'миллион', 'результат', 'сша', 'деталь', 'счастливый', 'необычный', 'талантливый', 'малолетний', 'оказываться', 'экранизация', 'культура', 'отдать', 'классика', 'жид', 'голос', 'отвечать', 'порядок', 'решать', 'местный', 'следующий', 'гей', 'лишний', 'приходить', 'рыцарь', 'дурак', 'учить', 'платить', 'мечтать', 'начаться', 'сообщение', 'ход', 'полиция', 'оригинальный', 'ясный', 'создание', 'вера', 'особый', 'поколение', 'чувак', 'переживать', 'поступок', 'ответить', 'смеяться', 'радость', 'невероятный', 'открыть', 'жестокий', 'напоминать', 'появляться', 'придумать', 'забывать', 'вернуться', 'месяц', 'женский', 'тюрьма', 'стиль', 'кинотеатр', 'криминальный', 'звучать', 'существование', 'жирный', 'настроение', 'присутствовать', 'глупый', 'верный', 'использовать', 'дочь', 'сайт', 'ценность', 'дерьмо', 'президент', 'прошлое', 'мультик', 'ненависть', 'долгий', 'творение', 'сожаление', 'прийтись', 'улыбка', 'понятие', 'приходиться', 'зло', 'вечный', 'разум', 'подходить', 'крым', 'що', 'уверенный', 'список', 'свободный', 'концовка', 'закончиться', 'масса', 'идиот', 'жизненный', 'чудо', 'умереть', 'восторг', 'испытывать', 'гай', 'подобный', 'проходить', 'система', 'стрим', 'модератор', 'пидорас', 'приключение', 'угодно', 'великолепно', 'касаться', 'секунда', 'клуб', 'отсутствие', 'меняться', 'внутренний', 'мастер', 'пять', 'оружие', 'отличаться', 'сценарист', 'весёлый', 'сравнение', 'решение', 'урод', 'мелкий', 'ужас', 'вариант', 'английский', 'спасти', 'зрение', 'моча', 'находить', 'добро', 'добавить', 'рашке', 'связать', 'русские', 'принимать', 'искренне', 'быстро', 'камера', 'скучный', 'преступник', 'уходить', 'доска', 'исключение', 'режиссура', 'ватсон', 'зелёный', 'привести', 'рад', 'построить', 'коммунист', 'удалить', 'ладно', 'радовать', 'военный', 'злой', 'истинный', 'пересматривать', 'отзыв', 'тело', 'задача', 'ехать', 'цвет', 'отличие', 'ошибка', 'случиться', 'клоун', 'порадовать', 'хохлы', 'ебал', 'популярный', 'солдат', 'вызвать', 'выбирать', 'глубина', 'тонкий', 'начинаться', 'терпеть', 'браво', 'чёрт', 'далёкий', 'социальный', 'мусор', 'стена', 'школьник', 'шанс', 'обезьяна', 'поразить', 'попытка', 'сознание', 'желать', 'произойти', 'десяток', 'запад', 'навсегда', 'искусство', 'участие', 'пират', 'впервые', 'петух', 'пиндос', 'обосрался', 'треде', 'способность', 'сомнение', 'страдать', 'искренний', 'словно', 'предыдущий', 'разговор', 'внутри', 'ожидание', 'музыкальный', 'естественно', 'светлый', 'фантазия', 'купить', 'движение', 'пёс', 'ужасный', 'гореть', 'брать', 'одновременно', 'съёмка', 'небо', 'победить', 'устроить', 'скорсезе', 'дикаприо', 'настоящему', 'качественный', 'чурка', 'обсуждать', 'существо', 'политический', 'роман', 'бандит', 'богатый', 'поиск', 'доказать', 'треды', 'шизик', 'хуя', 'комментарий', 'дверь', 'поведение', 'звук', 'прочитать', 'подобрать', 'жалко', 'чей', 'ссылка', 'род', 'раскрыть', 'определённый', 'некоторый', 'нолана', 'адекватный', 'ряд', 'вода', 'неприятный', 'учиться', 'невероятно', 'зарплата', 'мужской', 'опасный', 'разница', 'оба', 'наверно', 'мешать', 'костюм', 'позволить', 'стараться', 'тварь', 'намного', 'предлагать', 'запретить', 'поражать', 'сосать', 'описать', 'порой', 'любой', 'шикарный', 'минимум', 'природа', 'the', 'гражданин', 'муж', 'оператор', 'проект', 'финальный', 'продолжение', 'грустный', 'форма', 'гений', 'бедный', 'звезда', 'исполнить', 'цена', 'лезть', 'компания', 'планета', 'спрашивать', 'прошлый', 'возникать', 'кусок', 'менять', 'повествование', 'напряжение', 'номер', 'традиция', 'коммунизм', 'армия', 'жертва', 'вернуть', 'политика', 'уважение', 'суметь', 'команда', 'украинец', 'контент', 'дваче', 'педофил', 'заебали', 'отдельно', 'объяснить', 'подарить', 'вечно', 'перестать', 'маска', 'небольшой', 'зайти', 'захотеть', 'награда', 'волос', 'сравнивать', 'помойка', 'неделя', 'степень', 'мораль', 'труд', 'жестокость', 'гора', 'узнавать', 'александр', 'называться', 'новость', 'дурачок', 'ссср', 'бой', 'воспоминание', 'врач', 'остальных', 'критик', 'бутылка', 'актёры', 'требовать', 'встреча', 'пидорашка', 'пересмотреть', 'измениться', 'классический', 'выбрать', 'хит', 'наивный', 'творчество', 'америка', 'бывший', 'товарищ', 'шоу', 'игрушка', 'случайно', 'жрать', 'европа', 'стыдно', 'плохо', 'образование', 'оценить', 'достоинство', 'детектив', 'крайне', 'курс', 'слабый', 'сто', 'дикий', 'круг', 'рубль', 'маргинал', 'уникальный', 'фамилия', 'бежать', 'достаточный', 'убийца', 'окружать', 'средний', 'стас', 'равнодушный', 'другому', 'способ', 'вкус', 'ложь', 'успеть', 'шаг', 'бабка', 'чмо', 'параша', 'сук', 'мудак', 'ватник', 'хз', 'злодей', 'защищать', 'титр', 'хатико', 'режиссёрский', 'поздно', 'действовать', 'тарантино', 'исторический', 'робот', 'очко', 'статус', 'согласиться', 'согласный', 'золотой', 'крутой', 'здоровый', 'секрет', 'постоянный', 'палец', 'терять', 'мерзкий', 'умирать', 'рекомендовать']\n",
            "['раз', 'время', 'жизнь', 'знать', 'первый', 'работа', 'сказать', 'говорить', 'делать', 'смотреть', 'работать', 'ни', 'два', 'стоить', 'деньга', 'новый', 'дело', 'сделать', 'видеть', 'день', 'думать', 'место', 'главный', 'игра', 'интересный', 'случай', 'герой', 'история', 'проблема', 'ребёнок', 'посмотреть', 'жить', 'мир', 'идти', 'актёр', 'вопрос', 'час', 'город', 'роль', 'слово', 'цена', 'момент', 'часть', 'картина', 'страна', 'конец', 'разный', 'дом', 'машина', 'понимать', 'последний', 'кино', 'второй', 'месяц', 'найти', 'понять', 'друг', 'сторона', 'сюжет', 'какой', 'каждый', 'спасибо', 'больший', 'рубль', 'пара', 'получить', 'нужный', 'просмотр', 'считать', 'любовь', 'купить', 'остаться', 'нормальный', 'смысл', 'система', 'большой', 'вода', 'хотеть', 'играть', 'ситуация', 'любить', 'персонаж', 'образ', 'три', 'минута', 'общий', 'брать', 'сложный', 'зритель', 'взять', 'являться', 'помнить', 'россия', 'увидеть', 'дать', 'полный', 'обычный', 'показать', 'понравиться', 'написать', 'получать', 'рука', 'компания', 'музыка', 'вид', 'давать', 'сила', 'важный', 'дорогой', 'телефон', 'магазин', 'равный', 'уровень', 'итог', 'покупать', 'факт', 'правда', 'режиссёр', 'писать', 'закон', 'начать', 'счёт', 'сша', 'начинать', 'вещь', 'вариант', 'банк', 'глаз', 'никакой', 'получиться', 'дешёвый', 'происходить', 'отношение', 'плохой', 'качество', 'книга', 'тема', 'снять', 'платить', 'сильно', 'маленький', 'красивый', 'иметь', 'высокий', 'идея', 'квартира', 'старый', 'использовать', 'пойти', 'карта', 'оказаться', 'количество', 'душа', 'простой', 'читать', 'пример', 'возможность', 'выйти', 'сыграть', 'тип', 'плюс', 'пытаться', 'сцена', 'правило', 'взгляд', 'тысяча', 'решить', 'сильный', 'пройти', 'хотеться', 'чувство', 'пост', 'интернет', 'смочь', 'отличный', 'становиться', 'девушка', 'похожий', 'условие', 'большинство', 'показывать', 'ходить', 'прекрасный', 'женщина', 'причина', 'принцип', 'право', 'понятный', 'лицо', 'ждать', 'получаться', 'неделя', 'огромный', 'нравиться', 'производство', 'основный', 'дорога', 'ставить', 'рынок', 'реклама', 'экран', 'стоять', 'видео', 'план', 'зарплата', 'поставить', 'заниматься', 'сидеть', 'школа', 'выходить', 'реальный', 'средний', 'современный', 'желание', 'оставаться', 'примерно', 'москва', 'настолько', 'речь', 'товар', 'верить', 'прийти', 'решение', 'наверное', 'добрый', 'высоко', 'создать', 'лучше', 'норма', 'война', 'государство', 'практически', 'действие', 'пользоваться', 'голова', 'результат', 'семья', 'жена', 'камера', 'искать', 'отец', 'всякий', 'постоянно', 'суд', 'вместе', 'атмосфера', 'цель', 'лёгкий', 'пол', 'стоимость', 'отдельный', 'мнение', 'мультфильм', 'парень', 'внимание', 'выглядеть', 'готовый', 'эмоция', 'число', 'столько', 'ремонт', 'известный', 'сердце', 'совершенно', 'великолепный', 'земля', 'скорость', 'полностью', 'невозможный', 'актёрский', 'близкий', 'родитель', 'куча', 'детство', 'мысль', 'снимать', 'проект', 'статья', 'мера', 'улица', 'процент', 'точка', 'странный', 'существовать', 'помощь', 'менять', 'появиться', 'любимый', 'забыть', 'тяжёлый', 'завод', 'хватать', 'шедевр', 'выбор', 'сайт', 'узнать', 'событие', 'сумма', 'стать', 'единственный', 'путь', 'лично', 'молодой', 'собака', 'линия', 'оставить', 'видимо', 'сеть', 'клиент', 'автор', 'проходить', 'впечатление', 'продукт', 'целое', 'название', 'возраст', 'свет', 'честно', 'белый', 'доход', 'жанр', 'номер', 'находиться', 'вызывать', 'помочь', 'заставлять', 'услуга', 'страшный', 'насколько', 'смерть', 'состояние', 'картинка', 'минимум', 'выход', 'договор', 'приходить', 'рабочий', 'кредит', 'реально', 'открыть', 'половина', 'третий', 'км', 'сценарий', 'замечательный', 'китай', 'информация', 'общество', 'приятный', 'уйти', 'мужчина', 'фото', 'назвать', 'личный', 'советский', 'срок', 'зависеть', 'сожаление', 'прийтись', 'очередь', 'отметить', 'курс', 'процесс', 'чёрный', 'продавать', 'отлично', 'небольшой', 'обязательно', 'весьма', 'район', 'минус', 'группа', 'метр', 'великий', 'российский', 'ответ', 'ссср', 'целый', 'намного', 'ошибка', 'уметь', 'человеческий', 'размер', 'против', 'настоящий', 'средство', 'абсолютно', 'военный', 'ваш', 'модель', 'центр', 'порядок', 'определённый', 'холмс', 'оценка', 'цвет', 'опыт', 'миллион', 'удобный', 'собственный', 'класс', 'правильный', 'ехать', 'предлагать', 'век', 'достаточно', 'власть', 'стена', 'повод', 'налог', 'кадр', 'рассказать', 'врач', 'добавить', 'документ', 'бизнес', 'ездить', 'деталь', 'ночь', 'живой', 'пять', 'разница', 'способ', 'ощущение', 'народ', 'мелкий', 'фраза', 'построить', 'счастие', 'многих', 'удаться', 'юмор', 'регион', 'прямо', 'помогать', 'малый', 'быстро', 'способный', 'суть', 'приходиться', 'прошлый', 'штат', 'попасть', 'надеяться', 'американский', 'следующий', 'начало', 'оператор', 'язык', 'закрыть', 'требовать', 'дверь', 'продажа', 'уходить', 'бояться', 'несмотря', 'чистый', 'имя', 'развитие', 'слышать', 'высота', 'самолёт', 'оскар', 'долгий', 'смешной', 'удовольствие', 'связь', 'рф', 'тариф', 'реальность', 'подумать', 'память', 'яркий', 'сосед', 'отсутствие', 'свобода', 'самые', 'судьба', 'ход', 'судить', 'т', 'принять', 'неплохой', 'рост', 'лента', 'взрослый', 'заметить', 'вывод', 'использование', 'вести', 'потерять', 'частный', 'аппарат', 'песня', 'представить', 'наличие', 'отличаться', 'полиция', 'еда', 'держать', 'доллар', 'представлять', 'хз', 'характер', 'секунда', 'крайний', 'область', 'сотрудник', 'рассказывать', 'население', 'сегодня', 'вспомнить', 'штраф', 'указать', 'детский', 'учитывать', 'связать', 'канал', 'сын', 'называть', 'сон', 'согласный', 'движение', 'бог', 'авто', 'материал', 'правильно', 'остальные', 'позволять', 'будущее', 'программа', 'очередной', 'внутри', 'кинематограф', 'сравнение', 'мм', 'хватить', 'мешать', 'подобный', 'вкус', 'список', 'русский', 'крупный', 'эффект', 'успех', 'снег', 'животное', 'организация', 'крутой', 'серия', 'новость', 'чувствовать', 'течение', 'лето', 'технология', 'глубокий', 'передать', 'оставлять', 'автомобиль', 'просить', 'труд', 'привести', 'температура', 'вашингтон', 'свободный', 'шутка', 'окно', 'достаточный', 'интерес', 'местный', 'подходить', 'март', 'говно', 'билет', 'пункт', 'фон', 'справиться', 'продать', 'легко', 'попытка', 'произойти', 'версия', 'нормально', 'уверенный', 'использоваться', 'лишний', 'покупка', 'трудный', 'низкий', 'придумать', 'состав', 'работник', 'мать', 'достойный', 'относиться', 'мама', 'попробовать', 'водитель', 'описать', 'ум', 'красный', 'принимать', 'зима', 'утро', 'форма', 'провести', 'гениальный', 'отзыв', 'задача', 'верный', 'серьёзный', 'схема', 'выгодный', 'сказка', 'мировой', 'считаться', 'производитель', 'предложить', 'сравнивать', 'называться', 'изменить', 'дома', 'умный', 'множество', 'служба', 'выбрать', 'ожидать', 'нога', 'начинаться', 'техника', 'мост', 'собрать', 'естественно', 'проверить', 'здоровье', 'бюджет', 'жаль', 'остальное', 'энергия', 'умереть', 'особый', 'вес', 'вернуть', 'зп', 'дух', 'друга', 'быстрый', 'гражданин', 'появляться', 'спокойно', 'внутренний', 'идеальный', 'кот', 'режим', 'ряд', 'начаться', 'ресурс', 'лежать', 'операция', 'море', 'прибыль', 'качественный', 'решать', 'защита', 'тред', 'объяснить', 'мечта', 'счастливый', 'советовать', 'смотреться', 'доставка', 'знакомый', 'транспорт', 'позволить', 'зрение', 'тёмный', 'выше', 'возможный', 'муж', 'действовать', 'страх', 'удивительный', 'драма', 'продолжать', 'долг', 'требование', 'источник', 'брат', 'убить', 'самым', 'пользователь', 'элемент', 'слушать', 'рейтинг', 'разговор', 'оружие', 'исполнение', 'вырасти', 'учиться', 'создавать', 'редко', 'объём', 'заказ', 'нагрузка', 'штука', 'крайне', 'ясный', 'установить', 'красота', 'строить', 'полезный', 'почта', 'бесплатный', 'собирать', 'предприятие', 'заставить', 'остров', 'забывать', 'мужик', 'исключение', 'расход', 'надежда', 'оригинальный', 'отдать', 'планета', 'пить', 'доля', 'инструмент', 'другого', 'согласно', 'деревня', 'тс', 'вечер', 'правый', 'показаться', 'касаться', 'мозг', 'создатель', 'млн', 'комп', 'комедия', 'оплата', 'ладно', 'стараться', 'поколение', 'китайский', 'деятельность', 'отправить', 'рамка', 'текст', 'мальчик', 'ссылка', 'боль', 'показатель', 'масса', 'прекрасно', 'оказываться', 'кинотеатр', 'шанс', 'поверить', 'создание', 'метод', 'житель', 'круг', 'солнце', 'отличие', 'десяток', 'батарея', 'успеть', 'собираться', 'сервис', 'бумага', 'учёт', 'буквально', 'природа', 'конкретный', 'открывать', 'цифра', 'диалог', 'род', 'копейка', 'территория', 'поменять', 'изначально', 'предложение', 'подарок', 'тело', 'питер', 'положительный', 'комната', 'находить', 'спросить', 'хуй', 'перейти', 'хозяин', 'владелец', 'другом', 'совет', 'поезд', 'сходить', 'зуб', 'шерлок', 'практика', 'фирма', 'терять', 'метро', 'расти', 'иметься', 'тратить', 'середина', 'максимум', 'пакет', 'непонятный', 'ребята', 'контент', 'талант', 'ценность', 'спецэффект', 'период', 'прочитать', 'устройство', 'расчёт', 'оплатить', 'четыре', 'мастер', 'произведение', 'граница', 'наблюдать', 'джек', 'мелочь', 'потратить', 'образование', 'чисто', 'протяжение', 'возникать', 'вина', 'кровь', 'сериал', 'случиться', 'запретить', 'заплатить', 'любой', 'скидка', 'король', 'перестать', 'статистика', 'бороться', 'ролик', 'дорого', 'кухня', 'некий', 'финал', 'рекомендовать', 'холодный', 'кг', 'переход', 'безопасность', 'забрать', 'обязательный', 'девочка', 'слеза', 'вызвать', 'автобус', 'изменение', 'звонить', 'значение', 'риск', 'актриса', 'некоторый', 'вернуться', 'тупо', 'двигатель', 'европа', 'стиль', 'исследование', 'ограничение', 'рыба', 'доказать', 'эпизод', 'смена', 'теория', 'сотня', 'клуб', 'глубина', 'президент', 'зайти', 'край', 'столь', 'мясо', 'готовить', 'здоровый', 'ужас', 'узнавать', 'доктор', 'джон', 'направление', 'блин', 'оба', 'открытый', 'разу', 'отвечать', 'заявление', 'полтора', 'различный', 'отдельно', 'воздух', 'нарушение', 'звук', 'перевод', 'сомнение', 'плакать', 'установка', 'исключительно', 'предыдущий', 'февраль', 'дружба', 'продавец', 'говориться', 'оборудование', 'участок', 'зелёный', 'экономика', 'одежда', 'трогательный', 'понятие', 'станция', 'спать', 'напряжение', 'сюжетный', 'курить', 'впервые', 'ответить', 'краска', 'сомневаться', 'измениться', 'помещение', 'обратный', 'обратно', 'твой', 'меняться', 'сезон', 'учить', 'здание', 'социальный', 'диск', 'отдавать', 'чудо', 'специальный', 'задуматься', 'внешний', 'прожить', 'поиск', 'падать', 'выбирать', 'америка', 'ответственность', 'полёт', 'бывший', 'наука', 'нести', 'пиво', 'специалист', 'напомнить', 'дополнительный', 'технический', 'медицина', 'проверять', 'забавный', 'потрясать', 'больница', 'опасный', 'чужой', 'бесплатно', 'ок', 'полгода', 'пенсия', 'рассказ', 'платный', 'приложение', 'армия', 'почитать', 'давление', 'точный', 'проверка', 'гарантия', 'страховка', 'покупатель', 'ричи', 'боевик', 'лес', 'кристофер', 'польза', 'офис', 'кожа', 'продолжение', 'начальник']\n",
            "['герой', 'жизнь', 'смотреть', 'время', 'актёр', 'главный', 'сказать', 'первый', 'кино', 'сюжет', 'раз', 'ни', 'картина', 'игра', 'роль', 'говорить', 'история', 'посмотреть', 'знать', 'просмотр', 'зритель', 'мир', 'режиссёр', 'конец', 'видеть', 'сделать', 'персонаж', 'момент', 'интересный', 'сцена', 'часть', 'стоить', 'два', 'слово', 'дело', 'новый', 'думать', 'понравиться', 'работа', 'любовь', 'место', 'делать', 'ребёнок', 'снять', 'образ', 'увидеть', 'понять', 'получиться', 'играть', 'друг', 'второй', 'идея', 'общий', 'любить', 'показать', 'понимать', 'плохой', 'сыграть', 'смысл', 'каждый', 'последний', 'актёрский', 'книга', 'глаз', 'лицо', 'музыка', 'идти', 'деньга', 'экран', 'сценарий', 'день', 'сторона', 'взгляд', 'чувство', 'жить', 'минута', 'вопрос', 'хотеться', 'смешной', 'являться', 'происходить', 'больший', 'душа', 'впечатление', 'какой', 'красивый', 'итог', 'остаться', 'юмор', 'снимать', 'совершенно', 'случай', 'полный', 'большой', 'шедевр', 'считать', 'создатель', 'час', 'пытаться', 'настолько', 'хотеть', 'решить', 'единственный', 'шутка', 'сказка', 'жанр', 'тема', 'кинематограф', 'голова', 'проблема', 'ждать', 'эмоция', 'начинать', 'комедия', 'найти', 'правда', 'мысль', 'абсолютно', 'мультфильм', 'американский', 'оказаться', 'прекрасный', 'русский', 'холмс', 'выглядеть', 'получить', 'уровень', 'выйти', 'рука', 'вызывать', 'добрый', 'девушка', 'война', 'действие', 'понятный', 'сложный', 'никакой', 'похожий', 'становиться', 'отношение', 'сила', 'разный', 'оценка', 'смочь', 'внимание', 'сильный', 'спецэффект', 'пара', 'пародия', 'показывать', 'любимый', 'дать', 'кадр', 'назвать', 'простой', 'мнение', 'взять', 'план', 'важный', 'страшный', 'событие', 'наверное', 'вид', 'атмосфера', 'отличный', 'город', 'маленький', 'известный', 'отец', 'т', 'верить', 'очередной', 'плюс', 'пойти', 'поставить', 'ощущение', 'великолепный', 'начать', 'оставаться', 'давать', 'высокий', 'создать', 'работать', 'великий', 'огромный', 'ожидать', 'старый', 'писать', 'женщина', 'сильно', 'заставлять', 'лента', 'дом', 'лучше', 'качество', 'написать', 'российский', 'желание', 'страна', 'иметь', 'сон', 'современный', 'три', 'читать', 'честно', 'имя', 'сердце', 'целое', 'обычный', 'героиня', 'начало', 'диалог', 'неплохой', 'удаться', 'равный', 'парень', 'лично', 'странный', 'автор', 'весьма', 'сценарист', 'отметить', 'приятный', 'нужный', 'яркий', 'нравиться', 'вместе', 'название', 'практически', 'смерть', 'реальный', 'ситуация', 'несмотря', 'оскар', 'молодой', 'принцип', 'глупый', 'вещь', 'спасибо', 'кинотеатр', 'забыть', 'замечательный', 'линия', 'настоящий', 'судьба', 'смотреться', 'пример', 'фраза', 'эпизод', 'мера', 'финал', 'шерлок', 'ужас', 'количество', 'столько', 'тёмный', 'ставить', 'человеческий', 'остров', 'рецензия', 'невозможный', 'собственный', 'непонятный', 'нормальный', 'драма', 'ужасный', 'семья', 'достойный', 'факт', 'отзыв', 'гениальный', 'боевик', 'россия', 'минус', 'сожаление', 'полностью', 'положительный', 'произведение', 'машина', 'большинство', 'путь', 'видимо', 'основный', 'тупой', 'лёгкий', 'оставить', 'сидеть', 'скучный', 'детский', 'способный', 'оригинальный', 'свет', 'сюжетный', 'показаться', 'помнить', 'жаль', 'цель', 'характер', 'живой', 'творение', 'талант', 'жена', 'песня', 'третий', 'протяжение', 'бог', 'счастие', 'заметить', 'прийти', 'детство', 'стать', 'получаться', 'реальность', 'чёрный', 'близкий', 'фон', 'попытка', 'исполнение', 'собака', 'глубокий', 'отлично', 'брат', 'надежда', 'возможность', 'речь', 'экранизация', 'общество', 'причина', 'эффект', 'готовый', 'трудный', 'половина', 'достаточно', 'состав', 'уметь', 'картинка', 'джокер', 'концовка', 'мозг', 'надеяться', 'представить', 'заставить', 'белый', 'ходить', 'сын', 'пройти', 'отдельный', 'дух', 'мальчик', 'тяжёлый', 'напоминать', 'ум', 'вызвать', 'выходить', 'удовольствие', 'проект', 'серьёзный', 'бюджет', 'актриса', 'взрослый', 'получать', 'некий', 'король', 'народ', 'представлять', 'убить', 'хватать', 'столь', 'век', 'право', 'порадовать', 'ход', 'тип', 'постоянно', 'относиться', 'девочка', 'смеяться', 'успех', 'умный', 'вспомнить', 'отсутствие', 'ответ', 'называть', 'целый', 'страх', 'узнать', 'самым', 'всякий', 'триллер', 'мечта', 'стараться', 'появиться', 'ричи', 'стиль', 'продолжение', 'счёт', 'присутствовать', 'слеза', 'справиться', 'против', 'многих', 'советский', 'забавный', 'мужчина', 'оставлять', 'самые', 'выбор', 'искать', 'касаться', 'поверить', 'точка', 'обязательно', 'компания', 'бондарчук', 'заслуживать', 'куча', 'остальные', 'уйти', 'роман', 'появляться', 'миллион', 'чувствовать', 'мастер', 'земля', 'бред', 'потерять', 'передать', 'использовать', 'особый', 'очередь', 'выход', 'родитель', 'мировой', 'удивительный', 'попасть', 'съёмка', 'бояться', 'существовать', 'подумать', 'помощь', 'наблюдать', 'повод', 'брать', 'память', 'свобода', 'находиться', 'интерес', 'улыбка', 'мать', 'отечественный', 'нолан', 'сравнение', 'прийтись', 'джек', 'зал', 'зло', 'порядок', 'поступок', 'рассказывать', 'оказываться', 'вывод', 'милый', 'талантливый', 'придумать', 'спасти', 'помочь', 'будущее', 'доктор', 'балл', 'голос', 'джон', 'качественный', 'актёры', 'множество', 'злодей', 'рыцарь', 'высоко', 'реклама', 'красота', 'слышать', 'суть', 'лишний', 'группа', 'насколько', 'восторг', 'гай', 'саундтрек', 'дорогой', 'начинаться', 'деталь', 'кристофер', 'ватсон', 'подобный', 'другого', 'клуб', 'правило', 'пол', 'приходиться', 'результат', 'камера', 'ошибка', 'ясный', 'идеальный', 'следующий', 'личность', 'чистый', 'развитие', 'создавать', 'задуматься', 'чудо', 'система', 'любитель', 'вода', 'возникать', 'трогательный', 'советовать', 'роберт', 'убивать', 'подходить', 'костюм', 'прямо', 'захватывать', 'потратить', 'возраст', 'счастливый', 'закон', 'финальный', 'банальный', 'судить', 'блокбастер', 'намного', 'радовать', 'исключение', 'искусство', 'вести', 'майкл', 'ожидание', 'море', 'правильный', 'голливудский', 'язык', 'смех', 'режиссура', 'список', 'приходить', 'род', 'изменить', 'хватить', 'предыдущий', 'число', 'естественно', 'добавить', 'слабый', 'связать', 'отрицательный', 'приключение', 'рассказать', 'кровь', 'прекрасно', 'крайний', 'весёлый', 'звучать', 'друга', 'мультик', 'жестокий', 'трейлер', 'долгий', 'декорация', 'цена', 'средний', 'оператор', 'буквально', 'держать', 'ладно', 'звезда', 'улица', 'словно', 'дешёвый', 'дружба', 'заниматься', 'цвет', 'ценность', 'настроение', 'месяц', 'вариант', 'дочь', 'личный', 'необычный', 'середина', 'неплохо', 'крайне', 'помогать', 'голливуд', 'плакать', 'музыкальный', 'недостаток', 'секунда', 'произойти', 'малый', 'классика', 'добро', 'состояние', 'закончиться', 'продолжать', 'плохо', 'удачный', 'стоять', 'купить', 'ночь', 'режиссёрский', 'раскрыть', 'небольшой', 'тысяча', 'удивить', 'нога', 'ряд', 'простить', 'вкус', 'потрясать', 'грустный', 'принять', 'сомнение', 'определённый', 'проходить', 'нолана', 'первых', 'крутой', 'боль', 'американец', 'создание', 'слава', 'титр', 'откровенно', 'повествование', 'решение', 'прочитать', 'уважение', 'дорога', 'поклонник', 'матрица', 'сравнивать', 'оригинал', 'участие', 'радость', 'вечный', 'порой', 'сниматься', 'разговор', 'планета', 'драка', 'отличие', 'сегодня', 'отличаться', 'находить', 'элемент', 'задача', 'борьба', 'сериал', 'америка', 'невероятный', 'уверенный', 'глубина', 'прошлое', 'знакомый', 'пять', 'забывать', 'претензия', 'хит', 'умереть', 'нести', 'согласиться', 'чужой', 'желать', 'компьютерный', 'светлый', 'вернуться', 'максим', 'серия', 'небо', 'собрать', 'фантазия', 'скорсезе', 'верный', 'школа', 'оценить', 'постановка', 'начаться', 'масса', 'подобрать', 'решать', 'творчество', 'мораль', 'открыть', 'способ', 'остальное', 'появление', 'зрение', 'случиться', 'корабль', 'рейтинг', 'быстро', 'крупный', 'фанат', 'внутренний', 'убийство', 'сша', 'сознание', 'исключительно', 'власть', 'разум', 'разочаровать', 'криминальный', 'бессмысленный', 'степень', 'природа', 'ваш', 'некоторый', 'прошлый', 'спасать', 'истинный', 'правильно', 'пират', 'пересматривать', 'сходить', 'остальных', 'бороться', 'выбрать', 'уве', 'жертва', 'достоинство', 'злой', 'чёрт', 'минимум', 'пустой', 'переживать', 'фантастика', 'настоящему', 'операторский', 'поведение', 'детектив', 'продукт', 'опыт', 'дикаприо', 'основа', 'классический', 'игрушка', 'труд', 'команда', 'впечатлить', 'фантастический', 'отвратительный', 'мечтать', 'версия', 'жалко', 'вспоминать', 'жизненный', 'позволять', 'описать', 'отдельно', 'искренне', 'стена', 'вера', 'поиск', 'знаменитый', 'поколение', 'запомниться', 'действовать', 'форма', 'напряжение', 'поразить', 'отдать', 'больной', 'звук', 'военный', 'волшебный', 'высота', 'примерно', 'одновременно', 'впервые', 'бой', 'внутри', 'достаточный', 'попадать', 'рот', 'точнее', 'зелёный', 'тело', 'раздражать', 'неожиданный', 'графика', 'семь', 'тонкий', 'хозяин', 'карта', 'воспринимать', 'пересмотреть', 'задумка', 'вторых', 'движение', 'каменный', 'лес', 'говориться', 'наивный', 'великолепно', 'процесс', 'мрачный', 'рекомендовать', 'суметь', 'уходить', 'популярный', 'выражение', 'бедный', 'способность', 'реально', 'животное', 'далёкий', 'принимать', 'воспоминание', 'любовный', 'слушать', 'поражать', 'робот', 'условие', 'золотой', 'затянуть', 'наверно', 'собираться', 'подросток', 'менять', 'английский', 'связь', 'объяснить', 'разочарование', 'аудитория', 'прокат', 'низкий', 'исполнить', 'богатый', 'шаг', 'типичный', 'интернет', 'дауни', 'обидный', 'враг', 'мелочь', 'взрыв', 'обитаемый', 'рассказ', 'москва', 'невероятно', 'дикий', 'бежать', 'убийца', 'награда', 'подруга', 'меняться', 'учить', 'жестокость', 'испытывать', 'экшен', 'течение', 'постоянный', 'философский', 'сложиться', 'товарищ', 'редко', 'чей', 'сомневаться', 'комикс', 'рубль', 'бездарный', 'признать', 'мастерство', 'обладать', 'окружать', 'различный', 'дисней', 'кольцо', 'позволить', 'мама', 'красиво', 'загадка', 'нелепый', 'называться', 'ребята', 'женский', 'возникнуть', 'эдвард', 'понимание', 'продюсер', 'солдат', 'особенный', 'легко', 'страдать', 'мистер', 'провести', 'психологический', 'шоу', 'терять', 'понятие', 'шикарный', 'шанс', 'неделя', 'сопровождение', 'привести', 'несколько', 'полтора', 'десяток', 'пошлый', 'случайно', 'мужик', 'бэтмен', 'успеть', 'доллар', 'постараться', 'изначально', 'дьявол', 'серый', 'магазин', 'здоровый', 'квартира', 'внешний', 'трилогия', 'иван', 'визуальный', 'интрига', 'свободный', 'существование', 'печальный', 'просить', 'тюрьма', 'мелкий', 'погоня', 'крыса', 'воля', 'построить', 'неизвестный', 'внешность', 'ухо', 'узнавать', 'художественный', 'рамка', 'пёс', 'провал', 'красный', 'тарантино', 'мотив', 'логика', 'улыбаться', 'искренний', 'доказать', 'исторический', 'спилберг', 'неприятный', 'спать', 'драматический', 'согласный', 'социальный', 'другом', 'философия', 'измениться', 'представление', 'оружие', 'ди', 'эмоциональный', 'семейный', 'посмеяться', 'зрелище', 'трагедия', 'твой', 'стремиться', 'набор', 'телевизор', 'мешать', 'умирать', 'наличие', 'палец', 'хатико', 'сбор', 'безумно', 'услышать', 'опасный', 'бойцовский', 'обстоятельство', 'кой', 'муж', 'браво', 'впечатлять', 'оба', 'привыкнуть', 'требовать', 'средство', 'десять', 'напомнить', 'производство', 'волос']\n"
          ]
        }
      ],
      "source": [
        "sent_good_bad = compute_shaykevich_metric(label_freqs_sent_per['Good'], label_freqs_sent_per['Bad'])\n",
        "tox_yes_no = compute_shaykevich_metric(label_freqs_tox_per[1.0], label_freqs_tox_per[0.0])\n",
        "sent_tox_bad_1 = compute_shaykevich_metric(label_freqs_sent_per['Bad'], label_freqs_tox_per[1.0])\n",
        "sent_tox_bad_0 = compute_shaykevich_metric(label_freqs_sent_per['Bad'], label_freqs_tox_per[0.0])\n",
        "sent_tox_good_1 = compute_shaykevich_metric(label_freqs_sent_per['Good'], label_freqs_tox_per[1.0])\n",
        "sent_tox_good_0 = compute_shaykevich_metric(label_freqs_sent_per['Good'], label_freqs_tox_per[0.0])\n",
        "sent_tox_all = compute_shaykevich_metric(total_freq_sent_per, total_freq_tox_per)"
      ]
    },
    {
      "cell_type": "code",
      "execution_count": 25,
      "metadata": {
        "colab": {
          "base_uri": "https://localhost:8080/"
        },
        "id": "JCryLTu-TM-Z",
        "outputId": "16c317b2-9dd7-45ee-fed5-56a97a5bfb25"
      },
      "outputs": [
        {
          "output_type": "stream",
          "name": "stdout",
          "text": [
            "tox_yes_no: 0.7941970264052487\n",
            "sent_good_bad: 0.7941970264052487\n",
            "sent_good_bad_1: 0.503091870382508\n",
            "sent_tox_bad_0: 0.4959720588944889\n",
            "sent_tox_good_1: 0.477793607294367\n",
            "sent_tox_good_0: 0.4831549767627885\n",
            "sent_tox_all: 0.1502995471231234\n"
          ]
        }
      ],
      "source": [
        "print(f\"\"\"tox_yes_no: {sent_good_bad}\n",
        "sent_good_bad: {sent_good_bad}\n",
        "sent_good_bad_1: {sent_tox_bad_1}\n",
        "sent_tox_bad_0: {sent_tox_bad_0}\n",
        "sent_tox_good_1: {sent_tox_good_1}\n",
        "sent_tox_good_0: {sent_tox_good_0}\n",
        "sent_tox_all: {sent_tox_all}\"\"\"\n",
        "    )"
      ]
    },
    {
      "cell_type": "markdown",
      "metadata": {
        "id": "59Ke3MJ-S49b"
      },
      "source": [
        "Уже итак видно, что токсичные и негативные тексты не более похожи между собой, чем все остальные, но посчитаем еще хи-квадрат:"
      ]
    },
    {
      "cell_type": "code",
      "execution_count": 35,
      "metadata": {
        "colab": {
          "base_uri": "https://localhost:8080/"
        },
        "id": "v03Zr9_dGQAM",
        "outputId": "e2ea6246-cfba-4696-8412-2475f1cd5ea5"
      },
      "outputs": [
        {
          "output_type": "stream",
          "name": "stdout",
          "text": [
            "χ² = 0.00000, p-value = 1.00000, degree of freedom = 1, expected frequencies = [[0.49998012 0.49908381]\n",
            " [0.48090535 0.48004323]]\n"
          ]
        }
      ],
      "source": [
        "chi2, p, dof, expected = chi2_contingency([[sent_tox_bad_1, sent_tox_bad_0],\n",
        "                                           [sent_tox_good_1, sent_tox_good_0]])\n",
        "print(f\"χ² = {chi2:.5f}, p-value = {p:.5f}, degree of freedom = {dof}, expected frequencies = {expected}\")"
      ]
    },
    {
      "cell_type": "markdown",
      "source": [
        "Попробуем убрать поправку Йейтса, чтобы у нас не занулялся хи-квадрат"
      ],
      "metadata": {
        "id": "OCTGiSj0nwnM"
      }
    },
    {
      "cell_type": "code",
      "source": [
        "chi2, p, dof, expected = chi2_contingency([[sent_tox_bad_1, sent_tox_bad_0],\n",
        "                                           [sent_tox_good_1, sent_tox_good_0]], correction=False)\n",
        "print(f\"χ² = {chi2:.5f}, p-value = {p:.5f}, degree of freedom = {dof}, expected frequencies = {expected}\")"
      ],
      "metadata": {
        "colab": {
          "base_uri": "https://localhost:8080/"
        },
        "id": "uJ7eqgN_m-ow",
        "outputId": "2caf1495-b515-4ee0-a0ce-e7dfc850260a"
      },
      "execution_count": 33,
      "outputs": [
        {
          "output_type": "stream",
          "name": "stdout",
          "text": [
            "χ² = 0.00008, p-value = 0.99291, degree of freedom = 1, expected frequencies = [[0.49998012 0.49908381]\n",
            " [0.48090535 0.48004323]]\n"
          ]
        }
      ]
    },
    {
      "cell_type": "markdown",
      "metadata": {
        "id": "DSIXMqI8YNIO"
      },
      "source": [
        "На всякий случай посчитала еще через кастомную функцию"
      ]
    },
    {
      "cell_type": "code",
      "execution_count": 36,
      "metadata": {
        "colab": {
          "base_uri": "https://localhost:8080/"
        },
        "id": "PlmosCSxXwQO",
        "outputId": "d40bb144-35ae-491b-ec0f-802101e63ba8"
      },
      "outputs": [
        {
          "output_type": "stream",
          "name": "stdout",
          "text": [
            "χ² = 0.0000395\n"
          ]
        }
      ],
      "source": [
        "def chi_square(a, b, c, d):\n",
        "    \"\"\"Вычисляет хи-квадрат для 2x2 таблицы частот\"\"\"\n",
        "    N = a + b + c + d\n",
        "    E1 = (a + c) * (a + b) / N  # ожидаемое значение для ячейки a\n",
        "    E2 = (a + c) * (c + d) / N  # ожидаемое значение для ячейки c\n",
        "\n",
        "    chi2 = ((a - E1) ** 2) / E1 + ((c - E2) ** 2) / E2\n",
        "    return chi2\n",
        "\n",
        "a = sent_tox_bad_1\n",
        "b = sent_tox_bad_0\n",
        "c = sent_tox_good_1\n",
        "d = sent_tox_good_0\n",
        "\n",
        "chi2_value = chi_square(a, b, c, d)\n",
        "print(f\"χ² = {chi2_value:.7f}\")"
      ]
    },
    {
      "cell_type": "markdown",
      "metadata": {
        "id": "fw05UXvqZi-O"
      },
      "source": [
        "Пороговое значнение хи-квадрата, после которого мы можем отвергнуть нулевую гипотезу для первой степени свободы равно 3.841. Наше значение хи-квадрата практически равно нулю, и естественно, нулевую гипотезу мы не отвергаем."
      ]
    },
    {
      "cell_type": "markdown",
      "metadata": {
        "id": "SL9hSQm3YWaQ"
      },
      "source": [
        "Я просчиталась, но где?\n",
        "\n",
        "Во-первых, с датасетом по сентименту действительно что-то не так, но это я уже для курсовой буду смотреть. Во-вторых, я взяла один датасет тематический - отзывы на фильмы, а другой - просто комменты про все. Это ожидаемо сместило частотные списки в сторону лексики, связанной с кино. Ну и еще, я думаю, что можно было бы взять слова, частотные по всем лэйблам для каждого датасета и выкинуть их. Как, например, я сделала со словом \"фильм\".\n",
        "\n",
        "Ну а на основе тех данных, которые есть, можно сделать вывод, что лексика в токсичных и негативных текстах не более близка, чем у всех остальных"
      ]
    }
  ],
  "metadata": {
    "accelerator": "GPU",
    "colab": {
      "gpuType": "T4",
      "provenance": []
    },
    "kernelspec": {
      "display_name": "Python 3",
      "name": "python3"
    },
    "language_info": {
      "name": "python"
    }
  },
  "nbformat": 4,
  "nbformat_minor": 0
}