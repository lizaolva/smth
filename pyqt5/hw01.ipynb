{
 "cells": [
  {
   "cell_type": "markdown",
   "id": "6eaf54b9-bb1e-4b2d-b39a-e37fe5dcb043",
   "metadata": {},
   "source": [
    "#### Задача 1 (3 балла). \n",
    "\n",
    "Разовьем тему с бойцами. Напишите игру (можно взять свой старый код в качестве базы), где игроку будет предложено выбрать класс героя: волшебник или боец. Вы должны учесть возможность добавления новых игровых классов (используйте наследование). У волшебника и бойца немного разные атрибуты (можно атрибуты сделать одинаковые в классе-родителе, но разные коэффициенты в классах-детях, на которые они домножаются: например, здоровье волшебника будет 1.0 от стандартного значения, а здоровье бойца - 1.5, а с маной наоборот). Также у них будут разные методы \"нанести удар\" и, если хотите, приветствия. Также у нашего героя, кем бы он ни был, должен быть рюкзак, в котором можно рыться и хранить ограниченный набор вещей (в частности, там хранятся зелья: по умолчанию пусть в начале игры каждому персонажу дается по три зелья). Наконец, нужен класс для противника: можете придумать любого монстра (тоже с возможностью добавления новых монстров, очевидно), с которым герой будет сражаться. Во время сражения неплохо предоставлять игроку выбор вида \"нанести удар - выпить зелье\", а сам урон от удара можно немного рандомизировать с помощью одноименного модуля. Можно еще реализовать и метод sleep для мирного времени, но во время боя он, конечно, не понадобится. "
   ]
  },
  {
   "cell_type": "code",
   "execution_count": 2,
   "id": "79d53758-ea88-40d9-94b9-f00206d1a4d9",
   "metadata": {},
   "outputs": [
    {
     "name": "stdout",
     "output_type": "stream",
     "text": [
      "liza, choose your fighter: magician (m) or warior (w)\n"
     ]
    },
    {
     "ename": "TypeError",
     "evalue": "Object.__init__() takes 3 positional arguments but 4 were given",
     "output_type": "error",
     "traceback": [
      "\u001b[1;31m---------------------------------------------------------------------------\u001b[0m",
      "\u001b[1;31mTypeError\u001b[0m                                 Traceback (most recent call last)",
      "Cell \u001b[1;32mIn[2], line 123\u001b[0m\n\u001b[0;32m    120\u001b[0m                 \u001b[39mprint\u001b[39m(\u001b[39mf\u001b[39m\u001b[39m'\u001b[39m\u001b[39mты проиграл\u001b[39m\u001b[39m'\u001b[39m)\n\u001b[0;32m    122\u001b[0m me \u001b[39m=\u001b[39m Player(\u001b[39m'\u001b[39m\u001b[39mliza\u001b[39m\u001b[39m'\u001b[39m)\n\u001b[1;32m--> 123\u001b[0m me\u001b[39m.\u001b[39;49mstart()\n",
      "Cell \u001b[1;32mIn[2], line 75\u001b[0m, in \u001b[0;36mPlayer.start\u001b[1;34m(self)\u001b[0m\n\u001b[0;32m     73\u001b[0m \u001b[39mif\u001b[39;00m choose \u001b[39m==\u001b[39m \u001b[39m'\u001b[39m\u001b[39mm\u001b[39m\u001b[39m'\u001b[39m:\n\u001b[0;32m     74\u001b[0m     \u001b[39mself\u001b[39m\u001b[39m.\u001b[39mplayer \u001b[39m=\u001b[39m Magician(\u001b[39mself\u001b[39m\u001b[39m.\u001b[39mname)\n\u001b[1;32m---> 75\u001b[0m     backpack \u001b[39m=\u001b[39m Backpack()\n\u001b[0;32m     76\u001b[0m \u001b[39melse\u001b[39;00m:\n\u001b[0;32m     77\u001b[0m     \u001b[39mself\u001b[39m\u001b[39m.\u001b[39mplayer \u001b[39m=\u001b[39m Warior(\u001b[39mself\u001b[39m\u001b[39m.\u001b[39mname)\n",
      "Cell \u001b[1;32mIn[2], line 53\u001b[0m, in \u001b[0;36mBackpack.__init__\u001b[1;34m(self)\u001b[0m\n\u001b[0;32m     52\u001b[0m \u001b[39mdef\u001b[39;00m \u001b[39m__init__\u001b[39m(\u001b[39mself\u001b[39m):\n\u001b[1;32m---> 53\u001b[0m     \u001b[39msuper\u001b[39;49m()\u001b[39m.\u001b[39;49m\u001b[39m__init__\u001b[39;49m(\u001b[39mself\u001b[39;49m, \u001b[39m'\u001b[39;49m\u001b[39mbackpack\u001b[39;49m\u001b[39m'\u001b[39;49m, \u001b[39m100\u001b[39;49m)\n\u001b[0;32m     54\u001b[0m     \u001b[39mself\u001b[39m\u001b[39m.\u001b[39mobjects \u001b[39m=\u001b[39m [Potion(\u001b[39m'\u001b[39m\u001b[39mhealth_potion\u001b[39m\u001b[39m'\u001b[39m), Potion(\u001b[39m'\u001b[39m\u001b[39mstrength_potion\u001b[39m\u001b[39m'\u001b[39m), Potion(\u001b[39m'\u001b[39m\u001b[39mstamina_potion\u001b[39m\u001b[39m'\u001b[39m)]\n",
      "\u001b[1;31mTypeError\u001b[0m: Object.__init__() takes 3 positional arguments but 4 were given"
     ]
    }
   ],
   "source": [
    "import random\n",
    "class Creature:\n",
    "    def __init__(self, name, h_coef, s_coef, strength_coef, hit_c):\n",
    "        self.name = name \n",
    "        self.health = 100 * h_coef \n",
    "        self.stamina = 100 * s_coef \n",
    "        self.strength = 100 * strength_coef \n",
    "        self.hit_power = 10 * hit_c\n",
    "    def say_hello(self):\n",
    "        print(f'{self.name} приветствует вас')\n",
    "    def hit(self, other):\n",
    "        power = self.stamina * self.strength * 0.1 * self.hit_c - other.stamina * other.strength * 0.1\n",
    "        if power > 0:\n",
    "            other.stamina -= power\n",
    "            other.strength -= power\n",
    "            other.health -= power * 0.5\n",
    "            self.stamina -= power * 0.2\n",
    "            self.strength -= power * 0.1\n",
    "            print(f'{self.name} наносит урон {other.name} силой {power}')\n",
    "    def drink(self):\n",
    "        backpack = Backpack.objects\n",
    "        print(f'в рюкзаке есть {[i for i in backpack if isinstance(i, Potion) == True]}. какое зелье выпить?')\n",
    "        choise = input()\n",
    "        if choise == 'health_potion':\n",
    "            self.health += 10\n",
    "            Backpack.objects.remove('health_potion')\n",
    "        elif choise == 'stamina_potion':\n",
    "            self.stamina += 10\n",
    "            Backpack.objects.remove('stamina_potion')\n",
    "        elif choise == 'strength_potion':\n",
    "            self.strength += 10\n",
    "            Backpack.objects.remove('strength_potion')\n",
    "    \n",
    "class Magician(Creature):\n",
    "    def __init__(self, name):\n",
    "        super().__init__(name, 1.0, 1.5, 1.0, 0.5)\n",
    "\n",
    "class Warior(Creature):\n",
    "    def __init__(self, name):    \n",
    "        super().__init__(name, 1.0, 1.5, 1.2, 1.1)\n",
    "\n",
    "class Monster(Creature):\n",
    "    def __init__(self, name):\n",
    "        super().__init__(name, 0.8, 1.0, 0.8, 0.8)\n",
    "\n",
    "class Object:\n",
    "    def __init__(self, name, size):\n",
    "        self.size = size\n",
    "        self.name = name\n",
    "\n",
    "class Backpack(Object):\n",
    "    def __init__(self):\n",
    "        super().__init__(self, 'backpack', 100) # почему 4 аргумента, когда тут 3?\n",
    "        self.objects = [Potion('health_potion'), Potion('strength_potion'), Potion('stamina_potion')]\n",
    "    def take(self, obj):\n",
    "        if obj in self.objects:\n",
    "            ...\n",
    "        else:\n",
    "            print(f'{obj} нет в рюкзаке')\n",
    "\n",
    "class Potion(Object):\n",
    "    def __init__(self, size, name):\n",
    "        super().__init__(self, name, 10)\n",
    "    \n",
    "\n",
    "class Player:\n",
    "    def __init__(self, name):\n",
    "        self.name = name \n",
    "        self.player = None\n",
    "    def start(self):\n",
    "        print(f'{self.name}, choose your fighter: magician (m) or warior (w)') # почему не принтится?\n",
    "        choose = input()\n",
    "        if choose == 'm':\n",
    "            self.player = Magician(self.name)\n",
    "            backpack = Backpack()\n",
    "        else:\n",
    "            self.player = Warior(self.name)\n",
    "            backpack = Backpack()\n",
    "    def action(self):\n",
    "        print(f'что делать: 1) бороться с монстром 2) выпить зелье ?')\n",
    "        choice = input()\n",
    "        if choice == '1':\n",
    "            monster = self.generateMonster()\n",
    "            result = self.fight(monster)\n",
    "        else:\n",
    "            result = self.drink()\n",
    "\n",
    "    @staticmethod\n",
    "    def generateMonster():\n",
    "        adversary = Monster('медленная санитарка')\n",
    "        return adversary\n",
    "    \n",
    "    def fight(self, monster):\n",
    "        start = random.choice('p', 'm')\n",
    "        if start == 'p':\n",
    "            while self.player.stamina != 0 or self.player.health != 0 or monster.stamina != 0 or monster.health != 0:\n",
    "                print('выпить зелье (p) или нанести удар (h)?')\n",
    "                choise = input()\n",
    "                if choise == 'h':\n",
    "                    self.player.hit(monster)\n",
    "                else:\n",
    "                    self.player.drink()\n",
    "                monster.hit(self.player)\n",
    "            if monster.stamina == 0 or monster.health == 0:\n",
    "                print(f'ты победил!\\nhealth: {self.player.health}...')\n",
    "            else:\n",
    "                print(f'ты проиграл')\n",
    "        else:\n",
    "            while self.player.stamina != 0 or self.player.health != 0 or monster.stamina != 0 or monster.health != 0:\n",
    "                monster.hit(self.player)\n",
    "                print('выпить зелье (p) или нанести удар (h)?')\n",
    "                choise = input()\n",
    "                if choise == 'h':\n",
    "                    self.player.hit(monster)\n",
    "                else:\n",
    "                    self.player.drink()\n",
    "            if monster.stamina == 0 or monster.health == 0:\n",
    "                print(f'ты победил!\\nhealth: {self.player.health}...')\n",
    "            else:\n",
    "                print(f'ты проиграл')\n",
    "\n",
    "me = Player('liza')\n",
    "me.start()"
   ]
  },
  {
   "cell_type": "markdown",
   "id": "27112b93-fab0-4783-81e6-3e209d99a251",
   "metadata": {},
   "source": [
    "#### Задача 2 (3 балла). \n",
    "\n",
    "Вспомним задачу токенизации. Напишите собственный простенький токенизатор (с самим процессом можно не сильно заморачиваться), который будет создавать генератор с объектами класса Token, у которых будет атрибут text и атрибут category (латинское слово, кириллическое слово или пунктуация). Токенизатор должен быть реализован в классе, у которого должна быть (генераторная) функция tokenize(). Вам понадобится отдельный класс для токенов и re.finditer(). "
   ]
  },
  {
   "cell_type": "code",
   "execution_count": 22,
   "id": "078de4e4",
   "metadata": {},
   "outputs": [
    {
     "data": {
      "text/plain": [
       "[\"<re.Match object; span=(0, 6), match='mother'> lat\",\n",
       " \"<re.Match object; span=(7, 11), match='мыла'> kir\",\n",
       " \"<re.Match object; span=(11, 12), match=','> punct\",\n",
       " \"<re.Match object; span=(13, 14), match=':'> punct\",\n",
       " \"<re.Match object; span=(15, 19), match='мыла'> kir\",\n",
       " \"<re.Match object; span=(20, 24), match='rama'> lat\"]"
      ]
     },
     "execution_count": 22,
     "metadata": {},
     "output_type": "execute_result"
    }
   ],
   "source": [
    "import re\n",
    "\n",
    "class Token:\n",
    "    def __init__(self, token, cat):\n",
    "        self.token = token\n",
    "        self.cat = cat\n",
    "    \n",
    "class Tokenize:\n",
    "    def __init__(self, raw):\n",
    "        self.raw = raw\n",
    "        self.tokens = []\n",
    "    def tokenize(self):\n",
    "        for i in re.finditer(r'([а-яА-Я]+(?:-[а-яА-Я]+)?)|([a-zA-Z]+(?:-[a-zA-Z]+)?)|([!\"#$%&,-./:;<=>?@])', self.raw):\n",
    "            if i.group(1):\n",
    "                cat = 'kir'\n",
    "                yield Token(i, cat)\n",
    "            elif i.group(2):\n",
    "                cat = 'lat'\n",
    "                yield Token(i, cat)\n",
    "            elif i.group(3):\n",
    "                cat = 'punct'\n",
    "                yield Token(i, cat)\n",
    "            else:\n",
    "                return \"ошибка\"\n",
    "\n",
    "what = Tokenize('mother мыла, : мыла rama')\n",
    "tokens = list(what.tokenize())\n",
    "[f'{t.token} {t.cat}' for t in tokens]\n",
    "                "
   ]
  },
  {
   "cell_type": "markdown",
   "id": "e67e51bb",
   "metadata": {},
   "source": [
    "ниже не смотрите, это старая версия"
   ]
  },
  {
   "cell_type": "markdown",
   "id": "27bbf88b-9734-4020-9f5a-981d8d74965f",
   "metadata": {},
   "source": [
    "#### Задача 3 (необязательная: + 3 балла + можно сдавать позднее дедлайна)\n",
    "\n",
    "Самостоятельно изучите библиотеку pyqt5 и напишите программу - графический интерфейс для морфопарсинга: можно использовать любой морфопарсер. В программе должно быть окно, куда пользователь может вставлять свой собственный текст, кнопка \"parse\" и второе окно, в котором будет появляться морфоразбор. В каком виде он будет появляться, не принципиально, но можно сделать таблички. "
   ]
  },
  {
   "cell_type": "markdown",
   "id": "69a930ec-06b5-4b9f-a6b0-2863695aee43",
   "metadata": {},
   "source": [
    "    код для этой задачи удобнее будет писать в py. "
   ]
  }
 ],
 "metadata": {
  "kernelspec": {
   "display_name": "Python 3 (ipykernel)",
   "language": "python",
   "name": "python3"
  },
  "language_info": {
   "codemirror_mode": {
    "name": "ipython",
    "version": 3
   },
   "file_extension": ".py",
   "mimetype": "text/x-python",
   "name": "python",
   "nbconvert_exporter": "python",
   "pygments_lexer": "ipython3",
   "version": "3.10.2"
  }
 },
 "nbformat": 4,
 "nbformat_minor": 5
}
