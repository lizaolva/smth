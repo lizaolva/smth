{
 "cells": [
  {
   "cell_type": "code",
   "execution_count": 41,
   "metadata": {},
   "outputs": [
    {
     "name": "stdout",
     "output_type": "stream",
     "text": [
      "['словоупотребление', ' словоформа', ' лексема', ' парадигма', ' ', 'морфологическое значение', ' морфологическая категория', ' словоизменение и словообразование', ' словоклассифицирующие значения', ' ', 'экспонент', ' форматив', ' морфема', ' морфологическая операция', 'сильная и слабая автономность', ' отделимость', ' переместимость', ' транскатегориальность', ' селективность', ' цельнооформленность', ' раздельнооформленность', ' линейно-синтагматический континуум', ' фонетическое слово', 'клитика', ' опорное слово', ' энклиномен', ' проклитика', ' энклитика', ' эндоклитика', ' групповая флексия', 'корень', ' аффикс', ' суффикс', ' префикс', ' инфикс', ' интерфикс', ' циркумфикс', ' трансфикс', ' амбификс', ' основа', 'сегментные и супрасегментные операции', ' аблаут', ' мутация', ' усечение', ' редупликация', ' конверсия', ' аналитическая форма', 'композит', ' эндоцентричность', ' экзоцентричность', ' инкорпорация', 'кумуляция', ' синкретизм', ' алломорфия', ' множественное выражение морфологических значений', ' формативы-портманто', 'алломорфия', ' обусловленная фонетически', ' лексически', ' морфологически', ' ', 'мор', 'фонологическая и нерегулярная алломорфия', ' сандхи', ' частичная и полная фузия', ' супплетивизм основ и словоформ', ' словоформы-портманто', 'морфологическая идиома', ' связанные формативы', ' нулевой аффикс', ' пустой аффикс', ' ', 'расщепленная парадигма', ' дефектная парадигма', 'грамматическое vs', ' лексическое значение', ' граммема', ' грамматическая категория', ' квазиграммема', ' обязательность', ' регулярность ', 'выражения', ' сочетаемости', ' интерпретации', ' грамматический атом ', 'элементарное грамматическое значение', ' универсальный грамматический набор', ' полисемия граммем', ' межъязыковой грамматический тип', ' грамматический кластер', ' ', 'сфера действия грамматического значения', ' дейктические ', 'шифтерные', ' значения', ' вершинное и зависимостное маркирование', ' ', 'род', ' именной класс', ' согласование', ' число', ' ассоциативная множественность', ' клюзивность', ' детерминация и референтный статус', ' реферетность', ' нереферентность', ' определенность', ' неопределеность', 'падеж', ' грамматические и семантические падежи', ' ядерные и периферийные падежи', ' стратегии кодирования актантов', ' номинативно-аккузативная', ' абсолютивно-эргативная', ' нейтральная', ' трёхчастная', ' активная', ' ', 'локализация и ориентация', ' дейктическая ориентация', ' ', 'принадлежность и изафет', ' ', 'не', 'отчуждаемая ', 'не', 'отторжимая', ' принадлежность', 'акциональность', ' состояние', ' процесс', ' событие', ' предельность и непредельность', ' ', 'семантическая роль', ' синтаксический актант', ' диатеза', ' залог', ' актантная деривация', ' повышающая', ' понижающая', ' интерпретирующая', ' каузатив', ' аппликатив', ' декаузатив ', 'антикаузатив', ' пассив', ' антипассив', ' имперсонал', ' рефлексив', ' реципрок', ' ', 'аспект', ' окно наблюдения', ' перфектив и имперфектив', '  комплетив', ' лимитатив', ' прогрессив', ' проспектив', ' результатив', ' инхоатив и терминатив', ' семельфактив', ' мультипликатив', ' итератив', ' хабитуалис', ' дистрибутив', ' аспектуальные кластеры', 'абсолютное и относительное время', ' таксис', ' временная дистанция', ' ', 'перфект', ' экспериентив', ' плюсквамперфект', ' сверхпрошлое', ' антирезультатив', 'отрицание', ' стандартное и нестандартное отрицание', ' симметричное и асимметричное отрицание', ' ', 'модальность', ' возможность и необходимость', ' эпистемическая и деонтическая модальность', ' иллокутивная модальность', ' императив', ' прохибитив', ' гортатив', ' юссив', ' оптатив', ' ирреальность', ' наклонение', 'эвиденциальность', ' репортатив ', 'квотатив', ' конклюзив ', 'инферентив', ' аудитив', ' адмиратив']\n"
     ]
    }
   ],
   "source": [
    "import openpyxl\n",
    "import re\n",
    "with open(r\"C:\\Users\\lizao\\Desktop\\с.txt\", 'r', encoding='utf-8') as d:\n",
    "    doc=d.read()\n",
    "t=re.findall(r'[\\w| -]+', doc)\n",
    "terms=[tt.lower() for tt in t]\n",
    "table=[]\n",
    "wookbook = openpyxl.load_workbook(r\"C:\\Users\\lizao\\Downloads\\Н2С Термины морфология.xlsx\")\n",
    "worksheet = wookbook.active\n",
    "for col in worksheet.iter_cols(1):\n",
    "    for cel in col:\n",
    "        if isinstance(cel.value, str):\n",
    "            table.append(cel.value.lower())\n",
    "\n",
    "    \n",
    "print(terms)\n"
   ]
  },
  {
   "cell_type": "code",
   "execution_count": 21,
   "metadata": {},
   "outputs": [
    {
     "name": "stdout",
     "output_type": "stream",
     "text": [
      "[('-', 'a'), ('+5', 'ab'), ('+3', 'a'), ('-', 'c'), ('-2', 'a'), ('', '')]\n",
      "['-1a', '-2c']\n",
      "[('', 'dc'), ('+', 'dcba'), ('', '')]\n",
      "['0dc', '0']\n",
      "[('2', 'xy'), ('-', 'yx'), ('', '')]\n",
      "['4xy', '0']\n"
     ]
    }
   ],
   "source": [
    "import re\n",
    "def simplify(poly):\n",
    "    per=re.compile(r'([+-]*\\d*)(\\w*)')\n",
    "    vr=[]\n",
    "    l=re.findall(per, poly)\n",
    "    print(l)\n",
    "    for gr1 in l:\n",
    "        ind=gr1[0]\n",
    "        if ind=='-': ind=-1\n",
    "        elif ind=='': ind=0\n",
    "        else: ind=int(gr1[0])\n",
    "        for gr2 in l:\n",
    "            if gr1[1]==gr2[1]:\n",
    "                if gr2[0]=='-': ind+=-1\n",
    "                elif gr2[0]=='': ind+=0\n",
    "                else: ind+=int(gr2[0])\n",
    "                l.remove(gr2)\n",
    "        vr.append(str(ind)+gr1[1])\n",
    "    print(vr)\n",
    "simplify(\"-a+5ab+3a-c-2a\")\n",
    "simplify(\"dc+dcba\")\n",
    "simplify('2xy-yx')"
   ]
  },
  {
   "cell_type": "code",
   "execution_count": 19,
   "metadata": {},
   "outputs": [
    {
     "name": "stdout",
     "output_type": "stream",
     "text": [
      "264 233 20 22 16 26 5 16\n"
     ]
    }
   ],
   "source": [
    "import openpyxl\n",
    "wookbook = openpyxl.load_workbook(r\"C:\\Users\\lizao\\Downloads\\опросик (Ответы).xlsx\")\n",
    "worksheet = wookbook.active\n",
    "\n",
    "\n",
    "class Eigtheen:\n",
    "    def __init__(self, t):\n",
    "        self.ov=0\n",
    "        self.zero=0\n",
    "        self.new_ov=t[0]\n",
    "        self.new_zero=t[1]\n",
    "    def plus(self):\n",
    "        self.ov+=self.new_ov\n",
    "        self.zero+=self.new_zero\n",
    "    def print(self):\n",
    "        print(f'ov: {self.ov}, zero: {self.zero}')\n",
    "\n",
    "class Thirtyone:\n",
    "    def __init__(self, t):\n",
    "        self.ov=0\n",
    "        self.zero=0\n",
    "        self.new_ov=t[0]\n",
    "        self.new_zero=t[1]\n",
    "    def plus(self):\n",
    "        self.ov+=self.new_ov\n",
    "        self.zero+=self.new_zero\n",
    "    def print(self):\n",
    "        print(f'ov: {self.ov}, zero: {self.zero}')\n",
    "\n",
    "class Fortysix:\n",
    "    def __init__(self, t):\n",
    "        self.ov=0\n",
    "        self.zero=0\n",
    "        self.new_ov=t[0]\n",
    "        self.new_zero=t[1]\n",
    "    def plus(self):\n",
    "        self.ov+=self.new_ov\n",
    "        self.zero+=self.new_zero\n",
    "    def print(self):\n",
    "        print(f'ov: {self.ov}, zero: {self.zero}')\n",
    "\n",
    "class Sixty:\n",
    "    def __init__(self, t):\n",
    "        self.ov=0\n",
    "        self.zero=0\n",
    "        self.new_ov=t[0]\n",
    "        self.new_zero=t[1]\n",
    "    def plus(self):\n",
    "        self.ov+=self.new_ov\n",
    "        self.zero+=self.new_zero\n",
    "    def print(self):\n",
    "        print(f'ov: {self.ov}, zero: {self.zero}')\n",
    "\n",
    "eigthteen_ov=0\n",
    "eigthteen_zero=0\n",
    "thirtyone_ov=0\n",
    "thirtyone_zero=0\n",
    "fortysix_ov=0\n",
    "fortysix_zero=0\n",
    "sixty_ov=0\n",
    "sixty_zero=0\n",
    "\n",
    "def count(min_row, max_row):\n",
    "    ov=0\n",
    "    zero=0\n",
    "    for row in worksheet.iter_rows(min_row=min_row, min_col=6, max_col=26, max_row=max_row):\n",
    "            for cel in row:\n",
    "                if type(cel.value)==str:\n",
    "                    if cel.value.endswith('ов'):\n",
    "                        ov+=1\n",
    "                    else:\n",
    "                        zero+=1       \n",
    "    return ov, zero\n",
    "\n",
    "for row in worksheet.iter_rows(min_row=2, min_col=2, max_col=2, max_row=31):\n",
    "    for cel in row:\n",
    "            if cel.value=='18-30':\n",
    "                a=count(cel.row, cel.row)\n",
    "                eigthteen_ov+=a[0]\n",
    "                eigthteen_zero+=a[1]\n",
    "            elif cel.value=='31-45':\n",
    "                a=count(cel.row, cel.row)\n",
    "                thirtyone_ov+=a[0]\n",
    "                thirtyone_zero+=a[1]\n",
    "            elif cel.value=='46-60':\n",
    "                a=count(cel.row, cel.row)\n",
    "                fortysix_ov+=a[0]\n",
    "                fortysix_zero+=a[1]\n",
    "            elif cel.value=='больше 60':\n",
    "                a=count(cel.row, cel.row)\n",
    "                sixty_ov+=a[0]\n",
    "                sixty_zero+=a[1]\n",
    "\n",
    "print(eigthteen_ov, eigthteen_zero, thirtyone_ov, thirtyone_zero, fortysix_ov, fortysix_zero, sixty_ov, sixty_zero)\n",
    "\n",
    "\n"
   ]
  },
  {
   "cell_type": "code",
   "execution_count": 8,
   "metadata": {},
   "outputs": [
    {
     "name": "stdout",
     "output_type": "stream",
     "text": [
      "ж: ov - 48.0\n",
      "ж: zero - 52.0\n",
      "м: ov - 61.5\n",
      "м: zero - 38.5\n"
     ]
    }
   ],
   "source": [
    "import openpyxl\n",
    "wookbook = openpyxl.load_workbook(r\"C:\\Users\\lizao\\Downloads\\опросик (Ответы).xlsx\")\n",
    "worksheet = wookbook.active\n",
    "\n",
    "dct={}\n",
    "def count(min_row, max_row):\n",
    "    ov=0\n",
    "    zero=0\n",
    "    for row in worksheet.iter_rows(min_row=min_row, min_col=6, max_col=26, max_row=max_row):\n",
    "            for cel in row:\n",
    "                if type(cel.value)==str:\n",
    "                    if cel.value.endswith('ов'):\n",
    "                        ov+=1\n",
    "                    else:\n",
    "                        zero+=1       \n",
    "    return ov, zero\n",
    "\n",
    "for row in worksheet.iter_rows(min_row=2, min_col=3, max_col=3, max_row=31):\n",
    "    for cel in row:\n",
    "        t=count(cel.row, cel.row)\n",
    "        if cel.value not in dct.keys():\n",
    "            dct[cel.value]={'ov':t[0], 'zero':t[1]}\n",
    "        elif cel.value in dct.keys():\n",
    "            dct[cel.value]['ov']+=t[0]\n",
    "            dct[cel.value]['zero']+=t[1]  \n",
    "\n",
    "for ke, val in dct.items():\n",
    "    for k, v in val.items():\n",
    "        print(f\"{ke}: {k} - {v/sum(val.values())*100}\")\n"
   ]
  },
  {
   "cell_type": "code",
   "execution_count": 13,
   "metadata": {},
   "outputs": [
    {
     "name": "stdout",
     "output_type": "stream",
     "text": [
      "москва  - 2\n",
      "украина  - 1\n",
      "кыргызстан - 1\n",
      "україна - 1\n",
      "москва - 9\n",
      "россия, тамбовская обл., сосновский район - 1\n",
      "россия ,московская область  - 1\n",
      "украина,павлоград - 1\n",
      "россия, тамбовская область, сосновский район, р. п. сосновка - 1\n",
      "россия, тула - 1\n",
      "тамбовская область - 1\n",
      "россия, москва  - 3\n",
      "ссср, москва - 1\n",
      "россия, самара - 1\n",
      "россия, удмуртская р-ка, г.ижевск  - 1\n",
      "россия, москва - 1\n",
      "россия, город москва - 1\n",
      "россия, липецкая область, г. лебедянь  - 1\n",
      "московская область  - 1\n",
      "тамбовская область р. п. сосновка - 1\n",
      "россия - 4\n",
      "тамбовская область, село правые ламки - 1\n",
      "россия, тверь  - 1\n",
      "россия, тамбовская область, сосновский район, сосновка - 1\n",
      "россия, тамбовская область, сосновский район, с. правые ламки - 1\n",
      "россия, город москва  - 1\n",
      "россия, водгоград  - 1\n",
      "недалеко  - 1\n",
      "забайкальский край, город чита  - 1\n",
      "беларусь  - 1\n",
      "украина, днепропетровская обл  - 1\n",
      "чебоксары  - 1\n",
      "moscow city  - 1\n",
      "рф, чувашская республика, г. чебоксары - 1\n",
      "россия  - 1\n",
      "московская - 1\n",
      "армения  - 1\n",
      "тамбов  - 1\n",
      "россия, тамбов - 1\n",
      "тамбовская  - 1\n",
      "россия тамбовская обл - 1\n",
      "россия, тамбовская область, сосновский район, село правые ламки россия, тамбовская область, сосновский район, село правые ламки  - 1\n",
      "тамбовская область сосновский район село третьи левые ламки - 1\n",
      "россия тамбовская область, р.п. сосновка  - 1\n",
      "россия ,тамбовская область,р.п.сосновка - 1\n",
      "тамбов - 1\n",
      "россия, рязанская область, ряжский район, город ряжск - 1\n",
      "россия, удмуртская, ижевск - 1\n"
     ]
    }
   ],
   "source": [
    "import openpyxl\n",
    "from collections import Counter\n",
    "wookbook = openpyxl.load_workbook(r\"C:\\Users\\lizao\\Downloads\\Ударение в глаголах, в которых чаще всего допускают ошибки (Ответы).xlsx\")\n",
    "worksheet = wookbook.active\n",
    "c=Counter()\n",
    "for row in worksheet.iter_rows(min_row=2, min_col=5, max_col=5, max_row=63):\n",
    "    for cel in row:\n",
    "        if cel.value.lower() not in c.keys():\n",
    "            c[cel.value.lower()]=1\n",
    "        else:\n",
    "            c[cel.value.lower()]+=1\n",
    "for k, v in c.items():\n",
    "    print(f'{k} - {v}')\n",
    "\n"
   ]
  },
  {
   "cell_type": "code",
   "execution_count": null,
   "metadata": {},
   "outputs": [],
   "source": [
    "def same_structure_as(original,other):\n",
    "    for i in original:\n",
    "        if type(other(original.index(i)))!=type(i):\n",
    "            return False\n",
    "        else:\n",
    "            if type(i)==list:\n",
    "                if len(i)!=len(other(original.index(i)):\n",
    "                    return False"
   ]
  },
  {
   "cell_type": "code",
   "execution_count": 9,
   "metadata": {},
   "outputs": [
    {
     "data": {
      "text/plain": [
       "int"
      ]
     },
     "execution_count": 9,
     "metadata": {},
     "output_type": "execute_result"
    }
   ],
   "source": []
  },
  {
   "cell_type": "code",
   "execution_count": 1,
   "metadata": {},
   "outputs": [],
   "source": [
    "def regions(min_row, max_row, min_col, max_col):\n",
    "    ov=0\n",
    "    zero=0\n",
    "    for row in worksheet.iter_rows(min_row=min_row, min_col=min_col, max_col=max_col, max_row=max_row):\n",
    "        for cel in row:\n",
    "            if cel.value.endswith('ов'):\n",
    "                ov+=1\n",
    "            else:\n",
    "                zero+=1\n",
    "    return ov, zero"
   ]
  },
  {
   "cell_type": "code",
   "execution_count": null,
   "metadata": {},
   "outputs": [],
   "source": [
    "def __init__(self, new_ov, new_zero):\n",
    "        self.ov=0\n",
    "        self.zero=0\n",
    "        self.new_ov=new_ov\n",
    "        self.new_zero=new_zero\n",
    "    def plus(self):\n",
    "        self.ov+=self.new_ov\n",
    "        self.zero+=self.new_zero\n",
    "    def print(self):\n",
    "        print(f'ov: {self.ov}, zero: {self.zero}')\n"
   ]
  }
 ],
 "metadata": {
  "kernelspec": {
   "display_name": "Python 3",
   "language": "python",
   "name": "python3"
  },
  "language_info": {
   "codemirror_mode": {
    "name": "ipython",
    "version": 3
   },
   "file_extension": ".py",
   "mimetype": "text/x-python",
   "name": "python",
   "nbconvert_exporter": "python",
   "pygments_lexer": "ipython3",
   "version": "3.10.2"
  },
  "orig_nbformat": 4
 },
 "nbformat": 4,
 "nbformat_minor": 2
}
