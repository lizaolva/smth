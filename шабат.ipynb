{
 "cells": [
  {
   "cell_type": "code",
   "execution_count": 2,
   "metadata": {},
   "outputs": [],
   "source": [
    "from rich.console import Console\n",
    "from rich.table import Table\n",
    "\n",
    "def let_freq(dct):\n",
    "    table = Table(title=\"корпус\")\n",
    "    table.add_column(\"буква\", justify=\"right\", style=\"cyan\", no_wrap=True)\n",
    "    table.add_column(\"частота\", justify=\"right\", style=\"cyan\", no_wrap=True)\n",
    "    letters = {k: v for k, v in sorted(dct.items(), key=lambda item: item[1], reverse=True)}\n",
    "    for k, v in letters.items():\n",
    "        table.add_row(f'{k}', f'{v}')\n",
    "    console = Console()\n",
    "    console.print(table)\n",
    "\n",
    "def let_freq_pers(dct):\n",
    "    table = Table(title=\"корпус проценты\")\n",
    "    table.add_column(\"буква\", justify=\"right\", style=\"cyan\", no_wrap=True)\n",
    "    table.add_column(\"частота (в процентах)\", justify=\"right\", style=\"cyan\", no_wrap=True)\n",
    "    dct_pers = {}\n",
    "    for k, v in dct.items():\n",
    "        dct_pers[k] = round(v / sum([v for v in dct.values()]) * 100, 2)\n",
    "    dct_pers = {k: v for k, v in sorted(dct_pers.items(), key=lambda item: item[1], reverse=True)}\n",
    "\n",
    "    for k, v in dct_pers.items():\n",
    "        table.add_row(f'{k}', f'{v}')\n",
    "    console = Console()\n",
    "    console.print(table)"
   ]
  },
  {
   "cell_type": "code",
   "execution_count": 3,
   "metadata": {},
   "outputs": [],
   "source": [
    "import matplotlib.pyplot as plt\n",
    "from matplotlib.ticker import AutoMinorLocator, MultipleLocator\n",
    "def plot(dct):\n",
    "    dct = {k: v for k, v in sorted(dct.items(), key=lambda item: item[1], reverse=True)}\n",
    "    x = [i for i in dct.keys()]\n",
    "    y = [i for i in dct.values()]\n",
    "    fig = plt.figure()\n",
    "    ax = fig.add_subplot(111)\n",
    "    ax.plot(x, y)\n",
    "    ax.set_yticks([250000, 200000, 150000, 100000, 50000, 10000])\n",
    "    ax.yaxis.set_minor_locator(MultipleLocator(10000))\n",
    "    plt.show()"
   ]
  },
  {
   "cell_type": "code",
   "execution_count": 4,
   "metadata": {},
   "outputs": [],
   "source": [
    "def tsipf(dct):\n",
    "    ind = {}\n",
    "    k = 1\n",
    "    for v in dct.values():\n",
    "        ind[k] = round(max([i for i in dct.values()]) / v, 1)\n",
    "        k+=1\n",
    "\n",
    "    table = Table(title=\"индекс Ципфа\")\n",
    "    table.add_column(\"ранг\", justify=\"right\", style=\"cyan\", no_wrap=True)\n",
    "    table.add_column(\"индекс\", justify=\"right\", style=\"cyan\", no_wrap=True)\n",
    "    for k, v in ind.items():\n",
    "        table.add_row(f'{k}', f'{v}')\n",
    "    console = Console()\n",
    "    console.print(table)"
   ]
  },
  {
   "cell_type": "code",
   "execution_count": 5,
   "metadata": {},
   "outputs": [],
   "source": [
    "import matplotlib.pyplot as plt\n",
    "from matplotlib.ticker import AutoMinorLocator, MultipleLocator\n",
    "def plot_ind(dct):\n",
    "    fig = plt.figure()\n",
    "    ax = fig.add_subplot(111)\n",
    "    fig.set_figheight(7)\n",
    "    fig.set_figwidth(10)\n",
    "    x = [str(i) for i in dct.keys()]\n",
    "    y = [i for i in dct.values()]\n",
    "    x_grid = x\n",
    "    y_grid = [round(max([i for i in dct.values()]) / i, 1) for i in range(1, 33)]\n",
    "    ax.plot(x, y, marker='o', markersize = 3)\n",
    "    ax.plot(x_grid, y_grid, marker='o', markersize = 3)\n",
    "    ax.set_yticks([y_grid[0], y_grid[1], y_grid[2], y_grid[7], y_grid[15], y_grid[len(y_grid)-1]])\n",
    "    plt.grid(True, color = \"grey\", linewidth = \"0.8\", linestyle = '--')\n",
    "    plt.show()"
   ]
  },
  {
   "cell_type": "markdown",
   "metadata": {},
   "source": [
    "Здесь мы подсчитали абсолютное количество букв в корпусе и проконтролировали количество слов (2 миллиона). Тексты взяты из ГИКРЯ, сбалансированы из 4 подкорпусов (Новости, Вконтакте, Живой Журнал и Журнальный Зал)."
   ]
  },
  {
   "cell_type": "code",
   "execution_count": 1,
   "metadata": {},
   "outputs": [],
   "source": [
    "from bs4 import BeautifulSoup\n",
    "import string, os, re\n",
    "letters = {}\n",
    "letset = ['ё', 'й', 'ц', 'у', 'к', 'е', 'н', 'г', 'ш', 'щ', 'з', 'х', 'ъ', 'э', 'ж', 'д', 'л', 'о', 'р', 'п', 'а', 'в', 'ы', 'ф', 'я', 'ч', 'с', 'м', 'и', 'т', 'ь', 'б', 'ю']\n",
    "wordcount = 0\n",
    "for f in os.listdir(r\"C:\\Users\\lizao\\Desktop\\smth\\гикря\"):\n",
    "    with open(os.path.join(r\"C:\\Users\\lizao\\Desktop\\smth\\гикря\", f), 'r', encoding = 'utf-8') as file:\n",
    "        raw = file.read()\n",
    "    soup = BeautifulSoup(raw)\n",
    "      \n",
    "    for p in soup.find_all('text'):\n",
    "        words = re.findall(r'[а-яА-Я]+(?:-[а-яА-Я]+)?', p.text)\n",
    "        wordcount += len(words)\n",
    "        if wordcount >= 2e6:\n",
    "            break\n",
    "        else:\n",
    "            for word in words:\n",
    "                    for char in word:\n",
    "                        if char.lower() in letset:\n",
    "                            if char.lower() in letters:\n",
    "                                letters[char.lower()] +=1\n",
    "                            else:\n",
    "                                letters[char.lower()] = 1\n"
   ]
  },
  {
   "cell_type": "code",
   "execution_count": 2,
   "metadata": {},
   "outputs": [
    {
     "data": {
      "text/html": [
       "<pre style=\"white-space:pre;overflow-x:auto;line-height:normal;font-family:Menlo,'DejaVu Sans Mono',consolas,'Courier New',monospace\"><span style=\"font-style: italic\">      корпус       </span>\n",
       "┏━━━━━━━┳━━━━━━━━━┓\n",
       "┃<span style=\"font-weight: bold\"> буква </span>┃<span style=\"font-weight: bold\"> частота </span>┃\n",
       "┡━━━━━━━╇━━━━━━━━━┩\n",
       "│<span style=\"color: #008080; text-decoration-color: #008080\">     о </span>│<span style=\"color: #008080; text-decoration-color: #008080\"> 1139224 </span>│\n",
       "│<span style=\"color: #008080; text-decoration-color: #008080\">     е </span>│<span style=\"color: #008080; text-decoration-color: #008080\">  893188 </span>│\n",
       "│<span style=\"color: #008080; text-decoration-color: #008080\">     а </span>│<span style=\"color: #008080; text-decoration-color: #008080\">  849519 </span>│\n",
       "│<span style=\"color: #008080; text-decoration-color: #008080\">     т </span>│<span style=\"color: #008080; text-decoration-color: #008080\">  719036 </span>│\n",
       "│<span style=\"color: #008080; text-decoration-color: #008080\">     и </span>│<span style=\"color: #008080; text-decoration-color: #008080\">  712462 </span>│\n",
       "│<span style=\"color: #008080; text-decoration-color: #008080\">     н </span>│<span style=\"color: #008080; text-decoration-color: #008080\">  686425 </span>│\n",
       "│<span style=\"color: #008080; text-decoration-color: #008080\">     с </span>│<span style=\"color: #008080; text-decoration-color: #008080\">  543568 </span>│\n",
       "│<span style=\"color: #008080; text-decoration-color: #008080\">     р </span>│<span style=\"color: #008080; text-decoration-color: #008080\">  451965 </span>│\n",
       "│<span style=\"color: #008080; text-decoration-color: #008080\">     в </span>│<span style=\"color: #008080; text-decoration-color: #008080\">  433939 </span>│\n",
       "│<span style=\"color: #008080; text-decoration-color: #008080\">     л </span>│<span style=\"color: #008080; text-decoration-color: #008080\">  417756 </span>│\n",
       "│<span style=\"color: #008080; text-decoration-color: #008080\">     к </span>│<span style=\"color: #008080; text-decoration-color: #008080\">  363288 </span>│\n",
       "│<span style=\"color: #008080; text-decoration-color: #008080\">     м </span>│<span style=\"color: #008080; text-decoration-color: #008080\">  344759 </span>│\n",
       "│<span style=\"color: #008080; text-decoration-color: #008080\">     д </span>│<span style=\"color: #008080; text-decoration-color: #008080\">  309652 </span>│\n",
       "│<span style=\"color: #008080; text-decoration-color: #008080\">     п </span>│<span style=\"color: #008080; text-decoration-color: #008080\">  293783 </span>│\n",
       "│<span style=\"color: #008080; text-decoration-color: #008080\">     у </span>│<span style=\"color: #008080; text-decoration-color: #008080\">  287491 </span>│\n",
       "│<span style=\"color: #008080; text-decoration-color: #008080\">     я </span>│<span style=\"color: #008080; text-decoration-color: #008080\">  218049 </span>│\n",
       "│<span style=\"color: #008080; text-decoration-color: #008080\">     ь </span>│<span style=\"color: #008080; text-decoration-color: #008080\">  208050 </span>│\n",
       "│<span style=\"color: #008080; text-decoration-color: #008080\">     ы </span>│<span style=\"color: #008080; text-decoration-color: #008080\">  187322 </span>│\n",
       "│<span style=\"color: #008080; text-decoration-color: #008080\">     б </span>│<span style=\"color: #008080; text-decoration-color: #008080\">  178761 </span>│\n",
       "│<span style=\"color: #008080; text-decoration-color: #008080\">     ч </span>│<span style=\"color: #008080; text-decoration-color: #008080\">  169892 </span>│\n",
       "│<span style=\"color: #008080; text-decoration-color: #008080\">     з </span>│<span style=\"color: #008080; text-decoration-color: #008080\">  163136 </span>│\n",
       "│<span style=\"color: #008080; text-decoration-color: #008080\">     г </span>│<span style=\"color: #008080; text-decoration-color: #008080\">  159361 </span>│\n",
       "│<span style=\"color: #008080; text-decoration-color: #008080\">     й </span>│<span style=\"color: #008080; text-decoration-color: #008080\">  114294 </span>│\n",
       "│<span style=\"color: #008080; text-decoration-color: #008080\">     ж </span>│<span style=\"color: #008080; text-decoration-color: #008080\">  113098 </span>│\n",
       "│<span style=\"color: #008080; text-decoration-color: #008080\">     х </span>│<span style=\"color: #008080; text-decoration-color: #008080\">   93684 </span>│\n",
       "│<span style=\"color: #008080; text-decoration-color: #008080\">     ш </span>│<span style=\"color: #008080; text-decoration-color: #008080\">   79452 </span>│\n",
       "│<span style=\"color: #008080; text-decoration-color: #008080\">     ю </span>│<span style=\"color: #008080; text-decoration-color: #008080\">   78424 </span>│\n",
       "│<span style=\"color: #008080; text-decoration-color: #008080\">     э </span>│<span style=\"color: #008080; text-decoration-color: #008080\">   43560 </span>│\n",
       "│<span style=\"color: #008080; text-decoration-color: #008080\">     ц </span>│<span style=\"color: #008080; text-decoration-color: #008080\">   40624 </span>│\n",
       "│<span style=\"color: #008080; text-decoration-color: #008080\">     щ </span>│<span style=\"color: #008080; text-decoration-color: #008080\">   38502 </span>│\n",
       "│<span style=\"color: #008080; text-decoration-color: #008080\">     ф </span>│<span style=\"color: #008080; text-decoration-color: #008080\">   29299 </span>│\n",
       "│<span style=\"color: #008080; text-decoration-color: #008080\">     ъ </span>│<span style=\"color: #008080; text-decoration-color: #008080\">    2934 </span>│\n",
       "└───────┴─────────┘\n",
       "</pre>\n"
      ],
      "text/plain": [
       "\u001b[3m      корпус       \u001b[0m\n",
       "┏━━━━━━━┳━━━━━━━━━┓\n",
       "┃\u001b[1m \u001b[0m\u001b[1mбуква\u001b[0m\u001b[1m \u001b[0m┃\u001b[1m \u001b[0m\u001b[1mчастота\u001b[0m\u001b[1m \u001b[0m┃\n",
       "┡━━━━━━━╇━━━━━━━━━┩\n",
       "│\u001b[36m \u001b[0m\u001b[36m    о\u001b[0m\u001b[36m \u001b[0m│\u001b[36m \u001b[0m\u001b[36m1139224\u001b[0m\u001b[36m \u001b[0m│\n",
       "│\u001b[36m \u001b[0m\u001b[36m    е\u001b[0m\u001b[36m \u001b[0m│\u001b[36m \u001b[0m\u001b[36m 893188\u001b[0m\u001b[36m \u001b[0m│\n",
       "│\u001b[36m \u001b[0m\u001b[36m    а\u001b[0m\u001b[36m \u001b[0m│\u001b[36m \u001b[0m\u001b[36m 849519\u001b[0m\u001b[36m \u001b[0m│\n",
       "│\u001b[36m \u001b[0m\u001b[36m    т\u001b[0m\u001b[36m \u001b[0m│\u001b[36m \u001b[0m\u001b[36m 719036\u001b[0m\u001b[36m \u001b[0m│\n",
       "│\u001b[36m \u001b[0m\u001b[36m    и\u001b[0m\u001b[36m \u001b[0m│\u001b[36m \u001b[0m\u001b[36m 712462\u001b[0m\u001b[36m \u001b[0m│\n",
       "│\u001b[36m \u001b[0m\u001b[36m    н\u001b[0m\u001b[36m \u001b[0m│\u001b[36m \u001b[0m\u001b[36m 686425\u001b[0m\u001b[36m \u001b[0m│\n",
       "│\u001b[36m \u001b[0m\u001b[36m    с\u001b[0m\u001b[36m \u001b[0m│\u001b[36m \u001b[0m\u001b[36m 543568\u001b[0m\u001b[36m \u001b[0m│\n",
       "│\u001b[36m \u001b[0m\u001b[36m    р\u001b[0m\u001b[36m \u001b[0m│\u001b[36m \u001b[0m\u001b[36m 451965\u001b[0m\u001b[36m \u001b[0m│\n",
       "│\u001b[36m \u001b[0m\u001b[36m    в\u001b[0m\u001b[36m \u001b[0m│\u001b[36m \u001b[0m\u001b[36m 433939\u001b[0m\u001b[36m \u001b[0m│\n",
       "│\u001b[36m \u001b[0m\u001b[36m    л\u001b[0m\u001b[36m \u001b[0m│\u001b[36m \u001b[0m\u001b[36m 417756\u001b[0m\u001b[36m \u001b[0m│\n",
       "│\u001b[36m \u001b[0m\u001b[36m    к\u001b[0m\u001b[36m \u001b[0m│\u001b[36m \u001b[0m\u001b[36m 363288\u001b[0m\u001b[36m \u001b[0m│\n",
       "│\u001b[36m \u001b[0m\u001b[36m    м\u001b[0m\u001b[36m \u001b[0m│\u001b[36m \u001b[0m\u001b[36m 344759\u001b[0m\u001b[36m \u001b[0m│\n",
       "│\u001b[36m \u001b[0m\u001b[36m    д\u001b[0m\u001b[36m \u001b[0m│\u001b[36m \u001b[0m\u001b[36m 309652\u001b[0m\u001b[36m \u001b[0m│\n",
       "│\u001b[36m \u001b[0m\u001b[36m    п\u001b[0m\u001b[36m \u001b[0m│\u001b[36m \u001b[0m\u001b[36m 293783\u001b[0m\u001b[36m \u001b[0m│\n",
       "│\u001b[36m \u001b[0m\u001b[36m    у\u001b[0m\u001b[36m \u001b[0m│\u001b[36m \u001b[0m\u001b[36m 287491\u001b[0m\u001b[36m \u001b[0m│\n",
       "│\u001b[36m \u001b[0m\u001b[36m    я\u001b[0m\u001b[36m \u001b[0m│\u001b[36m \u001b[0m\u001b[36m 218049\u001b[0m\u001b[36m \u001b[0m│\n",
       "│\u001b[36m \u001b[0m\u001b[36m    ь\u001b[0m\u001b[36m \u001b[0m│\u001b[36m \u001b[0m\u001b[36m 208050\u001b[0m\u001b[36m \u001b[0m│\n",
       "│\u001b[36m \u001b[0m\u001b[36m    ы\u001b[0m\u001b[36m \u001b[0m│\u001b[36m \u001b[0m\u001b[36m 187322\u001b[0m\u001b[36m \u001b[0m│\n",
       "│\u001b[36m \u001b[0m\u001b[36m    б\u001b[0m\u001b[36m \u001b[0m│\u001b[36m \u001b[0m\u001b[36m 178761\u001b[0m\u001b[36m \u001b[0m│\n",
       "│\u001b[36m \u001b[0m\u001b[36m    ч\u001b[0m\u001b[36m \u001b[0m│\u001b[36m \u001b[0m\u001b[36m 169892\u001b[0m\u001b[36m \u001b[0m│\n",
       "│\u001b[36m \u001b[0m\u001b[36m    з\u001b[0m\u001b[36m \u001b[0m│\u001b[36m \u001b[0m\u001b[36m 163136\u001b[0m\u001b[36m \u001b[0m│\n",
       "│\u001b[36m \u001b[0m\u001b[36m    г\u001b[0m\u001b[36m \u001b[0m│\u001b[36m \u001b[0m\u001b[36m 159361\u001b[0m\u001b[36m \u001b[0m│\n",
       "│\u001b[36m \u001b[0m\u001b[36m    й\u001b[0m\u001b[36m \u001b[0m│\u001b[36m \u001b[0m\u001b[36m 114294\u001b[0m\u001b[36m \u001b[0m│\n",
       "│\u001b[36m \u001b[0m\u001b[36m    ж\u001b[0m\u001b[36m \u001b[0m│\u001b[36m \u001b[0m\u001b[36m 113098\u001b[0m\u001b[36m \u001b[0m│\n",
       "│\u001b[36m \u001b[0m\u001b[36m    х\u001b[0m\u001b[36m \u001b[0m│\u001b[36m \u001b[0m\u001b[36m  93684\u001b[0m\u001b[36m \u001b[0m│\n",
       "│\u001b[36m \u001b[0m\u001b[36m    ш\u001b[0m\u001b[36m \u001b[0m│\u001b[36m \u001b[0m\u001b[36m  79452\u001b[0m\u001b[36m \u001b[0m│\n",
       "│\u001b[36m \u001b[0m\u001b[36m    ю\u001b[0m\u001b[36m \u001b[0m│\u001b[36m \u001b[0m\u001b[36m  78424\u001b[0m\u001b[36m \u001b[0m│\n",
       "│\u001b[36m \u001b[0m\u001b[36m    э\u001b[0m\u001b[36m \u001b[0m│\u001b[36m \u001b[0m\u001b[36m  43560\u001b[0m\u001b[36m \u001b[0m│\n",
       "│\u001b[36m \u001b[0m\u001b[36m    ц\u001b[0m\u001b[36m \u001b[0m│\u001b[36m \u001b[0m\u001b[36m  40624\u001b[0m\u001b[36m \u001b[0m│\n",
       "│\u001b[36m \u001b[0m\u001b[36m    щ\u001b[0m\u001b[36m \u001b[0m│\u001b[36m \u001b[0m\u001b[36m  38502\u001b[0m\u001b[36m \u001b[0m│\n",
       "│\u001b[36m \u001b[0m\u001b[36m    ф\u001b[0m\u001b[36m \u001b[0m│\u001b[36m \u001b[0m\u001b[36m  29299\u001b[0m\u001b[36m \u001b[0m│\n",
       "│\u001b[36m \u001b[0m\u001b[36m    ъ\u001b[0m\u001b[36m \u001b[0m│\u001b[36m \u001b[0m\u001b[36m   2934\u001b[0m\u001b[36m \u001b[0m│\n",
       "└───────┴─────────┘\n"
      ]
     },
     "metadata": {},
     "output_type": "display_data"
    }
   ],
   "source": [
    "from rich.console import Console\n",
    "from rich.table import Table\n",
    "\n",
    "table = Table(title=\"корпус\")\n",
    "table.add_column(\"буква\", justify=\"right\", style=\"cyan\", no_wrap=True)\n",
    "table.add_column(\"частота\", justify=\"right\", style=\"cyan\", no_wrap=True)\n",
    "letters = {k: v for k, v in sorted(letters.items(), key=lambda item: item[1], reverse=True)}\n",
    "for k, v in letters.items():\n",
    "    table.add_row(f'{k}', f'{v}')\n",
    "console = Console()\n",
    "console.print(table)"
   ]
  },
  {
   "cell_type": "code",
   "execution_count": 116,
   "metadata": {},
   "outputs": [
    {
     "data": {
      "image/png": "[encoded data removed]",
      "text/plain": [
       "<Figure size 640x480 with 1 Axes>"
      ]
     },
     "metadata": {},
     "output_type": "display_data"
    }
   ],
   "source": [
    "plot(letters)"
   ]
  },
  {
   "cell_type": "markdown",
   "metadata": {},
   "source": [
    "Подсчет индекса Ципфа:\n",
    "\n",
    "* индекс считается как отношение самой частотной буквы к букве с соответсвуюющим рангом"
   ]
  },
  {
   "cell_type": "code",
   "execution_count": 110,
   "metadata": {},
   "outputs": [
    {
     "data": {
      "text/html": [
       "<pre style=\"white-space:pre;overflow-x:auto;line-height:normal;font-family:Menlo,'DejaVu Sans Mono',consolas,'Courier New',monospace\"><span style=\"font-style: italic\">  индекс Ципфа   </span>\n",
       "┏━━━━━━┳━━━━━━━━┓\n",
       "┃<span style=\"font-weight: bold\"> ранг </span>┃<span style=\"font-weight: bold\"> индекс </span>┃\n",
       "┡━━━━━━╇━━━━━━━━┩\n",
       "│<span style=\"color: #008080; text-decoration-color: #008080\">    1 </span>│<span style=\"color: #008080; text-decoration-color: #008080\">    1.0 </span>│\n",
       "│<span style=\"color: #008080; text-decoration-color: #008080\">    2 </span>│<span style=\"color: #008080; text-decoration-color: #008080\">    1.1 </span>│\n",
       "│<span style=\"color: #008080; text-decoration-color: #008080\">    3 </span>│<span style=\"color: #008080; text-decoration-color: #008080\">    1.3 </span>│\n",
       "│<span style=\"color: #008080; text-decoration-color: #008080\">    4 </span>│<span style=\"color: #008080; text-decoration-color: #008080\">    1.5 </span>│\n",
       "│<span style=\"color: #008080; text-decoration-color: #008080\">    5 </span>│<span style=\"color: #008080; text-decoration-color: #008080\">    1.9 </span>│\n",
       "│<span style=\"color: #008080; text-decoration-color: #008080\">    6 </span>│<span style=\"color: #008080; text-decoration-color: #008080\">    2.3 </span>│\n",
       "│<span style=\"color: #008080; text-decoration-color: #008080\">    7 </span>│<span style=\"color: #008080; text-decoration-color: #008080\">    2.7 </span>│\n",
       "│<span style=\"color: #008080; text-decoration-color: #008080\">    8 </span>│<span style=\"color: #008080; text-decoration-color: #008080\">    3.1 </span>│\n",
       "│<span style=\"color: #008080; text-decoration-color: #008080\">    9 </span>│<span style=\"color: #008080; text-decoration-color: #008080\">    3.4 </span>│\n",
       "│<span style=\"color: #008080; text-decoration-color: #008080\">   10 </span>│<span style=\"color: #008080; text-decoration-color: #008080\">    3.5 </span>│\n",
       "│<span style=\"color: #008080; text-decoration-color: #008080\">   11 </span>│<span style=\"color: #008080; text-decoration-color: #008080\">    3.5 </span>│\n",
       "│<span style=\"color: #008080; text-decoration-color: #008080\">   12 </span>│<span style=\"color: #008080; text-decoration-color: #008080\">    4.0 </span>│\n",
       "│<span style=\"color: #008080; text-decoration-color: #008080\">   13 </span>│<span style=\"color: #008080; text-decoration-color: #008080\">    4.0 </span>│\n",
       "│<span style=\"color: #008080; text-decoration-color: #008080\">   14 </span>│<span style=\"color: #008080; text-decoration-color: #008080\">    4.2 </span>│\n",
       "│<span style=\"color: #008080; text-decoration-color: #008080\">   15 </span>│<span style=\"color: #008080; text-decoration-color: #008080\">    4.6 </span>│\n",
       "│<span style=\"color: #008080; text-decoration-color: #008080\">   16 </span>│<span style=\"color: #008080; text-decoration-color: #008080\">    5.2 </span>│\n",
       "│<span style=\"color: #008080; text-decoration-color: #008080\">   17 </span>│<span style=\"color: #008080; text-decoration-color: #008080\">    5.2 </span>│\n",
       "│<span style=\"color: #008080; text-decoration-color: #008080\">   18 </span>│<span style=\"color: #008080; text-decoration-color: #008080\">    6.8 </span>│\n",
       "│<span style=\"color: #008080; text-decoration-color: #008080\">   19 </span>│<span style=\"color: #008080; text-decoration-color: #008080\">    8.1 </span>│\n",
       "│<span style=\"color: #008080; text-decoration-color: #008080\">   20 </span>│<span style=\"color: #008080; text-decoration-color: #008080\">   10.2 </span>│\n",
       "│<span style=\"color: #008080; text-decoration-color: #008080\">   21 </span>│<span style=\"color: #008080; text-decoration-color: #008080\">   11.0 </span>│\n",
       "│<span style=\"color: #008080; text-decoration-color: #008080\">   22 </span>│<span style=\"color: #008080; text-decoration-color: #008080\">   13.9 </span>│\n",
       "│<span style=\"color: #008080; text-decoration-color: #008080\">   23 </span>│<span style=\"color: #008080; text-decoration-color: #008080\">   15.0 </span>│\n",
       "│<span style=\"color: #008080; text-decoration-color: #008080\">   24 </span>│<span style=\"color: #008080; text-decoration-color: #008080\">   22.3 </span>│\n",
       "│<span style=\"color: #008080; text-decoration-color: #008080\">   25 </span>│<span style=\"color: #008080; text-decoration-color: #008080\">   22.7 </span>│\n",
       "│<span style=\"color: #008080; text-decoration-color: #008080\">   26 </span>│<span style=\"color: #008080; text-decoration-color: #008080\">   22.8 </span>│\n",
       "│<span style=\"color: #008080; text-decoration-color: #008080\">   27 </span>│<span style=\"color: #008080; text-decoration-color: #008080\">   23.3 </span>│\n",
       "│<span style=\"color: #008080; text-decoration-color: #008080\">   28 </span>│<span style=\"color: #008080; text-decoration-color: #008080\">   23.9 </span>│\n",
       "│<span style=\"color: #008080; text-decoration-color: #008080\">   29 </span>│<span style=\"color: #008080; text-decoration-color: #008080\">   25.3 </span>│\n",
       "│<span style=\"color: #008080; text-decoration-color: #008080\">   30 </span>│<span style=\"color: #008080; text-decoration-color: #008080\">   32.1 </span>│\n",
       "│<span style=\"color: #008080; text-decoration-color: #008080\">   31 </span>│<span style=\"color: #008080; text-decoration-color: #008080\">   44.5 </span>│\n",
       "│<span style=\"color: #008080; text-decoration-color: #008080\">   32 </span>│<span style=\"color: #008080; text-decoration-color: #008080\">  460.1 </span>│\n",
       "└──────┴────────┘\n",
       "</pre>\n"
      ],
      "text/plain": [
       "\u001b[3m  индекс Ципфа   \u001b[0m\n",
       "┏━━━━━━┳━━━━━━━━┓\n",
       "┃\u001b[1m \u001b[0m\u001b[1mранг\u001b[0m\u001b[1m \u001b[0m┃\u001b[1m \u001b[0m\u001b[1mиндекс\u001b[0m\u001b[1m \u001b[0m┃\n",
       "┡━━━━━━╇━━━━━━━━┩\n",
       "│\u001b[36m \u001b[0m\u001b[36m   1\u001b[0m\u001b[36m \u001b[0m│\u001b[36m \u001b[0m\u001b[36m   1.0\u001b[0m\u001b[36m \u001b[0m│\n",
       "│\u001b[36m \u001b[0m\u001b[36m   2\u001b[0m\u001b[36m \u001b[0m│\u001b[36m \u001b[0m\u001b[36m   1.1\u001b[0m\u001b[36m \u001b[0m│\n",
       "│\u001b[36m \u001b[0m\u001b[36m   3\u001b[0m\u001b[36m \u001b[0m│\u001b[36m \u001b[0m\u001b[36m   1.3\u001b[0m\u001b[36m \u001b[0m│\n",
       "│\u001b[36m \u001b[0m\u001b[36m   4\u001b[0m\u001b[36m \u001b[0m│\u001b[36m \u001b[0m\u001b[36m   1.5\u001b[0m\u001b[36m \u001b[0m│\n",
       "│\u001b[36m \u001b[0m\u001b[36m   5\u001b[0m\u001b[36m \u001b[0m│\u001b[36m \u001b[0m\u001b[36m   1.9\u001b[0m\u001b[36m \u001b[0m│\n",
       "│\u001b[36m \u001b[0m\u001b[36m   6\u001b[0m\u001b[36m \u001b[0m│\u001b[36m \u001b[0m\u001b[36m   2.3\u001b[0m\u001b[36m \u001b[0m│\n",
       "│\u001b[36m \u001b[0m\u001b[36m   7\u001b[0m\u001b[36m \u001b[0m│\u001b[36m \u001b[0m\u001b[36m   2.7\u001b[0m\u001b[36m \u001b[0m│\n",
       "│\u001b[36m \u001b[0m\u001b[36m   8\u001b[0m\u001b[36m \u001b[0m│\u001b[36m \u001b[0m\u001b[36m   3.1\u001b[0m\u001b[36m \u001b[0m│\n",
       "│\u001b[36m \u001b[0m\u001b[36m   9\u001b[0m\u001b[36m \u001b[0m│\u001b[36m \u001b[0m\u001b[36m   3.4\u001b[0m\u001b[36m \u001b[0m│\n",
       "│\u001b[36m \u001b[0m\u001b[36m  10\u001b[0m\u001b[36m \u001b[0m│\u001b[36m \u001b[0m\u001b[36m   3.5\u001b[0m\u001b[36m \u001b[0m│\n",
       "│\u001b[36m \u001b[0m\u001b[36m  11\u001b[0m\u001b[36m \u001b[0m│\u001b[36m \u001b[0m\u001b[36m   3.5\u001b[0m\u001b[36m \u001b[0m│\n",
       "│\u001b[36m \u001b[0m\u001b[36m  12\u001b[0m\u001b[36m \u001b[0m│\u001b[36m \u001b[0m\u001b[36m   4.0\u001b[0m\u001b[36m \u001b[0m│\n",
       "│\u001b[36m \u001b[0m\u001b[36m  13\u001b[0m\u001b[36m \u001b[0m│\u001b[36m \u001b[0m\u001b[36m   4.0\u001b[0m\u001b[36m \u001b[0m│\n",
       "│\u001b[36m \u001b[0m\u001b[36m  14\u001b[0m\u001b[36m \u001b[0m│\u001b[36m \u001b[0m\u001b[36m   4.2\u001b[0m\u001b[36m \u001b[0m│\n",
       "│\u001b[36m \u001b[0m\u001b[36m  15\u001b[0m\u001b[36m \u001b[0m│\u001b[36m \u001b[0m\u001b[36m   4.6\u001b[0m\u001b[36m \u001b[0m│\n",
       "│\u001b[36m \u001b[0m\u001b[36m  16\u001b[0m\u001b[36m \u001b[0m│\u001b[36m \u001b[0m\u001b[36m   5.2\u001b[0m\u001b[36m \u001b[0m│\n",
       "│\u001b[36m \u001b[0m\u001b[36m  17\u001b[0m\u001b[36m \u001b[0m│\u001b[36m \u001b[0m\u001b[36m   5.2\u001b[0m\u001b[36m \u001b[0m│\n",
       "│\u001b[36m \u001b[0m\u001b[36m  18\u001b[0m\u001b[36m \u001b[0m│\u001b[36m \u001b[0m\u001b[36m   6.8\u001b[0m\u001b[36m \u001b[0m│\n",
       "│\u001b[36m \u001b[0m\u001b[36m  19\u001b[0m\u001b[36m \u001b[0m│\u001b[36m \u001b[0m\u001b[36m   8.1\u001b[0m\u001b[36m \u001b[0m│\n",
       "│\u001b[36m \u001b[0m\u001b[36m  20\u001b[0m\u001b[36m \u001b[0m│\u001b[36m \u001b[0m\u001b[36m  10.2\u001b[0m\u001b[36m \u001b[0m│\n",
       "│\u001b[36m \u001b[0m\u001b[36m  21\u001b[0m\u001b[36m \u001b[0m│\u001b[36m \u001b[0m\u001b[36m  11.0\u001b[0m\u001b[36m \u001b[0m│\n",
       "│\u001b[36m \u001b[0m\u001b[36m  22\u001b[0m\u001b[36m \u001b[0m│\u001b[36m \u001b[0m\u001b[36m  13.9\u001b[0m\u001b[36m \u001b[0m│\n",
       "│\u001b[36m \u001b[0m\u001b[36m  23\u001b[0m\u001b[36m \u001b[0m│\u001b[36m \u001b[0m\u001b[36m  15.0\u001b[0m\u001b[36m \u001b[0m│\n",
       "│\u001b[36m \u001b[0m\u001b[36m  24\u001b[0m\u001b[36m \u001b[0m│\u001b[36m \u001b[0m\u001b[36m  22.3\u001b[0m\u001b[36m \u001b[0m│\n",
       "│\u001b[36m \u001b[0m\u001b[36m  25\u001b[0m\u001b[36m \u001b[0m│\u001b[36m \u001b[0m\u001b[36m  22.7\u001b[0m\u001b[36m \u001b[0m│\n",
       "│\u001b[36m \u001b[0m\u001b[36m  26\u001b[0m\u001b[36m \u001b[0m│\u001b[36m \u001b[0m\u001b[36m  22.8\u001b[0m\u001b[36m \u001b[0m│\n",
       "│\u001b[36m \u001b[0m\u001b[36m  27\u001b[0m\u001b[36m \u001b[0m│\u001b[36m \u001b[0m\u001b[36m  23.3\u001b[0m\u001b[36m \u001b[0m│\n",
       "│\u001b[36m \u001b[0m\u001b[36m  28\u001b[0m\u001b[36m \u001b[0m│\u001b[36m \u001b[0m\u001b[36m  23.9\u001b[0m\u001b[36m \u001b[0m│\n",
       "│\u001b[36m \u001b[0m\u001b[36m  29\u001b[0m\u001b[36m \u001b[0m│\u001b[36m \u001b[0m\u001b[36m  25.3\u001b[0m\u001b[36m \u001b[0m│\n",
       "│\u001b[36m \u001b[0m\u001b[36m  30\u001b[0m\u001b[36m \u001b[0m│\u001b[36m \u001b[0m\u001b[36m  32.1\u001b[0m\u001b[36m \u001b[0m│\n",
       "│\u001b[36m \u001b[0m\u001b[36m  31\u001b[0m\u001b[36m \u001b[0m│\u001b[36m \u001b[0m\u001b[36m  44.5\u001b[0m\u001b[36m \u001b[0m│\n",
       "│\u001b[36m \u001b[0m\u001b[36m  32\u001b[0m\u001b[36m \u001b[0m│\u001b[36m \u001b[0m\u001b[36m 460.1\u001b[0m\u001b[36m \u001b[0m│\n",
       "└──────┴────────┘\n"
      ]
     },
     "metadata": {},
     "output_type": "display_data"
    }
   ],
   "source": [
    "tsipf(letters)"
   ]
  },
  {
   "cell_type": "code",
   "execution_count": 107,
   "metadata": {},
   "outputs": [
    {
     "data": {
      "image/png": "[encoded data removed]",
      "text/plain": [
       "<Figure size 1000x700 with 1 Axes>"
      ]
     },
     "metadata": {},
     "output_type": "display_data"
    }
   ],
   "source": [
    "plot_ind(letters)"
   ]
  },
  {
   "cell_type": "markdown",
   "metadata": {},
   "source": [
    "Подсчет относительных частот букв в корпусе.\n",
    "* здесь и далее округление до сотых"
   ]
  },
  {
   "cell_type": "code",
   "execution_count": 3,
   "metadata": {},
   "outputs": [
    {
     "data": {
      "text/html": [
       "<pre style=\"white-space:pre;overflow-x:auto;line-height:normal;font-family:Menlo,'DejaVu Sans Mono',consolas,'Courier New',monospace\"><span style=\"font-style: italic\">         корпус проценты         </span>\n",
       "┏━━━━━━━┳━━━━━━━━━━━━━━━━━━━━━━━┓\n",
       "┃<span style=\"font-weight: bold\"> буква </span>┃<span style=\"font-weight: bold\"> частота (в процентах) </span>┃\n",
       "┡━━━━━━━╇━━━━━━━━━━━━━━━━━━━━━━━┩\n",
       "│<span style=\"color: #008080; text-decoration-color: #008080\">     т </span>│<span style=\"color: #008080; text-decoration-color: #008080\">                 12.29 </span>│\n",
       "│<span style=\"color: #008080; text-decoration-color: #008080\">     о </span>│<span style=\"color: #008080; text-decoration-color: #008080\">                 11.65 </span>│\n",
       "│<span style=\"color: #008080; text-decoration-color: #008080\">     к </span>│<span style=\"color: #008080; text-decoration-color: #008080\">                   9.4 </span>│\n",
       "│<span style=\"color: #008080; text-decoration-color: #008080\">     а </span>│<span style=\"color: #008080; text-decoration-color: #008080\">                  8.17 </span>│\n",
       "│<span style=\"color: #008080; text-decoration-color: #008080\">     е </span>│<span style=\"color: #008080; text-decoration-color: #008080\">                  6.42 </span>│\n",
       "│<span style=\"color: #008080; text-decoration-color: #008080\">     н </span>│<span style=\"color: #008080; text-decoration-color: #008080\">                  5.36 </span>│\n",
       "│<span style=\"color: #008080; text-decoration-color: #008080\">     и </span>│<span style=\"color: #008080; text-decoration-color: #008080\">                  4.55 </span>│\n",
       "│<span style=\"color: #008080; text-decoration-color: #008080\">     с </span>│<span style=\"color: #008080; text-decoration-color: #008080\">                  3.93 </span>│\n",
       "│<span style=\"color: #008080; text-decoration-color: #008080\">     п </span>│<span style=\"color: #008080; text-decoration-color: #008080\">                  3.61 </span>│\n",
       "│<span style=\"color: #008080; text-decoration-color: #008080\">     р </span>│<span style=\"color: #008080; text-decoration-color: #008080\">                  3.48 </span>│\n",
       "│<span style=\"color: #008080; text-decoration-color: #008080\">     м </span>│<span style=\"color: #008080; text-decoration-color: #008080\">                  3.47 </span>│\n",
       "│<span style=\"color: #008080; text-decoration-color: #008080\">     ч </span>│<span style=\"color: #008080; text-decoration-color: #008080\">                  3.09 </span>│\n",
       "│<span style=\"color: #008080; text-decoration-color: #008080\">     в </span>│<span style=\"color: #008080; text-decoration-color: #008080\">                  3.07 </span>│\n",
       "│<span style=\"color: #008080; text-decoration-color: #008080\">     д </span>│<span style=\"color: #008080; text-decoration-color: #008080\">                  2.89 </span>│\n",
       "│<span style=\"color: #008080; text-decoration-color: #008080\">     л </span>│<span style=\"color: #008080; text-decoration-color: #008080\">                  2.67 </span>│\n",
       "│<span style=\"color: #008080; text-decoration-color: #008080\">     г </span>│<span style=\"color: #008080; text-decoration-color: #008080\">                  2.37 </span>│\n",
       "│<span style=\"color: #008080; text-decoration-color: #008080\">     у </span>│<span style=\"color: #008080; text-decoration-color: #008080\">                  2.36 </span>│\n",
       "│<span style=\"color: #008080; text-decoration-color: #008080\">     з </span>│<span style=\"color: #008080; text-decoration-color: #008080\">                  1.82 </span>│\n",
       "│<span style=\"color: #008080; text-decoration-color: #008080\">     б </span>│<span style=\"color: #008080; text-decoration-color: #008080\">                  1.52 </span>│\n",
       "│<span style=\"color: #008080; text-decoration-color: #008080\">     ь </span>│<span style=\"color: #008080; text-decoration-color: #008080\">                   1.2 </span>│\n",
       "│<span style=\"color: #008080; text-decoration-color: #008080\">     й </span>│<span style=\"color: #008080; text-decoration-color: #008080\">                  1.12 </span>│\n",
       "│<span style=\"color: #008080; text-decoration-color: #008080\">     я </span>│<span style=\"color: #008080; text-decoration-color: #008080\">                  0.89 </span>│\n",
       "│<span style=\"color: #008080; text-decoration-color: #008080\">     х </span>│<span style=\"color: #008080; text-decoration-color: #008080\">                  0.82 </span>│\n",
       "│<span style=\"color: #008080; text-decoration-color: #008080\">     ы </span>│<span style=\"color: #008080; text-decoration-color: #008080\">                  0.55 </span>│\n",
       "│<span style=\"color: #008080; text-decoration-color: #008080\">     ф </span>│<span style=\"color: #008080; text-decoration-color: #008080\">                  0.54 </span>│\n",
       "│<span style=\"color: #008080; text-decoration-color: #008080\">     ц </span>│<span style=\"color: #008080; text-decoration-color: #008080\">                  0.54 </span>│\n",
       "│<span style=\"color: #008080; text-decoration-color: #008080\">     ж </span>│<span style=\"color: #008080; text-decoration-color: #008080\">                  0.53 </span>│\n",
       "│<span style=\"color: #008080; text-decoration-color: #008080\">     ш </span>│<span style=\"color: #008080; text-decoration-color: #008080\">                  0.51 </span>│\n",
       "│<span style=\"color: #008080; text-decoration-color: #008080\">     ю </span>│<span style=\"color: #008080; text-decoration-color: #008080\">                  0.48 </span>│\n",
       "│<span style=\"color: #008080; text-decoration-color: #008080\">     э </span>│<span style=\"color: #008080; text-decoration-color: #008080\">                  0.38 </span>│\n",
       "│<span style=\"color: #008080; text-decoration-color: #008080\">     щ </span>│<span style=\"color: #008080; text-decoration-color: #008080\">                  0.28 </span>│\n",
       "│<span style=\"color: #008080; text-decoration-color: #008080\">     ъ </span>│<span style=\"color: #008080; text-decoration-color: #008080\">                  0.03 </span>│\n",
       "└───────┴───────────────────────┘\n",
       "</pre>\n"
      ],
      "text/plain": [
       "\u001b[3m         корпус проценты         \u001b[0m\n",
       "┏━━━━━━━┳━━━━━━━━━━━━━━━━━━━━━━━┓\n",
       "┃\u001b[1m \u001b[0m\u001b[1mбуква\u001b[0m\u001b[1m \u001b[0m┃\u001b[1m \u001b[0m\u001b[1mчастота (в процентах)\u001b[0m\u001b[1m \u001b[0m┃\n",
       "┡━━━━━━━╇━━━━━━━━━━━━━━━━━━━━━━━┩\n",
       "│\u001b[36m \u001b[0m\u001b[36m    т\u001b[0m\u001b[36m \u001b[0m│\u001b[36m \u001b[0m\u001b[36m                12.29\u001b[0m\u001b[36m \u001b[0m│\n",
       "│\u001b[36m \u001b[0m\u001b[36m    о\u001b[0m\u001b[36m \u001b[0m│\u001b[36m \u001b[0m\u001b[36m                11.65\u001b[0m\u001b[36m \u001b[0m│\n",
       "│\u001b[36m \u001b[0m\u001b[36m    к\u001b[0m\u001b[36m \u001b[0m│\u001b[36m \u001b[0m\u001b[36m                  9.4\u001b[0m\u001b[36m \u001b[0m│\n",
       "│\u001b[36m \u001b[0m\u001b[36m    а\u001b[0m\u001b[36m \u001b[0m│\u001b[36m \u001b[0m\u001b[36m                 8.17\u001b[0m\u001b[36m \u001b[0m│\n",
       "│\u001b[36m \u001b[0m\u001b[36m    е\u001b[0m\u001b[36m \u001b[0m│\u001b[36m \u001b[0m\u001b[36m                 6.42\u001b[0m\u001b[36m \u001b[0m│\n",
       "│\u001b[36m \u001b[0m\u001b[36m    н\u001b[0m\u001b[36m \u001b[0m│\u001b[36m \u001b[0m\u001b[36m                 5.36\u001b[0m\u001b[36m \u001b[0m│\n",
       "│\u001b[36m \u001b[0m\u001b[36m    и\u001b[0m\u001b[36m \u001b[0m│\u001b[36m \u001b[0m\u001b[36m                 4.55\u001b[0m\u001b[36m \u001b[0m│\n",
       "│\u001b[36m \u001b[0m\u001b[36m    с\u001b[0m\u001b[36m \u001b[0m│\u001b[36m \u001b[0m\u001b[36m                 3.93\u001b[0m\u001b[36m \u001b[0m│\n",
       "│\u001b[36m \u001b[0m\u001b[36m    п\u001b[0m\u001b[36m \u001b[0m│\u001b[36m \u001b[0m\u001b[36m                 3.61\u001b[0m\u001b[36m \u001b[0m│\n",
       "│\u001b[36m \u001b[0m\u001b[36m    р\u001b[0m\u001b[36m \u001b[0m│\u001b[36m \u001b[0m\u001b[36m                 3.48\u001b[0m\u001b[36m \u001b[0m│\n",
       "│\u001b[36m \u001b[0m\u001b[36m    м\u001b[0m\u001b[36m \u001b[0m│\u001b[36m \u001b[0m\u001b[36m                 3.47\u001b[0m\u001b[36m \u001b[0m│\n",
       "│\u001b[36m \u001b[0m\u001b[36m    ч\u001b[0m\u001b[36m \u001b[0m│\u001b[36m \u001b[0m\u001b[36m                 3.09\u001b[0m\u001b[36m \u001b[0m│\n",
       "│\u001b[36m \u001b[0m\u001b[36m    в\u001b[0m\u001b[36m \u001b[0m│\u001b[36m \u001b[0m\u001b[36m                 3.07\u001b[0m\u001b[36m \u001b[0m│\n",
       "│\u001b[36m \u001b[0m\u001b[36m    д\u001b[0m\u001b[36m \u001b[0m│\u001b[36m \u001b[0m\u001b[36m                 2.89\u001b[0m\u001b[36m \u001b[0m│\n",
       "│\u001b[36m \u001b[0m\u001b[36m    л\u001b[0m\u001b[36m \u001b[0m│\u001b[36m \u001b[0m\u001b[36m                 2.67\u001b[0m\u001b[36m \u001b[0m│\n",
       "│\u001b[36m \u001b[0m\u001b[36m    г\u001b[0m\u001b[36m \u001b[0m│\u001b[36m \u001b[0m\u001b[36m                 2.37\u001b[0m\u001b[36m \u001b[0m│\n",
       "│\u001b[36m \u001b[0m\u001b[36m    у\u001b[0m\u001b[36m \u001b[0m│\u001b[36m \u001b[0m\u001b[36m                 2.36\u001b[0m\u001b[36m \u001b[0m│\n",
       "│\u001b[36m \u001b[0m\u001b[36m    з\u001b[0m\u001b[36m \u001b[0m│\u001b[36m \u001b[0m\u001b[36m                 1.82\u001b[0m\u001b[36m \u001b[0m│\n",
       "│\u001b[36m \u001b[0m\u001b[36m    б\u001b[0m\u001b[36m \u001b[0m│\u001b[36m \u001b[0m\u001b[36m                 1.52\u001b[0m\u001b[36m \u001b[0m│\n",
       "│\u001b[36m \u001b[0m\u001b[36m    ь\u001b[0m\u001b[36m \u001b[0m│\u001b[36m \u001b[0m\u001b[36m                  1.2\u001b[0m\u001b[36m \u001b[0m│\n",
       "│\u001b[36m \u001b[0m\u001b[36m    й\u001b[0m\u001b[36m \u001b[0m│\u001b[36m \u001b[0m\u001b[36m                 1.12\u001b[0m\u001b[36m \u001b[0m│\n",
       "│\u001b[36m \u001b[0m\u001b[36m    я\u001b[0m\u001b[36m \u001b[0m│\u001b[36m \u001b[0m\u001b[36m                 0.89\u001b[0m\u001b[36m \u001b[0m│\n",
       "│\u001b[36m \u001b[0m\u001b[36m    х\u001b[0m\u001b[36m \u001b[0m│\u001b[36m \u001b[0m\u001b[36m                 0.82\u001b[0m\u001b[36m \u001b[0m│\n",
       "│\u001b[36m \u001b[0m\u001b[36m    ы\u001b[0m\u001b[36m \u001b[0m│\u001b[36m \u001b[0m\u001b[36m                 0.55\u001b[0m\u001b[36m \u001b[0m│\n",
       "│\u001b[36m \u001b[0m\u001b[36m    ф\u001b[0m\u001b[36m \u001b[0m│\u001b[36m \u001b[0m\u001b[36m                 0.54\u001b[0m\u001b[36m \u001b[0m│\n",
       "│\u001b[36m \u001b[0m\u001b[36m    ц\u001b[0m\u001b[36m \u001b[0m│\u001b[36m \u001b[0m\u001b[36m                 0.54\u001b[0m\u001b[36m \u001b[0m│\n",
       "│\u001b[36m \u001b[0m\u001b[36m    ж\u001b[0m\u001b[36m \u001b[0m│\u001b[36m \u001b[0m\u001b[36m                 0.53\u001b[0m\u001b[36m \u001b[0m│\n",
       "│\u001b[36m \u001b[0m\u001b[36m    ш\u001b[0m\u001b[36m \u001b[0m│\u001b[36m \u001b[0m\u001b[36m                 0.51\u001b[0m\u001b[36m \u001b[0m│\n",
       "│\u001b[36m \u001b[0m\u001b[36m    ю\u001b[0m\u001b[36m \u001b[0m│\u001b[36m \u001b[0m\u001b[36m                 0.48\u001b[0m\u001b[36m \u001b[0m│\n",
       "│\u001b[36m \u001b[0m\u001b[36m    э\u001b[0m\u001b[36m \u001b[0m│\u001b[36m \u001b[0m\u001b[36m                 0.38\u001b[0m\u001b[36m \u001b[0m│\n",
       "│\u001b[36m \u001b[0m\u001b[36m    щ\u001b[0m\u001b[36m \u001b[0m│\u001b[36m \u001b[0m\u001b[36m                 0.28\u001b[0m\u001b[36m \u001b[0m│\n",
       "│\u001b[36m \u001b[0m\u001b[36m    ъ\u001b[0m\u001b[36m \u001b[0m│\u001b[36m \u001b[0m\u001b[36m                 0.03\u001b[0m\u001b[36m \u001b[0m│\n",
       "└───────┴───────────────────────┘\n"
      ]
     },
     "metadata": {},
     "output_type": "display_data"
    }
   ],
   "source": [
    "vols = 'ёуеыаоэяию'\n",
    "cons = 'йцкнгшщзхфвпрлджчсмтб'\n",
    "etc = 'ьъ'\n",
    "\n",
    "table = Table(title=\"корпус проценты\")\n",
    "table.add_column(\"буква\", justify=\"right\", style=\"cyan\", no_wrap=True)\n",
    "table.add_column(\"частота (в процентах)\", justify=\"right\", style=\"cyan\", no_wrap=True)\n",
    "letters_pers = {}\n",
    "for k, v in letters.items():\n",
    "    letters_pers[k] = round(v / sum([v for v in letters.values()]) * 100, 2)\n",
    "letters_pers = {k: v for k, v in sorted(letters_pers.items(), key=lambda item: item[1], reverse=True)}\n",
    "\n",
    "for k, v in letters_pers.items():\n",
    "    table.add_row(f'{k}', f'{v}')\n",
    "console = Console()\n",
    "console.print(table)"
   ]
  },
  {
   "cell_type": "markdown",
   "metadata": {},
   "source": [
    "Подсчет относительных частот согласных отдельно."
   ]
  },
  {
   "cell_type": "code",
   "execution_count": 4,
   "metadata": {},
   "outputs": [
    {
     "data": {
      "text/html": [
       "<pre style=\"white-space:pre;overflow-x:auto;line-height:normal;font-family:Menlo,'DejaVu Sans Mono',consolas,'Courier New',monospace\"><span style=\"font-style: italic\"> относительные частоты согласных </span>\n",
       "┏━━━━━━━┳━━━━━━━━━━━━━━━━━━━━━━━┓\n",
       "┃<span style=\"font-weight: bold\"> буква </span>┃<span style=\"font-weight: bold\"> частота (в процентах) </span>┃\n",
       "┡━━━━━━━╇━━━━━━━━━━━━━━━━━━━━━━━┩\n",
       "│<span style=\"color: #008080; text-decoration-color: #008080\">     т </span>│<span style=\"color: #008080; text-decoration-color: #008080\">                 19.42 </span>│\n",
       "│<span style=\"color: #008080; text-decoration-color: #008080\">     к </span>│<span style=\"color: #008080; text-decoration-color: #008080\">                 14.86 </span>│\n",
       "│<span style=\"color: #008080; text-decoration-color: #008080\">     н </span>│<span style=\"color: #008080; text-decoration-color: #008080\">                  8.46 </span>│\n",
       "│<span style=\"color: #008080; text-decoration-color: #008080\">     с </span>│<span style=\"color: #008080; text-decoration-color: #008080\">                  6.21 </span>│\n",
       "│<span style=\"color: #008080; text-decoration-color: #008080\">     п </span>│<span style=\"color: #008080; text-decoration-color: #008080\">                   5.7 </span>│\n",
       "│<span style=\"color: #008080; text-decoration-color: #008080\">     р </span>│<span style=\"color: #008080; text-decoration-color: #008080\">                   5.5 </span>│\n",
       "│<span style=\"color: #008080; text-decoration-color: #008080\">     м </span>│<span style=\"color: #008080; text-decoration-color: #008080\">                  5.47 </span>│\n",
       "│<span style=\"color: #008080; text-decoration-color: #008080\">     ч </span>│<span style=\"color: #008080; text-decoration-color: #008080\">                  4.88 </span>│\n",
       "│<span style=\"color: #008080; text-decoration-color: #008080\">     в </span>│<span style=\"color: #008080; text-decoration-color: #008080\">                  4.85 </span>│\n",
       "│<span style=\"color: #008080; text-decoration-color: #008080\">     д </span>│<span style=\"color: #008080; text-decoration-color: #008080\">                  4.57 </span>│\n",
       "│<span style=\"color: #008080; text-decoration-color: #008080\">     л </span>│<span style=\"color: #008080; text-decoration-color: #008080\">                  4.21 </span>│\n",
       "│<span style=\"color: #008080; text-decoration-color: #008080\">     г </span>│<span style=\"color: #008080; text-decoration-color: #008080\">                  3.74 </span>│\n",
       "│<span style=\"color: #008080; text-decoration-color: #008080\">     з </span>│<span style=\"color: #008080; text-decoration-color: #008080\">                  2.87 </span>│\n",
       "│<span style=\"color: #008080; text-decoration-color: #008080\">     б </span>│<span style=\"color: #008080; text-decoration-color: #008080\">                  2.41 </span>│\n",
       "│<span style=\"color: #008080; text-decoration-color: #008080\">     й </span>│<span style=\"color: #008080; text-decoration-color: #008080\">                  1.77 </span>│\n",
       "│<span style=\"color: #008080; text-decoration-color: #008080\">     х </span>│<span style=\"color: #008080; text-decoration-color: #008080\">                  1.29 </span>│\n",
       "│<span style=\"color: #008080; text-decoration-color: #008080\">     ф </span>│<span style=\"color: #008080; text-decoration-color: #008080\">                  0.86 </span>│\n",
       "│<span style=\"color: #008080; text-decoration-color: #008080\">     ц </span>│<span style=\"color: #008080; text-decoration-color: #008080\">                  0.85 </span>│\n",
       "│<span style=\"color: #008080; text-decoration-color: #008080\">     ж </span>│<span style=\"color: #008080; text-decoration-color: #008080\">                  0.83 </span>│\n",
       "│<span style=\"color: #008080; text-decoration-color: #008080\">     ш </span>│<span style=\"color: #008080; text-decoration-color: #008080\">                  0.81 </span>│\n",
       "│<span style=\"color: #008080; text-decoration-color: #008080\">     щ </span>│<span style=\"color: #008080; text-decoration-color: #008080\">                  0.44 </span>│\n",
       "└───────┴───────────────────────┘\n",
       "</pre>\n"
      ],
      "text/plain": [
       "\u001b[3m относительные частоты согласных \u001b[0m\n",
       "┏━━━━━━━┳━━━━━━━━━━━━━━━━━━━━━━━┓\n",
       "┃\u001b[1m \u001b[0m\u001b[1mбуква\u001b[0m\u001b[1m \u001b[0m┃\u001b[1m \u001b[0m\u001b[1mчастота (в процентах)\u001b[0m\u001b[1m \u001b[0m┃\n",
       "┡━━━━━━━╇━━━━━━━━━━━━━━━━━━━━━━━┩\n",
       "│\u001b[36m \u001b[0m\u001b[36m    т\u001b[0m\u001b[36m \u001b[0m│\u001b[36m \u001b[0m\u001b[36m                19.42\u001b[0m\u001b[36m \u001b[0m│\n",
       "│\u001b[36m \u001b[0m\u001b[36m    к\u001b[0m\u001b[36m \u001b[0m│\u001b[36m \u001b[0m\u001b[36m                14.86\u001b[0m\u001b[36m \u001b[0m│\n",
       "│\u001b[36m \u001b[0m\u001b[36m    н\u001b[0m\u001b[36m \u001b[0m│\u001b[36m \u001b[0m\u001b[36m                 8.46\u001b[0m\u001b[36m \u001b[0m│\n",
       "│\u001b[36m \u001b[0m\u001b[36m    с\u001b[0m\u001b[36m \u001b[0m│\u001b[36m \u001b[0m\u001b[36m                 6.21\u001b[0m\u001b[36m \u001b[0m│\n",
       "│\u001b[36m \u001b[0m\u001b[36m    п\u001b[0m\u001b[36m \u001b[0m│\u001b[36m \u001b[0m\u001b[36m                  5.7\u001b[0m\u001b[36m \u001b[0m│\n",
       "│\u001b[36m \u001b[0m\u001b[36m    р\u001b[0m\u001b[36m \u001b[0m│\u001b[36m \u001b[0m\u001b[36m                  5.5\u001b[0m\u001b[36m \u001b[0m│\n",
       "│\u001b[36m \u001b[0m\u001b[36m    м\u001b[0m\u001b[36m \u001b[0m│\u001b[36m \u001b[0m\u001b[36m                 5.47\u001b[0m\u001b[36m \u001b[0m│\n",
       "│\u001b[36m \u001b[0m\u001b[36m    ч\u001b[0m\u001b[36m \u001b[0m│\u001b[36m \u001b[0m\u001b[36m                 4.88\u001b[0m\u001b[36m \u001b[0m│\n",
       "│\u001b[36m \u001b[0m\u001b[36m    в\u001b[0m\u001b[36m \u001b[0m│\u001b[36m \u001b[0m\u001b[36m                 4.85\u001b[0m\u001b[36m \u001b[0m│\n",
       "│\u001b[36m \u001b[0m\u001b[36m    д\u001b[0m\u001b[36m \u001b[0m│\u001b[36m \u001b[0m\u001b[36m                 4.57\u001b[0m\u001b[36m \u001b[0m│\n",
       "│\u001b[36m \u001b[0m\u001b[36m    л\u001b[0m\u001b[36m \u001b[0m│\u001b[36m \u001b[0m\u001b[36m                 4.21\u001b[0m\u001b[36m \u001b[0m│\n",
       "│\u001b[36m \u001b[0m\u001b[36m    г\u001b[0m\u001b[36m \u001b[0m│\u001b[36m \u001b[0m\u001b[36m                 3.74\u001b[0m\u001b[36m \u001b[0m│\n",
       "│\u001b[36m \u001b[0m\u001b[36m    з\u001b[0m\u001b[36m \u001b[0m│\u001b[36m \u001b[0m\u001b[36m                 2.87\u001b[0m\u001b[36m \u001b[0m│\n",
       "│\u001b[36m \u001b[0m\u001b[36m    б\u001b[0m\u001b[36m \u001b[0m│\u001b[36m \u001b[0m\u001b[36m                 2.41\u001b[0m\u001b[36m \u001b[0m│\n",
       "│\u001b[36m \u001b[0m\u001b[36m    й\u001b[0m\u001b[36m \u001b[0m│\u001b[36m \u001b[0m\u001b[36m                 1.77\u001b[0m\u001b[36m \u001b[0m│\n",
       "│\u001b[36m \u001b[0m\u001b[36m    х\u001b[0m\u001b[36m \u001b[0m│\u001b[36m \u001b[0m\u001b[36m                 1.29\u001b[0m\u001b[36m \u001b[0m│\n",
       "│\u001b[36m \u001b[0m\u001b[36m    ф\u001b[0m\u001b[36m \u001b[0m│\u001b[36m \u001b[0m\u001b[36m                 0.86\u001b[0m\u001b[36m \u001b[0m│\n",
       "│\u001b[36m \u001b[0m\u001b[36m    ц\u001b[0m\u001b[36m \u001b[0m│\u001b[36m \u001b[0m\u001b[36m                 0.85\u001b[0m\u001b[36m \u001b[0m│\n",
       "│\u001b[36m \u001b[0m\u001b[36m    ж\u001b[0m\u001b[36m \u001b[0m│\u001b[36m \u001b[0m\u001b[36m                 0.83\u001b[0m\u001b[36m \u001b[0m│\n",
       "│\u001b[36m \u001b[0m\u001b[36m    ш\u001b[0m\u001b[36m \u001b[0m│\u001b[36m \u001b[0m\u001b[36m                 0.81\u001b[0m\u001b[36m \u001b[0m│\n",
       "│\u001b[36m \u001b[0m\u001b[36m    щ\u001b[0m\u001b[36m \u001b[0m│\u001b[36m \u001b[0m\u001b[36m                 0.44\u001b[0m\u001b[36m \u001b[0m│\n",
       "└───────┴───────────────────────┘\n"
      ]
     },
     "metadata": {},
     "output_type": "display_data"
    }
   ],
   "source": [
    "abs_vols = {k: v for k, v in sorted(letters.items(), key=lambda item: item[1], reverse=True) if k in vols}\n",
    "abs_cons = {k: v for k, v in sorted(letters.items(), key=lambda item: item[1], reverse=True) if k in cons}\n",
    "dct_cons = {}\n",
    "dct_vols = {}\n",
    "for k, v in abs_cons.items():\n",
    "    dct_cons[k] = round(v / sum([v for v in abs_cons.values()]) * 100, 2) \n",
    "for k, v in abs_vols.items():\n",
    "    dct_vols[k] = round(v / sum([v for v in abs_vols.values()]) * 100, 2) \n",
    "\n",
    "table = Table(title=\"относительные частоты согласных\")\n",
    "table.add_column(\"буква\", justify=\"right\", style=\"cyan\", no_wrap=True)\n",
    "table.add_column(\"частота (в процентах)\", justify=\"right\", style=\"cyan\", no_wrap=True)\n",
    "dct_cons_pers = {}\n",
    "for k, v in dct_cons.items():\n",
    "    dct_cons_pers[k] = round(v / sum([v for v in dct_cons.values()]) * 100, 2)\n",
    "dct_cons_pers = {k: v for k, v in sorted(dct_cons_pers.items(), key=lambda item: item[1], reverse=True)}\n",
    "\n",
    "for k, v in dct_cons_pers.items():\n",
    "    table.add_row(f'{k}', f'{v}')\n",
    "console = Console()\n",
    "console.print(table)"
   ]
  },
  {
   "cell_type": "markdown",
   "metadata": {},
   "source": [
    "Подчет относительных частот гласных отдельно"
   ]
  },
  {
   "cell_type": "code",
   "execution_count": 5,
   "metadata": {},
   "outputs": [
    {
     "data": {
      "text/html": [
       "<pre style=\"white-space:pre;overflow-x:auto;line-height:normal;font-family:Menlo,'DejaVu Sans Mono',consolas,'Courier New',monospace\"><span style=\"font-style: italic\">  относительные частоты гласных  </span>\n",
       "┏━━━━━━━┳━━━━━━━━━━━━━━━━━━━━━━━┓\n",
       "┃<span style=\"font-weight: bold\"> буква </span>┃<span style=\"font-weight: bold\"> частота (в процентах) </span>┃\n",
       "┡━━━━━━━╇━━━━━━━━━━━━━━━━━━━━━━━┩\n",
       "│<span style=\"color: #008080; text-decoration-color: #008080\">     о </span>│<span style=\"color: #008080; text-decoration-color: #008080\">                 32.85 </span>│\n",
       "│<span style=\"color: #008080; text-decoration-color: #008080\">     а </span>│<span style=\"color: #008080; text-decoration-color: #008080\">                 23.05 </span>│\n",
       "│<span style=\"color: #008080; text-decoration-color: #008080\">     е </span>│<span style=\"color: #008080; text-decoration-color: #008080\">                  18.1 </span>│\n",
       "│<span style=\"color: #008080; text-decoration-color: #008080\">     и </span>│<span style=\"color: #008080; text-decoration-color: #008080\">                 12.84 </span>│\n",
       "│<span style=\"color: #008080; text-decoration-color: #008080\">     у </span>│<span style=\"color: #008080; text-decoration-color: #008080\">                  6.66 </span>│\n",
       "│<span style=\"color: #008080; text-decoration-color: #008080\">     я </span>│<span style=\"color: #008080; text-decoration-color: #008080\">                   2.5 </span>│\n",
       "│<span style=\"color: #008080; text-decoration-color: #008080\">     ы </span>│<span style=\"color: #008080; text-decoration-color: #008080\">                  1.56 </span>│\n",
       "│<span style=\"color: #008080; text-decoration-color: #008080\">     ю </span>│<span style=\"color: #008080; text-decoration-color: #008080\">                  1.37 </span>│\n",
       "│<span style=\"color: #008080; text-decoration-color: #008080\">     э </span>│<span style=\"color: #008080; text-decoration-color: #008080\">                  1.08 </span>│\n",
       "└───────┴───────────────────────┘\n",
       "</pre>\n"
      ],
      "text/plain": [
       "\u001b[3m  относительные частоты гласных  \u001b[0m\n",
       "┏━━━━━━━┳━━━━━━━━━━━━━━━━━━━━━━━┓\n",
       "┃\u001b[1m \u001b[0m\u001b[1mбуква\u001b[0m\u001b[1m \u001b[0m┃\u001b[1m \u001b[0m\u001b[1mчастота (в процентах)\u001b[0m\u001b[1m \u001b[0m┃\n",
       "┡━━━━━━━╇━━━━━━━━━━━━━━━━━━━━━━━┩\n",
       "│\u001b[36m \u001b[0m\u001b[36m    о\u001b[0m\u001b[36m \u001b[0m│\u001b[36m \u001b[0m\u001b[36m                32.85\u001b[0m\u001b[36m \u001b[0m│\n",
       "│\u001b[36m \u001b[0m\u001b[36m    а\u001b[0m\u001b[36m \u001b[0m│\u001b[36m \u001b[0m\u001b[36m                23.05\u001b[0m\u001b[36m \u001b[0m│\n",
       "│\u001b[36m \u001b[0m\u001b[36m    е\u001b[0m\u001b[36m \u001b[0m│\u001b[36m \u001b[0m\u001b[36m                 18.1\u001b[0m\u001b[36m \u001b[0m│\n",
       "│\u001b[36m \u001b[0m\u001b[36m    и\u001b[0m\u001b[36m \u001b[0m│\u001b[36m \u001b[0m\u001b[36m                12.84\u001b[0m\u001b[36m \u001b[0m│\n",
       "│\u001b[36m \u001b[0m\u001b[36m    у\u001b[0m\u001b[36m \u001b[0m│\u001b[36m \u001b[0m\u001b[36m                 6.66\u001b[0m\u001b[36m \u001b[0m│\n",
       "│\u001b[36m \u001b[0m\u001b[36m    я\u001b[0m\u001b[36m \u001b[0m│\u001b[36m \u001b[0m\u001b[36m                  2.5\u001b[0m\u001b[36m \u001b[0m│\n",
       "│\u001b[36m \u001b[0m\u001b[36m    ы\u001b[0m\u001b[36m \u001b[0m│\u001b[36m \u001b[0m\u001b[36m                 1.56\u001b[0m\u001b[36m \u001b[0m│\n",
       "│\u001b[36m \u001b[0m\u001b[36m    ю\u001b[0m\u001b[36m \u001b[0m│\u001b[36m \u001b[0m\u001b[36m                 1.37\u001b[0m\u001b[36m \u001b[0m│\n",
       "│\u001b[36m \u001b[0m\u001b[36m    э\u001b[0m\u001b[36m \u001b[0m│\u001b[36m \u001b[0m\u001b[36m                 1.08\u001b[0m\u001b[36m \u001b[0m│\n",
       "└───────┴───────────────────────┘\n"
      ]
     },
     "metadata": {},
     "output_type": "display_data"
    }
   ],
   "source": [
    "table = Table(title=\"относительные частоты гласных\")\n",
    "table.add_column(\"буква\", justify=\"right\", style=\"cyan\", no_wrap=True)\n",
    "table.add_column(\"частота (в процентах)\", justify=\"right\", style=\"cyan\", no_wrap=True)\n",
    "dct_vols_pers = {}\n",
    "for k, v in dct_vols.items():\n",
    "    dct_vols_pers[k] = round(v / sum([v for v in dct_vols.values()]) * 100, 2)\n",
    "dct_vols_pers = {k: v for k, v in sorted(dct_vols_pers.items(), key=lambda item: item[1], reverse=True)}\n",
    "\n",
    "for k, v in dct_vols_pers.items():\n",
    "    table.add_row(f'{k}', f'{v}')\n",
    "console = Console()\n",
    "console.print(table)"
   ]
  },
  {
   "cell_type": "markdown",
   "metadata": {},
   "source": [
    "Подсчет абсолютных частот букв в фанфике. (количество слов - 148350)"
   ]
  },
  {
   "cell_type": "code",
   "execution_count": 6,
   "metadata": {},
   "outputs": [
    {
     "data": {
      "text/html": [
       "<pre style=\"white-space:pre;overflow-x:auto;line-height:normal;font-family:Menlo,'DejaVu Sans Mono',consolas,'Courier New',monospace\"><span style=\"font-style: italic\">      фанфик       </span>\n",
       "┏━━━━━━━┳━━━━━━━━━┓\n",
       "┃<span style=\"font-weight: bold\"> буква </span>┃<span style=\"font-weight: bold\"> частота </span>┃\n",
       "┡━━━━━━━╇━━━━━━━━━┩\n",
       "│<span style=\"color: #008080; text-decoration-color: #008080\">     т </span>│<span style=\"color: #008080; text-decoration-color: #008080\">    1420 </span>│\n",
       "│<span style=\"color: #008080; text-decoration-color: #008080\">     о </span>│<span style=\"color: #008080; text-decoration-color: #008080\">    1018 </span>│\n",
       "│<span style=\"color: #008080; text-decoration-color: #008080\">     к </span>│<span style=\"color: #008080; text-decoration-color: #008080\">     997 </span>│\n",
       "│<span style=\"color: #008080; text-decoration-color: #008080\">     а </span>│<span style=\"color: #008080; text-decoration-color: #008080\">     706 </span>│\n",
       "│<span style=\"color: #008080; text-decoration-color: #008080\">     е </span>│<span style=\"color: #008080; text-decoration-color: #008080\">     681 </span>│\n",
       "│<span style=\"color: #008080; text-decoration-color: #008080\">     н </span>│<span style=\"color: #008080; text-decoration-color: #008080\">     394 </span>│\n",
       "│<span style=\"color: #008080; text-decoration-color: #008080\">     ч </span>│<span style=\"color: #008080; text-decoration-color: #008080\">     377 </span>│\n",
       "│<span style=\"color: #008080; text-decoration-color: #008080\">     и </span>│<span style=\"color: #008080; text-decoration-color: #008080\">     349 </span>│\n",
       "│<span style=\"color: #008080; text-decoration-color: #008080\">     м </span>│<span style=\"color: #008080; text-decoration-color: #008080\">     340 </span>│\n",
       "│<span style=\"color: #008080; text-decoration-color: #008080\">     с </span>│<span style=\"color: #008080; text-decoration-color: #008080\">     312 </span>│\n",
       "│<span style=\"color: #008080; text-decoration-color: #008080\">     д </span>│<span style=\"color: #008080; text-decoration-color: #008080\">     305 </span>│\n",
       "│<span style=\"color: #008080; text-decoration-color: #008080\">     в </span>│<span style=\"color: #008080; text-decoration-color: #008080\">     276 </span>│\n",
       "│<span style=\"color: #008080; text-decoration-color: #008080\">     г </span>│<span style=\"color: #008080; text-decoration-color: #008080\">     232 </span>│\n",
       "│<span style=\"color: #008080; text-decoration-color: #008080\">     п </span>│<span style=\"color: #008080; text-decoration-color: #008080\">     223 </span>│\n",
       "│<span style=\"color: #008080; text-decoration-color: #008080\">     р </span>│<span style=\"color: #008080; text-decoration-color: #008080\">     217 </span>│\n",
       "│<span style=\"color: #008080; text-decoration-color: #008080\">     л </span>│<span style=\"color: #008080; text-decoration-color: #008080\">     214 </span>│\n",
       "│<span style=\"color: #008080; text-decoration-color: #008080\">     б </span>│<span style=\"color: #008080; text-decoration-color: #008080\">     213 </span>│\n",
       "│<span style=\"color: #008080; text-decoration-color: #008080\">     у </span>│<span style=\"color: #008080; text-decoration-color: #008080\">     165 </span>│\n",
       "│<span style=\"color: #008080; text-decoration-color: #008080\">     з </span>│<span style=\"color: #008080; text-decoration-color: #008080\">     144 </span>│\n",
       "│<span style=\"color: #008080; text-decoration-color: #008080\">     ь </span>│<span style=\"color: #008080; text-decoration-color: #008080\">      90 </span>│\n",
       "│<span style=\"color: #008080; text-decoration-color: #008080\">     й </span>│<span style=\"color: #008080; text-decoration-color: #008080\">      88 </span>│\n",
       "│<span style=\"color: #008080; text-decoration-color: #008080\">     я </span>│<span style=\"color: #008080; text-decoration-color: #008080\">      64 </span>│\n",
       "│<span style=\"color: #008080; text-decoration-color: #008080\">     х </span>│<span style=\"color: #008080; text-decoration-color: #008080\">      57 </span>│\n",
       "│<span style=\"color: #008080; text-decoration-color: #008080\">     ш </span>│<span style=\"color: #008080; text-decoration-color: #008080\">      49 </span>│\n",
       "│<span style=\"color: #008080; text-decoration-color: #008080\">     ы </span>│<span style=\"color: #008080; text-decoration-color: #008080\">      45 </span>│\n",
       "│<span style=\"color: #008080; text-decoration-color: #008080\">     э </span>│<span style=\"color: #008080; text-decoration-color: #008080\">      28 </span>│\n",
       "│<span style=\"color: #008080; text-decoration-color: #008080\">     ю </span>│<span style=\"color: #008080; text-decoration-color: #008080\">      23 </span>│\n",
       "│<span style=\"color: #008080; text-decoration-color: #008080\">     щ </span>│<span style=\"color: #008080; text-decoration-color: #008080\">      22 </span>│\n",
       "│<span style=\"color: #008080; text-decoration-color: #008080\">     ц </span>│<span style=\"color: #008080; text-decoration-color: #008080\">      20 </span>│\n",
       "│<span style=\"color: #008080; text-decoration-color: #008080\">     ж </span>│<span style=\"color: #008080; text-decoration-color: #008080\">      16 </span>│\n",
       "│<span style=\"color: #008080; text-decoration-color: #008080\">     ф </span>│<span style=\"color: #008080; text-decoration-color: #008080\">       7 </span>│\n",
       "│<span style=\"color: #008080; text-decoration-color: #008080\">     ъ </span>│<span style=\"color: #008080; text-decoration-color: #008080\">       1 </span>│\n",
       "└───────┴─────────┘\n",
       "</pre>\n"
      ],
      "text/plain": [
       "\u001b[3m      фанфик       \u001b[0m\n",
       "┏━━━━━━━┳━━━━━━━━━┓\n",
       "┃\u001b[1m \u001b[0m\u001b[1mбуква\u001b[0m\u001b[1m \u001b[0m┃\u001b[1m \u001b[0m\u001b[1mчастота\u001b[0m\u001b[1m \u001b[0m┃\n",
       "┡━━━━━━━╇━━━━━━━━━┩\n",
       "│\u001b[36m \u001b[0m\u001b[36m    т\u001b[0m\u001b[36m \u001b[0m│\u001b[36m \u001b[0m\u001b[36m   1420\u001b[0m\u001b[36m \u001b[0m│\n",
       "│\u001b[36m \u001b[0m\u001b[36m    о\u001b[0m\u001b[36m \u001b[0m│\u001b[36m \u001b[0m\u001b[36m   1018\u001b[0m\u001b[36m \u001b[0m│\n",
       "│\u001b[36m \u001b[0m\u001b[36m    к\u001b[0m\u001b[36m \u001b[0m│\u001b[36m \u001b[0m\u001b[36m    997\u001b[0m\u001b[36m \u001b[0m│\n",
       "│\u001b[36m \u001b[0m\u001b[36m    а\u001b[0m\u001b[36m \u001b[0m│\u001b[36m \u001b[0m\u001b[36m    706\u001b[0m\u001b[36m \u001b[0m│\n",
       "│\u001b[36m \u001b[0m\u001b[36m    е\u001b[0m\u001b[36m \u001b[0m│\u001b[36m \u001b[0m\u001b[36m    681\u001b[0m\u001b[36m \u001b[0m│\n",
       "│\u001b[36m \u001b[0m\u001b[36m    н\u001b[0m\u001b[36m \u001b[0m│\u001b[36m \u001b[0m\u001b[36m    394\u001b[0m\u001b[36m \u001b[0m│\n",
       "│\u001b[36m \u001b[0m\u001b[36m    ч\u001b[0m\u001b[36m \u001b[0m│\u001b[36m \u001b[0m\u001b[36m    377\u001b[0m\u001b[36m \u001b[0m│\n",
       "│\u001b[36m \u001b[0m\u001b[36m    и\u001b[0m\u001b[36m \u001b[0m│\u001b[36m \u001b[0m\u001b[36m    349\u001b[0m\u001b[36m \u001b[0m│\n",
       "│\u001b[36m \u001b[0m\u001b[36m    м\u001b[0m\u001b[36m \u001b[0m│\u001b[36m \u001b[0m\u001b[36m    340\u001b[0m\u001b[36m \u001b[0m│\n",
       "│\u001b[36m \u001b[0m\u001b[36m    с\u001b[0m\u001b[36m \u001b[0m│\u001b[36m \u001b[0m\u001b[36m    312\u001b[0m\u001b[36m \u001b[0m│\n",
       "│\u001b[36m \u001b[0m\u001b[36m    д\u001b[0m\u001b[36m \u001b[0m│\u001b[36m \u001b[0m\u001b[36m    305\u001b[0m\u001b[36m \u001b[0m│\n",
       "│\u001b[36m \u001b[0m\u001b[36m    в\u001b[0m\u001b[36m \u001b[0m│\u001b[36m \u001b[0m\u001b[36m    276\u001b[0m\u001b[36m \u001b[0m│\n",
       "│\u001b[36m \u001b[0m\u001b[36m    г\u001b[0m\u001b[36m \u001b[0m│\u001b[36m \u001b[0m\u001b[36m    232\u001b[0m\u001b[36m \u001b[0m│\n",
       "│\u001b[36m \u001b[0m\u001b[36m    п\u001b[0m\u001b[36m \u001b[0m│\u001b[36m \u001b[0m\u001b[36m    223\u001b[0m\u001b[36m \u001b[0m│\n",
       "│\u001b[36m \u001b[0m\u001b[36m    р\u001b[0m\u001b[36m \u001b[0m│\u001b[36m \u001b[0m\u001b[36m    217\u001b[0m\u001b[36m \u001b[0m│\n",
       "│\u001b[36m \u001b[0m\u001b[36m    л\u001b[0m\u001b[36m \u001b[0m│\u001b[36m \u001b[0m\u001b[36m    214\u001b[0m\u001b[36m \u001b[0m│\n",
       "│\u001b[36m \u001b[0m\u001b[36m    б\u001b[0m\u001b[36m \u001b[0m│\u001b[36m \u001b[0m\u001b[36m    213\u001b[0m\u001b[36m \u001b[0m│\n",
       "│\u001b[36m \u001b[0m\u001b[36m    у\u001b[0m\u001b[36m \u001b[0m│\u001b[36m \u001b[0m\u001b[36m    165\u001b[0m\u001b[36m \u001b[0m│\n",
       "│\u001b[36m \u001b[0m\u001b[36m    з\u001b[0m\u001b[36m \u001b[0m│\u001b[36m \u001b[0m\u001b[36m    144\u001b[0m\u001b[36m \u001b[0m│\n",
       "│\u001b[36m \u001b[0m\u001b[36m    ь\u001b[0m\u001b[36m \u001b[0m│\u001b[36m \u001b[0m\u001b[36m     90\u001b[0m\u001b[36m \u001b[0m│\n",
       "│\u001b[36m \u001b[0m\u001b[36m    й\u001b[0m\u001b[36m \u001b[0m│\u001b[36m \u001b[0m\u001b[36m     88\u001b[0m\u001b[36m \u001b[0m│\n",
       "│\u001b[36m \u001b[0m\u001b[36m    я\u001b[0m\u001b[36m \u001b[0m│\u001b[36m \u001b[0m\u001b[36m     64\u001b[0m\u001b[36m \u001b[0m│\n",
       "│\u001b[36m \u001b[0m\u001b[36m    х\u001b[0m\u001b[36m \u001b[0m│\u001b[36m \u001b[0m\u001b[36m     57\u001b[0m\u001b[36m \u001b[0m│\n",
       "│\u001b[36m \u001b[0m\u001b[36m    ш\u001b[0m\u001b[36m \u001b[0m│\u001b[36m \u001b[0m\u001b[36m     49\u001b[0m\u001b[36m \u001b[0m│\n",
       "│\u001b[36m \u001b[0m\u001b[36m    ы\u001b[0m\u001b[36m \u001b[0m│\u001b[36m \u001b[0m\u001b[36m     45\u001b[0m\u001b[36m \u001b[0m│\n",
       "│\u001b[36m \u001b[0m\u001b[36m    э\u001b[0m\u001b[36m \u001b[0m│\u001b[36m \u001b[0m\u001b[36m     28\u001b[0m\u001b[36m \u001b[0m│\n",
       "│\u001b[36m \u001b[0m\u001b[36m    ю\u001b[0m\u001b[36m \u001b[0m│\u001b[36m \u001b[0m\u001b[36m     23\u001b[0m\u001b[36m \u001b[0m│\n",
       "│\u001b[36m \u001b[0m\u001b[36m    щ\u001b[0m\u001b[36m \u001b[0m│\u001b[36m \u001b[0m\u001b[36m     22\u001b[0m\u001b[36m \u001b[0m│\n",
       "│\u001b[36m \u001b[0m\u001b[36m    ц\u001b[0m\u001b[36m \u001b[0m│\u001b[36m \u001b[0m\u001b[36m     20\u001b[0m\u001b[36m \u001b[0m│\n",
       "│\u001b[36m \u001b[0m\u001b[36m    ж\u001b[0m\u001b[36m \u001b[0m│\u001b[36m \u001b[0m\u001b[36m     16\u001b[0m\u001b[36m \u001b[0m│\n",
       "│\u001b[36m \u001b[0m\u001b[36m    ф\u001b[0m\u001b[36m \u001b[0m│\u001b[36m \u001b[0m\u001b[36m      7\u001b[0m\u001b[36m \u001b[0m│\n",
       "│\u001b[36m \u001b[0m\u001b[36m    ъ\u001b[0m\u001b[36m \u001b[0m│\u001b[36m \u001b[0m\u001b[36m      1\u001b[0m\u001b[36m \u001b[0m│\n",
       "└───────┴─────────┘\n"
      ]
     },
     "metadata": {},
     "output_type": "display_data"
    }
   ],
   "source": [
    "from bs4 import BeautifulSoup\n",
    "import string, os, re\n",
    "letters2 = {}\n",
    "letset = ['ё', 'й', 'ц', 'у', 'к', 'е', 'н', 'г', 'ш', 'щ', 'з', 'х', 'ъ', 'э', 'ж', 'д', 'л', 'о', 'р', 'п', 'а', 'в', 'ы', 'ф', 'я', 'ч', 'с', 'м', 'и', 'т', 'ь', 'б', 'ю']\n",
    "wordcount2 = 0\n",
    "\n",
    "with open(r\"C:\\Users\\lizao\\Downloads\\Telegram Desktop\\Kto-vy-professor-Ambridz (1).txt\", 'r', encoding = 'utf-8') as file:\n",
    "    raw = file.read()\n",
    "      \n",
    "words2 = re.findall(r'[а-яА-Я]+(?:-[а-яА-Я]?)', raw)\n",
    "wordcount2 += len(words2)\n",
    "for word in words2:\n",
    "        for char in word:\n",
    "            if char.lower() in letset:\n",
    "                if char.lower() in letters2:\n",
    "                    letters2[char.lower()] +=1\n",
    "                else:\n",
    "                    letters2[char.lower()] = 1\n",
    "\n",
    "table = Table(title=\"фанфик\")\n",
    "table.add_column(\"буква\", justify=\"right\", style=\"cyan\", no_wrap=True)\n",
    "table.add_column(\"частота\", justify=\"right\", style=\"cyan\", no_wrap=True)\n",
    "letters2 = {k: v for k, v in sorted(letters2.items(), key=lambda item: item[1], reverse=True)}\n",
    "for k, v in letters2.items():\n",
    "    table.add_row(f'{k}', f'{v}')\n",
    "console = Console()\n",
    "console.print(table)"
   ]
  },
  {
   "cell_type": "code",
   "execution_count": null,
   "metadata": {},
   "outputs": [],
   "source": [
    "plot(letters2)"
   ]
  },
  {
   "cell_type": "markdown",
   "metadata": {},
   "source": [
    "Подсчет относительных частот букв в фанфике."
   ]
  },
  {
   "cell_type": "code",
   "execution_count": 7,
   "metadata": {},
   "outputs": [
    {
     "data": {
      "text/html": [
       "<pre style=\"white-space:pre;overflow-x:auto;line-height:normal;font-family:Menlo,'DejaVu Sans Mono',consolas,'Courier New',monospace\"><span style=\"font-style: italic\">         фанфик проценты         </span>\n",
       "┏━━━━━━━┳━━━━━━━━━━━━━━━━━━━━━━━┓\n",
       "┃<span style=\"font-weight: bold\"> буква </span>┃<span style=\"font-weight: bold\"> частота (в процентах) </span>┃\n",
       "┡━━━━━━━╇━━━━━━━━━━━━━━━━━━━━━━━┩\n",
       "│<span style=\"color: #008080; text-decoration-color: #008080\">     т </span>│<span style=\"color: #008080; text-decoration-color: #008080\">                 15.62 </span>│\n",
       "│<span style=\"color: #008080; text-decoration-color: #008080\">     о </span>│<span style=\"color: #008080; text-decoration-color: #008080\">                  11.2 </span>│\n",
       "│<span style=\"color: #008080; text-decoration-color: #008080\">     к </span>│<span style=\"color: #008080; text-decoration-color: #008080\">                 10.96 </span>│\n",
       "│<span style=\"color: #008080; text-decoration-color: #008080\">     а </span>│<span style=\"color: #008080; text-decoration-color: #008080\">                  7.76 </span>│\n",
       "│<span style=\"color: #008080; text-decoration-color: #008080\">     е </span>│<span style=\"color: #008080; text-decoration-color: #008080\">                  7.49 </span>│\n",
       "│<span style=\"color: #008080; text-decoration-color: #008080\">     н </span>│<span style=\"color: #008080; text-decoration-color: #008080\">                  4.33 </span>│\n",
       "│<span style=\"color: #008080; text-decoration-color: #008080\">     ч </span>│<span style=\"color: #008080; text-decoration-color: #008080\">                  4.15 </span>│\n",
       "│<span style=\"color: #008080; text-decoration-color: #008080\">     и </span>│<span style=\"color: #008080; text-decoration-color: #008080\">                  3.84 </span>│\n",
       "│<span style=\"color: #008080; text-decoration-color: #008080\">     м </span>│<span style=\"color: #008080; text-decoration-color: #008080\">                  3.74 </span>│\n",
       "│<span style=\"color: #008080; text-decoration-color: #008080\">     с </span>│<span style=\"color: #008080; text-decoration-color: #008080\">                  3.43 </span>│\n",
       "│<span style=\"color: #008080; text-decoration-color: #008080\">     д </span>│<span style=\"color: #008080; text-decoration-color: #008080\">                  3.35 </span>│\n",
       "│<span style=\"color: #008080; text-decoration-color: #008080\">     в </span>│<span style=\"color: #008080; text-decoration-color: #008080\">                  3.04 </span>│\n",
       "│<span style=\"color: #008080; text-decoration-color: #008080\">     г </span>│<span style=\"color: #008080; text-decoration-color: #008080\">                  2.55 </span>│\n",
       "│<span style=\"color: #008080; text-decoration-color: #008080\">     п </span>│<span style=\"color: #008080; text-decoration-color: #008080\">                  2.45 </span>│\n",
       "│<span style=\"color: #008080; text-decoration-color: #008080\">     р </span>│<span style=\"color: #008080; text-decoration-color: #008080\">                  2.39 </span>│\n",
       "│<span style=\"color: #008080; text-decoration-color: #008080\">     л </span>│<span style=\"color: #008080; text-decoration-color: #008080\">                  2.35 </span>│\n",
       "│<span style=\"color: #008080; text-decoration-color: #008080\">     б </span>│<span style=\"color: #008080; text-decoration-color: #008080\">                  2.34 </span>│\n",
       "│<span style=\"color: #008080; text-decoration-color: #008080\">     у </span>│<span style=\"color: #008080; text-decoration-color: #008080\">                  1.81 </span>│\n",
       "│<span style=\"color: #008080; text-decoration-color: #008080\">     з </span>│<span style=\"color: #008080; text-decoration-color: #008080\">                  1.58 </span>│\n",
       "│<span style=\"color: #008080; text-decoration-color: #008080\">     ь </span>│<span style=\"color: #008080; text-decoration-color: #008080\">                  0.99 </span>│\n",
       "│<span style=\"color: #008080; text-decoration-color: #008080\">     й </span>│<span style=\"color: #008080; text-decoration-color: #008080\">                  0.97 </span>│\n",
       "│<span style=\"color: #008080; text-decoration-color: #008080\">     я </span>│<span style=\"color: #008080; text-decoration-color: #008080\">                   0.7 </span>│\n",
       "│<span style=\"color: #008080; text-decoration-color: #008080\">     х </span>│<span style=\"color: #008080; text-decoration-color: #008080\">                  0.63 </span>│\n",
       "│<span style=\"color: #008080; text-decoration-color: #008080\">     ш </span>│<span style=\"color: #008080; text-decoration-color: #008080\">                  0.54 </span>│\n",
       "│<span style=\"color: #008080; text-decoration-color: #008080\">     ы </span>│<span style=\"color: #008080; text-decoration-color: #008080\">                  0.49 </span>│\n",
       "│<span style=\"color: #008080; text-decoration-color: #008080\">     э </span>│<span style=\"color: #008080; text-decoration-color: #008080\">                  0.31 </span>│\n",
       "│<span style=\"color: #008080; text-decoration-color: #008080\">     ю </span>│<span style=\"color: #008080; text-decoration-color: #008080\">                  0.25 </span>│\n",
       "│<span style=\"color: #008080; text-decoration-color: #008080\">     щ </span>│<span style=\"color: #008080; text-decoration-color: #008080\">                  0.24 </span>│\n",
       "│<span style=\"color: #008080; text-decoration-color: #008080\">     ц </span>│<span style=\"color: #008080; text-decoration-color: #008080\">                  0.22 </span>│\n",
       "│<span style=\"color: #008080; text-decoration-color: #008080\">     ж </span>│<span style=\"color: #008080; text-decoration-color: #008080\">                  0.18 </span>│\n",
       "│<span style=\"color: #008080; text-decoration-color: #008080\">     ф </span>│<span style=\"color: #008080; text-decoration-color: #008080\">                  0.08 </span>│\n",
       "│<span style=\"color: #008080; text-decoration-color: #008080\">     ъ </span>│<span style=\"color: #008080; text-decoration-color: #008080\">                  0.01 </span>│\n",
       "└───────┴───────────────────────┘\n",
       "</pre>\n"
      ],
      "text/plain": [
       "\u001b[3m         фанфик проценты         \u001b[0m\n",
       "┏━━━━━━━┳━━━━━━━━━━━━━━━━━━━━━━━┓\n",
       "┃\u001b[1m \u001b[0m\u001b[1mбуква\u001b[0m\u001b[1m \u001b[0m┃\u001b[1m \u001b[0m\u001b[1mчастота (в процентах)\u001b[0m\u001b[1m \u001b[0m┃\n",
       "┡━━━━━━━╇━━━━━━━━━━━━━━━━━━━━━━━┩\n",
       "│\u001b[36m \u001b[0m\u001b[36m    т\u001b[0m\u001b[36m \u001b[0m│\u001b[36m \u001b[0m\u001b[36m                15.62\u001b[0m\u001b[36m \u001b[0m│\n",
       "│\u001b[36m \u001b[0m\u001b[36m    о\u001b[0m\u001b[36m \u001b[0m│\u001b[36m \u001b[0m\u001b[36m                 11.2\u001b[0m\u001b[36m \u001b[0m│\n",
       "│\u001b[36m \u001b[0m\u001b[36m    к\u001b[0m\u001b[36m \u001b[0m│\u001b[36m \u001b[0m\u001b[36m                10.96\u001b[0m\u001b[36m \u001b[0m│\n",
       "│\u001b[36m \u001b[0m\u001b[36m    а\u001b[0m\u001b[36m \u001b[0m│\u001b[36m \u001b[0m\u001b[36m                 7.76\u001b[0m\u001b[36m \u001b[0m│\n",
       "│\u001b[36m \u001b[0m\u001b[36m    е\u001b[0m\u001b[36m \u001b[0m│\u001b[36m \u001b[0m\u001b[36m                 7.49\u001b[0m\u001b[36m \u001b[0m│\n",
       "│\u001b[36m \u001b[0m\u001b[36m    н\u001b[0m\u001b[36m \u001b[0m│\u001b[36m \u001b[0m\u001b[36m                 4.33\u001b[0m\u001b[36m \u001b[0m│\n",
       "│\u001b[36m \u001b[0m\u001b[36m    ч\u001b[0m\u001b[36m \u001b[0m│\u001b[36m \u001b[0m\u001b[36m                 4.15\u001b[0m\u001b[36m \u001b[0m│\n",
       "│\u001b[36m \u001b[0m\u001b[36m    и\u001b[0m\u001b[36m \u001b[0m│\u001b[36m \u001b[0m\u001b[36m                 3.84\u001b[0m\u001b[36m \u001b[0m│\n",
       "│\u001b[36m \u001b[0m\u001b[36m    м\u001b[0m\u001b[36m \u001b[0m│\u001b[36m \u001b[0m\u001b[36m                 3.74\u001b[0m\u001b[36m \u001b[0m│\n",
       "│\u001b[36m \u001b[0m\u001b[36m    с\u001b[0m\u001b[36m \u001b[0m│\u001b[36m \u001b[0m\u001b[36m                 3.43\u001b[0m\u001b[36m \u001b[0m│\n",
       "│\u001b[36m \u001b[0m\u001b[36m    д\u001b[0m\u001b[36m \u001b[0m│\u001b[36m \u001b[0m\u001b[36m                 3.35\u001b[0m\u001b[36m \u001b[0m│\n",
       "│\u001b[36m \u001b[0m\u001b[36m    в\u001b[0m\u001b[36m \u001b[0m│\u001b[36m \u001b[0m\u001b[36m                 3.04\u001b[0m\u001b[36m \u001b[0m│\n",
       "│\u001b[36m \u001b[0m\u001b[36m    г\u001b[0m\u001b[36m \u001b[0m│\u001b[36m \u001b[0m\u001b[36m                 2.55\u001b[0m\u001b[36m \u001b[0m│\n",
       "│\u001b[36m \u001b[0m\u001b[36m    п\u001b[0m\u001b[36m \u001b[0m│\u001b[36m \u001b[0m\u001b[36m                 2.45\u001b[0m\u001b[36m \u001b[0m│\n",
       "│\u001b[36m \u001b[0m\u001b[36m    р\u001b[0m\u001b[36m \u001b[0m│\u001b[36m \u001b[0m\u001b[36m                 2.39\u001b[0m\u001b[36m \u001b[0m│\n",
       "│\u001b[36m \u001b[0m\u001b[36m    л\u001b[0m\u001b[36m \u001b[0m│\u001b[36m \u001b[0m\u001b[36m                 2.35\u001b[0m\u001b[36m \u001b[0m│\n",
       "│\u001b[36m \u001b[0m\u001b[36m    б\u001b[0m\u001b[36m \u001b[0m│\u001b[36m \u001b[0m\u001b[36m                 2.34\u001b[0m\u001b[36m \u001b[0m│\n",
       "│\u001b[36m \u001b[0m\u001b[36m    у\u001b[0m\u001b[36m \u001b[0m│\u001b[36m \u001b[0m\u001b[36m                 1.81\u001b[0m\u001b[36m \u001b[0m│\n",
       "│\u001b[36m \u001b[0m\u001b[36m    з\u001b[0m\u001b[36m \u001b[0m│\u001b[36m \u001b[0m\u001b[36m                 1.58\u001b[0m\u001b[36m \u001b[0m│\n",
       "│\u001b[36m \u001b[0m\u001b[36m    ь\u001b[0m\u001b[36m \u001b[0m│\u001b[36m \u001b[0m\u001b[36m                 0.99\u001b[0m\u001b[36m \u001b[0m│\n",
       "│\u001b[36m \u001b[0m\u001b[36m    й\u001b[0m\u001b[36m \u001b[0m│\u001b[36m \u001b[0m\u001b[36m                 0.97\u001b[0m\u001b[36m \u001b[0m│\n",
       "│\u001b[36m \u001b[0m\u001b[36m    я\u001b[0m\u001b[36m \u001b[0m│\u001b[36m \u001b[0m\u001b[36m                  0.7\u001b[0m\u001b[36m \u001b[0m│\n",
       "│\u001b[36m \u001b[0m\u001b[36m    х\u001b[0m\u001b[36m \u001b[0m│\u001b[36m \u001b[0m\u001b[36m                 0.63\u001b[0m\u001b[36m \u001b[0m│\n",
       "│\u001b[36m \u001b[0m\u001b[36m    ш\u001b[0m\u001b[36m \u001b[0m│\u001b[36m \u001b[0m\u001b[36m                 0.54\u001b[0m\u001b[36m \u001b[0m│\n",
       "│\u001b[36m \u001b[0m\u001b[36m    ы\u001b[0m\u001b[36m \u001b[0m│\u001b[36m \u001b[0m\u001b[36m                 0.49\u001b[0m\u001b[36m \u001b[0m│\n",
       "│\u001b[36m \u001b[0m\u001b[36m    э\u001b[0m\u001b[36m \u001b[0m│\u001b[36m \u001b[0m\u001b[36m                 0.31\u001b[0m\u001b[36m \u001b[0m│\n",
       "│\u001b[36m \u001b[0m\u001b[36m    ю\u001b[0m\u001b[36m \u001b[0m│\u001b[36m \u001b[0m\u001b[36m                 0.25\u001b[0m\u001b[36m \u001b[0m│\n",
       "│\u001b[36m \u001b[0m\u001b[36m    щ\u001b[0m\u001b[36m \u001b[0m│\u001b[36m \u001b[0m\u001b[36m                 0.24\u001b[0m\u001b[36m \u001b[0m│\n",
       "│\u001b[36m \u001b[0m\u001b[36m    ц\u001b[0m\u001b[36m \u001b[0m│\u001b[36m \u001b[0m\u001b[36m                 0.22\u001b[0m\u001b[36m \u001b[0m│\n",
       "│\u001b[36m \u001b[0m\u001b[36m    ж\u001b[0m\u001b[36m \u001b[0m│\u001b[36m \u001b[0m\u001b[36m                 0.18\u001b[0m\u001b[36m \u001b[0m│\n",
       "│\u001b[36m \u001b[0m\u001b[36m    ф\u001b[0m\u001b[36m \u001b[0m│\u001b[36m \u001b[0m\u001b[36m                 0.08\u001b[0m\u001b[36m \u001b[0m│\n",
       "│\u001b[36m \u001b[0m\u001b[36m    ъ\u001b[0m\u001b[36m \u001b[0m│\u001b[36m \u001b[0m\u001b[36m                 0.01\u001b[0m\u001b[36m \u001b[0m│\n",
       "└───────┴───────────────────────┘\n"
      ]
     },
     "metadata": {},
     "output_type": "display_data"
    }
   ],
   "source": [
    "table = Table(title=\"фанфик проценты\")\n",
    "table.add_column(\"буква\", justify=\"right\", style=\"cyan\", no_wrap=True)\n",
    "table.add_column(\"частота (в процентах)\", justify=\"right\", style=\"cyan\", no_wrap=True)\n",
    "letters2_pers = {}\n",
    "for k, v in letters2.items():\n",
    "    letters2_pers[k] = round(v / sum([v for v in letters2.values()]) * 100, 2)\n",
    "letters2_pers = {k: v for k, v in sorted(letters2_pers.items(), key=lambda item: item[1], reverse=True)}\n",
    "\n",
    "for k, v in letters2_pers.items():\n",
    "    table.add_row(f'{k}', f'{v}')\n",
    "console = Console()\n",
    "console.print(table)"
   ]
  },
  {
   "cell_type": "markdown",
   "metadata": {},
   "source": [
    "Подсчет относительных частот гласных отдельно в фанфике."
   ]
  },
  {
   "cell_type": "code",
   "execution_count": 8,
   "metadata": {},
   "outputs": [
    {
     "data": {
      "text/html": [
       "<pre style=\"white-space:pre;overflow-x:auto;line-height:normal;font-family:Menlo,'DejaVu Sans Mono',consolas,'Courier New',monospace\"><span style=\"font-style: italic\">  относительные частоты гласных  </span>\n",
       "┏━━━━━━━┳━━━━━━━━━━━━━━━━━━━━━━━┓\n",
       "┃<span style=\"font-weight: bold\"> буква </span>┃<span style=\"font-weight: bold\"> частота (в процентах) </span>┃\n",
       "┡━━━━━━━╇━━━━━━━━━━━━━━━━━━━━━━━┩\n",
       "│<span style=\"color: #008080; text-decoration-color: #008080\">     о </span>│<span style=\"color: #008080; text-decoration-color: #008080\">                 33.06 </span>│\n",
       "│<span style=\"color: #008080; text-decoration-color: #008080\">     а </span>│<span style=\"color: #008080; text-decoration-color: #008080\">                 22.93 </span>│\n",
       "│<span style=\"color: #008080; text-decoration-color: #008080\">     е </span>│<span style=\"color: #008080; text-decoration-color: #008080\">                 22.12 </span>│\n",
       "│<span style=\"color: #008080; text-decoration-color: #008080\">     и </span>│<span style=\"color: #008080; text-decoration-color: #008080\">                 11.33 </span>│\n",
       "│<span style=\"color: #008080; text-decoration-color: #008080\">     у </span>│<span style=\"color: #008080; text-decoration-color: #008080\">                  5.36 </span>│\n",
       "│<span style=\"color: #008080; text-decoration-color: #008080\">     я </span>│<span style=\"color: #008080; text-decoration-color: #008080\">                  2.08 </span>│\n",
       "│<span style=\"color: #008080; text-decoration-color: #008080\">     ы </span>│<span style=\"color: #008080; text-decoration-color: #008080\">                  1.46 </span>│\n",
       "│<span style=\"color: #008080; text-decoration-color: #008080\">     э </span>│<span style=\"color: #008080; text-decoration-color: #008080\">                  0.91 </span>│\n",
       "│<span style=\"color: #008080; text-decoration-color: #008080\">     ю </span>│<span style=\"color: #008080; text-decoration-color: #008080\">                  0.75 </span>│\n",
       "└───────┴───────────────────────┘\n",
       "</pre>\n"
      ],
      "text/plain": [
       "\u001b[3m  относительные частоты гласных  \u001b[0m\n",
       "┏━━━━━━━┳━━━━━━━━━━━━━━━━━━━━━━━┓\n",
       "┃\u001b[1m \u001b[0m\u001b[1mбуква\u001b[0m\u001b[1m \u001b[0m┃\u001b[1m \u001b[0m\u001b[1mчастота (в процентах)\u001b[0m\u001b[1m \u001b[0m┃\n",
       "┡━━━━━━━╇━━━━━━━━━━━━━━━━━━━━━━━┩\n",
       "│\u001b[36m \u001b[0m\u001b[36m    о\u001b[0m\u001b[36m \u001b[0m│\u001b[36m \u001b[0m\u001b[36m                33.06\u001b[0m\u001b[36m \u001b[0m│\n",
       "│\u001b[36m \u001b[0m\u001b[36m    а\u001b[0m\u001b[36m \u001b[0m│\u001b[36m \u001b[0m\u001b[36m                22.93\u001b[0m\u001b[36m \u001b[0m│\n",
       "│\u001b[36m \u001b[0m\u001b[36m    е\u001b[0m\u001b[36m \u001b[0m│\u001b[36m \u001b[0m\u001b[36m                22.12\u001b[0m\u001b[36m \u001b[0m│\n",
       "│\u001b[36m \u001b[0m\u001b[36m    и\u001b[0m\u001b[36m \u001b[0m│\u001b[36m \u001b[0m\u001b[36m                11.33\u001b[0m\u001b[36m \u001b[0m│\n",
       "│\u001b[36m \u001b[0m\u001b[36m    у\u001b[0m\u001b[36m \u001b[0m│\u001b[36m \u001b[0m\u001b[36m                 5.36\u001b[0m\u001b[36m \u001b[0m│\n",
       "│\u001b[36m \u001b[0m\u001b[36m    я\u001b[0m\u001b[36m \u001b[0m│\u001b[36m \u001b[0m\u001b[36m                 2.08\u001b[0m\u001b[36m \u001b[0m│\n",
       "│\u001b[36m \u001b[0m\u001b[36m    ы\u001b[0m\u001b[36m \u001b[0m│\u001b[36m \u001b[0m\u001b[36m                 1.46\u001b[0m\u001b[36m \u001b[0m│\n",
       "│\u001b[36m \u001b[0m\u001b[36m    э\u001b[0m\u001b[36m \u001b[0m│\u001b[36m \u001b[0m\u001b[36m                 0.91\u001b[0m\u001b[36m \u001b[0m│\n",
       "│\u001b[36m \u001b[0m\u001b[36m    ю\u001b[0m\u001b[36m \u001b[0m│\u001b[36m \u001b[0m\u001b[36m                 0.75\u001b[0m\u001b[36m \u001b[0m│\n",
       "└───────┴───────────────────────┘\n"
      ]
     },
     "metadata": {},
     "output_type": "display_data"
    }
   ],
   "source": [
    "vols = 'ёуеыаоэяию'\n",
    "cons = 'йцкнгшщзхфвпрлджчсмтб'\n",
    "etc = 'ьъ'\n",
    "\n",
    "abs_vols2 = {k: v for k, v in sorted(letters2.items(), key=lambda item: item[1], reverse=True) if k in vols}\n",
    "abs_cons2 = {k: v for k, v in sorted(letters2.items(), key=lambda item: item[1], reverse=True) if k in cons}\n",
    "dct_vols2 = {}\n",
    "dct_cons2 = {}\n",
    "\n",
    "for k, v in abs_cons2.items():\n",
    "    dct_cons2[k] = v / sum([v for v in abs_cons2.values()]) * 100\n",
    "\n",
    "for k, v in abs_vols2.items():\n",
    "    dct_vols2[k] = v / sum([v for v in abs_vols2.values()]) * 100\n",
    "\n",
    "table = Table(title=\"относительные частоты гласных\")\n",
    "table.add_column(\"буква\", justify=\"right\", style=\"cyan\", no_wrap=True)\n",
    "table.add_column(\"частота (в процентах)\", justify=\"right\", style=\"cyan\", no_wrap=True)\n",
    "dct_vols_pers2 = {}\n",
    "for k, v in dct_vols2.items():\n",
    "    dct_vols_pers2[k] = round(v / sum([v for v in dct_vols2.values()]) * 100, 2)\n",
    "dct_vols_pers2 = {k: v for k, v in sorted(dct_vols_pers2.items(), key=lambda item: item[1], reverse=True)}\n",
    "\n",
    "for k, v in dct_vols_pers2.items():\n",
    "    table.add_row(f'{k}', f'{v}')\n",
    "console = Console()\n",
    "console.print(table)"
   ]
  },
  {
   "cell_type": "markdown",
   "metadata": {},
   "source": [
    "Подсчет относительных частот согласных отдельно в фанфике."
   ]
  },
  {
   "cell_type": "code",
   "execution_count": 9,
   "metadata": {},
   "outputs": [
    {
     "data": {
      "text/html": [
       "<pre style=\"white-space:pre;overflow-x:auto;line-height:normal;font-family:Menlo,'DejaVu Sans Mono',consolas,'Courier New',monospace\"><span style=\"font-style: italic\"> относительные частоты согласных </span>\n",
       "┏━━━━━━━┳━━━━━━━━━━━━━━━━━━━━━━━┓\n",
       "┃<span style=\"font-weight: bold\"> буква </span>┃<span style=\"font-weight: bold\"> частота (в процентах) </span>┃\n",
       "┡━━━━━━━╇━━━━━━━━━━━━━━━━━━━━━━━┩\n",
       "│<span style=\"color: #008080; text-decoration-color: #008080\">     т </span>│<span style=\"color: #008080; text-decoration-color: #008080\">                 23.97 </span>│\n",
       "│<span style=\"color: #008080; text-decoration-color: #008080\">     к </span>│<span style=\"color: #008080; text-decoration-color: #008080\">                 16.83 </span>│\n",
       "│<span style=\"color: #008080; text-decoration-color: #008080\">     н </span>│<span style=\"color: #008080; text-decoration-color: #008080\">                  6.65 </span>│\n",
       "│<span style=\"color: #008080; text-decoration-color: #008080\">     ч </span>│<span style=\"color: #008080; text-decoration-color: #008080\">                  6.37 </span>│\n",
       "│<span style=\"color: #008080; text-decoration-color: #008080\">     м </span>│<span style=\"color: #008080; text-decoration-color: #008080\">                  5.74 </span>│\n",
       "│<span style=\"color: #008080; text-decoration-color: #008080\">     с </span>│<span style=\"color: #008080; text-decoration-color: #008080\">                  5.27 </span>│\n",
       "│<span style=\"color: #008080; text-decoration-color: #008080\">     д </span>│<span style=\"color: #008080; text-decoration-color: #008080\">                  5.15 </span>│\n",
       "│<span style=\"color: #008080; text-decoration-color: #008080\">     в </span>│<span style=\"color: #008080; text-decoration-color: #008080\">                  4.66 </span>│\n",
       "│<span style=\"color: #008080; text-decoration-color: #008080\">     г </span>│<span style=\"color: #008080; text-decoration-color: #008080\">                  3.92 </span>│\n",
       "│<span style=\"color: #008080; text-decoration-color: #008080\">     п </span>│<span style=\"color: #008080; text-decoration-color: #008080\">                  3.76 </span>│\n",
       "│<span style=\"color: #008080; text-decoration-color: #008080\">     р </span>│<span style=\"color: #008080; text-decoration-color: #008080\">                  3.66 </span>│\n",
       "│<span style=\"color: #008080; text-decoration-color: #008080\">     л </span>│<span style=\"color: #008080; text-decoration-color: #008080\">                  3.61 </span>│\n",
       "│<span style=\"color: #008080; text-decoration-color: #008080\">     б </span>│<span style=\"color: #008080; text-decoration-color: #008080\">                   3.6 </span>│\n",
       "│<span style=\"color: #008080; text-decoration-color: #008080\">     з </span>│<span style=\"color: #008080; text-decoration-color: #008080\">                  2.43 </span>│\n",
       "│<span style=\"color: #008080; text-decoration-color: #008080\">     й </span>│<span style=\"color: #008080; text-decoration-color: #008080\">                  1.49 </span>│\n",
       "│<span style=\"color: #008080; text-decoration-color: #008080\">     х </span>│<span style=\"color: #008080; text-decoration-color: #008080\">                  0.96 </span>│\n",
       "│<span style=\"color: #008080; text-decoration-color: #008080\">     ш </span>│<span style=\"color: #008080; text-decoration-color: #008080\">                  0.83 </span>│\n",
       "│<span style=\"color: #008080; text-decoration-color: #008080\">     щ </span>│<span style=\"color: #008080; text-decoration-color: #008080\">                  0.37 </span>│\n",
       "│<span style=\"color: #008080; text-decoration-color: #008080\">     ц </span>│<span style=\"color: #008080; text-decoration-color: #008080\">                  0.34 </span>│\n",
       "│<span style=\"color: #008080; text-decoration-color: #008080\">     ж </span>│<span style=\"color: #008080; text-decoration-color: #008080\">                  0.27 </span>│\n",
       "│<span style=\"color: #008080; text-decoration-color: #008080\">     ф </span>│<span style=\"color: #008080; text-decoration-color: #008080\">                  0.12 </span>│\n",
       "└───────┴───────────────────────┘\n",
       "</pre>\n"
      ],
      "text/plain": [
       "\u001b[3m относительные частоты согласных \u001b[0m\n",
       "┏━━━━━━━┳━━━━━━━━━━━━━━━━━━━━━━━┓\n",
       "┃\u001b[1m \u001b[0m\u001b[1mбуква\u001b[0m\u001b[1m \u001b[0m┃\u001b[1m \u001b[0m\u001b[1mчастота (в процентах)\u001b[0m\u001b[1m \u001b[0m┃\n",
       "┡━━━━━━━╇━━━━━━━━━━━━━━━━━━━━━━━┩\n",
       "│\u001b[36m \u001b[0m\u001b[36m    т\u001b[0m\u001b[36m \u001b[0m│\u001b[36m \u001b[0m\u001b[36m                23.97\u001b[0m\u001b[36m \u001b[0m│\n",
       "│\u001b[36m \u001b[0m\u001b[36m    к\u001b[0m\u001b[36m \u001b[0m│\u001b[36m \u001b[0m\u001b[36m                16.83\u001b[0m\u001b[36m \u001b[0m│\n",
       "│\u001b[36m \u001b[0m\u001b[36m    н\u001b[0m\u001b[36m \u001b[0m│\u001b[36m \u001b[0m\u001b[36m                 6.65\u001b[0m\u001b[36m \u001b[0m│\n",
       "│\u001b[36m \u001b[0m\u001b[36m    ч\u001b[0m\u001b[36m \u001b[0m│\u001b[36m \u001b[0m\u001b[36m                 6.37\u001b[0m\u001b[36m \u001b[0m│\n",
       "│\u001b[36m \u001b[0m\u001b[36m    м\u001b[0m\u001b[36m \u001b[0m│\u001b[36m \u001b[0m\u001b[36m                 5.74\u001b[0m\u001b[36m \u001b[0m│\n",
       "│\u001b[36m \u001b[0m\u001b[36m    с\u001b[0m\u001b[36m \u001b[0m│\u001b[36m \u001b[0m\u001b[36m                 5.27\u001b[0m\u001b[36m \u001b[0m│\n",
       "│\u001b[36m \u001b[0m\u001b[36m    д\u001b[0m\u001b[36m \u001b[0m│\u001b[36m \u001b[0m\u001b[36m                 5.15\u001b[0m\u001b[36m \u001b[0m│\n",
       "│\u001b[36m \u001b[0m\u001b[36m    в\u001b[0m\u001b[36m \u001b[0m│\u001b[36m \u001b[0m\u001b[36m                 4.66\u001b[0m\u001b[36m \u001b[0m│\n",
       "│\u001b[36m \u001b[0m\u001b[36m    г\u001b[0m\u001b[36m \u001b[0m│\u001b[36m \u001b[0m\u001b[36m                 3.92\u001b[0m\u001b[36m \u001b[0m│\n",
       "│\u001b[36m \u001b[0m\u001b[36m    п\u001b[0m\u001b[36m \u001b[0m│\u001b[36m \u001b[0m\u001b[36m                 3.76\u001b[0m\u001b[36m \u001b[0m│\n",
       "│\u001b[36m \u001b[0m\u001b[36m    р\u001b[0m\u001b[36m \u001b[0m│\u001b[36m \u001b[0m\u001b[36m                 3.66\u001b[0m\u001b[36m \u001b[0m│\n",
       "│\u001b[36m \u001b[0m\u001b[36m    л\u001b[0m\u001b[36m \u001b[0m│\u001b[36m \u001b[0m\u001b[36m                 3.61\u001b[0m\u001b[36m \u001b[0m│\n",
       "│\u001b[36m \u001b[0m\u001b[36m    б\u001b[0m\u001b[36m \u001b[0m│\u001b[36m \u001b[0m\u001b[36m                  3.6\u001b[0m\u001b[36m \u001b[0m│\n",
       "│\u001b[36m \u001b[0m\u001b[36m    з\u001b[0m\u001b[36m \u001b[0m│\u001b[36m \u001b[0m\u001b[36m                 2.43\u001b[0m\u001b[36m \u001b[0m│\n",
       "│\u001b[36m \u001b[0m\u001b[36m    й\u001b[0m\u001b[36m \u001b[0m│\u001b[36m \u001b[0m\u001b[36m                 1.49\u001b[0m\u001b[36m \u001b[0m│\n",
       "│\u001b[36m \u001b[0m\u001b[36m    х\u001b[0m\u001b[36m \u001b[0m│\u001b[36m \u001b[0m\u001b[36m                 0.96\u001b[0m\u001b[36m \u001b[0m│\n",
       "│\u001b[36m \u001b[0m\u001b[36m    ш\u001b[0m\u001b[36m \u001b[0m│\u001b[36m \u001b[0m\u001b[36m                 0.83\u001b[0m\u001b[36m \u001b[0m│\n",
       "│\u001b[36m \u001b[0m\u001b[36m    щ\u001b[0m\u001b[36m \u001b[0m│\u001b[36m \u001b[0m\u001b[36m                 0.37\u001b[0m\u001b[36m \u001b[0m│\n",
       "│\u001b[36m \u001b[0m\u001b[36m    ц\u001b[0m\u001b[36m \u001b[0m│\u001b[36m \u001b[0m\u001b[36m                 0.34\u001b[0m\u001b[36m \u001b[0m│\n",
       "│\u001b[36m \u001b[0m\u001b[36m    ж\u001b[0m\u001b[36m \u001b[0m│\u001b[36m \u001b[0m\u001b[36m                 0.27\u001b[0m\u001b[36m \u001b[0m│\n",
       "│\u001b[36m \u001b[0m\u001b[36m    ф\u001b[0m\u001b[36m \u001b[0m│\u001b[36m \u001b[0m\u001b[36m                 0.12\u001b[0m\u001b[36m \u001b[0m│\n",
       "└───────┴───────────────────────┘\n"
      ]
     },
     "metadata": {},
     "output_type": "display_data"
    }
   ],
   "source": [
    "table = Table(title=\"относительные частоты согласных\")\n",
    "table.add_column(\"буква\", justify=\"right\", style=\"cyan\", no_wrap=True)\n",
    "table.add_column(\"частота (в процентах)\", justify=\"right\", style=\"cyan\", no_wrap=True)\n",
    "dct_cons_pers2 = {}\n",
    "for k, v in dct_cons2.items():\n",
    "    dct_cons_pers2[k] = round(v / sum([v for v in dct_cons2.values()]) * 100, 2)\n",
    "dct_cons_pers2 = {k: v for k, v in sorted(dct_cons_pers2.items(), key=lambda item: item[1], reverse=True)}\n",
    "\n",
    "for k, v in dct_cons_pers2.items():\n",
    "    table.add_row(f'{k}', f'{v}')\n",
    "console = Console()\n",
    "console.print(table)"
   ]
  },
  {
   "cell_type": "markdown",
   "metadata": {},
   "source": [
    "Сравнение относительных частот букв в корпусе и фанфике. За основу берется значение в корпусе, формула рассчета: частота в корпусе - частота в фанфике."
   ]
  },
  {
   "cell_type": "code",
   "execution_count": 10,
   "metadata": {},
   "outputs": [
    {
     "data": {
      "text/html": [
       "<pre style=\"white-space:pre;overflow-x:auto;line-height:normal;font-family:Menlo,'DejaVu Sans Mono',consolas,'Courier New',monospace\"><span style=\"font-style: italic\">      сравнение      </span>\n",
       "<span style=\"font-style: italic\">относительных частот </span>\n",
       "<span style=\"font-style: italic\">в корпусе и в фанфике</span>\n",
       "┏━━━━━━━┳━━━━━━━━━━━┓\n",
       "┃<span style=\"font-weight: bold\"> буква </span>┃<span style=\"font-weight: bold\"> сравнение </span>┃\n",
       "┡━━━━━━━╇━━━━━━━━━━━┩\n",
       "│<span style=\"color: #008080; text-decoration-color: #008080\">     т </span>│<span style=\"color: #008080; text-decoration-color: #008080\">     -3.33 </span>│\n",
       "│<span style=\"color: #008080; text-decoration-color: #008080\">     о </span>│<span style=\"color: #008080; text-decoration-color: #008080\">      0.45 </span>│\n",
       "│<span style=\"color: #008080; text-decoration-color: #008080\">     к </span>│<span style=\"color: #008080; text-decoration-color: #008080\">     -1.56 </span>│\n",
       "│<span style=\"color: #008080; text-decoration-color: #008080\">     а </span>│<span style=\"color: #008080; text-decoration-color: #008080\">      0.41 </span>│\n",
       "│<span style=\"color: #008080; text-decoration-color: #008080\">     е </span>│<span style=\"color: #008080; text-decoration-color: #008080\">     -1.07 </span>│\n",
       "│<span style=\"color: #008080; text-decoration-color: #008080\">     н </span>│<span style=\"color: #008080; text-decoration-color: #008080\">      1.03 </span>│\n",
       "│<span style=\"color: #008080; text-decoration-color: #008080\">     и </span>│<span style=\"color: #008080; text-decoration-color: #008080\">      0.71 </span>│\n",
       "│<span style=\"color: #008080; text-decoration-color: #008080\">     с </span>│<span style=\"color: #008080; text-decoration-color: #008080\">       0.5 </span>│\n",
       "│<span style=\"color: #008080; text-decoration-color: #008080\">     п </span>│<span style=\"color: #008080; text-decoration-color: #008080\">      1.16 </span>│\n",
       "│<span style=\"color: #008080; text-decoration-color: #008080\">     р </span>│<span style=\"color: #008080; text-decoration-color: #008080\">      1.09 </span>│\n",
       "│<span style=\"color: #008080; text-decoration-color: #008080\">     м </span>│<span style=\"color: #008080; text-decoration-color: #008080\">     -0.27 </span>│\n",
       "│<span style=\"color: #008080; text-decoration-color: #008080\">     ч </span>│<span style=\"color: #008080; text-decoration-color: #008080\">     -1.06 </span>│\n",
       "│<span style=\"color: #008080; text-decoration-color: #008080\">     в </span>│<span style=\"color: #008080; text-decoration-color: #008080\">      0.03 </span>│\n",
       "│<span style=\"color: #008080; text-decoration-color: #008080\">     д </span>│<span style=\"color: #008080; text-decoration-color: #008080\">     -0.46 </span>│\n",
       "│<span style=\"color: #008080; text-decoration-color: #008080\">     л </span>│<span style=\"color: #008080; text-decoration-color: #008080\">      0.32 </span>│\n",
       "│<span style=\"color: #008080; text-decoration-color: #008080\">     г </span>│<span style=\"color: #008080; text-decoration-color: #008080\">     -0.18 </span>│\n",
       "│<span style=\"color: #008080; text-decoration-color: #008080\">     у </span>│<span style=\"color: #008080; text-decoration-color: #008080\">      0.55 </span>│\n",
       "│<span style=\"color: #008080; text-decoration-color: #008080\">     з </span>│<span style=\"color: #008080; text-decoration-color: #008080\">      0.24 </span>│\n",
       "│<span style=\"color: #008080; text-decoration-color: #008080\">     б </span>│<span style=\"color: #008080; text-decoration-color: #008080\">     -0.82 </span>│\n",
       "│<span style=\"color: #008080; text-decoration-color: #008080\">     ь </span>│<span style=\"color: #008080; text-decoration-color: #008080\">      0.21 </span>│\n",
       "│<span style=\"color: #008080; text-decoration-color: #008080\">     й </span>│<span style=\"color: #008080; text-decoration-color: #008080\">      0.15 </span>│\n",
       "│<span style=\"color: #008080; text-decoration-color: #008080\">     я </span>│<span style=\"color: #008080; text-decoration-color: #008080\">      0.19 </span>│\n",
       "│<span style=\"color: #008080; text-decoration-color: #008080\">     х </span>│<span style=\"color: #008080; text-decoration-color: #008080\">      0.19 </span>│\n",
       "│<span style=\"color: #008080; text-decoration-color: #008080\">     ы </span>│<span style=\"color: #008080; text-decoration-color: #008080\">      0.06 </span>│\n",
       "│<span style=\"color: #008080; text-decoration-color: #008080\">     ф </span>│<span style=\"color: #008080; text-decoration-color: #008080\">      0.46 </span>│\n",
       "│<span style=\"color: #008080; text-decoration-color: #008080\">     ц </span>│<span style=\"color: #008080; text-decoration-color: #008080\">      0.32 </span>│\n",
       "│<span style=\"color: #008080; text-decoration-color: #008080\">     ж </span>│<span style=\"color: #008080; text-decoration-color: #008080\">      0.35 </span>│\n",
       "│<span style=\"color: #008080; text-decoration-color: #008080\">     ш </span>│<span style=\"color: #008080; text-decoration-color: #008080\">     -0.03 </span>│\n",
       "│<span style=\"color: #008080; text-decoration-color: #008080\">     ю </span>│<span style=\"color: #008080; text-decoration-color: #008080\">      0.23 </span>│\n",
       "│<span style=\"color: #008080; text-decoration-color: #008080\">     э </span>│<span style=\"color: #008080; text-decoration-color: #008080\">      0.07 </span>│\n",
       "│<span style=\"color: #008080; text-decoration-color: #008080\">     щ </span>│<span style=\"color: #008080; text-decoration-color: #008080\">      0.04 </span>│\n",
       "│<span style=\"color: #008080; text-decoration-color: #008080\">     ъ </span>│<span style=\"color: #008080; text-decoration-color: #008080\">      0.02 </span>│\n",
       "└───────┴───────────┘\n",
       "</pre>\n"
      ],
      "text/plain": [
       "\u001b[3m      сравнение      \u001b[0m\n",
       "\u001b[3mотносительных частот \u001b[0m\n",
       "\u001b[3mв корпусе и в фанфике\u001b[0m\n",
       "┏━━━━━━━┳━━━━━━━━━━━┓\n",
       "┃\u001b[1m \u001b[0m\u001b[1mбуква\u001b[0m\u001b[1m \u001b[0m┃\u001b[1m \u001b[0m\u001b[1mсравнение\u001b[0m\u001b[1m \u001b[0m┃\n",
       "┡━━━━━━━╇━━━━━━━━━━━┩\n",
       "│\u001b[36m \u001b[0m\u001b[36m    т\u001b[0m\u001b[36m \u001b[0m│\u001b[36m \u001b[0m\u001b[36m    -3.33\u001b[0m\u001b[36m \u001b[0m│\n",
       "│\u001b[36m \u001b[0m\u001b[36m    о\u001b[0m\u001b[36m \u001b[0m│\u001b[36m \u001b[0m\u001b[36m     0.45\u001b[0m\u001b[36m \u001b[0m│\n",
       "│\u001b[36m \u001b[0m\u001b[36m    к\u001b[0m\u001b[36m \u001b[0m│\u001b[36m \u001b[0m\u001b[36m    -1.56\u001b[0m\u001b[36m \u001b[0m│\n",
       "│\u001b[36m \u001b[0m\u001b[36m    а\u001b[0m\u001b[36m \u001b[0m│\u001b[36m \u001b[0m\u001b[36m     0.41\u001b[0m\u001b[36m \u001b[0m│\n",
       "│\u001b[36m \u001b[0m\u001b[36m    е\u001b[0m\u001b[36m \u001b[0m│\u001b[36m \u001b[0m\u001b[36m    -1.07\u001b[0m\u001b[36m \u001b[0m│\n",
       "│\u001b[36m \u001b[0m\u001b[36m    н\u001b[0m\u001b[36m \u001b[0m│\u001b[36m \u001b[0m\u001b[36m     1.03\u001b[0m\u001b[36m \u001b[0m│\n",
       "│\u001b[36m \u001b[0m\u001b[36m    и\u001b[0m\u001b[36m \u001b[0m│\u001b[36m \u001b[0m\u001b[36m     0.71\u001b[0m\u001b[36m \u001b[0m│\n",
       "│\u001b[36m \u001b[0m\u001b[36m    с\u001b[0m\u001b[36m \u001b[0m│\u001b[36m \u001b[0m\u001b[36m      0.5\u001b[0m\u001b[36m \u001b[0m│\n",
       "│\u001b[36m \u001b[0m\u001b[36m    п\u001b[0m\u001b[36m \u001b[0m│\u001b[36m \u001b[0m\u001b[36m     1.16\u001b[0m\u001b[36m \u001b[0m│\n",
       "│\u001b[36m \u001b[0m\u001b[36m    р\u001b[0m\u001b[36m \u001b[0m│\u001b[36m \u001b[0m\u001b[36m     1.09\u001b[0m\u001b[36m \u001b[0m│\n",
       "│\u001b[36m \u001b[0m\u001b[36m    м\u001b[0m\u001b[36m \u001b[0m│\u001b[36m \u001b[0m\u001b[36m    -0.27\u001b[0m\u001b[36m \u001b[0m│\n",
       "│\u001b[36m \u001b[0m\u001b[36m    ч\u001b[0m\u001b[36m \u001b[0m│\u001b[36m \u001b[0m\u001b[36m    -1.06\u001b[0m\u001b[36m \u001b[0m│\n",
       "│\u001b[36m \u001b[0m\u001b[36m    в\u001b[0m\u001b[36m \u001b[0m│\u001b[36m \u001b[0m\u001b[36m     0.03\u001b[0m\u001b[36m \u001b[0m│\n",
       "│\u001b[36m \u001b[0m\u001b[36m    д\u001b[0m\u001b[36m \u001b[0m│\u001b[36m \u001b[0m\u001b[36m    -0.46\u001b[0m\u001b[36m \u001b[0m│\n",
       "│\u001b[36m \u001b[0m\u001b[36m    л\u001b[0m\u001b[36m \u001b[0m│\u001b[36m \u001b[0m\u001b[36m     0.32\u001b[0m\u001b[36m \u001b[0m│\n",
       "│\u001b[36m \u001b[0m\u001b[36m    г\u001b[0m\u001b[36m \u001b[0m│\u001b[36m \u001b[0m\u001b[36m    -0.18\u001b[0m\u001b[36m \u001b[0m│\n",
       "│\u001b[36m \u001b[0m\u001b[36m    у\u001b[0m\u001b[36m \u001b[0m│\u001b[36m \u001b[0m\u001b[36m     0.55\u001b[0m\u001b[36m \u001b[0m│\n",
       "│\u001b[36m \u001b[0m\u001b[36m    з\u001b[0m\u001b[36m \u001b[0m│\u001b[36m \u001b[0m\u001b[36m     0.24\u001b[0m\u001b[36m \u001b[0m│\n",
       "│\u001b[36m \u001b[0m\u001b[36m    б\u001b[0m\u001b[36m \u001b[0m│\u001b[36m \u001b[0m\u001b[36m    -0.82\u001b[0m\u001b[36m \u001b[0m│\n",
       "│\u001b[36m \u001b[0m\u001b[36m    ь\u001b[0m\u001b[36m \u001b[0m│\u001b[36m \u001b[0m\u001b[36m     0.21\u001b[0m\u001b[36m \u001b[0m│\n",
       "│\u001b[36m \u001b[0m\u001b[36m    й\u001b[0m\u001b[36m \u001b[0m│\u001b[36m \u001b[0m\u001b[36m     0.15\u001b[0m\u001b[36m \u001b[0m│\n",
       "│\u001b[36m \u001b[0m\u001b[36m    я\u001b[0m\u001b[36m \u001b[0m│\u001b[36m \u001b[0m\u001b[36m     0.19\u001b[0m\u001b[36m \u001b[0m│\n",
       "│\u001b[36m \u001b[0m\u001b[36m    х\u001b[0m\u001b[36m \u001b[0m│\u001b[36m \u001b[0m\u001b[36m     0.19\u001b[0m\u001b[36m \u001b[0m│\n",
       "│\u001b[36m \u001b[0m\u001b[36m    ы\u001b[0m\u001b[36m \u001b[0m│\u001b[36m \u001b[0m\u001b[36m     0.06\u001b[0m\u001b[36m \u001b[0m│\n",
       "│\u001b[36m \u001b[0m\u001b[36m    ф\u001b[0m\u001b[36m \u001b[0m│\u001b[36m \u001b[0m\u001b[36m     0.46\u001b[0m\u001b[36m \u001b[0m│\n",
       "│\u001b[36m \u001b[0m\u001b[36m    ц\u001b[0m\u001b[36m \u001b[0m│\u001b[36m \u001b[0m\u001b[36m     0.32\u001b[0m\u001b[36m \u001b[0m│\n",
       "│\u001b[36m \u001b[0m\u001b[36m    ж\u001b[0m\u001b[36m \u001b[0m│\u001b[36m \u001b[0m\u001b[36m     0.35\u001b[0m\u001b[36m \u001b[0m│\n",
       "│\u001b[36m \u001b[0m\u001b[36m    ш\u001b[0m\u001b[36m \u001b[0m│\u001b[36m \u001b[0m\u001b[36m    -0.03\u001b[0m\u001b[36m \u001b[0m│\n",
       "│\u001b[36m \u001b[0m\u001b[36m    ю\u001b[0m\u001b[36m \u001b[0m│\u001b[36m \u001b[0m\u001b[36m     0.23\u001b[0m\u001b[36m \u001b[0m│\n",
       "│\u001b[36m \u001b[0m\u001b[36m    э\u001b[0m\u001b[36m \u001b[0m│\u001b[36m \u001b[0m\u001b[36m     0.07\u001b[0m\u001b[36m \u001b[0m│\n",
       "│\u001b[36m \u001b[0m\u001b[36m    щ\u001b[0m\u001b[36m \u001b[0m│\u001b[36m \u001b[0m\u001b[36m     0.04\u001b[0m\u001b[36m \u001b[0m│\n",
       "│\u001b[36m \u001b[0m\u001b[36m    ъ\u001b[0m\u001b[36m \u001b[0m│\u001b[36m \u001b[0m\u001b[36m     0.02\u001b[0m\u001b[36m \u001b[0m│\n",
       "└───────┴───────────┘\n"
      ]
     },
     "metadata": {},
     "output_type": "display_data"
    }
   ],
   "source": [
    "compare = {}\n",
    "for k, v in letters_pers.items():\n",
    "    for k2, v2 in letters2_pers.items():\n",
    "        compare[k] = round(v - letters2_pers[k], 2)\n",
    "\n",
    "table = Table(title=\"сравнение относительных частот в корпусе и в фанфике\")\n",
    "table.add_column(\"буква\", justify=\"right\", style=\"cyan\", no_wrap=True)\n",
    "table.add_column(\"сравнение\", justify=\"right\", style=\"cyan\", no_wrap=True)\n",
    "for k, v in compare.items():\n",
    "    table.add_row(f'{k}', f'{v}')\n",
    "console = Console()\n",
    "console.print(table)"
   ]
  },
  {
   "cell_type": "markdown",
   "metadata": {},
   "source": [
    "Создание таблицы xlsx с результатами."
   ]
  },
  {
   "cell_type": "code",
   "execution_count": null,
   "metadata": {},
   "outputs": [],
   "source": [
    "import pandas as pd\n",
    "order = [k for k in letters_pers.keys()]\n",
    "new_fan = {}\n",
    "for k in order:\n",
    "    new_fan[k] = letters2_pers[k]\n",
    "data = pd.DataFrame({'буквы' : [k for k in letters_pers.keys()], 'корпус' : [v for v in letters_pers.values()], 'фанфик' : [v for v in new_fan.values()]})\n",
    "data.to_excel(r\"C:\\Users\\lizao\\Desktop\\smth\\шабат.xlsx\")"
   ]
  },
  {
   "cell_type": "markdown",
   "metadata": {},
   "source": [
    "Английский"
   ]
  },
  {
   "cell_type": "code",
   "execution_count": 6,
   "metadata": {},
   "outputs": [],
   "source": [
    "from bs4 import BeautifulSoup as bs\n",
    "import wikipediaapi\n",
    "\n",
    "texts_eng = open(r\"C:\\Users\\lizao\\Desktop\\smth\\shabat_eng.txt\", 'w', encoding = 'utf-8')\n",
    "\n",
    "wiki_wiki = wikipediaapi.Wikipedia(\n",
    "        language='en',\n",
    "        extract_format=wikipediaapi.ExtractFormat.WIKI\n",
    ")\n",
    "\n",
    "page_py = wiki_wiki.page('Linguistics')\n",
    "for name in page_py.links.keys():\n",
    "    texts_eng.write(wiki_wiki.page(name).text)"
   ]
  },
  {
   "cell_type": "code",
   "execution_count": 8,
   "metadata": {},
   "outputs": [
    {
     "name": "stdout",
     "output_type": "stream",
     "text": [
      "2000000\n"
     ]
    }
   ],
   "source": [
    "import string, os, re\n",
    "letters_eng = {}\n",
    "letset_eng = set(['q', 'w', 'e', 'r', 't', 'y', 'u', 'o', 'p', 'l', 'k', 'j', 'h', 'g', 'f', 'd', 's', 'a', 'z', 'x', 'c', 'v', 'b', 'n', 'm'])\n",
    "wordcount_eng = 0\n",
    "\n",
    "with open(r\"C:\\Users\\lizao\\Desktop\\smth\\shabat_eng.txt\", 'r', encoding = 'utf-8') as f:\n",
    "     text_eng = f.read()\n",
    "\n",
    "words_eng = re.finditer(r'[a-zA-Z]+(?:-[a-zA-Z]+)?', text_eng)\n",
    "for word in words_eng:\n",
    "    if wordcount_eng == 2e6:\n",
    "        break\n",
    "    else:\n",
    "        wordcount_eng += 1\n",
    "        for char in word.group():\n",
    "            if char.lower() in letset_eng:\n",
    "                if char.lower() in letters_eng:\n",
    "                    letters_eng[char.lower()] +=1\n",
    "                else:\n",
    "                    letters_eng[char.lower()] = 1\n",
    "\n",
    "print(wordcount_eng)\n"
   ]
  },
  {
   "cell_type": "code",
   "execution_count": 9,
   "metadata": {},
   "outputs": [
    {
     "data": {
      "text/html": [
       "<pre style=\"white-space:pre;overflow-x:auto;line-height:normal;font-family:Menlo,'DejaVu Sans Mono',consolas,'Courier New',monospace\"><span style=\"font-style: italic\">      корпус       </span>\n",
       "┏━━━━━━━┳━━━━━━━━━┓\n",
       "┃<span style=\"font-weight: bold\"> буква </span>┃<span style=\"font-weight: bold\"> частота </span>┃\n",
       "┡━━━━━━━╇━━━━━━━━━┩\n",
       "│<span style=\"color: #008080; text-decoration-color: #008080\">     e </span>│<span style=\"color: #008080; text-decoration-color: #008080\"> 1261296 </span>│\n",
       "│<span style=\"color: #008080; text-decoration-color: #008080\">     t </span>│<span style=\"color: #008080; text-decoration-color: #008080\">  928960 </span>│\n",
       "│<span style=\"color: #008080; text-decoration-color: #008080\">     a </span>│<span style=\"color: #008080; text-decoration-color: #008080\">  901063 </span>│\n",
       "│<span style=\"color: #008080; text-decoration-color: #008080\">     n </span>│<span style=\"color: #008080; text-decoration-color: #008080\">  830766 </span>│\n",
       "│<span style=\"color: #008080; text-decoration-color: #008080\">     o </span>│<span style=\"color: #008080; text-decoration-color: #008080\">  808295 </span>│\n",
       "│<span style=\"color: #008080; text-decoration-color: #008080\">     s </span>│<span style=\"color: #008080; text-decoration-color: #008080\">  758444 </span>│\n",
       "│<span style=\"color: #008080; text-decoration-color: #008080\">     r </span>│<span style=\"color: #008080; text-decoration-color: #008080\">  657563 </span>│\n",
       "│<span style=\"color: #008080; text-decoration-color: #008080\">     l </span>│<span style=\"color: #008080; text-decoration-color: #008080\">  464968 </span>│\n",
       "│<span style=\"color: #008080; text-decoration-color: #008080\">     h </span>│<span style=\"color: #008080; text-decoration-color: #008080\">  456048 </span>│\n",
       "│<span style=\"color: #008080; text-decoration-color: #008080\">     c </span>│<span style=\"color: #008080; text-decoration-color: #008080\">  436334 </span>│\n",
       "│<span style=\"color: #008080; text-decoration-color: #008080\">     d </span>│<span style=\"color: #008080; text-decoration-color: #008080\">  383090 </span>│\n",
       "│<span style=\"color: #008080; text-decoration-color: #008080\">     u </span>│<span style=\"color: #008080; text-decoration-color: #008080\">  303623 </span>│\n",
       "│<span style=\"color: #008080; text-decoration-color: #008080\">     m </span>│<span style=\"color: #008080; text-decoration-color: #008080\">  286027 </span>│\n",
       "│<span style=\"color: #008080; text-decoration-color: #008080\">     p </span>│<span style=\"color: #008080; text-decoration-color: #008080\">  248837 </span>│\n",
       "│<span style=\"color: #008080; text-decoration-color: #008080\">     g </span>│<span style=\"color: #008080; text-decoration-color: #008080\">  239379 </span>│\n",
       "│<span style=\"color: #008080; text-decoration-color: #008080\">     f </span>│<span style=\"color: #008080; text-decoration-color: #008080\">  226875 </span>│\n",
       "│<span style=\"color: #008080; text-decoration-color: #008080\">     y </span>│<span style=\"color: #008080; text-decoration-color: #008080\">  169980 </span>│\n",
       "│<span style=\"color: #008080; text-decoration-color: #008080\">     b </span>│<span style=\"color: #008080; text-decoration-color: #008080\">  141471 </span>│\n",
       "│<span style=\"color: #008080; text-decoration-color: #008080\">     w </span>│<span style=\"color: #008080; text-decoration-color: #008080\">  131262 </span>│\n",
       "│<span style=\"color: #008080; text-decoration-color: #008080\">     v </span>│<span style=\"color: #008080; text-decoration-color: #008080\">  115496 </span>│\n",
       "│<span style=\"color: #008080; text-decoration-color: #008080\">     k </span>│<span style=\"color: #008080; text-decoration-color: #008080\">   53306 </span>│\n",
       "│<span style=\"color: #008080; text-decoration-color: #008080\">     x </span>│<span style=\"color: #008080; text-decoration-color: #008080\">   31449 </span>│\n",
       "│<span style=\"color: #008080; text-decoration-color: #008080\">     j </span>│<span style=\"color: #008080; text-decoration-color: #008080\">   16806 </span>│\n",
       "│<span style=\"color: #008080; text-decoration-color: #008080\">     z </span>│<span style=\"color: #008080; text-decoration-color: #008080\">   13857 </span>│\n",
       "│<span style=\"color: #008080; text-decoration-color: #008080\">     q </span>│<span style=\"color: #008080; text-decoration-color: #008080\">   11739 </span>│\n",
       "└───────┴─────────┘\n",
       "</pre>\n"
      ],
      "text/plain": [
       "\u001b[3m      корпус       \u001b[0m\n",
       "┏━━━━━━━┳━━━━━━━━━┓\n",
       "┃\u001b[1m \u001b[0m\u001b[1mбуква\u001b[0m\u001b[1m \u001b[0m┃\u001b[1m \u001b[0m\u001b[1mчастота\u001b[0m\u001b[1m \u001b[0m┃\n",
       "┡━━━━━━━╇━━━━━━━━━┩\n",
       "│\u001b[36m \u001b[0m\u001b[36m    e\u001b[0m\u001b[36m \u001b[0m│\u001b[36m \u001b[0m\u001b[36m1261296\u001b[0m\u001b[36m \u001b[0m│\n",
       "│\u001b[36m \u001b[0m\u001b[36m    t\u001b[0m\u001b[36m \u001b[0m│\u001b[36m \u001b[0m\u001b[36m 928960\u001b[0m\u001b[36m \u001b[0m│\n",
       "│\u001b[36m \u001b[0m\u001b[36m    a\u001b[0m\u001b[36m \u001b[0m│\u001b[36m \u001b[0m\u001b[36m 901063\u001b[0m\u001b[36m \u001b[0m│\n",
       "│\u001b[36m \u001b[0m\u001b[36m    n\u001b[0m\u001b[36m \u001b[0m│\u001b[36m \u001b[0m\u001b[36m 830766\u001b[0m\u001b[36m \u001b[0m│\n",
       "│\u001b[36m \u001b[0m\u001b[36m    o\u001b[0m\u001b[36m \u001b[0m│\u001b[36m \u001b[0m\u001b[36m 808295\u001b[0m\u001b[36m \u001b[0m│\n",
       "│\u001b[36m \u001b[0m\u001b[36m    s\u001b[0m\u001b[36m \u001b[0m│\u001b[36m \u001b[0m\u001b[36m 758444\u001b[0m\u001b[36m \u001b[0m│\n",
       "│\u001b[36m \u001b[0m\u001b[36m    r\u001b[0m\u001b[36m \u001b[0m│\u001b[36m \u001b[0m\u001b[36m 657563\u001b[0m\u001b[36m \u001b[0m│\n",
       "│\u001b[36m \u001b[0m\u001b[36m    l\u001b[0m\u001b[36m \u001b[0m│\u001b[36m \u001b[0m\u001b[36m 464968\u001b[0m\u001b[36m \u001b[0m│\n",
       "│\u001b[36m \u001b[0m\u001b[36m    h\u001b[0m\u001b[36m \u001b[0m│\u001b[36m \u001b[0m\u001b[36m 456048\u001b[0m\u001b[36m \u001b[0m│\n",
       "│\u001b[36m \u001b[0m\u001b[36m    c\u001b[0m\u001b[36m \u001b[0m│\u001b[36m \u001b[0m\u001b[36m 436334\u001b[0m\u001b[36m \u001b[0m│\n",
       "│\u001b[36m \u001b[0m\u001b[36m    d\u001b[0m\u001b[36m \u001b[0m│\u001b[36m \u001b[0m\u001b[36m 383090\u001b[0m\u001b[36m \u001b[0m│\n",
       "│\u001b[36m \u001b[0m\u001b[36m    u\u001b[0m\u001b[36m \u001b[0m│\u001b[36m \u001b[0m\u001b[36m 303623\u001b[0m\u001b[36m \u001b[0m│\n",
       "│\u001b[36m \u001b[0m\u001b[36m    m\u001b[0m\u001b[36m \u001b[0m│\u001b[36m \u001b[0m\u001b[36m 286027\u001b[0m\u001b[36m \u001b[0m│\n",
       "│\u001b[36m \u001b[0m\u001b[36m    p\u001b[0m\u001b[36m \u001b[0m│\u001b[36m \u001b[0m\u001b[36m 248837\u001b[0m\u001b[36m \u001b[0m│\n",
       "│\u001b[36m \u001b[0m\u001b[36m    g\u001b[0m\u001b[36m \u001b[0m│\u001b[36m \u001b[0m\u001b[36m 239379\u001b[0m\u001b[36m \u001b[0m│\n",
       "│\u001b[36m \u001b[0m\u001b[36m    f\u001b[0m\u001b[36m \u001b[0m│\u001b[36m \u001b[0m\u001b[36m 226875\u001b[0m\u001b[36m \u001b[0m│\n",
       "│\u001b[36m \u001b[0m\u001b[36m    y\u001b[0m\u001b[36m \u001b[0m│\u001b[36m \u001b[0m\u001b[36m 169980\u001b[0m\u001b[36m \u001b[0m│\n",
       "│\u001b[36m \u001b[0m\u001b[36m    b\u001b[0m\u001b[36m \u001b[0m│\u001b[36m \u001b[0m\u001b[36m 141471\u001b[0m\u001b[36m \u001b[0m│\n",
       "│\u001b[36m \u001b[0m\u001b[36m    w\u001b[0m\u001b[36m \u001b[0m│\u001b[36m \u001b[0m\u001b[36m 131262\u001b[0m\u001b[36m \u001b[0m│\n",
       "│\u001b[36m \u001b[0m\u001b[36m    v\u001b[0m\u001b[36m \u001b[0m│\u001b[36m \u001b[0m\u001b[36m 115496\u001b[0m\u001b[36m \u001b[0m│\n",
       "│\u001b[36m \u001b[0m\u001b[36m    k\u001b[0m\u001b[36m \u001b[0m│\u001b[36m \u001b[0m\u001b[36m  53306\u001b[0m\u001b[36m \u001b[0m│\n",
       "│\u001b[36m \u001b[0m\u001b[36m    x\u001b[0m\u001b[36m \u001b[0m│\u001b[36m \u001b[0m\u001b[36m  31449\u001b[0m\u001b[36m \u001b[0m│\n",
       "│\u001b[36m \u001b[0m\u001b[36m    j\u001b[0m\u001b[36m \u001b[0m│\u001b[36m \u001b[0m\u001b[36m  16806\u001b[0m\u001b[36m \u001b[0m│\n",
       "│\u001b[36m \u001b[0m\u001b[36m    z\u001b[0m\u001b[36m \u001b[0m│\u001b[36m \u001b[0m\u001b[36m  13857\u001b[0m\u001b[36m \u001b[0m│\n",
       "│\u001b[36m \u001b[0m\u001b[36m    q\u001b[0m\u001b[36m \u001b[0m│\u001b[36m \u001b[0m\u001b[36m  11739\u001b[0m\u001b[36m \u001b[0m│\n",
       "└───────┴─────────┘\n"
      ]
     },
     "metadata": {},
     "output_type": "display_data"
    }
   ],
   "source": [
    "let_freq(letters_eng)"
   ]
  },
  {
   "cell_type": "code",
   "execution_count": 10,
   "metadata": {},
   "outputs": [
    {
     "data": {
      "text/html": [
       "<pre style=\"white-space:pre;overflow-x:auto;line-height:normal;font-family:Menlo,'DejaVu Sans Mono',consolas,'Courier New',monospace\"><span style=\"font-style: italic\">         корпус проценты         </span>\n",
       "┏━━━━━━━┳━━━━━━━━━━━━━━━━━━━━━━━┓\n",
       "┃<span style=\"font-weight: bold\"> буква </span>┃<span style=\"font-weight: bold\"> частота (в процентах) </span>┃\n",
       "┡━━━━━━━╇━━━━━━━━━━━━━━━━━━━━━━━┩\n",
       "│<span style=\"color: #008080; text-decoration-color: #008080\">     e </span>│<span style=\"color: #008080; text-decoration-color: #008080\">                 12.77 </span>│\n",
       "│<span style=\"color: #008080; text-decoration-color: #008080\">     t </span>│<span style=\"color: #008080; text-decoration-color: #008080\">                  9.41 </span>│\n",
       "│<span style=\"color: #008080; text-decoration-color: #008080\">     a </span>│<span style=\"color: #008080; text-decoration-color: #008080\">                  9.12 </span>│\n",
       "│<span style=\"color: #008080; text-decoration-color: #008080\">     n </span>│<span style=\"color: #008080; text-decoration-color: #008080\">                  8.41 </span>│\n",
       "│<span style=\"color: #008080; text-decoration-color: #008080\">     o </span>│<span style=\"color: #008080; text-decoration-color: #008080\">                  8.18 </span>│\n",
       "│<span style=\"color: #008080; text-decoration-color: #008080\">     s </span>│<span style=\"color: #008080; text-decoration-color: #008080\">                  7.68 </span>│\n",
       "│<span style=\"color: #008080; text-decoration-color: #008080\">     r </span>│<span style=\"color: #008080; text-decoration-color: #008080\">                  6.66 </span>│\n",
       "│<span style=\"color: #008080; text-decoration-color: #008080\">     l </span>│<span style=\"color: #008080; text-decoration-color: #008080\">                  4.71 </span>│\n",
       "│<span style=\"color: #008080; text-decoration-color: #008080\">     h </span>│<span style=\"color: #008080; text-decoration-color: #008080\">                  4.62 </span>│\n",
       "│<span style=\"color: #008080; text-decoration-color: #008080\">     c </span>│<span style=\"color: #008080; text-decoration-color: #008080\">                  4.42 </span>│\n",
       "│<span style=\"color: #008080; text-decoration-color: #008080\">     d </span>│<span style=\"color: #008080; text-decoration-color: #008080\">                  3.88 </span>│\n",
       "│<span style=\"color: #008080; text-decoration-color: #008080\">     u </span>│<span style=\"color: #008080; text-decoration-color: #008080\">                  3.07 </span>│\n",
       "│<span style=\"color: #008080; text-decoration-color: #008080\">     m </span>│<span style=\"color: #008080; text-decoration-color: #008080\">                   2.9 </span>│\n",
       "│<span style=\"color: #008080; text-decoration-color: #008080\">     p </span>│<span style=\"color: #008080; text-decoration-color: #008080\">                  2.52 </span>│\n",
       "│<span style=\"color: #008080; text-decoration-color: #008080\">     g </span>│<span style=\"color: #008080; text-decoration-color: #008080\">                  2.42 </span>│\n",
       "│<span style=\"color: #008080; text-decoration-color: #008080\">     f </span>│<span style=\"color: #008080; text-decoration-color: #008080\">                   2.3 </span>│\n",
       "│<span style=\"color: #008080; text-decoration-color: #008080\">     y </span>│<span style=\"color: #008080; text-decoration-color: #008080\">                  1.72 </span>│\n",
       "│<span style=\"color: #008080; text-decoration-color: #008080\">     b </span>│<span style=\"color: #008080; text-decoration-color: #008080\">                  1.43 </span>│\n",
       "│<span style=\"color: #008080; text-decoration-color: #008080\">     w </span>│<span style=\"color: #008080; text-decoration-color: #008080\">                  1.33 </span>│\n",
       "│<span style=\"color: #008080; text-decoration-color: #008080\">     v </span>│<span style=\"color: #008080; text-decoration-color: #008080\">                  1.17 </span>│\n",
       "│<span style=\"color: #008080; text-decoration-color: #008080\">     k </span>│<span style=\"color: #008080; text-decoration-color: #008080\">                  0.54 </span>│\n",
       "│<span style=\"color: #008080; text-decoration-color: #008080\">     x </span>│<span style=\"color: #008080; text-decoration-color: #008080\">                  0.32 </span>│\n",
       "│<span style=\"color: #008080; text-decoration-color: #008080\">     j </span>│<span style=\"color: #008080; text-decoration-color: #008080\">                  0.17 </span>│\n",
       "│<span style=\"color: #008080; text-decoration-color: #008080\">     z </span>│<span style=\"color: #008080; text-decoration-color: #008080\">                  0.14 </span>│\n",
       "│<span style=\"color: #008080; text-decoration-color: #008080\">     q </span>│<span style=\"color: #008080; text-decoration-color: #008080\">                  0.12 </span>│\n",
       "└───────┴───────────────────────┘\n",
       "</pre>\n"
      ],
      "text/plain": [
       "\u001b[3m         корпус проценты         \u001b[0m\n",
       "┏━━━━━━━┳━━━━━━━━━━━━━━━━━━━━━━━┓\n",
       "┃\u001b[1m \u001b[0m\u001b[1mбуква\u001b[0m\u001b[1m \u001b[0m┃\u001b[1m \u001b[0m\u001b[1mчастота (в процентах)\u001b[0m\u001b[1m \u001b[0m┃\n",
       "┡━━━━━━━╇━━━━━━━━━━━━━━━━━━━━━━━┩\n",
       "│\u001b[36m \u001b[0m\u001b[36m    e\u001b[0m\u001b[36m \u001b[0m│\u001b[36m \u001b[0m\u001b[36m                12.77\u001b[0m\u001b[36m \u001b[0m│\n",
       "│\u001b[36m \u001b[0m\u001b[36m    t\u001b[0m\u001b[36m \u001b[0m│\u001b[36m \u001b[0m\u001b[36m                 9.41\u001b[0m\u001b[36m \u001b[0m│\n",
       "│\u001b[36m \u001b[0m\u001b[36m    a\u001b[0m\u001b[36m \u001b[0m│\u001b[36m \u001b[0m\u001b[36m                 9.12\u001b[0m\u001b[36m \u001b[0m│\n",
       "│\u001b[36m \u001b[0m\u001b[36m    n\u001b[0m\u001b[36m \u001b[0m│\u001b[36m \u001b[0m\u001b[36m                 8.41\u001b[0m\u001b[36m \u001b[0m│\n",
       "│\u001b[36m \u001b[0m\u001b[36m    o\u001b[0m\u001b[36m \u001b[0m│\u001b[36m \u001b[0m\u001b[36m                 8.18\u001b[0m\u001b[36m \u001b[0m│\n",
       "│\u001b[36m \u001b[0m\u001b[36m    s\u001b[0m\u001b[36m \u001b[0m│\u001b[36m \u001b[0m\u001b[36m                 7.68\u001b[0m\u001b[36m \u001b[0m│\n",
       "│\u001b[36m \u001b[0m\u001b[36m    r\u001b[0m\u001b[36m \u001b[0m│\u001b[36m \u001b[0m\u001b[36m                 6.66\u001b[0m\u001b[36m \u001b[0m│\n",
       "│\u001b[36m \u001b[0m\u001b[36m    l\u001b[0m\u001b[36m \u001b[0m│\u001b[36m \u001b[0m\u001b[36m                 4.71\u001b[0m\u001b[36m \u001b[0m│\n",
       "│\u001b[36m \u001b[0m\u001b[36m    h\u001b[0m\u001b[36m \u001b[0m│\u001b[36m \u001b[0m\u001b[36m                 4.62\u001b[0m\u001b[36m \u001b[0m│\n",
       "│\u001b[36m \u001b[0m\u001b[36m    c\u001b[0m\u001b[36m \u001b[0m│\u001b[36m \u001b[0m\u001b[36m                 4.42\u001b[0m\u001b[36m \u001b[0m│\n",
       "│\u001b[36m \u001b[0m\u001b[36m    d\u001b[0m\u001b[36m \u001b[0m│\u001b[36m \u001b[0m\u001b[36m                 3.88\u001b[0m\u001b[36m \u001b[0m│\n",
       "│\u001b[36m \u001b[0m\u001b[36m    u\u001b[0m\u001b[36m \u001b[0m│\u001b[36m \u001b[0m\u001b[36m                 3.07\u001b[0m\u001b[36m \u001b[0m│\n",
       "│\u001b[36m \u001b[0m\u001b[36m    m\u001b[0m\u001b[36m \u001b[0m│\u001b[36m \u001b[0m\u001b[36m                  2.9\u001b[0m\u001b[36m \u001b[0m│\n",
       "│\u001b[36m \u001b[0m\u001b[36m    p\u001b[0m\u001b[36m \u001b[0m│\u001b[36m \u001b[0m\u001b[36m                 2.52\u001b[0m\u001b[36m \u001b[0m│\n",
       "│\u001b[36m \u001b[0m\u001b[36m    g\u001b[0m\u001b[36m \u001b[0m│\u001b[36m \u001b[0m\u001b[36m                 2.42\u001b[0m\u001b[36m \u001b[0m│\n",
       "│\u001b[36m \u001b[0m\u001b[36m    f\u001b[0m\u001b[36m \u001b[0m│\u001b[36m \u001b[0m\u001b[36m                  2.3\u001b[0m\u001b[36m \u001b[0m│\n",
       "│\u001b[36m \u001b[0m\u001b[36m    y\u001b[0m\u001b[36m \u001b[0m│\u001b[36m \u001b[0m\u001b[36m                 1.72\u001b[0m\u001b[36m \u001b[0m│\n",
       "│\u001b[36m \u001b[0m\u001b[36m    b\u001b[0m\u001b[36m \u001b[0m│\u001b[36m \u001b[0m\u001b[36m                 1.43\u001b[0m\u001b[36m \u001b[0m│\n",
       "│\u001b[36m \u001b[0m\u001b[36m    w\u001b[0m\u001b[36m \u001b[0m│\u001b[36m \u001b[0m\u001b[36m                 1.33\u001b[0m\u001b[36m \u001b[0m│\n",
       "│\u001b[36m \u001b[0m\u001b[36m    v\u001b[0m\u001b[36m \u001b[0m│\u001b[36m \u001b[0m\u001b[36m                 1.17\u001b[0m\u001b[36m \u001b[0m│\n",
       "│\u001b[36m \u001b[0m\u001b[36m    k\u001b[0m\u001b[36m \u001b[0m│\u001b[36m \u001b[0m\u001b[36m                 0.54\u001b[0m\u001b[36m \u001b[0m│\n",
       "│\u001b[36m \u001b[0m\u001b[36m    x\u001b[0m\u001b[36m \u001b[0m│\u001b[36m \u001b[0m\u001b[36m                 0.32\u001b[0m\u001b[36m \u001b[0m│\n",
       "│\u001b[36m \u001b[0m\u001b[36m    j\u001b[0m\u001b[36m \u001b[0m│\u001b[36m \u001b[0m\u001b[36m                 0.17\u001b[0m\u001b[36m \u001b[0m│\n",
       "│\u001b[36m \u001b[0m\u001b[36m    z\u001b[0m\u001b[36m \u001b[0m│\u001b[36m \u001b[0m\u001b[36m                 0.14\u001b[0m\u001b[36m \u001b[0m│\n",
       "│\u001b[36m \u001b[0m\u001b[36m    q\u001b[0m\u001b[36m \u001b[0m│\u001b[36m \u001b[0m\u001b[36m                 0.12\u001b[0m\u001b[36m \u001b[0m│\n",
       "└───────┴───────────────────────┘\n"
      ]
     },
     "metadata": {},
     "output_type": "display_data"
    }
   ],
   "source": [
    "let_freq_pers(letters_eng)"
   ]
  },
  {
   "cell_type": "code",
   "execution_count": 11,
   "metadata": {},
   "outputs": [
    {
     "data": {
      "image/png": "[encoded data removed]",
      "text/plain": [
       "<Figure size 640x480 with 1 Axes>"
      ]
     },
     "metadata": {},
     "output_type": "display_data"
    }
   ],
   "source": [
    "plot(letters_eng)"
   ]
  },
  {
   "cell_type": "code",
   "execution_count": 12,
   "metadata": {},
   "outputs": [
    {
     "data": {
      "text/html": [
       "<pre style=\"white-space:pre;overflow-x:auto;line-height:normal;font-family:Menlo,'DejaVu Sans Mono',consolas,'Courier New',monospace\"><span style=\"font-style: italic\">  индекс Ципфа   </span>\n",
       "┏━━━━━━┳━━━━━━━━┓\n",
       "┃<span style=\"font-weight: bold\"> ранг </span>┃<span style=\"font-weight: bold\"> индекс </span>┃\n",
       "┡━━━━━━╇━━━━━━━━┩\n",
       "│<span style=\"color: #008080; text-decoration-color: #008080\">    1 </span>│<span style=\"color: #008080; text-decoration-color: #008080\">    1.4 </span>│\n",
       "│<span style=\"color: #008080; text-decoration-color: #008080\">    2 </span>│<span style=\"color: #008080; text-decoration-color: #008080\">    2.8 </span>│\n",
       "│<span style=\"color: #008080; text-decoration-color: #008080\">    3 </span>│<span style=\"color: #008080; text-decoration-color: #008080\">    1.0 </span>│\n",
       "│<span style=\"color: #008080; text-decoration-color: #008080\">    4 </span>│<span style=\"color: #008080; text-decoration-color: #008080\">    2.9 </span>│\n",
       "│<span style=\"color: #008080; text-decoration-color: #008080\">    5 </span>│<span style=\"color: #008080; text-decoration-color: #008080\">    1.5 </span>│\n",
       "│<span style=\"color: #008080; text-decoration-color: #008080\">    6 </span>│<span style=\"color: #008080; text-decoration-color: #008080\">    4.2 </span>│\n",
       "│<span style=\"color: #008080; text-decoration-color: #008080\">    7 </span>│<span style=\"color: #008080; text-decoration-color: #008080\">    1.9 </span>│\n",
       "│<span style=\"color: #008080; text-decoration-color: #008080\">    8 </span>│<span style=\"color: #008080; text-decoration-color: #008080\">    7.4 </span>│\n",
       "│<span style=\"color: #008080; text-decoration-color: #008080\">    9 </span>│<span style=\"color: #008080; text-decoration-color: #008080\">    8.9 </span>│\n",
       "│<span style=\"color: #008080; text-decoration-color: #008080\">   10 </span>│<span style=\"color: #008080; text-decoration-color: #008080\">    1.7 </span>│\n",
       "│<span style=\"color: #008080; text-decoration-color: #008080\">   11 </span>│<span style=\"color: #008080; text-decoration-color: #008080\">    1.4 </span>│\n",
       "│<span style=\"color: #008080; text-decoration-color: #008080\">   12 </span>│<span style=\"color: #008080; text-decoration-color: #008080\">    3.3 </span>│\n",
       "│<span style=\"color: #008080; text-decoration-color: #008080\">   13 </span>│<span style=\"color: #008080; text-decoration-color: #008080\">    1.6 </span>│\n",
       "│<span style=\"color: #008080; text-decoration-color: #008080\">   14 </span>│<span style=\"color: #008080; text-decoration-color: #008080\">    5.6 </span>│\n",
       "│<span style=\"color: #008080; text-decoration-color: #008080\">   15 </span>│<span style=\"color: #008080; text-decoration-color: #008080\">    2.7 </span>│\n",
       "│<span style=\"color: #008080; text-decoration-color: #008080\">   16 </span>│<span style=\"color: #008080; text-decoration-color: #008080\">    9.6 </span>│\n",
       "│<span style=\"color: #008080; text-decoration-color: #008080\">   17 </span>│<span style=\"color: #008080; text-decoration-color: #008080\">    4.4 </span>│\n",
       "│<span style=\"color: #008080; text-decoration-color: #008080\">   18 </span>│<span style=\"color: #008080; text-decoration-color: #008080\">    5.1 </span>│\n",
       "│<span style=\"color: #008080; text-decoration-color: #008080\">   19 </span>│<span style=\"color: #008080; text-decoration-color: #008080\">   10.9 </span>│\n",
       "│<span style=\"color: #008080; text-decoration-color: #008080\">   20 </span>│<span style=\"color: #008080; text-decoration-color: #008080\">    5.3 </span>│\n",
       "│<span style=\"color: #008080; text-decoration-color: #008080\">   21 </span>│<span style=\"color: #008080; text-decoration-color: #008080\">   23.7 </span>│\n",
       "│<span style=\"color: #008080; text-decoration-color: #008080\">   22 </span>│<span style=\"color: #008080; text-decoration-color: #008080\">   75.1 </span>│\n",
       "│<span style=\"color: #008080; text-decoration-color: #008080\">   23 </span>│<span style=\"color: #008080; text-decoration-color: #008080\">   91.0 </span>│\n",
       "│<span style=\"color: #008080; text-decoration-color: #008080\">   24 </span>│<span style=\"color: #008080; text-decoration-color: #008080\">   40.1 </span>│\n",
       "│<span style=\"color: #008080; text-decoration-color: #008080\">   25 </span>│<span style=\"color: #008080; text-decoration-color: #008080\">  107.4 </span>│\n",
       "└──────┴────────┘\n",
       "</pre>\n"
      ],
      "text/plain": [
       "\u001b[3m  индекс Ципфа   \u001b[0m\n",
       "┏━━━━━━┳━━━━━━━━┓\n",
       "┃\u001b[1m \u001b[0m\u001b[1mранг\u001b[0m\u001b[1m \u001b[0m┃\u001b[1m \u001b[0m\u001b[1mиндекс\u001b[0m\u001b[1m \u001b[0m┃\n",
       "┡━━━━━━╇━━━━━━━━┩\n",
       "│\u001b[36m \u001b[0m\u001b[36m   1\u001b[0m\u001b[36m \u001b[0m│\u001b[36m \u001b[0m\u001b[36m   1.4\u001b[0m\u001b[36m \u001b[0m│\n",
       "│\u001b[36m \u001b[0m\u001b[36m   2\u001b[0m\u001b[36m \u001b[0m│\u001b[36m \u001b[0m\u001b[36m   2.8\u001b[0m\u001b[36m \u001b[0m│\n",
       "│\u001b[36m \u001b[0m\u001b[36m   3\u001b[0m\u001b[36m \u001b[0m│\u001b[36m \u001b[0m\u001b[36m   1.0\u001b[0m\u001b[36m \u001b[0m│\n",
       "│\u001b[36m \u001b[0m\u001b[36m   4\u001b[0m\u001b[36m \u001b[0m│\u001b[36m \u001b[0m\u001b[36m   2.9\u001b[0m\u001b[36m \u001b[0m│\n",
       "│\u001b[36m \u001b[0m\u001b[36m   5\u001b[0m\u001b[36m \u001b[0m│\u001b[36m \u001b[0m\u001b[36m   1.5\u001b[0m\u001b[36m \u001b[0m│\n",
       "│\u001b[36m \u001b[0m\u001b[36m   6\u001b[0m\u001b[36m \u001b[0m│\u001b[36m \u001b[0m\u001b[36m   4.2\u001b[0m\u001b[36m \u001b[0m│\n",
       "│\u001b[36m \u001b[0m\u001b[36m   7\u001b[0m\u001b[36m \u001b[0m│\u001b[36m \u001b[0m\u001b[36m   1.9\u001b[0m\u001b[36m \u001b[0m│\n",
       "│\u001b[36m \u001b[0m\u001b[36m   8\u001b[0m\u001b[36m \u001b[0m│\u001b[36m \u001b[0m\u001b[36m   7.4\u001b[0m\u001b[36m \u001b[0m│\n",
       "│\u001b[36m \u001b[0m\u001b[36m   9\u001b[0m\u001b[36m \u001b[0m│\u001b[36m \u001b[0m\u001b[36m   8.9\u001b[0m\u001b[36m \u001b[0m│\n",
       "│\u001b[36m \u001b[0m\u001b[36m  10\u001b[0m\u001b[36m \u001b[0m│\u001b[36m \u001b[0m\u001b[36m   1.7\u001b[0m\u001b[36m \u001b[0m│\n",
       "│\u001b[36m \u001b[0m\u001b[36m  11\u001b[0m\u001b[36m \u001b[0m│\u001b[36m \u001b[0m\u001b[36m   1.4\u001b[0m\u001b[36m \u001b[0m│\n",
       "│\u001b[36m \u001b[0m\u001b[36m  12\u001b[0m\u001b[36m \u001b[0m│\u001b[36m \u001b[0m\u001b[36m   3.3\u001b[0m\u001b[36m \u001b[0m│\n",
       "│\u001b[36m \u001b[0m\u001b[36m  13\u001b[0m\u001b[36m \u001b[0m│\u001b[36m \u001b[0m\u001b[36m   1.6\u001b[0m\u001b[36m \u001b[0m│\n",
       "│\u001b[36m \u001b[0m\u001b[36m  14\u001b[0m\u001b[36m \u001b[0m│\u001b[36m \u001b[0m\u001b[36m   5.6\u001b[0m\u001b[36m \u001b[0m│\n",
       "│\u001b[36m \u001b[0m\u001b[36m  15\u001b[0m\u001b[36m \u001b[0m│\u001b[36m \u001b[0m\u001b[36m   2.7\u001b[0m\u001b[36m \u001b[0m│\n",
       "│\u001b[36m \u001b[0m\u001b[36m  16\u001b[0m\u001b[36m \u001b[0m│\u001b[36m \u001b[0m\u001b[36m   9.6\u001b[0m\u001b[36m \u001b[0m│\n",
       "│\u001b[36m \u001b[0m\u001b[36m  17\u001b[0m\u001b[36m \u001b[0m│\u001b[36m \u001b[0m\u001b[36m   4.4\u001b[0m\u001b[36m \u001b[0m│\n",
       "│\u001b[36m \u001b[0m\u001b[36m  18\u001b[0m\u001b[36m \u001b[0m│\u001b[36m \u001b[0m\u001b[36m   5.1\u001b[0m\u001b[36m \u001b[0m│\n",
       "│\u001b[36m \u001b[0m\u001b[36m  19\u001b[0m\u001b[36m \u001b[0m│\u001b[36m \u001b[0m\u001b[36m  10.9\u001b[0m\u001b[36m \u001b[0m│\n",
       "│\u001b[36m \u001b[0m\u001b[36m  20\u001b[0m\u001b[36m \u001b[0m│\u001b[36m \u001b[0m\u001b[36m   5.3\u001b[0m\u001b[36m \u001b[0m│\n",
       "│\u001b[36m \u001b[0m\u001b[36m  21\u001b[0m\u001b[36m \u001b[0m│\u001b[36m \u001b[0m\u001b[36m  23.7\u001b[0m\u001b[36m \u001b[0m│\n",
       "│\u001b[36m \u001b[0m\u001b[36m  22\u001b[0m\u001b[36m \u001b[0m│\u001b[36m \u001b[0m\u001b[36m  75.1\u001b[0m\u001b[36m \u001b[0m│\n",
       "│\u001b[36m \u001b[0m\u001b[36m  23\u001b[0m\u001b[36m \u001b[0m│\u001b[36m \u001b[0m\u001b[36m  91.0\u001b[0m\u001b[36m \u001b[0m│\n",
       "│\u001b[36m \u001b[0m\u001b[36m  24\u001b[0m\u001b[36m \u001b[0m│\u001b[36m \u001b[0m\u001b[36m  40.1\u001b[0m\u001b[36m \u001b[0m│\n",
       "│\u001b[36m \u001b[0m\u001b[36m  25\u001b[0m\u001b[36m \u001b[0m│\u001b[36m \u001b[0m\u001b[36m 107.4\u001b[0m\u001b[36m \u001b[0m│\n",
       "└──────┴────────┘\n"
      ]
     },
     "metadata": {},
     "output_type": "display_data"
    }
   ],
   "source": [
    "tsipf(letters_eng)"
   ]
  },
  {
   "cell_type": "code",
   "execution_count": 13,
   "metadata": {},
   "outputs": [
    {
     "ename": "ValueError",
     "evalue": "x and y must have same first dimension, but have shapes (25,) and (32,)",
     "output_type": "error",
     "traceback": [
      "\u001b[1;31m---------------------------------------------------------------------------\u001b[0m",
      "\u001b[1;31mValueError\u001b[0m                                Traceback (most recent call last)",
      "\u001b[1;32mc:\\Users\\lizao\\шабат.ipynb Cell 38\u001b[0m line \u001b[0;36m1\n\u001b[1;32m----> <a href='vscode-notebook-cell:/c%3A/Users/lizao/%D1%88%D0%B0%D0%B1%D0%B0%D1%82.ipynb#X52sZmlsZQ%3D%3D?line=0'>1</a>\u001b[0m plot_ind(letters_eng)\n",
      "\u001b[1;32mc:\\Users\\lizao\\шабат.ipynb Cell 38\u001b[0m line \u001b[0;36m1\n\u001b[0;32m     <a href='vscode-notebook-cell:/c%3A/Users/lizao/%D1%88%D0%B0%D0%B1%D0%B0%D1%82.ipynb#X52sZmlsZQ%3D%3D?line=10'>11</a>\u001b[0m y_grid \u001b[39m=\u001b[39m [\u001b[39mround\u001b[39m(\u001b[39mmax\u001b[39m([i \u001b[39mfor\u001b[39;00m i \u001b[39min\u001b[39;00m dct\u001b[39m.\u001b[39mvalues()]) \u001b[39m/\u001b[39m i, \u001b[39m1\u001b[39m) \u001b[39mfor\u001b[39;00m i \u001b[39min\u001b[39;00m \u001b[39mrange\u001b[39m(\u001b[39m1\u001b[39m, \u001b[39m33\u001b[39m)]\n\u001b[0;32m     <a href='vscode-notebook-cell:/c%3A/Users/lizao/%D1%88%D0%B0%D0%B1%D0%B0%D1%82.ipynb#X52sZmlsZQ%3D%3D?line=11'>12</a>\u001b[0m ax\u001b[39m.\u001b[39mplot(x, y, marker\u001b[39m=\u001b[39m\u001b[39m'\u001b[39m\u001b[39mo\u001b[39m\u001b[39m'\u001b[39m, markersize \u001b[39m=\u001b[39m \u001b[39m3\u001b[39m)\n\u001b[1;32m---> <a href='vscode-notebook-cell:/c%3A/Users/lizao/%D1%88%D0%B0%D0%B1%D0%B0%D1%82.ipynb#X52sZmlsZQ%3D%3D?line=12'>13</a>\u001b[0m ax\u001b[39m.\u001b[39;49mplot(x_grid, y_grid, marker\u001b[39m=\u001b[39;49m\u001b[39m'\u001b[39;49m\u001b[39mo\u001b[39;49m\u001b[39m'\u001b[39;49m, markersize \u001b[39m=\u001b[39;49m \u001b[39m3\u001b[39;49m)\n\u001b[0;32m     <a href='vscode-notebook-cell:/c%3A/Users/lizao/%D1%88%D0%B0%D0%B1%D0%B0%D1%82.ipynb#X52sZmlsZQ%3D%3D?line=13'>14</a>\u001b[0m ax\u001b[39m.\u001b[39mset_yticks([y_grid[\u001b[39m0\u001b[39m], y_grid[\u001b[39m1\u001b[39m], y_grid[\u001b[39m2\u001b[39m], y_grid[\u001b[39m7\u001b[39m], y_grid[\u001b[39m15\u001b[39m], y_grid[\u001b[39mlen\u001b[39m(y_grid)\u001b[39m-\u001b[39m\u001b[39m1\u001b[39m]])\n\u001b[0;32m     <a href='vscode-notebook-cell:/c%3A/Users/lizao/%D1%88%D0%B0%D0%B1%D0%B0%D1%82.ipynb#X52sZmlsZQ%3D%3D?line=14'>15</a>\u001b[0m plt\u001b[39m.\u001b[39mgrid(\u001b[39mTrue\u001b[39;00m, color \u001b[39m=\u001b[39m \u001b[39m\"\u001b[39m\u001b[39mgrey\u001b[39m\u001b[39m\"\u001b[39m, linewidth \u001b[39m=\u001b[39m \u001b[39m\"\u001b[39m\u001b[39m0.8\u001b[39m\u001b[39m\"\u001b[39m, linestyle \u001b[39m=\u001b[39m \u001b[39m'\u001b[39m\u001b[39m--\u001b[39m\u001b[39m'\u001b[39m)\n",
      "File \u001b[1;32mc:\\Users\\lizao\\AppData\\Local\\Programs\\Python\\Python310\\lib\\site-packages\\matplotlib\\axes\\_axes.py:1688\u001b[0m, in \u001b[0;36mAxes.plot\u001b[1;34m(self, scalex, scaley, data, *args, **kwargs)\u001b[0m\n\u001b[0;32m   1445\u001b[0m \u001b[39m\u001b[39m\u001b[39m\"\"\"\u001b[39;00m\n\u001b[0;32m   1446\u001b[0m \u001b[39mPlot y versus x as lines and/or markers.\u001b[39;00m\n\u001b[0;32m   1447\u001b[0m \n\u001b[1;32m   (...)\u001b[0m\n\u001b[0;32m   1685\u001b[0m \u001b[39m(``'green'``) or hex strings (``'#008000'``).\u001b[39;00m\n\u001b[0;32m   1686\u001b[0m \u001b[39m\"\"\"\u001b[39;00m\n\u001b[0;32m   1687\u001b[0m kwargs \u001b[39m=\u001b[39m cbook\u001b[39m.\u001b[39mnormalize_kwargs(kwargs, mlines\u001b[39m.\u001b[39mLine2D)\n\u001b[1;32m-> 1688\u001b[0m lines \u001b[39m=\u001b[39m [\u001b[39m*\u001b[39m\u001b[39mself\u001b[39m\u001b[39m.\u001b[39m_get_lines(\u001b[39m*\u001b[39margs, data\u001b[39m=\u001b[39mdata, \u001b[39m*\u001b[39m\u001b[39m*\u001b[39mkwargs)]\n\u001b[0;32m   1689\u001b[0m \u001b[39mfor\u001b[39;00m line \u001b[39min\u001b[39;00m lines:\n\u001b[0;32m   1690\u001b[0m     \u001b[39mself\u001b[39m\u001b[39m.\u001b[39madd_line(line)\n",
      "File \u001b[1;32mc:\\Users\\lizao\\AppData\\Local\\Programs\\Python\\Python310\\lib\\site-packages\\matplotlib\\axes\\_base.py:311\u001b[0m, in \u001b[0;36m_process_plot_var_args.__call__\u001b[1;34m(self, data, *args, **kwargs)\u001b[0m\n\u001b[0;32m    309\u001b[0m     this \u001b[39m+\u001b[39m\u001b[39m=\u001b[39m args[\u001b[39m0\u001b[39m],\n\u001b[0;32m    310\u001b[0m     args \u001b[39m=\u001b[39m args[\u001b[39m1\u001b[39m:]\n\u001b[1;32m--> 311\u001b[0m \u001b[39myield from\u001b[39;00m \u001b[39mself\u001b[39;49m\u001b[39m.\u001b[39;49m_plot_args(\n\u001b[0;32m    312\u001b[0m     this, kwargs, ambiguous_fmt_datakey\u001b[39m=\u001b[39;49mambiguous_fmt_datakey)\n",
      "File \u001b[1;32mc:\\Users\\lizao\\AppData\\Local\\Programs\\Python\\Python310\\lib\\site-packages\\matplotlib\\axes\\_base.py:504\u001b[0m, in \u001b[0;36m_process_plot_var_args._plot_args\u001b[1;34m(self, tup, kwargs, return_kwargs, ambiguous_fmt_datakey)\u001b[0m\n\u001b[0;32m    501\u001b[0m     \u001b[39mself\u001b[39m\u001b[39m.\u001b[39maxes\u001b[39m.\u001b[39myaxis\u001b[39m.\u001b[39mupdate_units(y)\n\u001b[0;32m    503\u001b[0m \u001b[39mif\u001b[39;00m x\u001b[39m.\u001b[39mshape[\u001b[39m0\u001b[39m] \u001b[39m!=\u001b[39m y\u001b[39m.\u001b[39mshape[\u001b[39m0\u001b[39m]:\n\u001b[1;32m--> 504\u001b[0m     \u001b[39mraise\u001b[39;00m \u001b[39mValueError\u001b[39;00m(\u001b[39mf\u001b[39m\u001b[39m\"\u001b[39m\u001b[39mx and y must have same first dimension, but \u001b[39m\u001b[39m\"\u001b[39m\n\u001b[0;32m    505\u001b[0m                      \u001b[39mf\u001b[39m\u001b[39m\"\u001b[39m\u001b[39mhave shapes \u001b[39m\u001b[39m{\u001b[39;00mx\u001b[39m.\u001b[39mshape\u001b[39m}\u001b[39;00m\u001b[39m and \u001b[39m\u001b[39m{\u001b[39;00my\u001b[39m.\u001b[39mshape\u001b[39m}\u001b[39;00m\u001b[39m\"\u001b[39m)\n\u001b[0;32m    506\u001b[0m \u001b[39mif\u001b[39;00m x\u001b[39m.\u001b[39mndim \u001b[39m>\u001b[39m \u001b[39m2\u001b[39m \u001b[39mor\u001b[39;00m y\u001b[39m.\u001b[39mndim \u001b[39m>\u001b[39m \u001b[39m2\u001b[39m:\n\u001b[0;32m    507\u001b[0m     \u001b[39mraise\u001b[39;00m \u001b[39mValueError\u001b[39;00m(\u001b[39mf\u001b[39m\u001b[39m\"\u001b[39m\u001b[39mx and y can be no greater than 2D, but have \u001b[39m\u001b[39m\"\u001b[39m\n\u001b[0;32m    508\u001b[0m                      \u001b[39mf\u001b[39m\u001b[39m\"\u001b[39m\u001b[39mshapes \u001b[39m\u001b[39m{\u001b[39;00mx\u001b[39m.\u001b[39mshape\u001b[39m}\u001b[39;00m\u001b[39m and \u001b[39m\u001b[39m{\u001b[39;00my\u001b[39m.\u001b[39mshape\u001b[39m}\u001b[39;00m\u001b[39m\"\u001b[39m)\n",
      "\u001b[1;31mValueError\u001b[0m: x and y must have same first dimension, but have shapes (25,) and (32,)"
     ]
    },
    {
     "data": {
      "image/png": "[encoded data removed]",
      "text/plain": [
       "<Figure size 1000x700 with 1 Axes>"
      ]
     },
     "metadata": {},
     "output_type": "display_data"
    }
   ],
   "source": [
    "plot_ind(letters_eng)"
   ]
  },
  {
   "cell_type": "markdown",
   "metadata": {},
   "source": [
    "Турецкий:"
   ]
  },
  {
   "cell_type": "code",
   "execution_count": 15,
   "metadata": {},
   "outputs": [],
   "source": [
    "import wikipediaapi, time\n",
    "\n",
    "texts_tur = open(r\"C:\\Users\\lizao\\Desktop\\smth\\shabat_tur.txt\", 'w', encoding = 'utf-8')\n",
    "\n",
    "wiki_wiki = wikipediaapi.Wikipedia(\n",
    "        language='tr',\n",
    "        extract_format=wikipediaapi.ExtractFormat.WIKI\n",
    ")\n",
    "\n",
    "page_py = wiki_wiki.page('Dilbilim')\n",
    "for name in page_py.links.keys():\n",
    "    texts_tur.write(wiki_wiki.page(name).text)\n",
    "    time.sleep(2)"
   ]
  },
  {
   "cell_type": "code",
   "execution_count": 16,
   "metadata": {},
   "outputs": [],
   "source": [
    "texts_tur = open(r\"C:\\Users\\lizao\\Desktop\\smth\\shabat_tur.txt\", 'a', encoding = 'utf-8')\n",
    "\n",
    "page_py = wiki_wiki.page('Fizik')\n",
    "for name in page_py.links.keys():\n",
    "    texts_tur.write(wiki_wiki.page(name).text)\n",
    "    time.sleep(2)"
   ]
  },
  {
   "cell_type": "code",
   "execution_count": 18,
   "metadata": {},
   "outputs": [],
   "source": [
    "texts_tur = open(r\"C:\\Users\\lizao\\Desktop\\smth\\shabat_tur.txt\", 'a', encoding = 'utf-8')\n",
    "\n",
    "page_py = wiki_wiki.page('Biyoloji')\n",
    "for name in page_py.links.keys():\n",
    "    texts_tur.write(wiki_wiki.page(name).text)\n",
    "    time.sleep(2)"
   ]
  },
  {
   "cell_type": "code",
   "execution_count": 17,
   "metadata": {},
   "outputs": [
    {
     "name": "stdout",
     "output_type": "stream",
     "text": [
      "664991\n"
     ]
    }
   ],
   "source": [
    "import string, os, re\n",
    "letters_tur = {}\n",
    "letset_tur = set(['q', 'w', 'e', 'r', 't', 'y', 'u', 'ı', 'o', 'p', 'ğ', 'ü', 'i', 'ş', 'l', 'k', 'j', 'h', 'g', 'f', 'd', 's', 'a', 'z', 'x', 'c', 'v', 'b', 'n', 'm', 'ö', 'ç'])\n",
    "wordcount_tur = 0\n",
    "\n",
    "with open(r\"C:\\Users\\lizao\\Desktop\\smth\\shabat_tur.txt\", 'r', encoding = 'utf-8') as f:\n",
    "     text_tur = f.read()\n",
    "\n",
    "words_tur = re.finditer(r'[qwertyuıopğüişlkjhgfdsazxcvbnmöç]+(?:-[qwertyuıopğüişlkjhgfdsazxcvbnmöç]+)?', text_tur, re.I)\n",
    "for word in words_tur:\n",
    "    if wordcount_tur >= 2e6:\n",
    "        break\n",
    "    else:\n",
    "        wordcount_tur += 1\n",
    "        for char in word.group():\n",
    "            if char.lower() in letset_tur:\n",
    "                if char.lower() in letters_tur:\n",
    "                    letters_tur[char.lower()] +=1\n",
    "                else:\n",
    "                    letters_tur[char.lower()] = 1\n",
    "\n",
    "print(wordcount_tur)"
   ]
  },
  {
   "cell_type": "code",
   "execution_count": 13,
   "metadata": {},
   "outputs": [
    {
     "data": {
      "text/html": [
       "<pre style=\"white-space:pre;overflow-x:auto;line-height:normal;font-family:Menlo,'DejaVu Sans Mono',consolas,'Courier New',monospace\"><span style=\"font-style: italic\">      корпус       </span>\n",
       "┏━━━━━━━┳━━━━━━━━━┓\n",
       "┃<span style=\"font-weight: bold\"> буква </span>┃<span style=\"font-weight: bold\"> частота </span>┃\n",
       "┡━━━━━━━╇━━━━━━━━━┩\n",
       "│<span style=\"color: #008080; text-decoration-color: #008080\">     a </span>│<span style=\"color: #008080; text-decoration-color: #008080\">  219153 </span>│\n",
       "│<span style=\"color: #008080; text-decoration-color: #008080\">     i </span>│<span style=\"color: #008080; text-decoration-color: #008080\">  198499 </span>│\n",
       "│<span style=\"color: #008080; text-decoration-color: #008080\">     e </span>│<span style=\"color: #008080; text-decoration-color: #008080\">  187514 </span>│\n",
       "│<span style=\"color: #008080; text-decoration-color: #008080\">     l </span>│<span style=\"color: #008080; text-decoration-color: #008080\">  162231 </span>│\n",
       "│<span style=\"color: #008080; text-decoration-color: #008080\">     n </span>│<span style=\"color: #008080; text-decoration-color: #008080\">  148170 </span>│\n",
       "│<span style=\"color: #008080; text-decoration-color: #008080\">     r </span>│<span style=\"color: #008080; text-decoration-color: #008080\">  145421 </span>│\n",
       "│<span style=\"color: #008080; text-decoration-color: #008080\">     k </span>│<span style=\"color: #008080; text-decoration-color: #008080\">   82341 </span>│\n",
       "│<span style=\"color: #008080; text-decoration-color: #008080\">     ı </span>│<span style=\"color: #008080; text-decoration-color: #008080\">   81354 </span>│\n",
       "│<span style=\"color: #008080; text-decoration-color: #008080\">     d </span>│<span style=\"color: #008080; text-decoration-color: #008080\">   81003 </span>│\n",
       "│<span style=\"color: #008080; text-decoration-color: #008080\">     t </span>│<span style=\"color: #008080; text-decoration-color: #008080\">   75059 </span>│\n",
       "│<span style=\"color: #008080; text-decoration-color: #008080\">     m </span>│<span style=\"color: #008080; text-decoration-color: #008080\">   72214 </span>│\n",
       "│<span style=\"color: #008080; text-decoration-color: #008080\">     s </span>│<span style=\"color: #008080; text-decoration-color: #008080\">   69427 </span>│\n",
       "│<span style=\"color: #008080; text-decoration-color: #008080\">     o </span>│<span style=\"color: #008080; text-decoration-color: #008080\">   57745 </span>│\n",
       "│<span style=\"color: #008080; text-decoration-color: #008080\">     u </span>│<span style=\"color: #008080; text-decoration-color: #008080\">   55839 </span>│\n",
       "│<span style=\"color: #008080; text-decoration-color: #008080\">     y </span>│<span style=\"color: #008080; text-decoration-color: #008080\">   49838 </span>│\n",
       "│<span style=\"color: #008080; text-decoration-color: #008080\">     b </span>│<span style=\"color: #008080; text-decoration-color: #008080\">   45114 </span>│\n",
       "│<span style=\"color: #008080; text-decoration-color: #008080\">     ş </span>│<span style=\"color: #008080; text-decoration-color: #008080\">   31242 </span>│\n",
       "│<span style=\"color: #008080; text-decoration-color: #008080\">     ü </span>│<span style=\"color: #008080; text-decoration-color: #008080\">   29785 </span>│\n",
       "│<span style=\"color: #008080; text-decoration-color: #008080\">     g </span>│<span style=\"color: #008080; text-decoration-color: #008080\">   27158 </span>│\n",
       "│<span style=\"color: #008080; text-decoration-color: #008080\">     v </span>│<span style=\"color: #008080; text-decoration-color: #008080\">   23217 </span>│\n",
       "│<span style=\"color: #008080; text-decoration-color: #008080\">     c </span>│<span style=\"color: #008080; text-decoration-color: #008080\">   22208 </span>│\n",
       "│<span style=\"color: #008080; text-decoration-color: #008080\">     z </span>│<span style=\"color: #008080; text-decoration-color: #008080\">   21578 </span>│\n",
       "│<span style=\"color: #008080; text-decoration-color: #008080\">     h </span>│<span style=\"color: #008080; text-decoration-color: #008080\">   19908 </span>│\n",
       "│<span style=\"color: #008080; text-decoration-color: #008080\">     ç </span>│<span style=\"color: #008080; text-decoration-color: #008080\">   19053 </span>│\n",
       "│<span style=\"color: #008080; text-decoration-color: #008080\">     p </span>│<span style=\"color: #008080; text-decoration-color: #008080\">   17598 </span>│\n",
       "│<span style=\"color: #008080; text-decoration-color: #008080\">     ğ </span>│<span style=\"color: #008080; text-decoration-color: #008080\">   17162 </span>│\n",
       "│<span style=\"color: #008080; text-decoration-color: #008080\">     ö </span>│<span style=\"color: #008080; text-decoration-color: #008080\">   16134 </span>│\n",
       "│<span style=\"color: #008080; text-decoration-color: #008080\">     f </span>│<span style=\"color: #008080; text-decoration-color: #008080\">   13267 </span>│\n",
       "│<span style=\"color: #008080; text-decoration-color: #008080\">     j </span>│<span style=\"color: #008080; text-decoration-color: #008080\">    4007 </span>│\n",
       "│<span style=\"color: #008080; text-decoration-color: #008080\">     w </span>│<span style=\"color: #008080; text-decoration-color: #008080\">    2330 </span>│\n",
       "│<span style=\"color: #008080; text-decoration-color: #008080\">     q </span>│<span style=\"color: #008080; text-decoration-color: #008080\">     870 </span>│\n",
       "│<span style=\"color: #008080; text-decoration-color: #008080\">     x </span>│<span style=\"color: #008080; text-decoration-color: #008080\">     689 </span>│\n",
       "└───────┴─────────┘\n",
       "</pre>\n"
      ],
      "text/plain": [
       "\u001b[3m      корпус       \u001b[0m\n",
       "┏━━━━━━━┳━━━━━━━━━┓\n",
       "┃\u001b[1m \u001b[0m\u001b[1mбуква\u001b[0m\u001b[1m \u001b[0m┃\u001b[1m \u001b[0m\u001b[1mчастота\u001b[0m\u001b[1m \u001b[0m┃\n",
       "┡━━━━━━━╇━━━━━━━━━┩\n",
       "│\u001b[36m \u001b[0m\u001b[36m    a\u001b[0m\u001b[36m \u001b[0m│\u001b[36m \u001b[0m\u001b[36m 219153\u001b[0m\u001b[36m \u001b[0m│\n",
       "│\u001b[36m \u001b[0m\u001b[36m    i\u001b[0m\u001b[36m \u001b[0m│\u001b[36m \u001b[0m\u001b[36m 198499\u001b[0m\u001b[36m \u001b[0m│\n",
       "│\u001b[36m \u001b[0m\u001b[36m    e\u001b[0m\u001b[36m \u001b[0m│\u001b[36m \u001b[0m\u001b[36m 187514\u001b[0m\u001b[36m \u001b[0m│\n",
       "│\u001b[36m \u001b[0m\u001b[36m    l\u001b[0m\u001b[36m \u001b[0m│\u001b[36m \u001b[0m\u001b[36m 162231\u001b[0m\u001b[36m \u001b[0m│\n",
       "│\u001b[36m \u001b[0m\u001b[36m    n\u001b[0m\u001b[36m \u001b[0m│\u001b[36m \u001b[0m\u001b[36m 148170\u001b[0m\u001b[36m \u001b[0m│\n",
       "│\u001b[36m \u001b[0m\u001b[36m    r\u001b[0m\u001b[36m \u001b[0m│\u001b[36m \u001b[0m\u001b[36m 145421\u001b[0m\u001b[36m \u001b[0m│\n",
       "│\u001b[36m \u001b[0m\u001b[36m    k\u001b[0m\u001b[36m \u001b[0m│\u001b[36m \u001b[0m\u001b[36m  82341\u001b[0m\u001b[36m \u001b[0m│\n",
       "│\u001b[36m \u001b[0m\u001b[36m    ı\u001b[0m\u001b[36m \u001b[0m│\u001b[36m \u001b[0m\u001b[36m  81354\u001b[0m\u001b[36m \u001b[0m│\n",
       "│\u001b[36m \u001b[0m\u001b[36m    d\u001b[0m\u001b[36m \u001b[0m│\u001b[36m \u001b[0m\u001b[36m  81003\u001b[0m\u001b[36m \u001b[0m│\n",
       "│\u001b[36m \u001b[0m\u001b[36m    t\u001b[0m\u001b[36m \u001b[0m│\u001b[36m \u001b[0m\u001b[36m  75059\u001b[0m\u001b[36m \u001b[0m│\n",
       "│\u001b[36m \u001b[0m\u001b[36m    m\u001b[0m\u001b[36m \u001b[0m│\u001b[36m \u001b[0m\u001b[36m  72214\u001b[0m\u001b[36m \u001b[0m│\n",
       "│\u001b[36m \u001b[0m\u001b[36m    s\u001b[0m\u001b[36m \u001b[0m│\u001b[36m \u001b[0m\u001b[36m  69427\u001b[0m\u001b[36m \u001b[0m│\n",
       "│\u001b[36m \u001b[0m\u001b[36m    o\u001b[0m\u001b[36m \u001b[0m│\u001b[36m \u001b[0m\u001b[36m  57745\u001b[0m\u001b[36m \u001b[0m│\n",
       "│\u001b[36m \u001b[0m\u001b[36m    u\u001b[0m\u001b[36m \u001b[0m│\u001b[36m \u001b[0m\u001b[36m  55839\u001b[0m\u001b[36m \u001b[0m│\n",
       "│\u001b[36m \u001b[0m\u001b[36m    y\u001b[0m\u001b[36m \u001b[0m│\u001b[36m \u001b[0m\u001b[36m  49838\u001b[0m\u001b[36m \u001b[0m│\n",
       "│\u001b[36m \u001b[0m\u001b[36m    b\u001b[0m\u001b[36m \u001b[0m│\u001b[36m \u001b[0m\u001b[36m  45114\u001b[0m\u001b[36m \u001b[0m│\n",
       "│\u001b[36m \u001b[0m\u001b[36m    ş\u001b[0m\u001b[36m \u001b[0m│\u001b[36m \u001b[0m\u001b[36m  31242\u001b[0m\u001b[36m \u001b[0m│\n",
       "│\u001b[36m \u001b[0m\u001b[36m    ü\u001b[0m\u001b[36m \u001b[0m│\u001b[36m \u001b[0m\u001b[36m  29785\u001b[0m\u001b[36m \u001b[0m│\n",
       "│\u001b[36m \u001b[0m\u001b[36m    g\u001b[0m\u001b[36m \u001b[0m│\u001b[36m \u001b[0m\u001b[36m  27158\u001b[0m\u001b[36m \u001b[0m│\n",
       "│\u001b[36m \u001b[0m\u001b[36m    v\u001b[0m\u001b[36m \u001b[0m│\u001b[36m \u001b[0m\u001b[36m  23217\u001b[0m\u001b[36m \u001b[0m│\n",
       "│\u001b[36m \u001b[0m\u001b[36m    c\u001b[0m\u001b[36m \u001b[0m│\u001b[36m \u001b[0m\u001b[36m  22208\u001b[0m\u001b[36m \u001b[0m│\n",
       "│\u001b[36m \u001b[0m\u001b[36m    z\u001b[0m\u001b[36m \u001b[0m│\u001b[36m \u001b[0m\u001b[36m  21578\u001b[0m\u001b[36m \u001b[0m│\n",
       "│\u001b[36m \u001b[0m\u001b[36m    h\u001b[0m\u001b[36m \u001b[0m│\u001b[36m \u001b[0m\u001b[36m  19908\u001b[0m\u001b[36m \u001b[0m│\n",
       "│\u001b[36m \u001b[0m\u001b[36m    ç\u001b[0m\u001b[36m \u001b[0m│\u001b[36m \u001b[0m\u001b[36m  19053\u001b[0m\u001b[36m \u001b[0m│\n",
       "│\u001b[36m \u001b[0m\u001b[36m    p\u001b[0m\u001b[36m \u001b[0m│\u001b[36m \u001b[0m\u001b[36m  17598\u001b[0m\u001b[36m \u001b[0m│\n",
       "│\u001b[36m \u001b[0m\u001b[36m    ğ\u001b[0m\u001b[36m \u001b[0m│\u001b[36m \u001b[0m\u001b[36m  17162\u001b[0m\u001b[36m \u001b[0m│\n",
       "│\u001b[36m \u001b[0m\u001b[36m    ö\u001b[0m\u001b[36m \u001b[0m│\u001b[36m \u001b[0m\u001b[36m  16134\u001b[0m\u001b[36m \u001b[0m│\n",
       "│\u001b[36m \u001b[0m\u001b[36m    f\u001b[0m\u001b[36m \u001b[0m│\u001b[36m \u001b[0m\u001b[36m  13267\u001b[0m\u001b[36m \u001b[0m│\n",
       "│\u001b[36m \u001b[0m\u001b[36m    j\u001b[0m\u001b[36m \u001b[0m│\u001b[36m \u001b[0m\u001b[36m   4007\u001b[0m\u001b[36m \u001b[0m│\n",
       "│\u001b[36m \u001b[0m\u001b[36m    w\u001b[0m\u001b[36m \u001b[0m│\u001b[36m \u001b[0m\u001b[36m   2330\u001b[0m\u001b[36m \u001b[0m│\n",
       "│\u001b[36m \u001b[0m\u001b[36m    q\u001b[0m\u001b[36m \u001b[0m│\u001b[36m \u001b[0m\u001b[36m    870\u001b[0m\u001b[36m \u001b[0m│\n",
       "│\u001b[36m \u001b[0m\u001b[36m    x\u001b[0m\u001b[36m \u001b[0m│\u001b[36m \u001b[0m\u001b[36m    689\u001b[0m\u001b[36m \u001b[0m│\n",
       "└───────┴─────────┘\n"
      ]
     },
     "metadata": {},
     "output_type": "display_data"
    }
   ],
   "source": [
    "let_freq(letters_tur)"
   ]
  },
  {
   "cell_type": "code",
   "execution_count": 14,
   "metadata": {},
   "outputs": [
    {
     "data": {
      "text/html": [
       "<pre style=\"white-space:pre;overflow-x:auto;line-height:normal;font-family:Menlo,'DejaVu Sans Mono',consolas,'Courier New',monospace\"><span style=\"font-style: italic\">         корпус проценты         </span>\n",
       "┏━━━━━━━┳━━━━━━━━━━━━━━━━━━━━━━━┓\n",
       "┃<span style=\"font-weight: bold\"> буква </span>┃<span style=\"font-weight: bold\"> частота (в процентах) </span>┃\n",
       "┡━━━━━━━╇━━━━━━━━━━━━━━━━━━━━━━━┩\n",
       "│<span style=\"color: #008080; text-decoration-color: #008080\">     a </span>│<span style=\"color: #008080; text-decoration-color: #008080\">                 10.97 </span>│\n",
       "│<span style=\"color: #008080; text-decoration-color: #008080\">     i </span>│<span style=\"color: #008080; text-decoration-color: #008080\">                  9.94 </span>│\n",
       "│<span style=\"color: #008080; text-decoration-color: #008080\">     e </span>│<span style=\"color: #008080; text-decoration-color: #008080\">                  9.39 </span>│\n",
       "│<span style=\"color: #008080; text-decoration-color: #008080\">     l </span>│<span style=\"color: #008080; text-decoration-color: #008080\">                  8.12 </span>│\n",
       "│<span style=\"color: #008080; text-decoration-color: #008080\">     n </span>│<span style=\"color: #008080; text-decoration-color: #008080\">                  7.42 </span>│\n",
       "│<span style=\"color: #008080; text-decoration-color: #008080\">     r </span>│<span style=\"color: #008080; text-decoration-color: #008080\">                  7.28 </span>│\n",
       "│<span style=\"color: #008080; text-decoration-color: #008080\">     k </span>│<span style=\"color: #008080; text-decoration-color: #008080\">                  4.12 </span>│\n",
       "│<span style=\"color: #008080; text-decoration-color: #008080\">     ı </span>│<span style=\"color: #008080; text-decoration-color: #008080\">                  4.07 </span>│\n",
       "│<span style=\"color: #008080; text-decoration-color: #008080\">     d </span>│<span style=\"color: #008080; text-decoration-color: #008080\">                  4.06 </span>│\n",
       "│<span style=\"color: #008080; text-decoration-color: #008080\">     t </span>│<span style=\"color: #008080; text-decoration-color: #008080\">                  3.76 </span>│\n",
       "│<span style=\"color: #008080; text-decoration-color: #008080\">     m </span>│<span style=\"color: #008080; text-decoration-color: #008080\">                  3.62 </span>│\n",
       "│<span style=\"color: #008080; text-decoration-color: #008080\">     s </span>│<span style=\"color: #008080; text-decoration-color: #008080\">                  3.48 </span>│\n",
       "│<span style=\"color: #008080; text-decoration-color: #008080\">     o </span>│<span style=\"color: #008080; text-decoration-color: #008080\">                  2.89 </span>│\n",
       "│<span style=\"color: #008080; text-decoration-color: #008080\">     u </span>│<span style=\"color: #008080; text-decoration-color: #008080\">                   2.8 </span>│\n",
       "│<span style=\"color: #008080; text-decoration-color: #008080\">     y </span>│<span style=\"color: #008080; text-decoration-color: #008080\">                   2.5 </span>│\n",
       "│<span style=\"color: #008080; text-decoration-color: #008080\">     b </span>│<span style=\"color: #008080; text-decoration-color: #008080\">                  2.26 </span>│\n",
       "│<span style=\"color: #008080; text-decoration-color: #008080\">     ş </span>│<span style=\"color: #008080; text-decoration-color: #008080\">                  1.56 </span>│\n",
       "│<span style=\"color: #008080; text-decoration-color: #008080\">     ü </span>│<span style=\"color: #008080; text-decoration-color: #008080\">                  1.49 </span>│\n",
       "│<span style=\"color: #008080; text-decoration-color: #008080\">     g </span>│<span style=\"color: #008080; text-decoration-color: #008080\">                  1.36 </span>│\n",
       "│<span style=\"color: #008080; text-decoration-color: #008080\">     v </span>│<span style=\"color: #008080; text-decoration-color: #008080\">                  1.16 </span>│\n",
       "│<span style=\"color: #008080; text-decoration-color: #008080\">     c </span>│<span style=\"color: #008080; text-decoration-color: #008080\">                  1.11 </span>│\n",
       "│<span style=\"color: #008080; text-decoration-color: #008080\">     z </span>│<span style=\"color: #008080; text-decoration-color: #008080\">                  1.08 </span>│\n",
       "│<span style=\"color: #008080; text-decoration-color: #008080\">     h </span>│<span style=\"color: #008080; text-decoration-color: #008080\">                   1.0 </span>│\n",
       "│<span style=\"color: #008080; text-decoration-color: #008080\">     ç </span>│<span style=\"color: #008080; text-decoration-color: #008080\">                  0.95 </span>│\n",
       "│<span style=\"color: #008080; text-decoration-color: #008080\">     p </span>│<span style=\"color: #008080; text-decoration-color: #008080\">                  0.88 </span>│\n",
       "│<span style=\"color: #008080; text-decoration-color: #008080\">     ğ </span>│<span style=\"color: #008080; text-decoration-color: #008080\">                  0.86 </span>│\n",
       "│<span style=\"color: #008080; text-decoration-color: #008080\">     ö </span>│<span style=\"color: #008080; text-decoration-color: #008080\">                  0.81 </span>│\n",
       "│<span style=\"color: #008080; text-decoration-color: #008080\">     f </span>│<span style=\"color: #008080; text-decoration-color: #008080\">                  0.66 </span>│\n",
       "│<span style=\"color: #008080; text-decoration-color: #008080\">     j </span>│<span style=\"color: #008080; text-decoration-color: #008080\">                   0.2 </span>│\n",
       "│<span style=\"color: #008080; text-decoration-color: #008080\">     w </span>│<span style=\"color: #008080; text-decoration-color: #008080\">                  0.12 </span>│\n",
       "│<span style=\"color: #008080; text-decoration-color: #008080\">     q </span>│<span style=\"color: #008080; text-decoration-color: #008080\">                  0.04 </span>│\n",
       "│<span style=\"color: #008080; text-decoration-color: #008080\">     x </span>│<span style=\"color: #008080; text-decoration-color: #008080\">                  0.03 </span>│\n",
       "└───────┴───────────────────────┘\n",
       "</pre>\n"
      ],
      "text/plain": [
       "\u001b[3m         корпус проценты         \u001b[0m\n",
       "┏━━━━━━━┳━━━━━━━━━━━━━━━━━━━━━━━┓\n",
       "┃\u001b[1m \u001b[0m\u001b[1mбуква\u001b[0m\u001b[1m \u001b[0m┃\u001b[1m \u001b[0m\u001b[1mчастота (в процентах)\u001b[0m\u001b[1m \u001b[0m┃\n",
       "┡━━━━━━━╇━━━━━━━━━━━━━━━━━━━━━━━┩\n",
       "│\u001b[36m \u001b[0m\u001b[36m    a\u001b[0m\u001b[36m \u001b[0m│\u001b[36m \u001b[0m\u001b[36m                10.97\u001b[0m\u001b[36m \u001b[0m│\n",
       "│\u001b[36m \u001b[0m\u001b[36m    i\u001b[0m\u001b[36m \u001b[0m│\u001b[36m \u001b[0m\u001b[36m                 9.94\u001b[0m\u001b[36m \u001b[0m│\n",
       "│\u001b[36m \u001b[0m\u001b[36m    e\u001b[0m\u001b[36m \u001b[0m│\u001b[36m \u001b[0m\u001b[36m                 9.39\u001b[0m\u001b[36m \u001b[0m│\n",
       "│\u001b[36m \u001b[0m\u001b[36m    l\u001b[0m\u001b[36m \u001b[0m│\u001b[36m \u001b[0m\u001b[36m                 8.12\u001b[0m\u001b[36m \u001b[0m│\n",
       "│\u001b[36m \u001b[0m\u001b[36m    n\u001b[0m\u001b[36m \u001b[0m│\u001b[36m \u001b[0m\u001b[36m                 7.42\u001b[0m\u001b[36m \u001b[0m│\n",
       "│\u001b[36m \u001b[0m\u001b[36m    r\u001b[0m\u001b[36m \u001b[0m│\u001b[36m \u001b[0m\u001b[36m                 7.28\u001b[0m\u001b[36m \u001b[0m│\n",
       "│\u001b[36m \u001b[0m\u001b[36m    k\u001b[0m\u001b[36m \u001b[0m│\u001b[36m \u001b[0m\u001b[36m                 4.12\u001b[0m\u001b[36m \u001b[0m│\n",
       "│\u001b[36m \u001b[0m\u001b[36m    ı\u001b[0m\u001b[36m \u001b[0m│\u001b[36m \u001b[0m\u001b[36m                 4.07\u001b[0m\u001b[36m \u001b[0m│\n",
       "│\u001b[36m \u001b[0m\u001b[36m    d\u001b[0m\u001b[36m \u001b[0m│\u001b[36m \u001b[0m\u001b[36m                 4.06\u001b[0m\u001b[36m \u001b[0m│\n",
       "│\u001b[36m \u001b[0m\u001b[36m    t\u001b[0m\u001b[36m \u001b[0m│\u001b[36m \u001b[0m\u001b[36m                 3.76\u001b[0m\u001b[36m \u001b[0m│\n",
       "│\u001b[36m \u001b[0m\u001b[36m    m\u001b[0m\u001b[36m \u001b[0m│\u001b[36m \u001b[0m\u001b[36m                 3.62\u001b[0m\u001b[36m \u001b[0m│\n",
       "│\u001b[36m \u001b[0m\u001b[36m    s\u001b[0m\u001b[36m \u001b[0m│\u001b[36m \u001b[0m\u001b[36m                 3.48\u001b[0m\u001b[36m \u001b[0m│\n",
       "│\u001b[36m \u001b[0m\u001b[36m    o\u001b[0m\u001b[36m \u001b[0m│\u001b[36m \u001b[0m\u001b[36m                 2.89\u001b[0m\u001b[36m \u001b[0m│\n",
       "│\u001b[36m \u001b[0m\u001b[36m    u\u001b[0m\u001b[36m \u001b[0m│\u001b[36m \u001b[0m\u001b[36m                  2.8\u001b[0m\u001b[36m \u001b[0m│\n",
       "│\u001b[36m \u001b[0m\u001b[36m    y\u001b[0m\u001b[36m \u001b[0m│\u001b[36m \u001b[0m\u001b[36m                  2.5\u001b[0m\u001b[36m \u001b[0m│\n",
       "│\u001b[36m \u001b[0m\u001b[36m    b\u001b[0m\u001b[36m \u001b[0m│\u001b[36m \u001b[0m\u001b[36m                 2.26\u001b[0m\u001b[36m \u001b[0m│\n",
       "│\u001b[36m \u001b[0m\u001b[36m    ş\u001b[0m\u001b[36m \u001b[0m│\u001b[36m \u001b[0m\u001b[36m                 1.56\u001b[0m\u001b[36m \u001b[0m│\n",
       "│\u001b[36m \u001b[0m\u001b[36m    ü\u001b[0m\u001b[36m \u001b[0m│\u001b[36m \u001b[0m\u001b[36m                 1.49\u001b[0m\u001b[36m \u001b[0m│\n",
       "│\u001b[36m \u001b[0m\u001b[36m    g\u001b[0m\u001b[36m \u001b[0m│\u001b[36m \u001b[0m\u001b[36m                 1.36\u001b[0m\u001b[36m \u001b[0m│\n",
       "│\u001b[36m \u001b[0m\u001b[36m    v\u001b[0m\u001b[36m \u001b[0m│\u001b[36m \u001b[0m\u001b[36m                 1.16\u001b[0m\u001b[36m \u001b[0m│\n",
       "│\u001b[36m \u001b[0m\u001b[36m    c\u001b[0m\u001b[36m \u001b[0m│\u001b[36m \u001b[0m\u001b[36m                 1.11\u001b[0m\u001b[36m \u001b[0m│\n",
       "│\u001b[36m \u001b[0m\u001b[36m    z\u001b[0m\u001b[36m \u001b[0m│\u001b[36m \u001b[0m\u001b[36m                 1.08\u001b[0m\u001b[36m \u001b[0m│\n",
       "│\u001b[36m \u001b[0m\u001b[36m    h\u001b[0m\u001b[36m \u001b[0m│\u001b[36m \u001b[0m\u001b[36m                  1.0\u001b[0m\u001b[36m \u001b[0m│\n",
       "│\u001b[36m \u001b[0m\u001b[36m    ç\u001b[0m\u001b[36m \u001b[0m│\u001b[36m \u001b[0m\u001b[36m                 0.95\u001b[0m\u001b[36m \u001b[0m│\n",
       "│\u001b[36m \u001b[0m\u001b[36m    p\u001b[0m\u001b[36m \u001b[0m│\u001b[36m \u001b[0m\u001b[36m                 0.88\u001b[0m\u001b[36m \u001b[0m│\n",
       "│\u001b[36m \u001b[0m\u001b[36m    ğ\u001b[0m\u001b[36m \u001b[0m│\u001b[36m \u001b[0m\u001b[36m                 0.86\u001b[0m\u001b[36m \u001b[0m│\n",
       "│\u001b[36m \u001b[0m\u001b[36m    ö\u001b[0m\u001b[36m \u001b[0m│\u001b[36m \u001b[0m\u001b[36m                 0.81\u001b[0m\u001b[36m \u001b[0m│\n",
       "│\u001b[36m \u001b[0m\u001b[36m    f\u001b[0m\u001b[36m \u001b[0m│\u001b[36m \u001b[0m\u001b[36m                 0.66\u001b[0m\u001b[36m \u001b[0m│\n",
       "│\u001b[36m \u001b[0m\u001b[36m    j\u001b[0m\u001b[36m \u001b[0m│\u001b[36m \u001b[0m\u001b[36m                  0.2\u001b[0m\u001b[36m \u001b[0m│\n",
       "│\u001b[36m \u001b[0m\u001b[36m    w\u001b[0m\u001b[36m \u001b[0m│\u001b[36m \u001b[0m\u001b[36m                 0.12\u001b[0m\u001b[36m \u001b[0m│\n",
       "│\u001b[36m \u001b[0m\u001b[36m    q\u001b[0m\u001b[36m \u001b[0m│\u001b[36m \u001b[0m\u001b[36m                 0.04\u001b[0m\u001b[36m \u001b[0m│\n",
       "│\u001b[36m \u001b[0m\u001b[36m    x\u001b[0m\u001b[36m \u001b[0m│\u001b[36m \u001b[0m\u001b[36m                 0.03\u001b[0m\u001b[36m \u001b[0m│\n",
       "└───────┴───────────────────────┘\n"
      ]
     },
     "metadata": {},
     "output_type": "display_data"
    }
   ],
   "source": [
    "let_freq_pers(letters_tur)"
   ]
  },
  {
   "cell_type": "code",
   "execution_count": 40,
   "metadata": {},
   "outputs": [
    {
     "data": {
      "image/png": "[encoded data removed]",
      "text/plain": [
       "<Figure size 640x480 with 1 Axes>"
      ]
     },
     "metadata": {},
     "output_type": "display_data"
    }
   ],
   "source": [
    "plot(letters_tur)"
   ]
  },
  {
   "cell_type": "code",
   "execution_count": null,
   "metadata": {},
   "outputs": [],
   "source": [
    "tsipf(letters_tur)"
   ]
  },
  {
   "cell_type": "code",
   "execution_count": null,
   "metadata": {},
   "outputs": [],
   "source": [
    "plot_ind(letters_tur)"
   ]
  },
  {
   "cell_type": "markdown",
   "metadata": {},
   "source": [
    "Литовский:"
   ]
  },
  {
   "cell_type": "code",
   "execution_count": 3,
   "metadata": {},
   "outputs": [
    {
     "ename": "KeyboardInterrupt",
     "evalue": "",
     "output_type": "error",
     "traceback": [
      "\u001b[1;31m---------------------------------------------------------------------------\u001b[0m",
      "\u001b[1;31mKeyboardInterrupt\u001b[0m                         Traceback (most recent call last)",
      "\u001b[1;32mc:\\Users\\lizao\\шабат.ipynb Cell 37\u001b[0m line \u001b[0;36m1\n\u001b[0;32m     <a href='vscode-notebook-cell:/c%3A/Users/lizao/%D1%88%D0%B0%D0%B1%D0%B0%D1%82.ipynb#X51sZmlsZQ%3D%3D?line=9'>10</a>\u001b[0m \u001b[39mfor\u001b[39;00m name \u001b[39min\u001b[39;00m page_py\u001b[39m.\u001b[39mlinks\u001b[39m.\u001b[39mkeys():\n\u001b[0;32m     <a href='vscode-notebook-cell:/c%3A/Users/lizao/%D1%88%D0%B0%D0%B1%D0%B0%D1%82.ipynb#X51sZmlsZQ%3D%3D?line=10'>11</a>\u001b[0m     texts_lit\u001b[39m.\u001b[39mwrite(wiki_wiki\u001b[39m.\u001b[39mpage(name)\u001b[39m.\u001b[39mtext)\n\u001b[1;32m---> <a href='vscode-notebook-cell:/c%3A/Users/lizao/%D1%88%D0%B0%D0%B1%D0%B0%D1%82.ipynb#X51sZmlsZQ%3D%3D?line=11'>12</a>\u001b[0m     time\u001b[39m.\u001b[39;49msleep(\u001b[39m2\u001b[39;49m)\n",
      "\u001b[1;31mKeyboardInterrupt\u001b[0m: "
     ]
    }
   ],
   "source": [
    "import wikipediaapi, time\n",
    "texts_lit = open(r\"C:\\Users\\lizao\\Desktop\\smth\\shabat_lit.txt\", 'w', encoding = 'utf-8')\n",
    "\n",
    "wiki_wiki = wikipediaapi.Wikipedia(\n",
    "        language='lt',\n",
    "        extract_format=wikipediaapi.ExtractFormat.WIKI\n",
    ")\n",
    "\n",
    "page_py = wiki_wiki.page('Kalbotyra')\n",
    "for name in page_py.links.keys():\n",
    "    texts_lit.write(wiki_wiki.page(name).text)\n",
    "    time.sleep(2)"
   ]
  },
  {
   "cell_type": "code",
   "execution_count": 2,
   "metadata": {},
   "outputs": [],
   "source": [
    "import wikipediaapi, time\n",
    "\n",
    "texts_lit = open(r\"C:\\Users\\lizao\\Desktop\\smth\\shabat_lit.txt\", 'a', encoding = 'utf-8')\n",
    "\n",
    "wiki_wiki = wikipediaapi.Wikipedia(\n",
    "        language='lt',\n",
    "        extract_format=wikipediaapi.ExtractFormat.WIKI\n",
    ")\n",
    "\n",
    "page_py = wiki_wiki.page('Fizika')\n",
    "for name in page_py.links.keys():\n",
    "    texts_lit.write(wiki_wiki.page(name).text)\n",
    "    time.sleep(2)"
   ]
  },
  {
   "cell_type": "code",
   "execution_count": 5,
   "metadata": {},
   "outputs": [],
   "source": [
    "texts_lit = open(r\"C:\\Users\\lizao\\Desktop\\smth\\shabat_lit.txt\", 'a', encoding = 'utf-8')\n",
    "\n",
    "page_py = wiki_wiki.page('Biologija')\n",
    "for name in page_py.links.keys():\n",
    "    texts_lit.write(wiki_wiki.page(name).text)\n",
    "    time.sleep(2)"
   ]
  },
  {
   "cell_type": "code",
   "execution_count": 7,
   "metadata": {},
   "outputs": [],
   "source": [
    "texts_lit = open(r\"C:\\Users\\lizao\\Desktop\\smth\\shabat_lit.txt\", 'a', encoding = 'utf-8')\n",
    "\n",
    "page_py = wiki_wiki.page('Psichologija')\n",
    "for name in page_py.links.keys():\n",
    "    texts_lit.write(wiki_wiki.page(name).text)\n",
    "    time.sleep(2)"
   ]
  },
  {
   "cell_type": "code",
   "execution_count": 9,
   "metadata": {},
   "outputs": [],
   "source": [
    "texts_lit = open(r\"C:\\Users\\lizao\\Desktop\\smth\\shabat_lit.txt\", 'a', encoding = 'utf-8')\n",
    "\n",
    "page_py = wiki_wiki.page('Senovės Graikijos istorija')\n",
    "for name in page_py.links.keys():\n",
    "    texts_lit.write(wiki_wiki.page(name).text)\n",
    "    time.sleep(2)"
   ]
  },
  {
   "cell_type": "code",
   "execution_count": 10,
   "metadata": {},
   "outputs": [
    {
     "name": "stdout",
     "output_type": "stream",
     "text": [
      "2000000\n"
     ]
    }
   ],
   "source": [
    "import re\n",
    "letters_lit = {}\n",
    "letset_lit = set(['ą', 'č', 'ę', 'ė', 'į', 'š', 'ų', 'ū', 'ž', 'p', 'o', 'i', 'u', 'y', 't', 'r', 'e', 'w', 'q', 'a', 's', 'd', 'f', 'g', 'h', 'j', 'k', 'l', 'm', 'n', 'b', 'v', 'c', 'x', 'z'])\n",
    "wordcount_lit = 0\n",
    "\n",
    "with open(r\"C:\\Users\\lizao\\Desktop\\smth\\shabat_lit.txt\", 'r', encoding = 'utf-8') as f:\n",
    "     text_lit = f.read()\n",
    "\n",
    "\n",
    "words_lit = re.finditer(r'[ąčęėįšųūžpoiuytrewqasdfghjklmnbvcxz]+(?:-[ąčęėįšųūžpoiuytrewqasdfghjklmnbvcxz]+)?', text_lit, re.I)\n",
    "\n",
    "for word in words_lit:\n",
    "    if wordcount_lit >= 2e6:\n",
    "        break\n",
    "    else:\n",
    "        wordcount_lit += 1\n",
    "        for char in word.group():\n",
    "            if char.lower() in letset_lit:\n",
    "                if char.lower() in letters_lit:\n",
    "                    letters_lit[char.lower()] +=1\n",
    "                else:\n",
    "                    letters_lit[char.lower()] = 1\n",
    "\n",
    "print(wordcount_lit)"
   ]
  },
  {
   "cell_type": "code",
   "execution_count": 13,
   "metadata": {},
   "outputs": [
    {
     "data": {
      "text/html": [
       "<pre style=\"white-space:pre;overflow-x:auto;line-height:normal;font-family:Menlo,'DejaVu Sans Mono',consolas,'Courier New',monospace\"><span style=\"font-style: italic\">      корпус       </span>\n",
       "┏━━━━━━━┳━━━━━━━━━┓\n",
       "┃<span style=\"font-weight: bold\"> буква </span>┃<span style=\"font-weight: bold\"> частота </span>┃\n",
       "┡━━━━━━━╇━━━━━━━━━┩\n",
       "│<span style=\"color: #008080; text-decoration-color: #008080\">     i </span>│<span style=\"color: #008080; text-decoration-color: #008080\">  272600 </span>│\n",
       "│<span style=\"color: #008080; text-decoration-color: #008080\">     a </span>│<span style=\"color: #008080; text-decoration-color: #008080\">  220611 </span>│\n",
       "│<span style=\"color: #008080; text-decoration-color: #008080\">     s </span>│<span style=\"color: #008080; text-decoration-color: #008080\">  158971 </span>│\n",
       "│<span style=\"color: #008080; text-decoration-color: #008080\">     o </span>│<span style=\"color: #008080; text-decoration-color: #008080\">  128506 </span>│\n",
       "│<span style=\"color: #008080; text-decoration-color: #008080\">     e </span>│<span style=\"color: #008080; text-decoration-color: #008080\">  116072 </span>│\n",
       "│<span style=\"color: #008080; text-decoration-color: #008080\">     t </span>│<span style=\"color: #008080; text-decoration-color: #008080\">  113495 </span>│\n",
       "│<span style=\"color: #008080; text-decoration-color: #008080\">     r </span>│<span style=\"color: #008080; text-decoration-color: #008080\">  112642 </span>│\n",
       "│<span style=\"color: #008080; text-decoration-color: #008080\">     n </span>│<span style=\"color: #008080; text-decoration-color: #008080\">  101190 </span>│\n",
       "│<span style=\"color: #008080; text-decoration-color: #008080\">     u </span>│<span style=\"color: #008080; text-decoration-color: #008080\">   84866 </span>│\n",
       "│<span style=\"color: #008080; text-decoration-color: #008080\">     k </span>│<span style=\"color: #008080; text-decoration-color: #008080\">   80439 </span>│\n",
       "│<span style=\"color: #008080; text-decoration-color: #008080\">     m </span>│<span style=\"color: #008080; text-decoration-color: #008080\">   73809 </span>│\n",
       "│<span style=\"color: #008080; text-decoration-color: #008080\">     l </span>│<span style=\"color: #008080; text-decoration-color: #008080\">   68880 </span>│\n",
       "│<span style=\"color: #008080; text-decoration-color: #008080\">     p </span>│<span style=\"color: #008080; text-decoration-color: #008080\">   53878 </span>│\n",
       "│<span style=\"color: #008080; text-decoration-color: #008080\">     d </span>│<span style=\"color: #008080; text-decoration-color: #008080\">   51969 </span>│\n",
       "│<span style=\"color: #008080; text-decoration-color: #008080\">     v </span>│<span style=\"color: #008080; text-decoration-color: #008080\">   46165 </span>│\n",
       "│<span style=\"color: #008080; text-decoration-color: #008080\">     j </span>│<span style=\"color: #008080; text-decoration-color: #008080\">   43680 </span>│\n",
       "│<span style=\"color: #008080; text-decoration-color: #008080\">     g </span>│<span style=\"color: #008080; text-decoration-color: #008080\">   39348 </span>│\n",
       "│<span style=\"color: #008080; text-decoration-color: #008080\">     ė </span>│<span style=\"color: #008080; text-decoration-color: #008080\">   29819 </span>│\n",
       "│<span style=\"color: #008080; text-decoration-color: #008080\">     y </span>│<span style=\"color: #008080; text-decoration-color: #008080\">   28613 </span>│\n",
       "│<span style=\"color: #008080; text-decoration-color: #008080\">     b </span>│<span style=\"color: #008080; text-decoration-color: #008080\">   27940 </span>│\n",
       "│<span style=\"color: #008080; text-decoration-color: #008080\">     ų </span>│<span style=\"color: #008080; text-decoration-color: #008080\">   25191 </span>│\n",
       "│<span style=\"color: #008080; text-decoration-color: #008080\">     š </span>│<span style=\"color: #008080; text-decoration-color: #008080\">   20481 </span>│\n",
       "│<span style=\"color: #008080; text-decoration-color: #008080\">     ž </span>│<span style=\"color: #008080; text-decoration-color: #008080\">   15318 </span>│\n",
       "│<span style=\"color: #008080; text-decoration-color: #008080\">     c </span>│<span style=\"color: #008080; text-decoration-color: #008080\">   14629 </span>│\n",
       "│<span style=\"color: #008080; text-decoration-color: #008080\">     ą </span>│<span style=\"color: #008080; text-decoration-color: #008080\">   13072 </span>│\n",
       "│<span style=\"color: #008080; text-decoration-color: #008080\">     f </span>│<span style=\"color: #008080; text-decoration-color: #008080\">    9484 </span>│\n",
       "│<span style=\"color: #008080; text-decoration-color: #008080\">     ū </span>│<span style=\"color: #008080; text-decoration-color: #008080\">    9030 </span>│\n",
       "│<span style=\"color: #008080; text-decoration-color: #008080\">     į </span>│<span style=\"color: #008080; text-decoration-color: #008080\">    8880 </span>│\n",
       "│<span style=\"color: #008080; text-decoration-color: #008080\">     h </span>│<span style=\"color: #008080; text-decoration-color: #008080\">    8585 </span>│\n",
       "│<span style=\"color: #008080; text-decoration-color: #008080\">     z </span>│<span style=\"color: #008080; text-decoration-color: #008080\">    8284 </span>│\n",
       "│<span style=\"color: #008080; text-decoration-color: #008080\">     č </span>│<span style=\"color: #008080; text-decoration-color: #008080\">    7313 </span>│\n",
       "│<span style=\"color: #008080; text-decoration-color: #008080\">     ę </span>│<span style=\"color: #008080; text-decoration-color: #008080\">    3358 </span>│\n",
       "│<span style=\"color: #008080; text-decoration-color: #008080\">     x </span>│<span style=\"color: #008080; text-decoration-color: #008080\">    1567 </span>│\n",
       "│<span style=\"color: #008080; text-decoration-color: #008080\">     w </span>│<span style=\"color: #008080; text-decoration-color: #008080\">    1008 </span>│\n",
       "│<span style=\"color: #008080; text-decoration-color: #008080\">     q </span>│<span style=\"color: #008080; text-decoration-color: #008080\">     306 </span>│\n",
       "└───────┴─────────┘\n",
       "</pre>\n"
      ],
      "text/plain": [
       "\u001b[3m      корпус       \u001b[0m\n",
       "┏━━━━━━━┳━━━━━━━━━┓\n",
       "┃\u001b[1m \u001b[0m\u001b[1mбуква\u001b[0m\u001b[1m \u001b[0m┃\u001b[1m \u001b[0m\u001b[1mчастота\u001b[0m\u001b[1m \u001b[0m┃\n",
       "┡━━━━━━━╇━━━━━━━━━┩\n",
       "│\u001b[36m \u001b[0m\u001b[36m    i\u001b[0m\u001b[36m \u001b[0m│\u001b[36m \u001b[0m\u001b[36m 272600\u001b[0m\u001b[36m \u001b[0m│\n",
       "│\u001b[36m \u001b[0m\u001b[36m    a\u001b[0m\u001b[36m \u001b[0m│\u001b[36m \u001b[0m\u001b[36m 220611\u001b[0m\u001b[36m \u001b[0m│\n",
       "│\u001b[36m \u001b[0m\u001b[36m    s\u001b[0m\u001b[36m \u001b[0m│\u001b[36m \u001b[0m\u001b[36m 158971\u001b[0m\u001b[36m \u001b[0m│\n",
       "│\u001b[36m \u001b[0m\u001b[36m    o\u001b[0m\u001b[36m \u001b[0m│\u001b[36m \u001b[0m\u001b[36m 128506\u001b[0m\u001b[36m \u001b[0m│\n",
       "│\u001b[36m \u001b[0m\u001b[36m    e\u001b[0m\u001b[36m \u001b[0m│\u001b[36m \u001b[0m\u001b[36m 116072\u001b[0m\u001b[36m \u001b[0m│\n",
       "│\u001b[36m \u001b[0m\u001b[36m    t\u001b[0m\u001b[36m \u001b[0m│\u001b[36m \u001b[0m\u001b[36m 113495\u001b[0m\u001b[36m \u001b[0m│\n",
       "│\u001b[36m \u001b[0m\u001b[36m    r\u001b[0m\u001b[36m \u001b[0m│\u001b[36m \u001b[0m\u001b[36m 112642\u001b[0m\u001b[36m \u001b[0m│\n",
       "│\u001b[36m \u001b[0m\u001b[36m    n\u001b[0m\u001b[36m \u001b[0m│\u001b[36m \u001b[0m\u001b[36m 101190\u001b[0m\u001b[36m \u001b[0m│\n",
       "│\u001b[36m \u001b[0m\u001b[36m    u\u001b[0m\u001b[36m \u001b[0m│\u001b[36m \u001b[0m\u001b[36m  84866\u001b[0m\u001b[36m \u001b[0m│\n",
       "│\u001b[36m \u001b[0m\u001b[36m    k\u001b[0m\u001b[36m \u001b[0m│\u001b[36m \u001b[0m\u001b[36m  80439\u001b[0m\u001b[36m \u001b[0m│\n",
       "│\u001b[36m \u001b[0m\u001b[36m    m\u001b[0m\u001b[36m \u001b[0m│\u001b[36m \u001b[0m\u001b[36m  73809\u001b[0m\u001b[36m \u001b[0m│\n",
       "│\u001b[36m \u001b[0m\u001b[36m    l\u001b[0m\u001b[36m \u001b[0m│\u001b[36m \u001b[0m\u001b[36m  68880\u001b[0m\u001b[36m \u001b[0m│\n",
       "│\u001b[36m \u001b[0m\u001b[36m    p\u001b[0m\u001b[36m \u001b[0m│\u001b[36m \u001b[0m\u001b[36m  53878\u001b[0m\u001b[36m \u001b[0m│\n",
       "│\u001b[36m \u001b[0m\u001b[36m    d\u001b[0m\u001b[36m \u001b[0m│\u001b[36m \u001b[0m\u001b[36m  51969\u001b[0m\u001b[36m \u001b[0m│\n",
       "│\u001b[36m \u001b[0m\u001b[36m    v\u001b[0m\u001b[36m \u001b[0m│\u001b[36m \u001b[0m\u001b[36m  46165\u001b[0m\u001b[36m \u001b[0m│\n",
       "│\u001b[36m \u001b[0m\u001b[36m    j\u001b[0m\u001b[36m \u001b[0m│\u001b[36m \u001b[0m\u001b[36m  43680\u001b[0m\u001b[36m \u001b[0m│\n",
       "│\u001b[36m \u001b[0m\u001b[36m    g\u001b[0m\u001b[36m \u001b[0m│\u001b[36m \u001b[0m\u001b[36m  39348\u001b[0m\u001b[36m \u001b[0m│\n",
       "│\u001b[36m \u001b[0m\u001b[36m    ė\u001b[0m\u001b[36m \u001b[0m│\u001b[36m \u001b[0m\u001b[36m  29819\u001b[0m\u001b[36m \u001b[0m│\n",
       "│\u001b[36m \u001b[0m\u001b[36m    y\u001b[0m\u001b[36m \u001b[0m│\u001b[36m \u001b[0m\u001b[36m  28613\u001b[0m\u001b[36m \u001b[0m│\n",
       "│\u001b[36m \u001b[0m\u001b[36m    b\u001b[0m\u001b[36m \u001b[0m│\u001b[36m \u001b[0m\u001b[36m  27940\u001b[0m\u001b[36m \u001b[0m│\n",
       "│\u001b[36m \u001b[0m\u001b[36m    ų\u001b[0m\u001b[36m \u001b[0m│\u001b[36m \u001b[0m\u001b[36m  25191\u001b[0m\u001b[36m \u001b[0m│\n",
       "│\u001b[36m \u001b[0m\u001b[36m    š\u001b[0m\u001b[36m \u001b[0m│\u001b[36m \u001b[0m\u001b[36m  20481\u001b[0m\u001b[36m \u001b[0m│\n",
       "│\u001b[36m \u001b[0m\u001b[36m    ž\u001b[0m\u001b[36m \u001b[0m│\u001b[36m \u001b[0m\u001b[36m  15318\u001b[0m\u001b[36m \u001b[0m│\n",
       "│\u001b[36m \u001b[0m\u001b[36m    c\u001b[0m\u001b[36m \u001b[0m│\u001b[36m \u001b[0m\u001b[36m  14629\u001b[0m\u001b[36m \u001b[0m│\n",
       "│\u001b[36m \u001b[0m\u001b[36m    ą\u001b[0m\u001b[36m \u001b[0m│\u001b[36m \u001b[0m\u001b[36m  13072\u001b[0m\u001b[36m \u001b[0m│\n",
       "│\u001b[36m \u001b[0m\u001b[36m    f\u001b[0m\u001b[36m \u001b[0m│\u001b[36m \u001b[0m\u001b[36m   9484\u001b[0m\u001b[36m \u001b[0m│\n",
       "│\u001b[36m \u001b[0m\u001b[36m    ū\u001b[0m\u001b[36m \u001b[0m│\u001b[36m \u001b[0m\u001b[36m   9030\u001b[0m\u001b[36m \u001b[0m│\n",
       "│\u001b[36m \u001b[0m\u001b[36m    į\u001b[0m\u001b[36m \u001b[0m│\u001b[36m \u001b[0m\u001b[36m   8880\u001b[0m\u001b[36m \u001b[0m│\n",
       "│\u001b[36m \u001b[0m\u001b[36m    h\u001b[0m\u001b[36m \u001b[0m│\u001b[36m \u001b[0m\u001b[36m   8585\u001b[0m\u001b[36m \u001b[0m│\n",
       "│\u001b[36m \u001b[0m\u001b[36m    z\u001b[0m\u001b[36m \u001b[0m│\u001b[36m \u001b[0m\u001b[36m   8284\u001b[0m\u001b[36m \u001b[0m│\n",
       "│\u001b[36m \u001b[0m\u001b[36m    č\u001b[0m\u001b[36m \u001b[0m│\u001b[36m \u001b[0m\u001b[36m   7313\u001b[0m\u001b[36m \u001b[0m│\n",
       "│\u001b[36m \u001b[0m\u001b[36m    ę\u001b[0m\u001b[36m \u001b[0m│\u001b[36m \u001b[0m\u001b[36m   3358\u001b[0m\u001b[36m \u001b[0m│\n",
       "│\u001b[36m \u001b[0m\u001b[36m    x\u001b[0m\u001b[36m \u001b[0m│\u001b[36m \u001b[0m\u001b[36m   1567\u001b[0m\u001b[36m \u001b[0m│\n",
       "│\u001b[36m \u001b[0m\u001b[36m    w\u001b[0m\u001b[36m \u001b[0m│\u001b[36m \u001b[0m\u001b[36m   1008\u001b[0m\u001b[36m \u001b[0m│\n",
       "│\u001b[36m \u001b[0m\u001b[36m    q\u001b[0m\u001b[36m \u001b[0m│\u001b[36m \u001b[0m\u001b[36m    306\u001b[0m\u001b[36m \u001b[0m│\n",
       "└───────┴─────────┘\n"
      ]
     },
     "metadata": {},
     "output_type": "display_data"
    }
   ],
   "source": [
    "let_freq(letters_lit)"
   ]
  },
  {
   "cell_type": "code",
   "execution_count": 14,
   "metadata": {},
   "outputs": [
    {
     "data": {
      "text/html": [
       "<pre style=\"white-space:pre;overflow-x:auto;line-height:normal;font-family:Menlo,'DejaVu Sans Mono',consolas,'Courier New',monospace\"><span style=\"font-style: italic\">         корпус проценты         </span>\n",
       "┏━━━━━━━┳━━━━━━━━━━━━━━━━━━━━━━━┓\n",
       "┃<span style=\"font-weight: bold\"> буква </span>┃<span style=\"font-weight: bold\"> частота (в процентах) </span>┃\n",
       "┡━━━━━━━╇━━━━━━━━━━━━━━━━━━━━━━━┩\n",
       "│<span style=\"color: #008080; text-decoration-color: #008080\">     i </span>│<span style=\"color: #008080; text-decoration-color: #008080\">                 13.63 </span>│\n",
       "│<span style=\"color: #008080; text-decoration-color: #008080\">     a </span>│<span style=\"color: #008080; text-decoration-color: #008080\">                 11.03 </span>│\n",
       "│<span style=\"color: #008080; text-decoration-color: #008080\">     s </span>│<span style=\"color: #008080; text-decoration-color: #008080\">                  7.95 </span>│\n",
       "│<span style=\"color: #008080; text-decoration-color: #008080\">     o </span>│<span style=\"color: #008080; text-decoration-color: #008080\">                  6.43 </span>│\n",
       "│<span style=\"color: #008080; text-decoration-color: #008080\">     e </span>│<span style=\"color: #008080; text-decoration-color: #008080\">                   5.8 </span>│\n",
       "│<span style=\"color: #008080; text-decoration-color: #008080\">     t </span>│<span style=\"color: #008080; text-decoration-color: #008080\">                  5.67 </span>│\n",
       "│<span style=\"color: #008080; text-decoration-color: #008080\">     r </span>│<span style=\"color: #008080; text-decoration-color: #008080\">                  5.63 </span>│\n",
       "│<span style=\"color: #008080; text-decoration-color: #008080\">     n </span>│<span style=\"color: #008080; text-decoration-color: #008080\">                  5.06 </span>│\n",
       "│<span style=\"color: #008080; text-decoration-color: #008080\">     u </span>│<span style=\"color: #008080; text-decoration-color: #008080\">                  4.24 </span>│\n",
       "│<span style=\"color: #008080; text-decoration-color: #008080\">     k </span>│<span style=\"color: #008080; text-decoration-color: #008080\">                  4.02 </span>│\n",
       "│<span style=\"color: #008080; text-decoration-color: #008080\">     m </span>│<span style=\"color: #008080; text-decoration-color: #008080\">                  3.69 </span>│\n",
       "│<span style=\"color: #008080; text-decoration-color: #008080\">     l </span>│<span style=\"color: #008080; text-decoration-color: #008080\">                  3.44 </span>│\n",
       "│<span style=\"color: #008080; text-decoration-color: #008080\">     p </span>│<span style=\"color: #008080; text-decoration-color: #008080\">                  2.69 </span>│\n",
       "│<span style=\"color: #008080; text-decoration-color: #008080\">     d </span>│<span style=\"color: #008080; text-decoration-color: #008080\">                   2.6 </span>│\n",
       "│<span style=\"color: #008080; text-decoration-color: #008080\">     v </span>│<span style=\"color: #008080; text-decoration-color: #008080\">                  2.31 </span>│\n",
       "│<span style=\"color: #008080; text-decoration-color: #008080\">     j </span>│<span style=\"color: #008080; text-decoration-color: #008080\">                  2.18 </span>│\n",
       "│<span style=\"color: #008080; text-decoration-color: #008080\">     g </span>│<span style=\"color: #008080; text-decoration-color: #008080\">                  1.97 </span>│\n",
       "│<span style=\"color: #008080; text-decoration-color: #008080\">     ė </span>│<span style=\"color: #008080; text-decoration-color: #008080\">                  1.49 </span>│\n",
       "│<span style=\"color: #008080; text-decoration-color: #008080\">     y </span>│<span style=\"color: #008080; text-decoration-color: #008080\">                  1.43 </span>│\n",
       "│<span style=\"color: #008080; text-decoration-color: #008080\">     b </span>│<span style=\"color: #008080; text-decoration-color: #008080\">                   1.4 </span>│\n",
       "│<span style=\"color: #008080; text-decoration-color: #008080\">     ų </span>│<span style=\"color: #008080; text-decoration-color: #008080\">                  1.26 </span>│\n",
       "│<span style=\"color: #008080; text-decoration-color: #008080\">     š </span>│<span style=\"color: #008080; text-decoration-color: #008080\">                  1.02 </span>│\n",
       "│<span style=\"color: #008080; text-decoration-color: #008080\">     ž </span>│<span style=\"color: #008080; text-decoration-color: #008080\">                  0.77 </span>│\n",
       "│<span style=\"color: #008080; text-decoration-color: #008080\">     c </span>│<span style=\"color: #008080; text-decoration-color: #008080\">                  0.73 </span>│\n",
       "│<span style=\"color: #008080; text-decoration-color: #008080\">     ą </span>│<span style=\"color: #008080; text-decoration-color: #008080\">                  0.65 </span>│\n",
       "│<span style=\"color: #008080; text-decoration-color: #008080\">     f </span>│<span style=\"color: #008080; text-decoration-color: #008080\">                  0.47 </span>│\n",
       "│<span style=\"color: #008080; text-decoration-color: #008080\">     ū </span>│<span style=\"color: #008080; text-decoration-color: #008080\">                  0.45 </span>│\n",
       "│<span style=\"color: #008080; text-decoration-color: #008080\">     į </span>│<span style=\"color: #008080; text-decoration-color: #008080\">                  0.44 </span>│\n",
       "│<span style=\"color: #008080; text-decoration-color: #008080\">     h </span>│<span style=\"color: #008080; text-decoration-color: #008080\">                  0.43 </span>│\n",
       "│<span style=\"color: #008080; text-decoration-color: #008080\">     z </span>│<span style=\"color: #008080; text-decoration-color: #008080\">                  0.41 </span>│\n",
       "│<span style=\"color: #008080; text-decoration-color: #008080\">     č </span>│<span style=\"color: #008080; text-decoration-color: #008080\">                  0.37 </span>│\n",
       "│<span style=\"color: #008080; text-decoration-color: #008080\">     ę </span>│<span style=\"color: #008080; text-decoration-color: #008080\">                  0.17 </span>│\n",
       "│<span style=\"color: #008080; text-decoration-color: #008080\">     x </span>│<span style=\"color: #008080; text-decoration-color: #008080\">                  0.08 </span>│\n",
       "│<span style=\"color: #008080; text-decoration-color: #008080\">     w </span>│<span style=\"color: #008080; text-decoration-color: #008080\">                  0.05 </span>│\n",
       "│<span style=\"color: #008080; text-decoration-color: #008080\">     q </span>│<span style=\"color: #008080; text-decoration-color: #008080\">                  0.02 </span>│\n",
       "└───────┴───────────────────────┘\n",
       "</pre>\n"
      ],
      "text/plain": [
       "\u001b[3m         корпус проценты         \u001b[0m\n",
       "┏━━━━━━━┳━━━━━━━━━━━━━━━━━━━━━━━┓\n",
       "┃\u001b[1m \u001b[0m\u001b[1mбуква\u001b[0m\u001b[1m \u001b[0m┃\u001b[1m \u001b[0m\u001b[1mчастота (в процентах)\u001b[0m\u001b[1m \u001b[0m┃\n",
       "┡━━━━━━━╇━━━━━━━━━━━━━━━━━━━━━━━┩\n",
       "│\u001b[36m \u001b[0m\u001b[36m    i\u001b[0m\u001b[36m \u001b[0m│\u001b[36m \u001b[0m\u001b[36m                13.63\u001b[0m\u001b[36m \u001b[0m│\n",
       "│\u001b[36m \u001b[0m\u001b[36m    a\u001b[0m\u001b[36m \u001b[0m│\u001b[36m \u001b[0m\u001b[36m                11.03\u001b[0m\u001b[36m \u001b[0m│\n",
       "│\u001b[36m \u001b[0m\u001b[36m    s\u001b[0m\u001b[36m \u001b[0m│\u001b[36m \u001b[0m\u001b[36m                 7.95\u001b[0m\u001b[36m \u001b[0m│\n",
       "│\u001b[36m \u001b[0m\u001b[36m    o\u001b[0m\u001b[36m \u001b[0m│\u001b[36m \u001b[0m\u001b[36m                 6.43\u001b[0m\u001b[36m \u001b[0m│\n",
       "│\u001b[36m \u001b[0m\u001b[36m    e\u001b[0m\u001b[36m \u001b[0m│\u001b[36m \u001b[0m\u001b[36m                  5.8\u001b[0m\u001b[36m \u001b[0m│\n",
       "│\u001b[36m \u001b[0m\u001b[36m    t\u001b[0m\u001b[36m \u001b[0m│\u001b[36m \u001b[0m\u001b[36m                 5.67\u001b[0m\u001b[36m \u001b[0m│\n",
       "│\u001b[36m \u001b[0m\u001b[36m    r\u001b[0m\u001b[36m \u001b[0m│\u001b[36m \u001b[0m\u001b[36m                 5.63\u001b[0m\u001b[36m \u001b[0m│\n",
       "│\u001b[36m \u001b[0m\u001b[36m    n\u001b[0m\u001b[36m \u001b[0m│\u001b[36m \u001b[0m\u001b[36m                 5.06\u001b[0m\u001b[36m \u001b[0m│\n",
       "│\u001b[36m \u001b[0m\u001b[36m    u\u001b[0m\u001b[36m \u001b[0m│\u001b[36m \u001b[0m\u001b[36m                 4.24\u001b[0m\u001b[36m \u001b[0m│\n",
       "│\u001b[36m \u001b[0m\u001b[36m    k\u001b[0m\u001b[36m \u001b[0m│\u001b[36m \u001b[0m\u001b[36m                 4.02\u001b[0m\u001b[36m \u001b[0m│\n",
       "│\u001b[36m \u001b[0m\u001b[36m    m\u001b[0m\u001b[36m \u001b[0m│\u001b[36m \u001b[0m\u001b[36m                 3.69\u001b[0m\u001b[36m \u001b[0m│\n",
       "│\u001b[36m \u001b[0m\u001b[36m    l\u001b[0m\u001b[36m \u001b[0m│\u001b[36m \u001b[0m\u001b[36m                 3.44\u001b[0m\u001b[36m \u001b[0m│\n",
       "│\u001b[36m \u001b[0m\u001b[36m    p\u001b[0m\u001b[36m \u001b[0m│\u001b[36m \u001b[0m\u001b[36m                 2.69\u001b[0m\u001b[36m \u001b[0m│\n",
       "│\u001b[36m \u001b[0m\u001b[36m    d\u001b[0m\u001b[36m \u001b[0m│\u001b[36m \u001b[0m\u001b[36m                  2.6\u001b[0m\u001b[36m \u001b[0m│\n",
       "│\u001b[36m \u001b[0m\u001b[36m    v\u001b[0m\u001b[36m \u001b[0m│\u001b[36m \u001b[0m\u001b[36m                 2.31\u001b[0m\u001b[36m \u001b[0m│\n",
       "│\u001b[36m \u001b[0m\u001b[36m    j\u001b[0m\u001b[36m \u001b[0m│\u001b[36m \u001b[0m\u001b[36m                 2.18\u001b[0m\u001b[36m \u001b[0m│\n",
       "│\u001b[36m \u001b[0m\u001b[36m    g\u001b[0m\u001b[36m \u001b[0m│\u001b[36m \u001b[0m\u001b[36m                 1.97\u001b[0m\u001b[36m \u001b[0m│\n",
       "│\u001b[36m \u001b[0m\u001b[36m    ė\u001b[0m\u001b[36m \u001b[0m│\u001b[36m \u001b[0m\u001b[36m                 1.49\u001b[0m\u001b[36m \u001b[0m│\n",
       "│\u001b[36m \u001b[0m\u001b[36m    y\u001b[0m\u001b[36m \u001b[0m│\u001b[36m \u001b[0m\u001b[36m                 1.43\u001b[0m\u001b[36m \u001b[0m│\n",
       "│\u001b[36m \u001b[0m\u001b[36m    b\u001b[0m\u001b[36m \u001b[0m│\u001b[36m \u001b[0m\u001b[36m                  1.4\u001b[0m\u001b[36m \u001b[0m│\n",
       "│\u001b[36m \u001b[0m\u001b[36m    ų\u001b[0m\u001b[36m \u001b[0m│\u001b[36m \u001b[0m\u001b[36m                 1.26\u001b[0m\u001b[36m \u001b[0m│\n",
       "│\u001b[36m \u001b[0m\u001b[36m    š\u001b[0m\u001b[36m \u001b[0m│\u001b[36m \u001b[0m\u001b[36m                 1.02\u001b[0m\u001b[36m \u001b[0m│\n",
       "│\u001b[36m \u001b[0m\u001b[36m    ž\u001b[0m\u001b[36m \u001b[0m│\u001b[36m \u001b[0m\u001b[36m                 0.77\u001b[0m\u001b[36m \u001b[0m│\n",
       "│\u001b[36m \u001b[0m\u001b[36m    c\u001b[0m\u001b[36m \u001b[0m│\u001b[36m \u001b[0m\u001b[36m                 0.73\u001b[0m\u001b[36m \u001b[0m│\n",
       "│\u001b[36m \u001b[0m\u001b[36m    ą\u001b[0m\u001b[36m \u001b[0m│\u001b[36m \u001b[0m\u001b[36m                 0.65\u001b[0m\u001b[36m \u001b[0m│\n",
       "│\u001b[36m \u001b[0m\u001b[36m    f\u001b[0m\u001b[36m \u001b[0m│\u001b[36m \u001b[0m\u001b[36m                 0.47\u001b[0m\u001b[36m \u001b[0m│\n",
       "│\u001b[36m \u001b[0m\u001b[36m    ū\u001b[0m\u001b[36m \u001b[0m│\u001b[36m \u001b[0m\u001b[36m                 0.45\u001b[0m\u001b[36m \u001b[0m│\n",
       "│\u001b[36m \u001b[0m\u001b[36m    į\u001b[0m\u001b[36m \u001b[0m│\u001b[36m \u001b[0m\u001b[36m                 0.44\u001b[0m\u001b[36m \u001b[0m│\n",
       "│\u001b[36m \u001b[0m\u001b[36m    h\u001b[0m\u001b[36m \u001b[0m│\u001b[36m \u001b[0m\u001b[36m                 0.43\u001b[0m\u001b[36m \u001b[0m│\n",
       "│\u001b[36m \u001b[0m\u001b[36m    z\u001b[0m\u001b[36m \u001b[0m│\u001b[36m \u001b[0m\u001b[36m                 0.41\u001b[0m\u001b[36m \u001b[0m│\n",
       "│\u001b[36m \u001b[0m\u001b[36m    č\u001b[0m\u001b[36m \u001b[0m│\u001b[36m \u001b[0m\u001b[36m                 0.37\u001b[0m\u001b[36m \u001b[0m│\n",
       "│\u001b[36m \u001b[0m\u001b[36m    ę\u001b[0m\u001b[36m \u001b[0m│\u001b[36m \u001b[0m\u001b[36m                 0.17\u001b[0m\u001b[36m \u001b[0m│\n",
       "│\u001b[36m \u001b[0m\u001b[36m    x\u001b[0m\u001b[36m \u001b[0m│\u001b[36m \u001b[0m\u001b[36m                 0.08\u001b[0m\u001b[36m \u001b[0m│\n",
       "│\u001b[36m \u001b[0m\u001b[36m    w\u001b[0m\u001b[36m \u001b[0m│\u001b[36m \u001b[0m\u001b[36m                 0.05\u001b[0m\u001b[36m \u001b[0m│\n",
       "│\u001b[36m \u001b[0m\u001b[36m    q\u001b[0m\u001b[36m \u001b[0m│\u001b[36m \u001b[0m\u001b[36m                 0.02\u001b[0m\u001b[36m \u001b[0m│\n",
       "└───────┴───────────────────────┘\n"
      ]
     },
     "metadata": {},
     "output_type": "display_data"
    }
   ],
   "source": [
    "let_freq_pers(letters_lit)"
   ]
  },
  {
   "cell_type": "code",
   "execution_count": 15,
   "metadata": {},
   "outputs": [
    {
     "data": {
      "image/png": "[encoded data removed]",
      "text/plain": [
       "<Figure size 640x480 with 1 Axes>"
      ]
     },
     "metadata": {},
     "output_type": "display_data"
    }
   ],
   "source": [
    "plot(letters_lit)"
   ]
  },
  {
   "cell_type": "code",
   "execution_count": null,
   "metadata": {},
   "outputs": [],
   "source": [
    "tsipf(letters_lit)"
   ]
  },
  {
   "cell_type": "code",
   "execution_count": null,
   "metadata": {},
   "outputs": [],
   "source": [
    "plot_ind(letters_lit)"
   ]
  },
  {
   "cell_type": "markdown",
   "metadata": {},
   "source": [
    "Французский:"
   ]
  },
  {
   "cell_type": "code",
   "execution_count": 16,
   "metadata": {},
   "outputs": [],
   "source": [
    "texts_fr = open(r\"C:\\Users\\lizao\\Desktop\\smth\\shabat_fr.txt\", 'w', encoding = 'utf-8')\n",
    "\n",
    "wiki_wiki = wikipediaapi.Wikipedia(\n",
    "        language='fr',\n",
    "        extract_format=wikipediaapi.ExtractFormat.WIKI\n",
    ")\n",
    "\n",
    "page_py = wiki_wiki.page('Linguistique')\n",
    "for name in page_py.links.keys():\n",
    "    texts_fr.write(wiki_wiki.page(name).text)\n",
    "    time.sleep(2)"
   ]
  },
  {
   "cell_type": "code",
   "execution_count": 17,
   "metadata": {},
   "outputs": [
    {
     "name": "stdout",
     "output_type": "stream",
     "text": [
      "2000000\n"
     ]
    }
   ],
   "source": [
    "letters_fr = {}\n",
    "letset_fr = set(['a', 'à', 'â', 'æ', 'b', 'c', 'ç', 'd', 'e', 'é', 'è', 'ê', 'ë', 'f', 'g', 'h', 'i', 'î', 'ï', 'j', 'k', 'l', 'm', 'n', 'o', 'ô', 'œ', 'p', 'q', 'r', 's', 't', 'u', 'ù', 'û', 'ü', 'v', 'w', 'x', 'y', 'ÿ', 'z'])\n",
    "wordcount_fr = 0\n",
    "\n",
    "with open(r\"C:\\Users\\lizao\\Desktop\\smth\\shabat_fr.txt\", 'r', encoding = 'utf-8') as f:\n",
    "     text_fr = f.read()\n",
    "\n",
    "words_fr = re.finditer(r'[AÀÂÆBCÇDEÉÈÊËFGHIÎÏJKLMNOÔŒPQRSTUÙÛÜVWXYŸZ]+(?:-[AÀÂÆBCÇDEÉÈÊËFGHIÎÏJKLMNOÔŒPQRSTUÙÛÜVWXYŸZ]+)?', text_fr, re.I)\n",
    "for word in words_fr:\n",
    "    if wordcount_fr == 2e6:\n",
    "        break\n",
    "    else:\n",
    "        wordcount_fr += 1\n",
    "        for char in word.group():\n",
    "            if char.lower() in letset_fr:\n",
    "                if char.lower() in letters_fr:\n",
    "                    letters_fr[char.lower()] +=1\n",
    "                else:\n",
    "                    letters_fr[char.lower()] = 1\n",
    "\n",
    "print(wordcount_fr)"
   ]
  },
  {
   "cell_type": "code",
   "execution_count": 18,
   "metadata": {},
   "outputs": [
    {
     "data": {
      "text/html": [
       "<pre style=\"white-space:pre;overflow-x:auto;line-height:normal;font-family:Menlo,'DejaVu Sans Mono',consolas,'Courier New',monospace\"><span style=\"font-style: italic\">      корпус       </span>\n",
       "┏━━━━━━━┳━━━━━━━━━┓\n",
       "┃<span style=\"font-weight: bold\"> буква </span>┃<span style=\"font-weight: bold\"> частота </span>┃\n",
       "┡━━━━━━━╇━━━━━━━━━┩\n",
       "│<span style=\"color: #008080; text-decoration-color: #008080\">     e </span>│<span style=\"color: #008080; text-decoration-color: #008080\">  283207 </span>│\n",
       "│<span style=\"color: #008080; text-decoration-color: #008080\">     s </span>│<span style=\"color: #008080; text-decoration-color: #008080\">  160771 </span>│\n",
       "│<span style=\"color: #008080; text-decoration-color: #008080\">     i </span>│<span style=\"color: #008080; text-decoration-color: #008080\">  156517 </span>│\n",
       "│<span style=\"color: #008080; text-decoration-color: #008080\">     n </span>│<span style=\"color: #008080; text-decoration-color: #008080\">  153919 </span>│\n",
       "│<span style=\"color: #008080; text-decoration-color: #008080\">     a </span>│<span style=\"color: #008080; text-decoration-color: #008080\">  150369 </span>│\n",
       "│<span style=\"color: #008080; text-decoration-color: #008080\">     t </span>│<span style=\"color: #008080; text-decoration-color: #008080\">  137799 </span>│\n",
       "│<span style=\"color: #008080; text-decoration-color: #008080\">     r </span>│<span style=\"color: #008080; text-decoration-color: #008080\">  126331 </span>│\n",
       "│<span style=\"color: #008080; text-decoration-color: #008080\">     l </span>│<span style=\"color: #008080; text-decoration-color: #008080\">  119202 </span>│\n",
       "│<span style=\"color: #008080; text-decoration-color: #008080\">     o </span>│<span style=\"color: #008080; text-decoration-color: #008080\">  111326 </span>│\n",
       "│<span style=\"color: #008080; text-decoration-color: #008080\">     u </span>│<span style=\"color: #008080; text-decoration-color: #008080\">  105556 </span>│\n",
       "│<span style=\"color: #008080; text-decoration-color: #008080\">     d </span>│<span style=\"color: #008080; text-decoration-color: #008080\">   78372 </span>│\n",
       "│<span style=\"color: #008080; text-decoration-color: #008080\">     c </span>│<span style=\"color: #008080; text-decoration-color: #008080\">   69897 </span>│\n",
       "│<span style=\"color: #008080; text-decoration-color: #008080\">     p </span>│<span style=\"color: #008080; text-decoration-color: #008080\">   58966 </span>│\n",
       "│<span style=\"color: #008080; text-decoration-color: #008080\">     m </span>│<span style=\"color: #008080; text-decoration-color: #008080\">   56632 </span>│\n",
       "│<span style=\"color: #008080; text-decoration-color: #008080\">     é </span>│<span style=\"color: #008080; text-decoration-color: #008080\">   47403 </span>│\n",
       "│<span style=\"color: #008080; text-decoration-color: #008080\">     g </span>│<span style=\"color: #008080; text-decoration-color: #008080\">   31164 </span>│\n",
       "│<span style=\"color: #008080; text-decoration-color: #008080\">     f </span>│<span style=\"color: #008080; text-decoration-color: #008080\">   21947 </span>│\n",
       "│<span style=\"color: #008080; text-decoration-color: #008080\">     v </span>│<span style=\"color: #008080; text-decoration-color: #008080\">   21340 </span>│\n",
       "│<span style=\"color: #008080; text-decoration-color: #008080\">     h </span>│<span style=\"color: #008080; text-decoration-color: #008080\">   21213 </span>│\n",
       "│<span style=\"color: #008080; text-decoration-color: #008080\">     q </span>│<span style=\"color: #008080; text-decoration-color: #008080\">   20556 </span>│\n",
       "│<span style=\"color: #008080; text-decoration-color: #008080\">     b </span>│<span style=\"color: #008080; text-decoration-color: #008080\">   17558 </span>│\n",
       "│<span style=\"color: #008080; text-decoration-color: #008080\">     x </span>│<span style=\"color: #008080; text-decoration-color: #008080\">    9538 </span>│\n",
       "│<span style=\"color: #008080; text-decoration-color: #008080\">     y </span>│<span style=\"color: #008080; text-decoration-color: #008080\">    8297 </span>│\n",
       "│<span style=\"color: #008080; text-decoration-color: #008080\">     è </span>│<span style=\"color: #008080; text-decoration-color: #008080\">    6957 </span>│\n",
       "│<span style=\"color: #008080; text-decoration-color: #008080\">     à </span>│<span style=\"color: #008080; text-decoration-color: #008080\">    6605 </span>│\n",
       "│<span style=\"color: #008080; text-decoration-color: #008080\">     j </span>│<span style=\"color: #008080; text-decoration-color: #008080\">    4797 </span>│\n",
       "│<span style=\"color: #008080; text-decoration-color: #008080\">     k </span>│<span style=\"color: #008080; text-decoration-color: #008080\">    3368 </span>│\n",
       "│<span style=\"color: #008080; text-decoration-color: #008080\">     ç </span>│<span style=\"color: #008080; text-decoration-color: #008080\">    1963 </span>│\n",
       "│<span style=\"color: #008080; text-decoration-color: #008080\">     ê </span>│<span style=\"color: #008080; text-decoration-color: #008080\">    1856 </span>│\n",
       "│<span style=\"color: #008080; text-decoration-color: #008080\">     w </span>│<span style=\"color: #008080; text-decoration-color: #008080\">    1839 </span>│\n",
       "│<span style=\"color: #008080; text-decoration-color: #008080\">     z </span>│<span style=\"color: #008080; text-decoration-color: #008080\">    1628 </span>│\n",
       "│<span style=\"color: #008080; text-decoration-color: #008080\">     î </span>│<span style=\"color: #008080; text-decoration-color: #008080\">     637 </span>│\n",
       "│<span style=\"color: #008080; text-decoration-color: #008080\">     ô </span>│<span style=\"color: #008080; text-decoration-color: #008080\">     554 </span>│\n",
       "│<span style=\"color: #008080; text-decoration-color: #008080\">     â </span>│<span style=\"color: #008080; text-decoration-color: #008080\">     487 </span>│\n",
       "│<span style=\"color: #008080; text-decoration-color: #008080\">     ï </span>│<span style=\"color: #008080; text-decoration-color: #008080\">     416 </span>│\n",
       "│<span style=\"color: #008080; text-decoration-color: #008080\">     ù </span>│<span style=\"color: #008080; text-decoration-color: #008080\">     359 </span>│\n",
       "│<span style=\"color: #008080; text-decoration-color: #008080\">     œ </span>│<span style=\"color: #008080; text-decoration-color: #008080\">     257 </span>│\n",
       "│<span style=\"color: #008080; text-decoration-color: #008080\">     ü </span>│<span style=\"color: #008080; text-decoration-color: #008080\">     164 </span>│\n",
       "│<span style=\"color: #008080; text-decoration-color: #008080\">     û </span>│<span style=\"color: #008080; text-decoration-color: #008080\">     141 </span>│\n",
       "│<span style=\"color: #008080; text-decoration-color: #008080\">     ë </span>│<span style=\"color: #008080; text-decoration-color: #008080\">      54 </span>│\n",
       "│<span style=\"color: #008080; text-decoration-color: #008080\">     æ </span>│<span style=\"color: #008080; text-decoration-color: #008080\">      26 </span>│\n",
       "│<span style=\"color: #008080; text-decoration-color: #008080\">     ÿ </span>│<span style=\"color: #008080; text-decoration-color: #008080\">       1 </span>│\n",
       "└───────┴─────────┘\n",
       "</pre>\n"
      ],
      "text/plain": [
       "\u001b[3m      корпус       \u001b[0m\n",
       "┏━━━━━━━┳━━━━━━━━━┓\n",
       "┃\u001b[1m \u001b[0m\u001b[1mбуква\u001b[0m\u001b[1m \u001b[0m┃\u001b[1m \u001b[0m\u001b[1mчастота\u001b[0m\u001b[1m \u001b[0m┃\n",
       "┡━━━━━━━╇━━━━━━━━━┩\n",
       "│\u001b[36m \u001b[0m\u001b[36m    e\u001b[0m\u001b[36m \u001b[0m│\u001b[36m \u001b[0m\u001b[36m 283207\u001b[0m\u001b[36m \u001b[0m│\n",
       "│\u001b[36m \u001b[0m\u001b[36m    s\u001b[0m\u001b[36m \u001b[0m│\u001b[36m \u001b[0m\u001b[36m 160771\u001b[0m\u001b[36m \u001b[0m│\n",
       "│\u001b[36m \u001b[0m\u001b[36m    i\u001b[0m\u001b[36m \u001b[0m│\u001b[36m \u001b[0m\u001b[36m 156517\u001b[0m\u001b[36m \u001b[0m│\n",
       "│\u001b[36m \u001b[0m\u001b[36m    n\u001b[0m\u001b[36m \u001b[0m│\u001b[36m \u001b[0m\u001b[36m 153919\u001b[0m\u001b[36m \u001b[0m│\n",
       "│\u001b[36m \u001b[0m\u001b[36m    a\u001b[0m\u001b[36m \u001b[0m│\u001b[36m \u001b[0m\u001b[36m 150369\u001b[0m\u001b[36m \u001b[0m│\n",
       "│\u001b[36m \u001b[0m\u001b[36m    t\u001b[0m\u001b[36m \u001b[0m│\u001b[36m \u001b[0m\u001b[36m 137799\u001b[0m\u001b[36m \u001b[0m│\n",
       "│\u001b[36m \u001b[0m\u001b[36m    r\u001b[0m\u001b[36m \u001b[0m│\u001b[36m \u001b[0m\u001b[36m 126331\u001b[0m\u001b[36m \u001b[0m│\n",
       "│\u001b[36m \u001b[0m\u001b[36m    l\u001b[0m\u001b[36m \u001b[0m│\u001b[36m \u001b[0m\u001b[36m 119202\u001b[0m\u001b[36m \u001b[0m│\n",
       "│\u001b[36m \u001b[0m\u001b[36m    o\u001b[0m\u001b[36m \u001b[0m│\u001b[36m \u001b[0m\u001b[36m 111326\u001b[0m\u001b[36m \u001b[0m│\n",
       "│\u001b[36m \u001b[0m\u001b[36m    u\u001b[0m\u001b[36m \u001b[0m│\u001b[36m \u001b[0m\u001b[36m 105556\u001b[0m\u001b[36m \u001b[0m│\n",
       "│\u001b[36m \u001b[0m\u001b[36m    d\u001b[0m\u001b[36m \u001b[0m│\u001b[36m \u001b[0m\u001b[36m  78372\u001b[0m\u001b[36m \u001b[0m│\n",
       "│\u001b[36m \u001b[0m\u001b[36m    c\u001b[0m\u001b[36m \u001b[0m│\u001b[36m \u001b[0m\u001b[36m  69897\u001b[0m\u001b[36m \u001b[0m│\n",
       "│\u001b[36m \u001b[0m\u001b[36m    p\u001b[0m\u001b[36m \u001b[0m│\u001b[36m \u001b[0m\u001b[36m  58966\u001b[0m\u001b[36m \u001b[0m│\n",
       "│\u001b[36m \u001b[0m\u001b[36m    m\u001b[0m\u001b[36m \u001b[0m│\u001b[36m \u001b[0m\u001b[36m  56632\u001b[0m\u001b[36m \u001b[0m│\n",
       "│\u001b[36m \u001b[0m\u001b[36m    é\u001b[0m\u001b[36m \u001b[0m│\u001b[36m \u001b[0m\u001b[36m  47403\u001b[0m\u001b[36m \u001b[0m│\n",
       "│\u001b[36m \u001b[0m\u001b[36m    g\u001b[0m\u001b[36m \u001b[0m│\u001b[36m \u001b[0m\u001b[36m  31164\u001b[0m\u001b[36m \u001b[0m│\n",
       "│\u001b[36m \u001b[0m\u001b[36m    f\u001b[0m\u001b[36m \u001b[0m│\u001b[36m \u001b[0m\u001b[36m  21947\u001b[0m\u001b[36m \u001b[0m│\n",
       "│\u001b[36m \u001b[0m\u001b[36m    v\u001b[0m\u001b[36m \u001b[0m│\u001b[36m \u001b[0m\u001b[36m  21340\u001b[0m\u001b[36m \u001b[0m│\n",
       "│\u001b[36m \u001b[0m\u001b[36m    h\u001b[0m\u001b[36m \u001b[0m│\u001b[36m \u001b[0m\u001b[36m  21213\u001b[0m\u001b[36m \u001b[0m│\n",
       "│\u001b[36m \u001b[0m\u001b[36m    q\u001b[0m\u001b[36m \u001b[0m│\u001b[36m \u001b[0m\u001b[36m  20556\u001b[0m\u001b[36m \u001b[0m│\n",
       "│\u001b[36m \u001b[0m\u001b[36m    b\u001b[0m\u001b[36m \u001b[0m│\u001b[36m \u001b[0m\u001b[36m  17558\u001b[0m\u001b[36m \u001b[0m│\n",
       "│\u001b[36m \u001b[0m\u001b[36m    x\u001b[0m\u001b[36m \u001b[0m│\u001b[36m \u001b[0m\u001b[36m   9538\u001b[0m\u001b[36m \u001b[0m│\n",
       "│\u001b[36m \u001b[0m\u001b[36m    y\u001b[0m\u001b[36m \u001b[0m│\u001b[36m \u001b[0m\u001b[36m   8297\u001b[0m\u001b[36m \u001b[0m│\n",
       "│\u001b[36m \u001b[0m\u001b[36m    è\u001b[0m\u001b[36m \u001b[0m│\u001b[36m \u001b[0m\u001b[36m   6957\u001b[0m\u001b[36m \u001b[0m│\n",
       "│\u001b[36m \u001b[0m\u001b[36m    à\u001b[0m\u001b[36m \u001b[0m│\u001b[36m \u001b[0m\u001b[36m   6605\u001b[0m\u001b[36m \u001b[0m│\n",
       "│\u001b[36m \u001b[0m\u001b[36m    j\u001b[0m\u001b[36m \u001b[0m│\u001b[36m \u001b[0m\u001b[36m   4797\u001b[0m\u001b[36m \u001b[0m│\n",
       "│\u001b[36m \u001b[0m\u001b[36m    k\u001b[0m\u001b[36m \u001b[0m│\u001b[36m \u001b[0m\u001b[36m   3368\u001b[0m\u001b[36m \u001b[0m│\n",
       "│\u001b[36m \u001b[0m\u001b[36m    ç\u001b[0m\u001b[36m \u001b[0m│\u001b[36m \u001b[0m\u001b[36m   1963\u001b[0m\u001b[36m \u001b[0m│\n",
       "│\u001b[36m \u001b[0m\u001b[36m    ê\u001b[0m\u001b[36m \u001b[0m│\u001b[36m \u001b[0m\u001b[36m   1856\u001b[0m\u001b[36m \u001b[0m│\n",
       "│\u001b[36m \u001b[0m\u001b[36m    w\u001b[0m\u001b[36m \u001b[0m│\u001b[36m \u001b[0m\u001b[36m   1839\u001b[0m\u001b[36m \u001b[0m│\n",
       "│\u001b[36m \u001b[0m\u001b[36m    z\u001b[0m\u001b[36m \u001b[0m│\u001b[36m \u001b[0m\u001b[36m   1628\u001b[0m\u001b[36m \u001b[0m│\n",
       "│\u001b[36m \u001b[0m\u001b[36m    î\u001b[0m\u001b[36m \u001b[0m│\u001b[36m \u001b[0m\u001b[36m    637\u001b[0m\u001b[36m \u001b[0m│\n",
       "│\u001b[36m \u001b[0m\u001b[36m    ô\u001b[0m\u001b[36m \u001b[0m│\u001b[36m \u001b[0m\u001b[36m    554\u001b[0m\u001b[36m \u001b[0m│\n",
       "│\u001b[36m \u001b[0m\u001b[36m    â\u001b[0m\u001b[36m \u001b[0m│\u001b[36m \u001b[0m\u001b[36m    487\u001b[0m\u001b[36m \u001b[0m│\n",
       "│\u001b[36m \u001b[0m\u001b[36m    ï\u001b[0m\u001b[36m \u001b[0m│\u001b[36m \u001b[0m\u001b[36m    416\u001b[0m\u001b[36m \u001b[0m│\n",
       "│\u001b[36m \u001b[0m\u001b[36m    ù\u001b[0m\u001b[36m \u001b[0m│\u001b[36m \u001b[0m\u001b[36m    359\u001b[0m\u001b[36m \u001b[0m│\n",
       "│\u001b[36m \u001b[0m\u001b[36m    œ\u001b[0m\u001b[36m \u001b[0m│\u001b[36m \u001b[0m\u001b[36m    257\u001b[0m\u001b[36m \u001b[0m│\n",
       "│\u001b[36m \u001b[0m\u001b[36m    ü\u001b[0m\u001b[36m \u001b[0m│\u001b[36m \u001b[0m\u001b[36m    164\u001b[0m\u001b[36m \u001b[0m│\n",
       "│\u001b[36m \u001b[0m\u001b[36m    û\u001b[0m\u001b[36m \u001b[0m│\u001b[36m \u001b[0m\u001b[36m    141\u001b[0m\u001b[36m \u001b[0m│\n",
       "│\u001b[36m \u001b[0m\u001b[36m    ë\u001b[0m\u001b[36m \u001b[0m│\u001b[36m \u001b[0m\u001b[36m     54\u001b[0m\u001b[36m \u001b[0m│\n",
       "│\u001b[36m \u001b[0m\u001b[36m    æ\u001b[0m\u001b[36m \u001b[0m│\u001b[36m \u001b[0m\u001b[36m     26\u001b[0m\u001b[36m \u001b[0m│\n",
       "│\u001b[36m \u001b[0m\u001b[36m    ÿ\u001b[0m\u001b[36m \u001b[0m│\u001b[36m \u001b[0m\u001b[36m      1\u001b[0m\u001b[36m \u001b[0m│\n",
       "└───────┴─────────┘\n"
      ]
     },
     "metadata": {},
     "output_type": "display_data"
    }
   ],
   "source": [
    "let_freq(letters_fr)"
   ]
  },
  {
   "cell_type": "code",
   "execution_count": 19,
   "metadata": {},
   "outputs": [
    {
     "data": {
      "text/html": [
       "<pre style=\"white-space:pre;overflow-x:auto;line-height:normal;font-family:Menlo,'DejaVu Sans Mono',consolas,'Courier New',monospace\"><span style=\"font-style: italic\">         корпус проценты         </span>\n",
       "┏━━━━━━━┳━━━━━━━━━━━━━━━━━━━━━━━┓\n",
       "┃<span style=\"font-weight: bold\"> буква </span>┃<span style=\"font-weight: bold\"> частота (в процентах) </span>┃\n",
       "┡━━━━━━━╇━━━━━━━━━━━━━━━━━━━━━━━┩\n",
       "│<span style=\"color: #008080; text-decoration-color: #008080\">     e </span>│<span style=\"color: #008080; text-decoration-color: #008080\">                 14.16 </span>│\n",
       "│<span style=\"color: #008080; text-decoration-color: #008080\">     s </span>│<span style=\"color: #008080; text-decoration-color: #008080\">                  8.04 </span>│\n",
       "│<span style=\"color: #008080; text-decoration-color: #008080\">     i </span>│<span style=\"color: #008080; text-decoration-color: #008080\">                  7.83 </span>│\n",
       "│<span style=\"color: #008080; text-decoration-color: #008080\">     n </span>│<span style=\"color: #008080; text-decoration-color: #008080\">                   7.7 </span>│\n",
       "│<span style=\"color: #008080; text-decoration-color: #008080\">     a </span>│<span style=\"color: #008080; text-decoration-color: #008080\">                  7.52 </span>│\n",
       "│<span style=\"color: #008080; text-decoration-color: #008080\">     t </span>│<span style=\"color: #008080; text-decoration-color: #008080\">                  6.89 </span>│\n",
       "│<span style=\"color: #008080; text-decoration-color: #008080\">     r </span>│<span style=\"color: #008080; text-decoration-color: #008080\">                  6.32 </span>│\n",
       "│<span style=\"color: #008080; text-decoration-color: #008080\">     l </span>│<span style=\"color: #008080; text-decoration-color: #008080\">                  5.96 </span>│\n",
       "│<span style=\"color: #008080; text-decoration-color: #008080\">     o </span>│<span style=\"color: #008080; text-decoration-color: #008080\">                  5.57 </span>│\n",
       "│<span style=\"color: #008080; text-decoration-color: #008080\">     u </span>│<span style=\"color: #008080; text-decoration-color: #008080\">                  5.28 </span>│\n",
       "│<span style=\"color: #008080; text-decoration-color: #008080\">     d </span>│<span style=\"color: #008080; text-decoration-color: #008080\">                  3.92 </span>│\n",
       "│<span style=\"color: #008080; text-decoration-color: #008080\">     c </span>│<span style=\"color: #008080; text-decoration-color: #008080\">                  3.49 </span>│\n",
       "│<span style=\"color: #008080; text-decoration-color: #008080\">     p </span>│<span style=\"color: #008080; text-decoration-color: #008080\">                  2.95 </span>│\n",
       "│<span style=\"color: #008080; text-decoration-color: #008080\">     m </span>│<span style=\"color: #008080; text-decoration-color: #008080\">                  2.83 </span>│\n",
       "│<span style=\"color: #008080; text-decoration-color: #008080\">     é </span>│<span style=\"color: #008080; text-decoration-color: #008080\">                  2.37 </span>│\n",
       "│<span style=\"color: #008080; text-decoration-color: #008080\">     g </span>│<span style=\"color: #008080; text-decoration-color: #008080\">                  1.56 </span>│\n",
       "│<span style=\"color: #008080; text-decoration-color: #008080\">     f </span>│<span style=\"color: #008080; text-decoration-color: #008080\">                   1.1 </span>│\n",
       "│<span style=\"color: #008080; text-decoration-color: #008080\">     v </span>│<span style=\"color: #008080; text-decoration-color: #008080\">                  1.07 </span>│\n",
       "│<span style=\"color: #008080; text-decoration-color: #008080\">     h </span>│<span style=\"color: #008080; text-decoration-color: #008080\">                  1.06 </span>│\n",
       "│<span style=\"color: #008080; text-decoration-color: #008080\">     q </span>│<span style=\"color: #008080; text-decoration-color: #008080\">                  1.03 </span>│\n",
       "│<span style=\"color: #008080; text-decoration-color: #008080\">     b </span>│<span style=\"color: #008080; text-decoration-color: #008080\">                  0.88 </span>│\n",
       "│<span style=\"color: #008080; text-decoration-color: #008080\">     x </span>│<span style=\"color: #008080; text-decoration-color: #008080\">                  0.48 </span>│\n",
       "│<span style=\"color: #008080; text-decoration-color: #008080\">     y </span>│<span style=\"color: #008080; text-decoration-color: #008080\">                  0.41 </span>│\n",
       "│<span style=\"color: #008080; text-decoration-color: #008080\">     è </span>│<span style=\"color: #008080; text-decoration-color: #008080\">                  0.35 </span>│\n",
       "│<span style=\"color: #008080; text-decoration-color: #008080\">     à </span>│<span style=\"color: #008080; text-decoration-color: #008080\">                  0.33 </span>│\n",
       "│<span style=\"color: #008080; text-decoration-color: #008080\">     j </span>│<span style=\"color: #008080; text-decoration-color: #008080\">                  0.24 </span>│\n",
       "│<span style=\"color: #008080; text-decoration-color: #008080\">     k </span>│<span style=\"color: #008080; text-decoration-color: #008080\">                  0.17 </span>│\n",
       "│<span style=\"color: #008080; text-decoration-color: #008080\">     ç </span>│<span style=\"color: #008080; text-decoration-color: #008080\">                   0.1 </span>│\n",
       "│<span style=\"color: #008080; text-decoration-color: #008080\">     ê </span>│<span style=\"color: #008080; text-decoration-color: #008080\">                  0.09 </span>│\n",
       "│<span style=\"color: #008080; text-decoration-color: #008080\">     w </span>│<span style=\"color: #008080; text-decoration-color: #008080\">                  0.09 </span>│\n",
       "│<span style=\"color: #008080; text-decoration-color: #008080\">     z </span>│<span style=\"color: #008080; text-decoration-color: #008080\">                  0.08 </span>│\n",
       "│<span style=\"color: #008080; text-decoration-color: #008080\">     ô </span>│<span style=\"color: #008080; text-decoration-color: #008080\">                  0.03 </span>│\n",
       "│<span style=\"color: #008080; text-decoration-color: #008080\">     î </span>│<span style=\"color: #008080; text-decoration-color: #008080\">                  0.03 </span>│\n",
       "│<span style=\"color: #008080; text-decoration-color: #008080\">     â </span>│<span style=\"color: #008080; text-decoration-color: #008080\">                  0.02 </span>│\n",
       "│<span style=\"color: #008080; text-decoration-color: #008080\">     ï </span>│<span style=\"color: #008080; text-decoration-color: #008080\">                  0.02 </span>│\n",
       "│<span style=\"color: #008080; text-decoration-color: #008080\">     ù </span>│<span style=\"color: #008080; text-decoration-color: #008080\">                  0.02 </span>│\n",
       "│<span style=\"color: #008080; text-decoration-color: #008080\">     û </span>│<span style=\"color: #008080; text-decoration-color: #008080\">                  0.01 </span>│\n",
       "│<span style=\"color: #008080; text-decoration-color: #008080\">     ü </span>│<span style=\"color: #008080; text-decoration-color: #008080\">                  0.01 </span>│\n",
       "│<span style=\"color: #008080; text-decoration-color: #008080\">     œ </span>│<span style=\"color: #008080; text-decoration-color: #008080\">                  0.01 </span>│\n",
       "│<span style=\"color: #008080; text-decoration-color: #008080\">     ë </span>│<span style=\"color: #008080; text-decoration-color: #008080\">                   0.0 </span>│\n",
       "│<span style=\"color: #008080; text-decoration-color: #008080\">     æ </span>│<span style=\"color: #008080; text-decoration-color: #008080\">                   0.0 </span>│\n",
       "│<span style=\"color: #008080; text-decoration-color: #008080\">     ÿ </span>│<span style=\"color: #008080; text-decoration-color: #008080\">                   0.0 </span>│\n",
       "└───────┴───────────────────────┘\n",
       "</pre>\n"
      ],
      "text/plain": [
       "\u001b[3m         корпус проценты         \u001b[0m\n",
       "┏━━━━━━━┳━━━━━━━━━━━━━━━━━━━━━━━┓\n",
       "┃\u001b[1m \u001b[0m\u001b[1mбуква\u001b[0m\u001b[1m \u001b[0m┃\u001b[1m \u001b[0m\u001b[1mчастота (в процентах)\u001b[0m\u001b[1m \u001b[0m┃\n",
       "┡━━━━━━━╇━━━━━━━━━━━━━━━━━━━━━━━┩\n",
       "│\u001b[36m \u001b[0m\u001b[36m    e\u001b[0m\u001b[36m \u001b[0m│\u001b[36m \u001b[0m\u001b[36m                14.16\u001b[0m\u001b[36m \u001b[0m│\n",
       "│\u001b[36m \u001b[0m\u001b[36m    s\u001b[0m\u001b[36m \u001b[0m│\u001b[36m \u001b[0m\u001b[36m                 8.04\u001b[0m\u001b[36m \u001b[0m│\n",
       "│\u001b[36m \u001b[0m\u001b[36m    i\u001b[0m\u001b[36m \u001b[0m│\u001b[36m \u001b[0m\u001b[36m                 7.83\u001b[0m\u001b[36m \u001b[0m│\n",
       "│\u001b[36m \u001b[0m\u001b[36m    n\u001b[0m\u001b[36m \u001b[0m│\u001b[36m \u001b[0m\u001b[36m                  7.7\u001b[0m\u001b[36m \u001b[0m│\n",
       "│\u001b[36m \u001b[0m\u001b[36m    a\u001b[0m\u001b[36m \u001b[0m│\u001b[36m \u001b[0m\u001b[36m                 7.52\u001b[0m\u001b[36m \u001b[0m│\n",
       "│\u001b[36m \u001b[0m\u001b[36m    t\u001b[0m\u001b[36m \u001b[0m│\u001b[36m \u001b[0m\u001b[36m                 6.89\u001b[0m\u001b[36m \u001b[0m│\n",
       "│\u001b[36m \u001b[0m\u001b[36m    r\u001b[0m\u001b[36m \u001b[0m│\u001b[36m \u001b[0m\u001b[36m                 6.32\u001b[0m\u001b[36m \u001b[0m│\n",
       "│\u001b[36m \u001b[0m\u001b[36m    l\u001b[0m\u001b[36m \u001b[0m│\u001b[36m \u001b[0m\u001b[36m                 5.96\u001b[0m\u001b[36m \u001b[0m│\n",
       "│\u001b[36m \u001b[0m\u001b[36m    o\u001b[0m\u001b[36m \u001b[0m│\u001b[36m \u001b[0m\u001b[36m                 5.57\u001b[0m\u001b[36m \u001b[0m│\n",
       "│\u001b[36m \u001b[0m\u001b[36m    u\u001b[0m\u001b[36m \u001b[0m│\u001b[36m \u001b[0m\u001b[36m                 5.28\u001b[0m\u001b[36m \u001b[0m│\n",
       "│\u001b[36m \u001b[0m\u001b[36m    d\u001b[0m\u001b[36m \u001b[0m│\u001b[36m \u001b[0m\u001b[36m                 3.92\u001b[0m\u001b[36m \u001b[0m│\n",
       "│\u001b[36m \u001b[0m\u001b[36m    c\u001b[0m\u001b[36m \u001b[0m│\u001b[36m \u001b[0m\u001b[36m                 3.49\u001b[0m\u001b[36m \u001b[0m│\n",
       "│\u001b[36m \u001b[0m\u001b[36m    p\u001b[0m\u001b[36m \u001b[0m│\u001b[36m \u001b[0m\u001b[36m                 2.95\u001b[0m\u001b[36m \u001b[0m│\n",
       "│\u001b[36m \u001b[0m\u001b[36m    m\u001b[0m\u001b[36m \u001b[0m│\u001b[36m \u001b[0m\u001b[36m                 2.83\u001b[0m\u001b[36m \u001b[0m│\n",
       "│\u001b[36m \u001b[0m\u001b[36m    é\u001b[0m\u001b[36m \u001b[0m│\u001b[36m \u001b[0m\u001b[36m                 2.37\u001b[0m\u001b[36m \u001b[0m│\n",
       "│\u001b[36m \u001b[0m\u001b[36m    g\u001b[0m\u001b[36m \u001b[0m│\u001b[36m \u001b[0m\u001b[36m                 1.56\u001b[0m\u001b[36m \u001b[0m│\n",
       "│\u001b[36m \u001b[0m\u001b[36m    f\u001b[0m\u001b[36m \u001b[0m│\u001b[36m \u001b[0m\u001b[36m                  1.1\u001b[0m\u001b[36m \u001b[0m│\n",
       "│\u001b[36m \u001b[0m\u001b[36m    v\u001b[0m\u001b[36m \u001b[0m│\u001b[36m \u001b[0m\u001b[36m                 1.07\u001b[0m\u001b[36m \u001b[0m│\n",
       "│\u001b[36m \u001b[0m\u001b[36m    h\u001b[0m\u001b[36m \u001b[0m│\u001b[36m \u001b[0m\u001b[36m                 1.06\u001b[0m\u001b[36m \u001b[0m│\n",
       "│\u001b[36m \u001b[0m\u001b[36m    q\u001b[0m\u001b[36m \u001b[0m│\u001b[36m \u001b[0m\u001b[36m                 1.03\u001b[0m\u001b[36m \u001b[0m│\n",
       "│\u001b[36m \u001b[0m\u001b[36m    b\u001b[0m\u001b[36m \u001b[0m│\u001b[36m \u001b[0m\u001b[36m                 0.88\u001b[0m\u001b[36m \u001b[0m│\n",
       "│\u001b[36m \u001b[0m\u001b[36m    x\u001b[0m\u001b[36m \u001b[0m│\u001b[36m \u001b[0m\u001b[36m                 0.48\u001b[0m\u001b[36m \u001b[0m│\n",
       "│\u001b[36m \u001b[0m\u001b[36m    y\u001b[0m\u001b[36m \u001b[0m│\u001b[36m \u001b[0m\u001b[36m                 0.41\u001b[0m\u001b[36m \u001b[0m│\n",
       "│\u001b[36m \u001b[0m\u001b[36m    è\u001b[0m\u001b[36m \u001b[0m│\u001b[36m \u001b[0m\u001b[36m                 0.35\u001b[0m\u001b[36m \u001b[0m│\n",
       "│\u001b[36m \u001b[0m\u001b[36m    à\u001b[0m\u001b[36m \u001b[0m│\u001b[36m \u001b[0m\u001b[36m                 0.33\u001b[0m\u001b[36m \u001b[0m│\n",
       "│\u001b[36m \u001b[0m\u001b[36m    j\u001b[0m\u001b[36m \u001b[0m│\u001b[36m \u001b[0m\u001b[36m                 0.24\u001b[0m\u001b[36m \u001b[0m│\n",
       "│\u001b[36m \u001b[0m\u001b[36m    k\u001b[0m\u001b[36m \u001b[0m│\u001b[36m \u001b[0m\u001b[36m                 0.17\u001b[0m\u001b[36m \u001b[0m│\n",
       "│\u001b[36m \u001b[0m\u001b[36m    ç\u001b[0m\u001b[36m \u001b[0m│\u001b[36m \u001b[0m\u001b[36m                  0.1\u001b[0m\u001b[36m \u001b[0m│\n",
       "│\u001b[36m \u001b[0m\u001b[36m    ê\u001b[0m\u001b[36m \u001b[0m│\u001b[36m \u001b[0m\u001b[36m                 0.09\u001b[0m\u001b[36m \u001b[0m│\n",
       "│\u001b[36m \u001b[0m\u001b[36m    w\u001b[0m\u001b[36m \u001b[0m│\u001b[36m \u001b[0m\u001b[36m                 0.09\u001b[0m\u001b[36m \u001b[0m│\n",
       "│\u001b[36m \u001b[0m\u001b[36m    z\u001b[0m\u001b[36m \u001b[0m│\u001b[36m \u001b[0m\u001b[36m                 0.08\u001b[0m\u001b[36m \u001b[0m│\n",
       "│\u001b[36m \u001b[0m\u001b[36m    ô\u001b[0m\u001b[36m \u001b[0m│\u001b[36m \u001b[0m\u001b[36m                 0.03\u001b[0m\u001b[36m \u001b[0m│\n",
       "│\u001b[36m \u001b[0m\u001b[36m    î\u001b[0m\u001b[36m \u001b[0m│\u001b[36m \u001b[0m\u001b[36m                 0.03\u001b[0m\u001b[36m \u001b[0m│\n",
       "│\u001b[36m \u001b[0m\u001b[36m    â\u001b[0m\u001b[36m \u001b[0m│\u001b[36m \u001b[0m\u001b[36m                 0.02\u001b[0m\u001b[36m \u001b[0m│\n",
       "│\u001b[36m \u001b[0m\u001b[36m    ï\u001b[0m\u001b[36m \u001b[0m│\u001b[36m \u001b[0m\u001b[36m                 0.02\u001b[0m\u001b[36m \u001b[0m│\n",
       "│\u001b[36m \u001b[0m\u001b[36m    ù\u001b[0m\u001b[36m \u001b[0m│\u001b[36m \u001b[0m\u001b[36m                 0.02\u001b[0m\u001b[36m \u001b[0m│\n",
       "│\u001b[36m \u001b[0m\u001b[36m    û\u001b[0m\u001b[36m \u001b[0m│\u001b[36m \u001b[0m\u001b[36m                 0.01\u001b[0m\u001b[36m \u001b[0m│\n",
       "│\u001b[36m \u001b[0m\u001b[36m    ü\u001b[0m\u001b[36m \u001b[0m│\u001b[36m \u001b[0m\u001b[36m                 0.01\u001b[0m\u001b[36m \u001b[0m│\n",
       "│\u001b[36m \u001b[0m\u001b[36m    œ\u001b[0m\u001b[36m \u001b[0m│\u001b[36m \u001b[0m\u001b[36m                 0.01\u001b[0m\u001b[36m \u001b[0m│\n",
       "│\u001b[36m \u001b[0m\u001b[36m    ë\u001b[0m\u001b[36m \u001b[0m│\u001b[36m \u001b[0m\u001b[36m                  0.0\u001b[0m\u001b[36m \u001b[0m│\n",
       "│\u001b[36m \u001b[0m\u001b[36m    æ\u001b[0m\u001b[36m \u001b[0m│\u001b[36m \u001b[0m\u001b[36m                  0.0\u001b[0m\u001b[36m \u001b[0m│\n",
       "│\u001b[36m \u001b[0m\u001b[36m    ÿ\u001b[0m\u001b[36m \u001b[0m│\u001b[36m \u001b[0m\u001b[36m                  0.0\u001b[0m\u001b[36m \u001b[0m│\n",
       "└───────┴───────────────────────┘\n"
      ]
     },
     "metadata": {},
     "output_type": "display_data"
    }
   ],
   "source": [
    "let_freq_pers(letters_fr)"
   ]
  },
  {
   "cell_type": "code",
   "execution_count": 20,
   "metadata": {},
   "outputs": [
    {
     "data": {
      "image/png": "[encoded data removed]",
      "text/plain": [
       "<Figure size 640x480 with 1 Axes>"
      ]
     },
     "metadata": {},
     "output_type": "display_data"
    }
   ],
   "source": [
    "plot(letters_fr)"
   ]
  },
  {
   "cell_type": "code",
   "execution_count": null,
   "metadata": {},
   "outputs": [],
   "source": [
    "tsipf(letters_fr)"
   ]
  },
  {
   "cell_type": "code",
   "execution_count": null,
   "metadata": {},
   "outputs": [],
   "source": [
    "plot_ind(letters_fr)"
   ]
  },
  {
   "cell_type": "markdown",
   "metadata": {},
   "source": [
    "Немецкий:"
   ]
  },
  {
   "cell_type": "code",
   "execution_count": 21,
   "metadata": {},
   "outputs": [],
   "source": [
    "texts_de = open(r\"C:\\Users\\lizao\\Desktop\\smth\\shabat_ger.txt\", 'w', encoding = 'utf-8')\n",
    "\n",
    "wiki_wiki = wikipediaapi.Wikipedia(\n",
    "        language='de',\n",
    "        extract_format=wikipediaapi.ExtractFormat.WIKI\n",
    ")\n",
    "\n",
    "page_py = wiki_wiki.page('Sprachwissenschaft')\n",
    "for name in page_py.links.keys():\n",
    "    texts_de.write(wiki_wiki.page(name).text)\n",
    "    time.sleep(2)"
   ]
  },
  {
   "cell_type": "code",
   "execution_count": 22,
   "metadata": {},
   "outputs": [
    {
     "name": "stdout",
     "output_type": "stream",
     "text": [
      "2000000\n"
     ]
    }
   ],
   "source": [
    "letters_de = {}\n",
    "letset_de = set(['a', 'b', 'c', 'd', 'e', 'f', 'g', 'h', 'i', 'j', 'k', 'l', 'm', 'n', 'o', 'p', 'q', 'r', 's', 't', 'u', 'v', 'w', 'x', 'y', 'z', 'ä', 'ö', 'ü', 'ß'])\n",
    "wordcount_de = 0\n",
    "\n",
    "with open(r\"C:\\Users\\lizao\\Desktop\\smth\\shabat_ger.txt\", 'r', encoding = 'utf-8') as f:\n",
    "     text_de = f.read()\n",
    "\n",
    "\n",
    "words_de = re.finditer(r'[ABCDEFGHIJKLMNOPQRSTUVWXYZÄÖÜẞ]+(?:-[ABCDEFGHIJKLMNOPQRSTUVWXYZÄÖÜẞ]+)?', text_de, re.I)\n",
    "for word in words_de:\n",
    "    if wordcount_de >= 2e6:\n",
    "        break\n",
    "    else:\n",
    "        wordcount_de += 1\n",
    "        for char in word.group():\n",
    "            if char.lower() in letset_de:\n",
    "                if char.lower() in letters_de:\n",
    "                    letters_de[char.lower()] +=1\n",
    "                else:\n",
    "                    letters_de[char.lower()] = 1\n",
    "\n",
    "print(wordcount_de)"
   ]
  },
  {
   "cell_type": "code",
   "execution_count": 23,
   "metadata": {},
   "outputs": [
    {
     "data": {
      "text/html": [
       "<pre style=\"white-space:pre;overflow-x:auto;line-height:normal;font-family:Menlo,'DejaVu Sans Mono',consolas,'Courier New',monospace\"><span style=\"font-style: italic\">      корпус       </span>\n",
       "┏━━━━━━━┳━━━━━━━━━┓\n",
       "┃<span style=\"font-weight: bold\"> буква </span>┃<span style=\"font-weight: bold\"> частота </span>┃\n",
       "┡━━━━━━━╇━━━━━━━━━┩\n",
       "│<span style=\"color: #008080; text-decoration-color: #008080\">     e </span>│<span style=\"color: #008080; text-decoration-color: #008080\">  305918 </span>│\n",
       "│<span style=\"color: #008080; text-decoration-color: #008080\">     n </span>│<span style=\"color: #008080; text-decoration-color: #008080\">  191613 </span>│\n",
       "│<span style=\"color: #008080; text-decoration-color: #008080\">     i </span>│<span style=\"color: #008080; text-decoration-color: #008080\">  166454 </span>│\n",
       "│<span style=\"color: #008080; text-decoration-color: #008080\">     r </span>│<span style=\"color: #008080; text-decoration-color: #008080\">  147882 </span>│\n",
       "│<span style=\"color: #008080; text-decoration-color: #008080\">     s </span>│<span style=\"color: #008080; text-decoration-color: #008080\">  136211 </span>│\n",
       "│<span style=\"color: #008080; text-decoration-color: #008080\">     t </span>│<span style=\"color: #008080; text-decoration-color: #008080\">  125461 </span>│\n",
       "│<span style=\"color: #008080; text-decoration-color: #008080\">     a </span>│<span style=\"color: #008080; text-decoration-color: #008080\">  114291 </span>│\n",
       "│<span style=\"color: #008080; text-decoration-color: #008080\">     d </span>│<span style=\"color: #008080; text-decoration-color: #008080\">   96358 </span>│\n",
       "│<span style=\"color: #008080; text-decoration-color: #008080\">     h </span>│<span style=\"color: #008080; text-decoration-color: #008080\">   89317 </span>│\n",
       "│<span style=\"color: #008080; text-decoration-color: #008080\">     u </span>│<span style=\"color: #008080; text-decoration-color: #008080\">   80023 </span>│\n",
       "│<span style=\"color: #008080; text-decoration-color: #008080\">     l </span>│<span style=\"color: #008080; text-decoration-color: #008080\">   75820 </span>│\n",
       "│<span style=\"color: #008080; text-decoration-color: #008080\">     c </span>│<span style=\"color: #008080; text-decoration-color: #008080\">   63193 </span>│\n",
       "│<span style=\"color: #008080; text-decoration-color: #008080\">     o </span>│<span style=\"color: #008080; text-decoration-color: #008080\">   60921 </span>│\n",
       "│<span style=\"color: #008080; text-decoration-color: #008080\">     g </span>│<span style=\"color: #008080; text-decoration-color: #008080\">   60105 </span>│\n",
       "│<span style=\"color: #008080; text-decoration-color: #008080\">     m </span>│<span style=\"color: #008080; text-decoration-color: #008080\">   50292 </span>│\n",
       "│<span style=\"color: #008080; text-decoration-color: #008080\">     b </span>│<span style=\"color: #008080; text-decoration-color: #008080\">   38741 </span>│\n",
       "│<span style=\"color: #008080; text-decoration-color: #008080\">     f </span>│<span style=\"color: #008080; text-decoration-color: #008080\">   32599 </span>│\n",
       "│<span style=\"color: #008080; text-decoration-color: #008080\">     k </span>│<span style=\"color: #008080; text-decoration-color: #008080\">   32021 </span>│\n",
       "│<span style=\"color: #008080; text-decoration-color: #008080\">     w </span>│<span style=\"color: #008080; text-decoration-color: #008080\">   25902 </span>│\n",
       "│<span style=\"color: #008080; text-decoration-color: #008080\">     p </span>│<span style=\"color: #008080; text-decoration-color: #008080\">   25112 </span>│\n",
       "│<span style=\"color: #008080; text-decoration-color: #008080\">     z </span>│<span style=\"color: #008080; text-decoration-color: #008080\">   22113 </span>│\n",
       "│<span style=\"color: #008080; text-decoration-color: #008080\">     v </span>│<span style=\"color: #008080; text-decoration-color: #008080\">   19552 </span>│\n",
       "│<span style=\"color: #008080; text-decoration-color: #008080\">     ü </span>│<span style=\"color: #008080; text-decoration-color: #008080\">   10247 </span>│\n",
       "│<span style=\"color: #008080; text-decoration-color: #008080\">     ä </span>│<span style=\"color: #008080; text-decoration-color: #008080\">   10108 </span>│\n",
       "│<span style=\"color: #008080; text-decoration-color: #008080\">     y </span>│<span style=\"color: #008080; text-decoration-color: #008080\">    5121 </span>│\n",
       "│<span style=\"color: #008080; text-decoration-color: #008080\">     j </span>│<span style=\"color: #008080; text-decoration-color: #008080\">    4865 </span>│\n",
       "│<span style=\"color: #008080; text-decoration-color: #008080\">     ö </span>│<span style=\"color: #008080; text-decoration-color: #008080\">    4624 </span>│\n",
       "│<span style=\"color: #008080; text-decoration-color: #008080\">     ß </span>│<span style=\"color: #008080; text-decoration-color: #008080\">    2267 </span>│\n",
       "│<span style=\"color: #008080; text-decoration-color: #008080\">     x </span>│<span style=\"color: #008080; text-decoration-color: #008080\">    2265 </span>│\n",
       "│<span style=\"color: #008080; text-decoration-color: #008080\">     q </span>│<span style=\"color: #008080; text-decoration-color: #008080\">     595 </span>│\n",
       "└───────┴─────────┘\n",
       "</pre>\n"
      ],
      "text/plain": [
       "\u001b[3m      корпус       \u001b[0m\n",
       "┏━━━━━━━┳━━━━━━━━━┓\n",
       "┃\u001b[1m \u001b[0m\u001b[1mбуква\u001b[0m\u001b[1m \u001b[0m┃\u001b[1m \u001b[0m\u001b[1mчастота\u001b[0m\u001b[1m \u001b[0m┃\n",
       "┡━━━━━━━╇━━━━━━━━━┩\n",
       "│\u001b[36m \u001b[0m\u001b[36m    e\u001b[0m\u001b[36m \u001b[0m│\u001b[36m \u001b[0m\u001b[36m 305918\u001b[0m\u001b[36m \u001b[0m│\n",
       "│\u001b[36m \u001b[0m\u001b[36m    n\u001b[0m\u001b[36m \u001b[0m│\u001b[36m \u001b[0m\u001b[36m 191613\u001b[0m\u001b[36m \u001b[0m│\n",
       "│\u001b[36m \u001b[0m\u001b[36m    i\u001b[0m\u001b[36m \u001b[0m│\u001b[36m \u001b[0m\u001b[36m 166454\u001b[0m\u001b[36m \u001b[0m│\n",
       "│\u001b[36m \u001b[0m\u001b[36m    r\u001b[0m\u001b[36m \u001b[0m│\u001b[36m \u001b[0m\u001b[36m 147882\u001b[0m\u001b[36m \u001b[0m│\n",
       "│\u001b[36m \u001b[0m\u001b[36m    s\u001b[0m\u001b[36m \u001b[0m│\u001b[36m \u001b[0m\u001b[36m 136211\u001b[0m\u001b[36m \u001b[0m│\n",
       "│\u001b[36m \u001b[0m\u001b[36m    t\u001b[0m\u001b[36m \u001b[0m│\u001b[36m \u001b[0m\u001b[36m 125461\u001b[0m\u001b[36m \u001b[0m│\n",
       "│\u001b[36m \u001b[0m\u001b[36m    a\u001b[0m\u001b[36m \u001b[0m│\u001b[36m \u001b[0m\u001b[36m 114291\u001b[0m\u001b[36m \u001b[0m│\n",
       "│\u001b[36m \u001b[0m\u001b[36m    d\u001b[0m\u001b[36m \u001b[0m│\u001b[36m \u001b[0m\u001b[36m  96358\u001b[0m\u001b[36m \u001b[0m│\n",
       "│\u001b[36m \u001b[0m\u001b[36m    h\u001b[0m\u001b[36m \u001b[0m│\u001b[36m \u001b[0m\u001b[36m  89317\u001b[0m\u001b[36m \u001b[0m│\n",
       "│\u001b[36m \u001b[0m\u001b[36m    u\u001b[0m\u001b[36m \u001b[0m│\u001b[36m \u001b[0m\u001b[36m  80023\u001b[0m\u001b[36m \u001b[0m│\n",
       "│\u001b[36m \u001b[0m\u001b[36m    l\u001b[0m\u001b[36m \u001b[0m│\u001b[36m \u001b[0m\u001b[36m  75820\u001b[0m\u001b[36m \u001b[0m│\n",
       "│\u001b[36m \u001b[0m\u001b[36m    c\u001b[0m\u001b[36m \u001b[0m│\u001b[36m \u001b[0m\u001b[36m  63193\u001b[0m\u001b[36m \u001b[0m│\n",
       "│\u001b[36m \u001b[0m\u001b[36m    o\u001b[0m\u001b[36m \u001b[0m│\u001b[36m \u001b[0m\u001b[36m  60921\u001b[0m\u001b[36m \u001b[0m│\n",
       "│\u001b[36m \u001b[0m\u001b[36m    g\u001b[0m\u001b[36m \u001b[0m│\u001b[36m \u001b[0m\u001b[36m  60105\u001b[0m\u001b[36m \u001b[0m│\n",
       "│\u001b[36m \u001b[0m\u001b[36m    m\u001b[0m\u001b[36m \u001b[0m│\u001b[36m \u001b[0m\u001b[36m  50292\u001b[0m\u001b[36m \u001b[0m│\n",
       "│\u001b[36m \u001b[0m\u001b[36m    b\u001b[0m\u001b[36m \u001b[0m│\u001b[36m \u001b[0m\u001b[36m  38741\u001b[0m\u001b[36m \u001b[0m│\n",
       "│\u001b[36m \u001b[0m\u001b[36m    f\u001b[0m\u001b[36m \u001b[0m│\u001b[36m \u001b[0m\u001b[36m  32599\u001b[0m\u001b[36m \u001b[0m│\n",
       "│\u001b[36m \u001b[0m\u001b[36m    k\u001b[0m\u001b[36m \u001b[0m│\u001b[36m \u001b[0m\u001b[36m  32021\u001b[0m\u001b[36m \u001b[0m│\n",
       "│\u001b[36m \u001b[0m\u001b[36m    w\u001b[0m\u001b[36m \u001b[0m│\u001b[36m \u001b[0m\u001b[36m  25902\u001b[0m\u001b[36m \u001b[0m│\n",
       "│\u001b[36m \u001b[0m\u001b[36m    p\u001b[0m\u001b[36m \u001b[0m│\u001b[36m \u001b[0m\u001b[36m  25112\u001b[0m\u001b[36m \u001b[0m│\n",
       "│\u001b[36m \u001b[0m\u001b[36m    z\u001b[0m\u001b[36m \u001b[0m│\u001b[36m \u001b[0m\u001b[36m  22113\u001b[0m\u001b[36m \u001b[0m│\n",
       "│\u001b[36m \u001b[0m\u001b[36m    v\u001b[0m\u001b[36m \u001b[0m│\u001b[36m \u001b[0m\u001b[36m  19552\u001b[0m\u001b[36m \u001b[0m│\n",
       "│\u001b[36m \u001b[0m\u001b[36m    ü\u001b[0m\u001b[36m \u001b[0m│\u001b[36m \u001b[0m\u001b[36m  10247\u001b[0m\u001b[36m \u001b[0m│\n",
       "│\u001b[36m \u001b[0m\u001b[36m    ä\u001b[0m\u001b[36m \u001b[0m│\u001b[36m \u001b[0m\u001b[36m  10108\u001b[0m\u001b[36m \u001b[0m│\n",
       "│\u001b[36m \u001b[0m\u001b[36m    y\u001b[0m\u001b[36m \u001b[0m│\u001b[36m \u001b[0m\u001b[36m   5121\u001b[0m\u001b[36m \u001b[0m│\n",
       "│\u001b[36m \u001b[0m\u001b[36m    j\u001b[0m\u001b[36m \u001b[0m│\u001b[36m \u001b[0m\u001b[36m   4865\u001b[0m\u001b[36m \u001b[0m│\n",
       "│\u001b[36m \u001b[0m\u001b[36m    ö\u001b[0m\u001b[36m \u001b[0m│\u001b[36m \u001b[0m\u001b[36m   4624\u001b[0m\u001b[36m \u001b[0m│\n",
       "│\u001b[36m \u001b[0m\u001b[36m    ß\u001b[0m\u001b[36m \u001b[0m│\u001b[36m \u001b[0m\u001b[36m   2267\u001b[0m\u001b[36m \u001b[0m│\n",
       "│\u001b[36m \u001b[0m\u001b[36m    x\u001b[0m\u001b[36m \u001b[0m│\u001b[36m \u001b[0m\u001b[36m   2265\u001b[0m\u001b[36m \u001b[0m│\n",
       "│\u001b[36m \u001b[0m\u001b[36m    q\u001b[0m\u001b[36m \u001b[0m│\u001b[36m \u001b[0m\u001b[36m    595\u001b[0m\u001b[36m \u001b[0m│\n",
       "└───────┴─────────┘\n"
      ]
     },
     "metadata": {},
     "output_type": "display_data"
    }
   ],
   "source": [
    "let_freq(letters_de)"
   ]
  },
  {
   "cell_type": "code",
   "execution_count": 24,
   "metadata": {},
   "outputs": [
    {
     "data": {
      "text/html": [
       "<pre style=\"white-space:pre;overflow-x:auto;line-height:normal;font-family:Menlo,'DejaVu Sans Mono',consolas,'Courier New',monospace\"><span style=\"font-style: italic\">         корпус проценты         </span>\n",
       "┏━━━━━━━┳━━━━━━━━━━━━━━━━━━━━━━━┓\n",
       "┃<span style=\"font-weight: bold\"> буква </span>┃<span style=\"font-weight: bold\"> частота (в процентах) </span>┃\n",
       "┡━━━━━━━╇━━━━━━━━━━━━━━━━━━━━━━━┩\n",
       "│<span style=\"color: #008080; text-decoration-color: #008080\">     e </span>│<span style=\"color: #008080; text-decoration-color: #008080\">                  15.3 </span>│\n",
       "│<span style=\"color: #008080; text-decoration-color: #008080\">     n </span>│<span style=\"color: #008080; text-decoration-color: #008080\">                  9.58 </span>│\n",
       "│<span style=\"color: #008080; text-decoration-color: #008080\">     i </span>│<span style=\"color: #008080; text-decoration-color: #008080\">                  8.32 </span>│\n",
       "│<span style=\"color: #008080; text-decoration-color: #008080\">     r </span>│<span style=\"color: #008080; text-decoration-color: #008080\">                  7.39 </span>│\n",
       "│<span style=\"color: #008080; text-decoration-color: #008080\">     s </span>│<span style=\"color: #008080; text-decoration-color: #008080\">                  6.81 </span>│\n",
       "│<span style=\"color: #008080; text-decoration-color: #008080\">     t </span>│<span style=\"color: #008080; text-decoration-color: #008080\">                  6.27 </span>│\n",
       "│<span style=\"color: #008080; text-decoration-color: #008080\">     a </span>│<span style=\"color: #008080; text-decoration-color: #008080\">                  5.71 </span>│\n",
       "│<span style=\"color: #008080; text-decoration-color: #008080\">     d </span>│<span style=\"color: #008080; text-decoration-color: #008080\">                  4.82 </span>│\n",
       "│<span style=\"color: #008080; text-decoration-color: #008080\">     h </span>│<span style=\"color: #008080; text-decoration-color: #008080\">                  4.47 </span>│\n",
       "│<span style=\"color: #008080; text-decoration-color: #008080\">     u </span>│<span style=\"color: #008080; text-decoration-color: #008080\">                   4.0 </span>│\n",
       "│<span style=\"color: #008080; text-decoration-color: #008080\">     l </span>│<span style=\"color: #008080; text-decoration-color: #008080\">                  3.79 </span>│\n",
       "│<span style=\"color: #008080; text-decoration-color: #008080\">     c </span>│<span style=\"color: #008080; text-decoration-color: #008080\">                  3.16 </span>│\n",
       "│<span style=\"color: #008080; text-decoration-color: #008080\">     o </span>│<span style=\"color: #008080; text-decoration-color: #008080\">                  3.05 </span>│\n",
       "│<span style=\"color: #008080; text-decoration-color: #008080\">     g </span>│<span style=\"color: #008080; text-decoration-color: #008080\">                  3.01 </span>│\n",
       "│<span style=\"color: #008080; text-decoration-color: #008080\">     m </span>│<span style=\"color: #008080; text-decoration-color: #008080\">                  2.51 </span>│\n",
       "│<span style=\"color: #008080; text-decoration-color: #008080\">     b </span>│<span style=\"color: #008080; text-decoration-color: #008080\">                  1.94 </span>│\n",
       "│<span style=\"color: #008080; text-decoration-color: #008080\">     f </span>│<span style=\"color: #008080; text-decoration-color: #008080\">                  1.63 </span>│\n",
       "│<span style=\"color: #008080; text-decoration-color: #008080\">     k </span>│<span style=\"color: #008080; text-decoration-color: #008080\">                   1.6 </span>│\n",
       "│<span style=\"color: #008080; text-decoration-color: #008080\">     w </span>│<span style=\"color: #008080; text-decoration-color: #008080\">                   1.3 </span>│\n",
       "│<span style=\"color: #008080; text-decoration-color: #008080\">     p </span>│<span style=\"color: #008080; text-decoration-color: #008080\">                  1.26 </span>│\n",
       "│<span style=\"color: #008080; text-decoration-color: #008080\">     z </span>│<span style=\"color: #008080; text-decoration-color: #008080\">                  1.11 </span>│\n",
       "│<span style=\"color: #008080; text-decoration-color: #008080\">     v </span>│<span style=\"color: #008080; text-decoration-color: #008080\">                  0.98 </span>│\n",
       "│<span style=\"color: #008080; text-decoration-color: #008080\">     ü </span>│<span style=\"color: #008080; text-decoration-color: #008080\">                  0.51 </span>│\n",
       "│<span style=\"color: #008080; text-decoration-color: #008080\">     ä </span>│<span style=\"color: #008080; text-decoration-color: #008080\">                  0.51 </span>│\n",
       "│<span style=\"color: #008080; text-decoration-color: #008080\">     y </span>│<span style=\"color: #008080; text-decoration-color: #008080\">                  0.26 </span>│\n",
       "│<span style=\"color: #008080; text-decoration-color: #008080\">     j </span>│<span style=\"color: #008080; text-decoration-color: #008080\">                  0.24 </span>│\n",
       "│<span style=\"color: #008080; text-decoration-color: #008080\">     ö </span>│<span style=\"color: #008080; text-decoration-color: #008080\">                  0.23 </span>│\n",
       "│<span style=\"color: #008080; text-decoration-color: #008080\">     ß </span>│<span style=\"color: #008080; text-decoration-color: #008080\">                  0.11 </span>│\n",
       "│<span style=\"color: #008080; text-decoration-color: #008080\">     x </span>│<span style=\"color: #008080; text-decoration-color: #008080\">                  0.11 </span>│\n",
       "│<span style=\"color: #008080; text-decoration-color: #008080\">     q </span>│<span style=\"color: #008080; text-decoration-color: #008080\">                  0.03 </span>│\n",
       "└───────┴───────────────────────┘\n",
       "</pre>\n"
      ],
      "text/plain": [
       "\u001b[3m         корпус проценты         \u001b[0m\n",
       "┏━━━━━━━┳━━━━━━━━━━━━━━━━━━━━━━━┓\n",
       "┃\u001b[1m \u001b[0m\u001b[1mбуква\u001b[0m\u001b[1m \u001b[0m┃\u001b[1m \u001b[0m\u001b[1mчастота (в процентах)\u001b[0m\u001b[1m \u001b[0m┃\n",
       "┡━━━━━━━╇━━━━━━━━━━━━━━━━━━━━━━━┩\n",
       "│\u001b[36m \u001b[0m\u001b[36m    e\u001b[0m\u001b[36m \u001b[0m│\u001b[36m \u001b[0m\u001b[36m                 15.3\u001b[0m\u001b[36m \u001b[0m│\n",
       "│\u001b[36m \u001b[0m\u001b[36m    n\u001b[0m\u001b[36m \u001b[0m│\u001b[36m \u001b[0m\u001b[36m                 9.58\u001b[0m\u001b[36m \u001b[0m│\n",
       "│\u001b[36m \u001b[0m\u001b[36m    i\u001b[0m\u001b[36m \u001b[0m│\u001b[36m \u001b[0m\u001b[36m                 8.32\u001b[0m\u001b[36m \u001b[0m│\n",
       "│\u001b[36m \u001b[0m\u001b[36m    r\u001b[0m\u001b[36m \u001b[0m│\u001b[36m \u001b[0m\u001b[36m                 7.39\u001b[0m\u001b[36m \u001b[0m│\n",
       "│\u001b[36m \u001b[0m\u001b[36m    s\u001b[0m\u001b[36m \u001b[0m│\u001b[36m \u001b[0m\u001b[36m                 6.81\u001b[0m\u001b[36m \u001b[0m│\n",
       "│\u001b[36m \u001b[0m\u001b[36m    t\u001b[0m\u001b[36m \u001b[0m│\u001b[36m \u001b[0m\u001b[36m                 6.27\u001b[0m\u001b[36m \u001b[0m│\n",
       "│\u001b[36m \u001b[0m\u001b[36m    a\u001b[0m\u001b[36m \u001b[0m│\u001b[36m \u001b[0m\u001b[36m                 5.71\u001b[0m\u001b[36m \u001b[0m│\n",
       "│\u001b[36m \u001b[0m\u001b[36m    d\u001b[0m\u001b[36m \u001b[0m│\u001b[36m \u001b[0m\u001b[36m                 4.82\u001b[0m\u001b[36m \u001b[0m│\n",
       "│\u001b[36m \u001b[0m\u001b[36m    h\u001b[0m\u001b[36m \u001b[0m│\u001b[36m \u001b[0m\u001b[36m                 4.47\u001b[0m\u001b[36m \u001b[0m│\n",
       "│\u001b[36m \u001b[0m\u001b[36m    u\u001b[0m\u001b[36m \u001b[0m│\u001b[36m \u001b[0m\u001b[36m                  4.0\u001b[0m\u001b[36m \u001b[0m│\n",
       "│\u001b[36m \u001b[0m\u001b[36m    l\u001b[0m\u001b[36m \u001b[0m│\u001b[36m \u001b[0m\u001b[36m                 3.79\u001b[0m\u001b[36m \u001b[0m│\n",
       "│\u001b[36m \u001b[0m\u001b[36m    c\u001b[0m\u001b[36m \u001b[0m│\u001b[36m \u001b[0m\u001b[36m                 3.16\u001b[0m\u001b[36m \u001b[0m│\n",
       "│\u001b[36m \u001b[0m\u001b[36m    o\u001b[0m\u001b[36m \u001b[0m│\u001b[36m \u001b[0m\u001b[36m                 3.05\u001b[0m\u001b[36m \u001b[0m│\n",
       "│\u001b[36m \u001b[0m\u001b[36m    g\u001b[0m\u001b[36m \u001b[0m│\u001b[36m \u001b[0m\u001b[36m                 3.01\u001b[0m\u001b[36m \u001b[0m│\n",
       "│\u001b[36m \u001b[0m\u001b[36m    m\u001b[0m\u001b[36m \u001b[0m│\u001b[36m \u001b[0m\u001b[36m                 2.51\u001b[0m\u001b[36m \u001b[0m│\n",
       "│\u001b[36m \u001b[0m\u001b[36m    b\u001b[0m\u001b[36m \u001b[0m│\u001b[36m \u001b[0m\u001b[36m                 1.94\u001b[0m\u001b[36m \u001b[0m│\n",
       "│\u001b[36m \u001b[0m\u001b[36m    f\u001b[0m\u001b[36m \u001b[0m│\u001b[36m \u001b[0m\u001b[36m                 1.63\u001b[0m\u001b[36m \u001b[0m│\n",
       "│\u001b[36m \u001b[0m\u001b[36m    k\u001b[0m\u001b[36m \u001b[0m│\u001b[36m \u001b[0m\u001b[36m                  1.6\u001b[0m\u001b[36m \u001b[0m│\n",
       "│\u001b[36m \u001b[0m\u001b[36m    w\u001b[0m\u001b[36m \u001b[0m│\u001b[36m \u001b[0m\u001b[36m                  1.3\u001b[0m\u001b[36m \u001b[0m│\n",
       "│\u001b[36m \u001b[0m\u001b[36m    p\u001b[0m\u001b[36m \u001b[0m│\u001b[36m \u001b[0m\u001b[36m                 1.26\u001b[0m\u001b[36m \u001b[0m│\n",
       "│\u001b[36m \u001b[0m\u001b[36m    z\u001b[0m\u001b[36m \u001b[0m│\u001b[36m \u001b[0m\u001b[36m                 1.11\u001b[0m\u001b[36m \u001b[0m│\n",
       "│\u001b[36m \u001b[0m\u001b[36m    v\u001b[0m\u001b[36m \u001b[0m│\u001b[36m \u001b[0m\u001b[36m                 0.98\u001b[0m\u001b[36m \u001b[0m│\n",
       "│\u001b[36m \u001b[0m\u001b[36m    ü\u001b[0m\u001b[36m \u001b[0m│\u001b[36m \u001b[0m\u001b[36m                 0.51\u001b[0m\u001b[36m \u001b[0m│\n",
       "│\u001b[36m \u001b[0m\u001b[36m    ä\u001b[0m\u001b[36m \u001b[0m│\u001b[36m \u001b[0m\u001b[36m                 0.51\u001b[0m\u001b[36m \u001b[0m│\n",
       "│\u001b[36m \u001b[0m\u001b[36m    y\u001b[0m\u001b[36m \u001b[0m│\u001b[36m \u001b[0m\u001b[36m                 0.26\u001b[0m\u001b[36m \u001b[0m│\n",
       "│\u001b[36m \u001b[0m\u001b[36m    j\u001b[0m\u001b[36m \u001b[0m│\u001b[36m \u001b[0m\u001b[36m                 0.24\u001b[0m\u001b[36m \u001b[0m│\n",
       "│\u001b[36m \u001b[0m\u001b[36m    ö\u001b[0m\u001b[36m \u001b[0m│\u001b[36m \u001b[0m\u001b[36m                 0.23\u001b[0m\u001b[36m \u001b[0m│\n",
       "│\u001b[36m \u001b[0m\u001b[36m    ß\u001b[0m\u001b[36m \u001b[0m│\u001b[36m \u001b[0m\u001b[36m                 0.11\u001b[0m\u001b[36m \u001b[0m│\n",
       "│\u001b[36m \u001b[0m\u001b[36m    x\u001b[0m\u001b[36m \u001b[0m│\u001b[36m \u001b[0m\u001b[36m                 0.11\u001b[0m\u001b[36m \u001b[0m│\n",
       "│\u001b[36m \u001b[0m\u001b[36m    q\u001b[0m\u001b[36m \u001b[0m│\u001b[36m \u001b[0m\u001b[36m                 0.03\u001b[0m\u001b[36m \u001b[0m│\n",
       "└───────┴───────────────────────┘\n"
      ]
     },
     "metadata": {},
     "output_type": "display_data"
    }
   ],
   "source": [
    "let_freq_pers(letters_de)"
   ]
  },
  {
   "cell_type": "code",
   "execution_count": 25,
   "metadata": {},
   "outputs": [
    {
     "data": {
      "image/png": "[encoded data removed]",
      "text/plain": [
       "<Figure size 640x480 with 1 Axes>"
      ]
     },
     "metadata": {},
     "output_type": "display_data"
    }
   ],
   "source": [
    "plot(letters_de)"
   ]
  },
  {
   "cell_type": "code",
   "execution_count": null,
   "metadata": {},
   "outputs": [],
   "source": [
    "tsipf(letters_de)"
   ]
  },
  {
   "cell_type": "code",
   "execution_count": null,
   "metadata": {},
   "outputs": [],
   "source": [
    "plot_ind(letters_de)"
   ]
  },
  {
   "cell_type": "markdown",
   "metadata": {},
   "source": [
    "Итальянский:"
   ]
  },
  {
   "cell_type": "code",
   "execution_count": 26,
   "metadata": {},
   "outputs": [],
   "source": [
    "texts_it = open(r\"C:\\Users\\lizao\\Desktop\\smth\\shabat_it.txt\", 'w', encoding = 'utf-8')\n",
    "\n",
    "wiki_wiki = wikipediaapi.Wikipedia(\n",
    "        language='it',\n",
    "        extract_format=wikipediaapi.ExtractFormat.WIKI\n",
    ")\n",
    "\n",
    "page_py = wiki_wiki.page('Linguistica')\n",
    "for name in page_py.links.keys():\n",
    "    texts_it.write(wiki_wiki.page(name).text)\n",
    "    time.sleep(2)"
   ]
  },
  {
   "cell_type": "code",
   "execution_count": 27,
   "metadata": {},
   "outputs": [
    {
     "name": "stdout",
     "output_type": "stream",
     "text": [
      "2000000\n"
     ]
    }
   ],
   "source": [
    "letters_it = {}\n",
    "letset_it = set(['a', 'à', 'b', 'c', 'd', 'e', 'è', 'é', 'f', 'g', 'h', 'i', 'ì', 'í', 'l', 'm', 'n', 'o', 'ò', 'ó', 'p', 'q', 'r', 's', 't', 'u', 'ù', 'ú', 'v', 'z'])\n",
    "wordcount_it = 0\n",
    "\n",
    "with open(r\"C:\\Users\\lizao\\Desktop\\smth\\shabat_it.txt\", 'r', encoding = 'utf-8') as f:\n",
    "     text_it = f.read()\n",
    "\n",
    "words_it = re.finditer(r'[AÀBCDEÈÉFGHIÌÍLMNOÒÓPQRSTUÙÚVZ]+(?:-[AÀBCDEÈÉFGHIÌÍLMNOÒÓPQRSTUÙÚVZ]+)?', text_it, re.I)\n",
    "    \n",
    "for word in words_it:\n",
    "    if wordcount_it >= 2e6:\n",
    "        break\n",
    "    else:\n",
    "        wordcount_it += 1\n",
    "        for char in word.group():\n",
    "            if char.lower() in letset_it:\n",
    "                if char.lower() in letters_it:\n",
    "                    letters_it[char.lower()] +=1\n",
    "                else:\n",
    "                    letters_it[char.lower()] = 1\n",
    "\n",
    "print(wordcount_de)"
   ]
  },
  {
   "cell_type": "code",
   "execution_count": 28,
   "metadata": {},
   "outputs": [
    {
     "data": {
      "text/html": [
       "<pre style=\"white-space:pre;overflow-x:auto;line-height:normal;font-family:Menlo,'DejaVu Sans Mono',consolas,'Courier New',monospace\"><span style=\"font-style: italic\">      корпус       </span>\n",
       "┏━━━━━━━┳━━━━━━━━━┓\n",
       "┃<span style=\"font-weight: bold\"> буква </span>┃<span style=\"font-weight: bold\"> частота </span>┃\n",
       "┡━━━━━━━╇━━━━━━━━━┩\n",
       "│<span style=\"color: #008080; text-decoration-color: #008080\">     i </span>│<span style=\"color: #008080; text-decoration-color: #008080\">  194942 </span>│\n",
       "│<span style=\"color: #008080; text-decoration-color: #008080\">     e </span>│<span style=\"color: #008080; text-decoration-color: #008080\">  185602 </span>│\n",
       "│<span style=\"color: #008080; text-decoration-color: #008080\">     a </span>│<span style=\"color: #008080; text-decoration-color: #008080\">  163406 </span>│\n",
       "│<span style=\"color: #008080; text-decoration-color: #008080\">     o </span>│<span style=\"color: #008080; text-decoration-color: #008080\">  144081 </span>│\n",
       "│<span style=\"color: #008080; text-decoration-color: #008080\">     n </span>│<span style=\"color: #008080; text-decoration-color: #008080\">  116464 </span>│\n",
       "│<span style=\"color: #008080; text-decoration-color: #008080\">     l </span>│<span style=\"color: #008080; text-decoration-color: #008080\">  110967 </span>│\n",
       "│<span style=\"color: #008080; text-decoration-color: #008080\">     t </span>│<span style=\"color: #008080; text-decoration-color: #008080\">  105815 </span>│\n",
       "│<span style=\"color: #008080; text-decoration-color: #008080\">     r </span>│<span style=\"color: #008080; text-decoration-color: #008080\">   96627 </span>│\n",
       "│<span style=\"color: #008080; text-decoration-color: #008080\">     s </span>│<span style=\"color: #008080; text-decoration-color: #008080\">   85196 </span>│\n",
       "│<span style=\"color: #008080; text-decoration-color: #008080\">     c </span>│<span style=\"color: #008080; text-decoration-color: #008080\">   73597 </span>│\n",
       "│<span style=\"color: #008080; text-decoration-color: #008080\">     d </span>│<span style=\"color: #008080; text-decoration-color: #008080\">   61342 </span>│\n",
       "│<span style=\"color: #008080; text-decoration-color: #008080\">     u </span>│<span style=\"color: #008080; text-decoration-color: #008080\">   50264 </span>│\n",
       "│<span style=\"color: #008080; text-decoration-color: #008080\">     m </span>│<span style=\"color: #008080; text-decoration-color: #008080\">   41692 </span>│\n",
       "│<span style=\"color: #008080; text-decoration-color: #008080\">     p </span>│<span style=\"color: #008080; text-decoration-color: #008080\">   41242 </span>│\n",
       "│<span style=\"color: #008080; text-decoration-color: #008080\">     g </span>│<span style=\"color: #008080; text-decoration-color: #008080\">   31026 </span>│\n",
       "│<span style=\"color: #008080; text-decoration-color: #008080\">     f </span>│<span style=\"color: #008080; text-decoration-color: #008080\">   20722 </span>│\n",
       "│<span style=\"color: #008080; text-decoration-color: #008080\">     v </span>│<span style=\"color: #008080; text-decoration-color: #008080\">   20705 </span>│\n",
       "│<span style=\"color: #008080; text-decoration-color: #008080\">     h </span>│<span style=\"color: #008080; text-decoration-color: #008080\">   16677 </span>│\n",
       "│<span style=\"color: #008080; text-decoration-color: #008080\">     z </span>│<span style=\"color: #008080; text-decoration-color: #008080\">   15909 </span>│\n",
       "│<span style=\"color: #008080; text-decoration-color: #008080\">     b </span>│<span style=\"color: #008080; text-decoration-color: #008080\">   14418 </span>│\n",
       "│<span style=\"color: #008080; text-decoration-color: #008080\">     q </span>│<span style=\"color: #008080; text-decoration-color: #008080\">    5442 </span>│\n",
       "│<span style=\"color: #008080; text-decoration-color: #008080\">     à </span>│<span style=\"color: #008080; text-decoration-color: #008080\">    3741 </span>│\n",
       "│<span style=\"color: #008080; text-decoration-color: #008080\">     è </span>│<span style=\"color: #008080; text-decoration-color: #008080\">    3294 </span>│\n",
       "│<span style=\"color: #008080; text-decoration-color: #008080\">     ò </span>│<span style=\"color: #008080; text-decoration-color: #008080\">    1464 </span>│\n",
       "│<span style=\"color: #008080; text-decoration-color: #008080\">     ù </span>│<span style=\"color: #008080; text-decoration-color: #008080\">    1229 </span>│\n",
       "│<span style=\"color: #008080; text-decoration-color: #008080\">     é </span>│<span style=\"color: #008080; text-decoration-color: #008080\">     880 </span>│\n",
       "│<span style=\"color: #008080; text-decoration-color: #008080\">     ì </span>│<span style=\"color: #008080; text-decoration-color: #008080\">     504 </span>│\n",
       "│<span style=\"color: #008080; text-decoration-color: #008080\">     í </span>│<span style=\"color: #008080; text-decoration-color: #008080\">      30 </span>│\n",
       "│<span style=\"color: #008080; text-decoration-color: #008080\">     ó </span>│<span style=\"color: #008080; text-decoration-color: #008080\">      14 </span>│\n",
       "│<span style=\"color: #008080; text-decoration-color: #008080\">     ú </span>│<span style=\"color: #008080; text-decoration-color: #008080\">       7 </span>│\n",
       "└───────┴─────────┘\n",
       "</pre>\n"
      ],
      "text/plain": [
       "\u001b[3m      корпус       \u001b[0m\n",
       "┏━━━━━━━┳━━━━━━━━━┓\n",
       "┃\u001b[1m \u001b[0m\u001b[1mбуква\u001b[0m\u001b[1m \u001b[0m┃\u001b[1m \u001b[0m\u001b[1mчастота\u001b[0m\u001b[1m \u001b[0m┃\n",
       "┡━━━━━━━╇━━━━━━━━━┩\n",
       "│\u001b[36m \u001b[0m\u001b[36m    i\u001b[0m\u001b[36m \u001b[0m│\u001b[36m \u001b[0m\u001b[36m 194942\u001b[0m\u001b[36m \u001b[0m│\n",
       "│\u001b[36m \u001b[0m\u001b[36m    e\u001b[0m\u001b[36m \u001b[0m│\u001b[36m \u001b[0m\u001b[36m 185602\u001b[0m\u001b[36m \u001b[0m│\n",
       "│\u001b[36m \u001b[0m\u001b[36m    a\u001b[0m\u001b[36m \u001b[0m│\u001b[36m \u001b[0m\u001b[36m 163406\u001b[0m\u001b[36m \u001b[0m│\n",
       "│\u001b[36m \u001b[0m\u001b[36m    o\u001b[0m\u001b[36m \u001b[0m│\u001b[36m \u001b[0m\u001b[36m 144081\u001b[0m\u001b[36m \u001b[0m│\n",
       "│\u001b[36m \u001b[0m\u001b[36m    n\u001b[0m\u001b[36m \u001b[0m│\u001b[36m \u001b[0m\u001b[36m 116464\u001b[0m\u001b[36m \u001b[0m│\n",
       "│\u001b[36m \u001b[0m\u001b[36m    l\u001b[0m\u001b[36m \u001b[0m│\u001b[36m \u001b[0m\u001b[36m 110967\u001b[0m\u001b[36m \u001b[0m│\n",
       "│\u001b[36m \u001b[0m\u001b[36m    t\u001b[0m\u001b[36m \u001b[0m│\u001b[36m \u001b[0m\u001b[36m 105815\u001b[0m\u001b[36m \u001b[0m│\n",
       "│\u001b[36m \u001b[0m\u001b[36m    r\u001b[0m\u001b[36m \u001b[0m│\u001b[36m \u001b[0m\u001b[36m  96627\u001b[0m\u001b[36m \u001b[0m│\n",
       "│\u001b[36m \u001b[0m\u001b[36m    s\u001b[0m\u001b[36m \u001b[0m│\u001b[36m \u001b[0m\u001b[36m  85196\u001b[0m\u001b[36m \u001b[0m│\n",
       "│\u001b[36m \u001b[0m\u001b[36m    c\u001b[0m\u001b[36m \u001b[0m│\u001b[36m \u001b[0m\u001b[36m  73597\u001b[0m\u001b[36m \u001b[0m│\n",
       "│\u001b[36m \u001b[0m\u001b[36m    d\u001b[0m\u001b[36m \u001b[0m│\u001b[36m \u001b[0m\u001b[36m  61342\u001b[0m\u001b[36m \u001b[0m│\n",
       "│\u001b[36m \u001b[0m\u001b[36m    u\u001b[0m\u001b[36m \u001b[0m│\u001b[36m \u001b[0m\u001b[36m  50264\u001b[0m\u001b[36m \u001b[0m│\n",
       "│\u001b[36m \u001b[0m\u001b[36m    m\u001b[0m\u001b[36m \u001b[0m│\u001b[36m \u001b[0m\u001b[36m  41692\u001b[0m\u001b[36m \u001b[0m│\n",
       "│\u001b[36m \u001b[0m\u001b[36m    p\u001b[0m\u001b[36m \u001b[0m│\u001b[36m \u001b[0m\u001b[36m  41242\u001b[0m\u001b[36m \u001b[0m│\n",
       "│\u001b[36m \u001b[0m\u001b[36m    g\u001b[0m\u001b[36m \u001b[0m│\u001b[36m \u001b[0m\u001b[36m  31026\u001b[0m\u001b[36m \u001b[0m│\n",
       "│\u001b[36m \u001b[0m\u001b[36m    f\u001b[0m\u001b[36m \u001b[0m│\u001b[36m \u001b[0m\u001b[36m  20722\u001b[0m\u001b[36m \u001b[0m│\n",
       "│\u001b[36m \u001b[0m\u001b[36m    v\u001b[0m\u001b[36m \u001b[0m│\u001b[36m \u001b[0m\u001b[36m  20705\u001b[0m\u001b[36m \u001b[0m│\n",
       "│\u001b[36m \u001b[0m\u001b[36m    h\u001b[0m\u001b[36m \u001b[0m│\u001b[36m \u001b[0m\u001b[36m  16677\u001b[0m\u001b[36m \u001b[0m│\n",
       "│\u001b[36m \u001b[0m\u001b[36m    z\u001b[0m\u001b[36m \u001b[0m│\u001b[36m \u001b[0m\u001b[36m  15909\u001b[0m\u001b[36m \u001b[0m│\n",
       "│\u001b[36m \u001b[0m\u001b[36m    b\u001b[0m\u001b[36m \u001b[0m│\u001b[36m \u001b[0m\u001b[36m  14418\u001b[0m\u001b[36m \u001b[0m│\n",
       "│\u001b[36m \u001b[0m\u001b[36m    q\u001b[0m\u001b[36m \u001b[0m│\u001b[36m \u001b[0m\u001b[36m   5442\u001b[0m\u001b[36m \u001b[0m│\n",
       "│\u001b[36m \u001b[0m\u001b[36m    à\u001b[0m\u001b[36m \u001b[0m│\u001b[36m \u001b[0m\u001b[36m   3741\u001b[0m\u001b[36m \u001b[0m│\n",
       "│\u001b[36m \u001b[0m\u001b[36m    è\u001b[0m\u001b[36m \u001b[0m│\u001b[36m \u001b[0m\u001b[36m   3294\u001b[0m\u001b[36m \u001b[0m│\n",
       "│\u001b[36m \u001b[0m\u001b[36m    ò\u001b[0m\u001b[36m \u001b[0m│\u001b[36m \u001b[0m\u001b[36m   1464\u001b[0m\u001b[36m \u001b[0m│\n",
       "│\u001b[36m \u001b[0m\u001b[36m    ù\u001b[0m\u001b[36m \u001b[0m│\u001b[36m \u001b[0m\u001b[36m   1229\u001b[0m\u001b[36m \u001b[0m│\n",
       "│\u001b[36m \u001b[0m\u001b[36m    é\u001b[0m\u001b[36m \u001b[0m│\u001b[36m \u001b[0m\u001b[36m    880\u001b[0m\u001b[36m \u001b[0m│\n",
       "│\u001b[36m \u001b[0m\u001b[36m    ì\u001b[0m\u001b[36m \u001b[0m│\u001b[36m \u001b[0m\u001b[36m    504\u001b[0m\u001b[36m \u001b[0m│\n",
       "│\u001b[36m \u001b[0m\u001b[36m    í\u001b[0m\u001b[36m \u001b[0m│\u001b[36m \u001b[0m\u001b[36m     30\u001b[0m\u001b[36m \u001b[0m│\n",
       "│\u001b[36m \u001b[0m\u001b[36m    ó\u001b[0m\u001b[36m \u001b[0m│\u001b[36m \u001b[0m\u001b[36m     14\u001b[0m\u001b[36m \u001b[0m│\n",
       "│\u001b[36m \u001b[0m\u001b[36m    ú\u001b[0m\u001b[36m \u001b[0m│\u001b[36m \u001b[0m\u001b[36m      7\u001b[0m\u001b[36m \u001b[0m│\n",
       "└───────┴─────────┘\n"
      ]
     },
     "metadata": {},
     "output_type": "display_data"
    }
   ],
   "source": [
    "let_freq(letters_it)"
   ]
  },
  {
   "cell_type": "code",
   "execution_count": 29,
   "metadata": {},
   "outputs": [
    {
     "data": {
      "text/html": [
       "<pre style=\"white-space:pre;overflow-x:auto;line-height:normal;font-family:Menlo,'DejaVu Sans Mono',consolas,'Courier New',monospace\"><span style=\"font-style: italic\">         корпус проценты         </span>\n",
       "┏━━━━━━━┳━━━━━━━━━━━━━━━━━━━━━━━┓\n",
       "┃<span style=\"font-weight: bold\"> буква </span>┃<span style=\"font-weight: bold\"> частота (в процентах) </span>┃\n",
       "┡━━━━━━━╇━━━━━━━━━━━━━━━━━━━━━━━┩\n",
       "│<span style=\"color: #008080; text-decoration-color: #008080\">     i </span>│<span style=\"color: #008080; text-decoration-color: #008080\">                 12.13 </span>│\n",
       "│<span style=\"color: #008080; text-decoration-color: #008080\">     e </span>│<span style=\"color: #008080; text-decoration-color: #008080\">                 11.55 </span>│\n",
       "│<span style=\"color: #008080; text-decoration-color: #008080\">     a </span>│<span style=\"color: #008080; text-decoration-color: #008080\">                 10.17 </span>│\n",
       "│<span style=\"color: #008080; text-decoration-color: #008080\">     o </span>│<span style=\"color: #008080; text-decoration-color: #008080\">                  8.96 </span>│\n",
       "│<span style=\"color: #008080; text-decoration-color: #008080\">     n </span>│<span style=\"color: #008080; text-decoration-color: #008080\">                  7.25 </span>│\n",
       "│<span style=\"color: #008080; text-decoration-color: #008080\">     l </span>│<span style=\"color: #008080; text-decoration-color: #008080\">                   6.9 </span>│\n",
       "│<span style=\"color: #008080; text-decoration-color: #008080\">     t </span>│<span style=\"color: #008080; text-decoration-color: #008080\">                  6.58 </span>│\n",
       "│<span style=\"color: #008080; text-decoration-color: #008080\">     r </span>│<span style=\"color: #008080; text-decoration-color: #008080\">                  6.01 </span>│\n",
       "│<span style=\"color: #008080; text-decoration-color: #008080\">     s </span>│<span style=\"color: #008080; text-decoration-color: #008080\">                   5.3 </span>│\n",
       "│<span style=\"color: #008080; text-decoration-color: #008080\">     c </span>│<span style=\"color: #008080; text-decoration-color: #008080\">                  4.58 </span>│\n",
       "│<span style=\"color: #008080; text-decoration-color: #008080\">     d </span>│<span style=\"color: #008080; text-decoration-color: #008080\">                  3.82 </span>│\n",
       "│<span style=\"color: #008080; text-decoration-color: #008080\">     u </span>│<span style=\"color: #008080; text-decoration-color: #008080\">                  3.13 </span>│\n",
       "│<span style=\"color: #008080; text-decoration-color: #008080\">     m </span>│<span style=\"color: #008080; text-decoration-color: #008080\">                  2.59 </span>│\n",
       "│<span style=\"color: #008080; text-decoration-color: #008080\">     p </span>│<span style=\"color: #008080; text-decoration-color: #008080\">                  2.57 </span>│\n",
       "│<span style=\"color: #008080; text-decoration-color: #008080\">     g </span>│<span style=\"color: #008080; text-decoration-color: #008080\">                  1.93 </span>│\n",
       "│<span style=\"color: #008080; text-decoration-color: #008080\">     f </span>│<span style=\"color: #008080; text-decoration-color: #008080\">                  1.29 </span>│\n",
       "│<span style=\"color: #008080; text-decoration-color: #008080\">     v </span>│<span style=\"color: #008080; text-decoration-color: #008080\">                  1.29 </span>│\n",
       "│<span style=\"color: #008080; text-decoration-color: #008080\">     h </span>│<span style=\"color: #008080; text-decoration-color: #008080\">                  1.04 </span>│\n",
       "│<span style=\"color: #008080; text-decoration-color: #008080\">     z </span>│<span style=\"color: #008080; text-decoration-color: #008080\">                  0.99 </span>│\n",
       "│<span style=\"color: #008080; text-decoration-color: #008080\">     b </span>│<span style=\"color: #008080; text-decoration-color: #008080\">                   0.9 </span>│\n",
       "│<span style=\"color: #008080; text-decoration-color: #008080\">     q </span>│<span style=\"color: #008080; text-decoration-color: #008080\">                  0.34 </span>│\n",
       "│<span style=\"color: #008080; text-decoration-color: #008080\">     à </span>│<span style=\"color: #008080; text-decoration-color: #008080\">                  0.23 </span>│\n",
       "│<span style=\"color: #008080; text-decoration-color: #008080\">     è </span>│<span style=\"color: #008080; text-decoration-color: #008080\">                   0.2 </span>│\n",
       "│<span style=\"color: #008080; text-decoration-color: #008080\">     ò </span>│<span style=\"color: #008080; text-decoration-color: #008080\">                  0.09 </span>│\n",
       "│<span style=\"color: #008080; text-decoration-color: #008080\">     ù </span>│<span style=\"color: #008080; text-decoration-color: #008080\">                  0.08 </span>│\n",
       "│<span style=\"color: #008080; text-decoration-color: #008080\">     é </span>│<span style=\"color: #008080; text-decoration-color: #008080\">                  0.05 </span>│\n",
       "│<span style=\"color: #008080; text-decoration-color: #008080\">     ì </span>│<span style=\"color: #008080; text-decoration-color: #008080\">                  0.03 </span>│\n",
       "│<span style=\"color: #008080; text-decoration-color: #008080\">     í </span>│<span style=\"color: #008080; text-decoration-color: #008080\">                   0.0 </span>│\n",
       "│<span style=\"color: #008080; text-decoration-color: #008080\">     ú </span>│<span style=\"color: #008080; text-decoration-color: #008080\">                   0.0 </span>│\n",
       "│<span style=\"color: #008080; text-decoration-color: #008080\">     ó </span>│<span style=\"color: #008080; text-decoration-color: #008080\">                   0.0 </span>│\n",
       "└───────┴───────────────────────┘\n",
       "</pre>\n"
      ],
      "text/plain": [
       "\u001b[3m         корпус проценты         \u001b[0m\n",
       "┏━━━━━━━┳━━━━━━━━━━━━━━━━━━━━━━━┓\n",
       "┃\u001b[1m \u001b[0m\u001b[1mбуква\u001b[0m\u001b[1m \u001b[0m┃\u001b[1m \u001b[0m\u001b[1mчастота (в процентах)\u001b[0m\u001b[1m \u001b[0m┃\n",
       "┡━━━━━━━╇━━━━━━━━━━━━━━━━━━━━━━━┩\n",
       "│\u001b[36m \u001b[0m\u001b[36m    i\u001b[0m\u001b[36m \u001b[0m│\u001b[36m \u001b[0m\u001b[36m                12.13\u001b[0m\u001b[36m \u001b[0m│\n",
       "│\u001b[36m \u001b[0m\u001b[36m    e\u001b[0m\u001b[36m \u001b[0m│\u001b[36m \u001b[0m\u001b[36m                11.55\u001b[0m\u001b[36m \u001b[0m│\n",
       "│\u001b[36m \u001b[0m\u001b[36m    a\u001b[0m\u001b[36m \u001b[0m│\u001b[36m \u001b[0m\u001b[36m                10.17\u001b[0m\u001b[36m \u001b[0m│\n",
       "│\u001b[36m \u001b[0m\u001b[36m    o\u001b[0m\u001b[36m \u001b[0m│\u001b[36m \u001b[0m\u001b[36m                 8.96\u001b[0m\u001b[36m \u001b[0m│\n",
       "│\u001b[36m \u001b[0m\u001b[36m    n\u001b[0m\u001b[36m \u001b[0m│\u001b[36m \u001b[0m\u001b[36m                 7.25\u001b[0m\u001b[36m \u001b[0m│\n",
       "│\u001b[36m \u001b[0m\u001b[36m    l\u001b[0m\u001b[36m \u001b[0m│\u001b[36m \u001b[0m\u001b[36m                  6.9\u001b[0m\u001b[36m \u001b[0m│\n",
       "│\u001b[36m \u001b[0m\u001b[36m    t\u001b[0m\u001b[36m \u001b[0m│\u001b[36m \u001b[0m\u001b[36m                 6.58\u001b[0m\u001b[36m \u001b[0m│\n",
       "│\u001b[36m \u001b[0m\u001b[36m    r\u001b[0m\u001b[36m \u001b[0m│\u001b[36m \u001b[0m\u001b[36m                 6.01\u001b[0m\u001b[36m \u001b[0m│\n",
       "│\u001b[36m \u001b[0m\u001b[36m    s\u001b[0m\u001b[36m \u001b[0m│\u001b[36m \u001b[0m\u001b[36m                  5.3\u001b[0m\u001b[36m \u001b[0m│\n",
       "│\u001b[36m \u001b[0m\u001b[36m    c\u001b[0m\u001b[36m \u001b[0m│\u001b[36m \u001b[0m\u001b[36m                 4.58\u001b[0m\u001b[36m \u001b[0m│\n",
       "│\u001b[36m \u001b[0m\u001b[36m    d\u001b[0m\u001b[36m \u001b[0m│\u001b[36m \u001b[0m\u001b[36m                 3.82\u001b[0m\u001b[36m \u001b[0m│\n",
       "│\u001b[36m \u001b[0m\u001b[36m    u\u001b[0m\u001b[36m \u001b[0m│\u001b[36m \u001b[0m\u001b[36m                 3.13\u001b[0m\u001b[36m \u001b[0m│\n",
       "│\u001b[36m \u001b[0m\u001b[36m    m\u001b[0m\u001b[36m \u001b[0m│\u001b[36m \u001b[0m\u001b[36m                 2.59\u001b[0m\u001b[36m \u001b[0m│\n",
       "│\u001b[36m \u001b[0m\u001b[36m    p\u001b[0m\u001b[36m \u001b[0m│\u001b[36m \u001b[0m\u001b[36m                 2.57\u001b[0m\u001b[36m \u001b[0m│\n",
       "│\u001b[36m \u001b[0m\u001b[36m    g\u001b[0m\u001b[36m \u001b[0m│\u001b[36m \u001b[0m\u001b[36m                 1.93\u001b[0m\u001b[36m \u001b[0m│\n",
       "│\u001b[36m \u001b[0m\u001b[36m    f\u001b[0m\u001b[36m \u001b[0m│\u001b[36m \u001b[0m\u001b[36m                 1.29\u001b[0m\u001b[36m \u001b[0m│\n",
       "│\u001b[36m \u001b[0m\u001b[36m    v\u001b[0m\u001b[36m \u001b[0m│\u001b[36m \u001b[0m\u001b[36m                 1.29\u001b[0m\u001b[36m \u001b[0m│\n",
       "│\u001b[36m \u001b[0m\u001b[36m    h\u001b[0m\u001b[36m \u001b[0m│\u001b[36m \u001b[0m\u001b[36m                 1.04\u001b[0m\u001b[36m \u001b[0m│\n",
       "│\u001b[36m \u001b[0m\u001b[36m    z\u001b[0m\u001b[36m \u001b[0m│\u001b[36m \u001b[0m\u001b[36m                 0.99\u001b[0m\u001b[36m \u001b[0m│\n",
       "│\u001b[36m \u001b[0m\u001b[36m    b\u001b[0m\u001b[36m \u001b[0m│\u001b[36m \u001b[0m\u001b[36m                  0.9\u001b[0m\u001b[36m \u001b[0m│\n",
       "│\u001b[36m \u001b[0m\u001b[36m    q\u001b[0m\u001b[36m \u001b[0m│\u001b[36m \u001b[0m\u001b[36m                 0.34\u001b[0m\u001b[36m \u001b[0m│\n",
       "│\u001b[36m \u001b[0m\u001b[36m    à\u001b[0m\u001b[36m \u001b[0m│\u001b[36m \u001b[0m\u001b[36m                 0.23\u001b[0m\u001b[36m \u001b[0m│\n",
       "│\u001b[36m \u001b[0m\u001b[36m    è\u001b[0m\u001b[36m \u001b[0m│\u001b[36m \u001b[0m\u001b[36m                  0.2\u001b[0m\u001b[36m \u001b[0m│\n",
       "│\u001b[36m \u001b[0m\u001b[36m    ò\u001b[0m\u001b[36m \u001b[0m│\u001b[36m \u001b[0m\u001b[36m                 0.09\u001b[0m\u001b[36m \u001b[0m│\n",
       "│\u001b[36m \u001b[0m\u001b[36m    ù\u001b[0m\u001b[36m \u001b[0m│\u001b[36m \u001b[0m\u001b[36m                 0.08\u001b[0m\u001b[36m \u001b[0m│\n",
       "│\u001b[36m \u001b[0m\u001b[36m    é\u001b[0m\u001b[36m \u001b[0m│\u001b[36m \u001b[0m\u001b[36m                 0.05\u001b[0m\u001b[36m \u001b[0m│\n",
       "│\u001b[36m \u001b[0m\u001b[36m    ì\u001b[0m\u001b[36m \u001b[0m│\u001b[36m \u001b[0m\u001b[36m                 0.03\u001b[0m\u001b[36m \u001b[0m│\n",
       "│\u001b[36m \u001b[0m\u001b[36m    í\u001b[0m\u001b[36m \u001b[0m│\u001b[36m \u001b[0m\u001b[36m                  0.0\u001b[0m\u001b[36m \u001b[0m│\n",
       "│\u001b[36m \u001b[0m\u001b[36m    ú\u001b[0m\u001b[36m \u001b[0m│\u001b[36m \u001b[0m\u001b[36m                  0.0\u001b[0m\u001b[36m \u001b[0m│\n",
       "│\u001b[36m \u001b[0m\u001b[36m    ó\u001b[0m\u001b[36m \u001b[0m│\u001b[36m \u001b[0m\u001b[36m                  0.0\u001b[0m\u001b[36m \u001b[0m│\n",
       "└───────┴───────────────────────┘\n"
      ]
     },
     "metadata": {},
     "output_type": "display_data"
    }
   ],
   "source": [
    "let_freq_pers(letters_it)"
   ]
  },
  {
   "cell_type": "code",
   "execution_count": 30,
   "metadata": {},
   "outputs": [
    {
     "data": {
      "image/png": "[encoded data removed]",
      "text/plain": [
       "<Figure size 640x480 with 1 Axes>"
      ]
     },
     "metadata": {},
     "output_type": "display_data"
    }
   ],
   "source": [
    "plot(letters_it)"
   ]
  },
  {
   "cell_type": "code",
   "execution_count": null,
   "metadata": {},
   "outputs": [],
   "source": [
    "tsipf(letters_it)"
   ]
  },
  {
   "cell_type": "code",
   "execution_count": null,
   "metadata": {},
   "outputs": [],
   "source": [
    "plot_ind(letters_it)"
   ]
  },
  {
   "cell_type": "code",
   "execution_count": null,
   "metadata": {},
   "outputs": [],
   "source": [
    "fig = plt.figure()\n",
    "ax_ru = fig.add_subplot(111)\n",
    "ax_eng = fig.add_subplot(212)\n",
    "ax_tur = fig.add_subplot(313)\n",
    "ax_lit = fig.add_subplot(414)\n",
    "ax_fr = fig.add_subplot(125)\n",
    "ax_de = fig.add_subplot(226)\n",
    "ax_it = fig.add_subplot(327)\n",
    "\n",
    "ax_ru.set_title('Русский')\n",
    "x_rus = [str(i) for i in letters.keys()]\n",
    "y_rus = [i for i in letters.values()]\n",
    "x_grid_rus = x_rus\n",
    "y_grid_rus = [round(max([i for i in letters.values()]) / i, 1) for i in range(1, 33)]\n",
    "ax_ru.plot(x_rus, y_rus, marker='o', markersize = 3)\n",
    "ax_ru.plot(x_grid_rus, y_grid_rus, marker='o', markersize = 3)\n",
    "ax_ru.set_yticks([y_grid_rus[0], y_grid_rus[1], y_grid_rus[2], y_grid_rus[7], y_grid_rus[15], y_grid_rus[len(y_grid_rus)-1]])\n",
    "plt.grid(True, color = \"grey\", linewidth = \"0.8\", linestyle = '--')\n",
    "\n",
    "fig.set_figheight(10)\n",
    "fig.set_figwidth(15)\n",
    "plt.show()"
   ]
  },
  {
   "cell_type": "code",
   "execution_count": 7,
   "metadata": {},
   "outputs": [
    {
     "name": "stdout",
     "output_type": "stream",
     "text": [
      "af: af - Taalwetenskappe: https://af.wikipedia.org/wiki/Taalwetenskappe\n",
      "als: als - Linguistik: https://als.wikipedia.org/wiki/Linguistik\n",
      "am: am - የቋንቋ ጥናት: https://am.wikipedia.org/wiki/%E1%8B%A8%E1%89%8B%E1%8A%95%E1%89%8B_%E1%8C%A5%E1%8A%93%E1%89%B5\n",
      "an: an - Lingüistica: https://an.wikipedia.org/wiki/Ling%C3%BCistica\n",
      "ang: ang - Sprǣccræft: https://ang.wikipedia.org/wiki/Spr%C7%A3ccr%C3%A6ft\n",
      "ar: ar - لسانيات: https://ar.wikipedia.org/wiki/%D9%84%D8%B3%D8%A7%D9%86%D9%8A%D8%A7%D8%AA\n",
      "arz: arz - علم اللغويات: https://arz.wikipedia.org/wiki/%D8%B9%D9%84%D9%85_%D8%A7%D9%84%D9%84%D8%BA%D9%88%D9%8A%D8%A7%D8%AA\n",
      "as: as - ভাষাবিজ্ঞান: https://as.wikipedia.org/wiki/%E0%A6%AD%E0%A6%BE%E0%A6%B7%E0%A6%BE%E0%A6%AC%E0%A6%BF%E0%A6%9C%E0%A7%8D%E0%A6%9E%E0%A6%BE%E0%A6%A8\n",
      "ast: ast - Llingüística: https://ast.wikipedia.org/wiki/Lling%C3%BC%C3%ADstica\n",
      "avk: avk - Avopa: https://avk.wikipedia.org/wiki/Avopa\n",
      "az: az - Dilçilik: https://az.wikipedia.org/wiki/Dil%C3%A7ilik\n",
      "azb: azb - دیلچیلیک: https://azb.wikipedia.org/wiki/%D8%AF%DB%8C%D9%84%DA%86%DB%8C%D9%84%DB%8C%DA%A9\n",
      "ba: ba - Тел ғилеме: https://ba.wikipedia.org/wiki/%D0%A2%D0%B5%D0%BB_%D2%93%D0%B8%D0%BB%D0%B5%D0%BC%D0%B5\n",
      "ban: ban - Linguistik: https://ban.wikipedia.org/wiki/Linguistik\n",
      "bat-smg: bat-smg - Kalbuotīra: https://bat-smg.wikipedia.org/wiki/Kalbuot%C4%ABra\n",
      "bcl: bcl - Linggwistika: https://bcl.wikipedia.org/wiki/Linggwistika\n",
      "be: be - Мовазнаўства: https://be.wikipedia.org/wiki/%D0%9C%D0%BE%D0%B2%D0%B0%D0%B7%D0%BD%D0%B0%D1%9E%D1%81%D1%82%D0%B2%D0%B0\n",
      "be-x-old: be-x-old - Мовазнаўства: https://be-tarask.wikipedia.org/wiki/%D0%9C%D0%BE%D0%B2%D0%B0%D0%B7%D0%BD%D0%B0%D1%9E%D1%81%D1%82%D0%B2%D0%B0\n",
      "bg: bg - Езикознание: https://bg.wikipedia.org/wiki/%D0%95%D0%B7%D0%B8%D0%BA%D0%BE%D0%B7%D0%BD%D0%B0%D0%BD%D0%B8%D0%B5\n",
      "bh: bh - भाषा बिज्ञान: https://bh.wikipedia.org/wiki/%E0%A4%AD%E0%A4%BE%E0%A4%B7%E0%A4%BE_%E0%A4%AC%E0%A4%BF%E0%A4%9C%E0%A5%8D%E0%A4%9E%E0%A4%BE%E0%A4%A8\n",
      "bjn: bjn - Linguistik: https://bjn.wikipedia.org/wiki/Linguistik\n",
      "blk: blk - ဘာႏသာႏဗေႏဒ: https://blk.wikipedia.org/wiki/%E1%80%98%E1%80%AC%E1%82%8F%E1%80%9E%E1%80%AC%E1%82%8F%E1%80%97%E1%80%B1%E1%82%8F%E1%80%92\n",
      "bm: bm - Kankalan: https://bm.wikipedia.org/wiki/Kankalan\n",
      "bn: bn - ভাষাবিজ্ঞান: https://bn.wikipedia.org/wiki/%E0%A6%AD%E0%A6%BE%E0%A6%B7%E0%A6%BE%E0%A6%AC%E0%A6%BF%E0%A6%9C%E0%A7%8D%E0%A6%9E%E0%A6%BE%E0%A6%A8\n",
      "bo: bo - སྐད་བརྡ་རིག་པ།: https://bo.wikipedia.org/wiki/%E0%BD%A6%E0%BE%90%E0%BD%91%E0%BC%8B%E0%BD%96%E0%BD%A2%E0%BE%A1%E0%BC%8B%E0%BD%A2%E0%BD%B2%E0%BD%82%E0%BC%8B%E0%BD%94%E0%BC%8D\n",
      "br: br - Yezhoniezh: https://br.wikipedia.org/wiki/Yezhoniezh\n",
      "bs: bs - Lingvistika: https://bs.wikipedia.org/wiki/Lingvistika\n",
      "ca: ca - Lingüística: https://ca.wikipedia.org/wiki/Ling%C3%BC%C3%ADstica\n",
      "cdo: cdo - Ngṳ̄-ngiòng-hŏk: https://cdo.wikipedia.org/wiki/Ng%E1%B9%B3%CC%84-ngi%C3%B2ng-h%C5%8Fk\n",
      "ce: ce - Лингвистика: https://ce.wikipedia.org/wiki/%D0%9B%D0%B8%D0%BD%D0%B3%D0%B2%D0%B8%D1%81%D1%82%D0%B8%D0%BA%D0%B0\n",
      "ceb: ceb - Linggwistika: https://ceb.wikipedia.org/wiki/Linggwistika\n",
      "ckb: ckb - زمانەوانی: https://ckb.wikipedia.org/wiki/%D8%B2%D9%85%D8%A7%D9%86%DB%95%D9%88%D8%A7%D9%86%DB%8C\n",
      "co: co - Linguistica: https://co.wikipedia.org/wiki/Linguistica\n",
      "cs: cs - Lingvistika: https://cs.wikipedia.org/wiki/Lingvistika\n",
      "csb: csb - Lingwistika: https://csb.wikipedia.org/wiki/Lingwistika\n",
      "cu: cu - Ѩꙁꙑкоꙁнаниѥ: https://cu.wikipedia.org/wiki/%D1%A8%EA%99%81%EA%99%91%D0%BA%D0%BE%EA%99%81%D0%BD%D0%B0%D0%BD%D0%B8%D1%A5\n",
      "cv: cv - Лингвистика: https://cv.wikipedia.org/wiki/%D0%9B%D0%B8%D0%BD%D0%B3%D0%B2%D0%B8%D1%81%D1%82%D0%B8%D0%BA%D0%B0\n",
      "cy: cy - Ieithyddiaeth: https://cy.wikipedia.org/wiki/Ieithyddiaeth\n",
      "da: da - Sprogvidenskab: https://da.wikipedia.org/wiki/Sprogvidenskab\n",
      "de: de - Sprachwissenschaft: https://de.wikipedia.org/wiki/Sprachwissenschaft\n",
      "din: din - Piööcëthook: https://din.wikipedia.org/wiki/Pi%C3%B6%C3%B6c%C3%ABthook\n",
      "diq: diq - Zıwanşınasiye: https://diq.wikipedia.org/wiki/Z%C4%B1wan%C5%9F%C4%B1nasiye\n",
      "dsb: dsb - Rěcywěda: https://dsb.wikipedia.org/wiki/R%C4%9Bcyw%C4%9Bda\n",
      "dv: dv - ބަހަވިއްޔާތު: https://dv.wikipedia.org/wiki/%DE%84%DE%A6%DE%80%DE%A6%DE%88%DE%A8%DE%87%DE%B0%DE%94%DE%A7%DE%8C%DE%AA\n",
      "el: el - Γλωσσολογία: https://el.wikipedia.org/wiki/%CE%93%CE%BB%CF%89%CF%83%CF%83%CE%BF%CE%BB%CE%BF%CE%B3%CE%AF%CE%B1\n",
      "eo: eo - Lingvistiko: https://eo.wikipedia.org/wiki/Lingvistiko\n",
      "es: es - Lingüística: https://es.wikipedia.org/wiki/Ling%C3%BC%C3%ADstica\n",
      "et: et - Keeleteadus: https://et.wikipedia.org/wiki/Keeleteadus\n",
      "eu: eu - Hizkuntzalaritza: https://eu.wikipedia.org/wiki/Hizkuntzalaritza\n",
      "ext: ext - Lingüistica: https://ext.wikipedia.org/wiki/Ling%C3%BCistica\n",
      "fa: fa - زبان‌شناسی: https://fa.wikipedia.org/wiki/%D8%B2%D8%A8%D8%A7%D9%86%E2%80%8C%D8%B4%D9%86%D8%A7%D8%B3%DB%8C\n",
      "fi: fi - Kielitiede: https://fi.wikipedia.org/wiki/Kielitiede\n",
      "fiu-vro: fiu-vro - Keeletiidüs: https://fiu-vro.wikipedia.org/wiki/Keeletiid%C3%BCs\n",
      "fj: fj - Linguistics: https://fj.wikipedia.org/wiki/Linguistics\n",
      "fo: fo - Málfrøði: https://fo.wikipedia.org/wiki/M%C3%A1lfr%C3%B8%C3%B0i\n",
      "fr: fr - Linguistique: https://fr.wikipedia.org/wiki/Linguistique\n",
      "frp: frp - Lengouistica: https://frp.wikipedia.org/wiki/Lengouistica\n",
      "frr: frr - Portaal:Spräkewaasenschap: https://frr.wikipedia.org/wiki/Portaal:Spr%C3%A4kewaasenschap\n",
      "fur: fur - Lenghistiche: https://fur.wikipedia.org/wiki/Lenghistiche\n",
      "fy: fy - Taalkunde: https://fy.wikipedia.org/wiki/Taalkunde\n",
      "ga: ga - Teangeolaíocht: https://ga.wikipedia.org/wiki/Teangeola%C3%ADocht\n",
      "gcr: gcr - Lengwistik: https://gcr.wikipedia.org/wiki/Lengwistik\n",
      "gd: gd - Cànanachas: https://gd.wikipedia.org/wiki/C%C3%A0nanachas\n",
      "gl: gl - Lingüística: https://gl.wikipedia.org/wiki/Ling%C3%BC%C3%ADstica\n",
      "gn: gn - Ñe'ẽkuaaty ha Ñe'ẽtekuaa: https://gn.wikipedia.org/wiki/%C3%91e%27%E1%BA%BDkuaaty_ha_%C3%91e%27%E1%BA%BDtekuaa\n",
      "guc: guc - Anüikii: https://guc.wikipedia.org/wiki/An%C3%BCikii\n",
      "gv: gv - Çhengoaylleeaght: https://gv.wikipedia.org/wiki/%C3%87hengoaylleeaght\n",
      "he: he - בלשנות: https://he.wikipedia.org/wiki/%D7%91%D7%9C%D7%A9%D7%A0%D7%95%D7%AA\n",
      "hi: hi - भाषाविज्ञान: https://hi.wikipedia.org/wiki/%E0%A4%AD%E0%A4%BE%E0%A4%B7%E0%A4%BE%E0%A4%B5%E0%A4%BF%E0%A4%9C%E0%A5%8D%E0%A4%9E%E0%A4%BE%E0%A4%A8\n",
      "hif: hif - Linguistics: https://hif.wikipedia.org/wiki/Linguistics\n",
      "hr: hr - Jezikoslovlje: https://hr.wikipedia.org/wiki/Jezikoslovlje\n",
      "hsb: hsb - Rěčespyt: https://hsb.wikipedia.org/wiki/R%C4%9B%C4%8Despyt\n",
      "ht: ht - Lengwistik: https://ht.wikipedia.org/wiki/Lengwistik\n",
      "hu: hu - Nyelvészet: https://hu.wikipedia.org/wiki/Nyelv%C3%A9szet\n",
      "hy: hy - Լեզվաբանություն: https://hy.wikipedia.org/wiki/%D4%BC%D5%A5%D5%A6%D5%BE%D5%A1%D5%A2%D5%A1%D5%B6%D5%B8%D6%82%D5%A9%D5%B5%D5%B8%D6%82%D5%B6\n",
      "hyw: hyw - Լեզուաբանութիւն: https://hyw.wikipedia.org/wiki/%D4%BC%D5%A5%D5%A6%D5%B8%D6%82%D5%A1%D5%A2%D5%A1%D5%B6%D5%B8%D6%82%D5%A9%D5%AB%D6%82%D5%B6\n",
      "ia: ia - Linguistica: https://ia.wikipedia.org/wiki/Linguistica\n",
      "id: id - Linguistik: https://id.wikipedia.org/wiki/Linguistik\n",
      "ie: ie - Linguistica: https://ie.wikipedia.org/wiki/Linguistica\n",
      "ilo: ilo - Lingguistika: https://ilo.wikipedia.org/wiki/Lingguistika\n",
      "inh: inh - Лингвистика: https://inh.wikipedia.org/wiki/%D0%9B%D0%B8%D0%BD%D0%B3%D0%B2%D0%B8%D1%81%D1%82%D0%B8%D0%BA%D0%B0\n",
      "io: io - Linguistiko: https://io.wikipedia.org/wiki/Linguistiko\n",
      "is: is - Málvísindi: https://is.wikipedia.org/wiki/M%C3%A1lv%C3%ADsindi\n",
      "it: it - Linguistica: https://it.wikipedia.org/wiki/Linguistica\n",
      "iu: iu - ᐅᖄᓯᓕᕆᓂᖅ: https://iu.wikipedia.org/wiki/%E1%90%85%E1%96%84%E1%93%AF%E1%93%95%E1%95%86%E1%93%82%E1%96%85\n",
      "ja: ja - 言語学: https://ja.wikipedia.org/wiki/%E8%A8%80%E8%AA%9E%E5%AD%A6\n",
      "jbo: jbo - bauske: https://jbo.wikipedia.org/wiki/bauske\n",
      "jv: jv - Linguistik: https://jv.wikipedia.org/wiki/Linguistik\n",
      "ka: ka - ენათმეცნიერება: https://ka.wikipedia.org/wiki/%E1%83%94%E1%83%9C%E1%83%90%E1%83%97%E1%83%9B%E1%83%94%E1%83%AA%E1%83%9C%E1%83%98%E1%83%94%E1%83%A0%E1%83%94%E1%83%91%E1%83%90\n",
      "kab: kab - Tasnilest tamatut: https://kab.wikipedia.org/wiki/Tasnilest_tamatut\n",
      "kcg: kcg - Lyenlilyem: https://kcg.wikipedia.org/wiki/Lyenlilyem\n",
      "kk: kk - Лингвистика: https://kk.wikipedia.org/wiki/%D0%9B%D0%B8%D0%BD%D0%B3%D0%B2%D0%B8%D1%81%D1%82%D0%B8%D0%BA%D0%B0\n",
      "km: km - ភាសាសាស្ត្រ: https://km.wikipedia.org/wiki/%E1%9E%97%E1%9E%B6%E1%9E%9F%E1%9E%B6%E1%9E%9F%E1%9E%B6%E1%9E%9F%E1%9F%92%E1%9E%8F%E1%9F%92%E1%9E%9A\n",
      "kn: kn - ಭಾಷಾ ವಿಜ್ಞಾನ: https://kn.wikipedia.org/wiki/%E0%B2%AD%E0%B2%BE%E0%B2%B7%E0%B2%BE_%E0%B2%B5%E0%B2%BF%E0%B2%9C%E0%B3%8D%E0%B2%9E%E0%B2%BE%E0%B2%A8\n",
      "ko: ko - 언어학: https://ko.wikipedia.org/wiki/%EC%96%B8%EC%96%B4%ED%95%99\n",
      "krc: krc - Лингвистика: https://krc.wikipedia.org/wiki/%D0%9B%D0%B8%D0%BD%D0%B3%D0%B2%D0%B8%D1%81%D1%82%D0%B8%D0%BA%D0%B0\n",
      "ku: ku - Zimannasî: https://ku.wikipedia.org/wiki/Zimannas%C3%AE\n",
      "kw: kw - Sciens yeth: https://kw.wikipedia.org/wiki/Sciens_yeth\n",
      "ky: ky - Тилбилим: https://ky.wikipedia.org/wiki/%D0%A2%D0%B8%D0%BB%D0%B1%D0%B8%D0%BB%D0%B8%D0%BC\n",
      "la: la - Linguistica: https://la.wikipedia.org/wiki/Linguistica\n",
      "lad: lad - Linguistika: https://lad.wikipedia.org/wiki/Linguistika\n",
      "lb: lb - Sproochwëssenschaft: https://lb.wikipedia.org/wiki/Sproochw%C3%ABssenschaft\n",
      "lfn: lfn - Linguistica: https://lfn.wikipedia.org/wiki/Linguistica\n",
      "li: li - Taalweitesjap: https://li.wikipedia.org/wiki/Taalweitesjap\n",
      "lij: lij - Lengoìstica: https://lij.wikipedia.org/wiki/Lengo%C3%ACstica\n",
      "lld: lld - Linguistica: https://lld.wikipedia.org/wiki/Linguistica\n",
      "lmo: lmo - Lenguistega: https://lmo.wikipedia.org/wiki/Lenguistega\n",
      "lo: lo - ພາສາສາດ: https://lo.wikipedia.org/wiki/%E0%BA%9E%E0%BA%B2%E0%BA%AA%E0%BA%B2%E0%BA%AA%E0%BA%B2%E0%BA%94\n",
      "lt: lt - Kalbotyra: https://lt.wikipedia.org/wiki/Kalbotyra\n",
      "ltg: ltg - Volūdzineiba: https://ltg.wikipedia.org/wiki/Vol%C5%ABdzineiba\n",
      "lv: lv - Valodniecība: https://lv.wikipedia.org/wiki/Valodniec%C4%ABba\n",
      "mdf: mdf - Кяльлувкссодама: https://mdf.wikipedia.org/wiki/%D0%9A%D1%8F%D0%BB%D1%8C%D0%BB%D1%83%D0%B2%D0%BA%D1%81%D1%81%D0%BE%D0%B4%D0%B0%D0%BC%D0%B0\n",
      "mg: mg - Haitsikerafiteny: https://mg.wikipedia.org/wiki/Haitsikerafiteny\n",
      "mhr: mhr - Йылмышанче: https://mhr.wikipedia.org/wiki/%D0%99%D1%8B%D0%BB%D0%BC%D1%8B%D1%88%D0%B0%D0%BD%D1%87%D0%B5\n",
      "min: min - Linguistik: https://min.wikipedia.org/wiki/Linguistik\n",
      "mk: mk - Лингвистика: https://mk.wikipedia.org/wiki/%D0%9B%D0%B8%D0%BD%D0%B3%D0%B2%D0%B8%D1%81%D1%82%D0%B8%D0%BA%D0%B0\n",
      "ml: ml - ഭാഷാശാസ്ത്രം: https://ml.wikipedia.org/wiki/%E0%B4%AD%E0%B4%BE%E0%B4%B7%E0%B4%BE%E0%B4%B6%E0%B4%BE%E0%B4%B8%E0%B5%8D%E0%B4%A4%E0%B5%8D%E0%B4%B0%E0%B4%82\n",
      "mr: mr - भाषाशास्त्र: https://mr.wikipedia.org/wiki/%E0%A4%AD%E0%A4%BE%E0%A4%B7%E0%A4%BE%E0%A4%B6%E0%A4%BE%E0%A4%B8%E0%A5%8D%E0%A4%A4%E0%A5%8D%E0%A4%B0\n",
      "ms: ms - Linguistik: https://ms.wikipedia.org/wiki/Linguistik\n",
      "my: my - ဘာသာဗေဒ: https://my.wikipedia.org/wiki/%E1%80%98%E1%80%AC%E1%80%9E%E1%80%AC%E1%80%97%E1%80%B1%E1%80%92\n",
      "nah: nah - Tlahtolmatiliztli: https://nah.wikipedia.org/wiki/Tlahtolmatiliztli\n",
      "nb: nb - Lingvistikk: https://no.wikipedia.org/wiki/Lingvistikk\n",
      "nds: nds - Spraakwetenschop: https://nds.wikipedia.org/wiki/Spraakwetenschop\n",
      "nds-nl: nds-nl - Sproaklear: https://nds-nl.wikipedia.org/wiki/Sproaklear\n",
      "ne: ne - भाषाविज्ञान: https://ne.wikipedia.org/wiki/%E0%A4%AD%E0%A4%BE%E0%A4%B7%E0%A4%BE%E0%A4%B5%E0%A4%BF%E0%A4%9C%E0%A5%8D%E0%A4%9E%E0%A4%BE%E0%A4%A8\n",
      "nl: nl - Taalkunde: https://nl.wikipedia.org/wiki/Taalkunde\n",
      "nn: nn - Lingvistikk: https://nn.wikipedia.org/wiki/Lingvistikk\n",
      "nov: nov - Linguistike: https://nov.wikipedia.org/wiki/Linguistike\n",
      "nqo: nqo - ߞߊ߲ߟߐ߲ߘߐߦߊ: https://nqo.wikipedia.org/wiki/%DF%9E%DF%8A%DF%B2%DF%9F%DF%90%DF%B2%DF%98%DF%90%DF%A6%DF%8A\n",
      "nrm: nrm - Lîndgistique: https://nrm.wikipedia.org/wiki/L%C3%AEndgistique\n",
      "oc: oc - Lingüistica: https://oc.wikipedia.org/wiki/Ling%C3%BCistica\n",
      "or: or - ଭାଷା ବିଜ୍ଞାନ: https://or.wikipedia.org/wiki/%E0%AC%AD%E0%AC%BE%E0%AC%B7%E0%AC%BE_%E0%AC%AC%E0%AC%BF%E0%AC%9C%E0%AD%8D%E0%AC%9E%E0%AC%BE%E0%AC%A8\n",
      "os: os - Æвзагзонынад: https://os.wikipedia.org/wiki/%C3%86%D0%B2%D0%B7%D0%B0%D0%B3%D0%B7%D0%BE%D0%BD%D1%8B%D0%BD%D0%B0%D0%B4\n",
      "pa: pa - ਭਾਸ਼ਾ ਵਿਗਿਆਨ: https://pa.wikipedia.org/wiki/%E0%A8%AD%E0%A8%BE%E0%A8%B8%E0%A8%BC%E0%A8%BE_%E0%A8%B5%E0%A8%BF%E0%A8%97%E0%A8%BF%E0%A8%86%E0%A8%A8\n",
      "pam: pam - Lingguistika: https://pam.wikipedia.org/wiki/Lingguistika\n",
      "pap: pap - Linguistica: https://pap.wikipedia.org/wiki/Linguistica\n",
      "pih: pih - Linguistiks: https://pih.wikipedia.org/wiki/Linguistiks\n",
      "pl: pl - Językoznawstwo: https://pl.wikipedia.org/wiki/J%C4%99zykoznawstwo\n",
      "pms: pms - Lenghìstica: https://pms.wikipedia.org/wiki/Lengh%C3%ACstica\n",
      "pnb: pnb - لسانیات: https://pnb.wikipedia.org/wiki/%D9%84%D8%B3%D8%A7%D9%86%DB%8C%D8%A7%D8%AA\n",
      "pnt: pnt - Γλωσσολογία: https://pnt.wikipedia.org/wiki/%CE%93%CE%BB%CF%89%CF%83%CF%83%CE%BF%CE%BB%CE%BF%CE%B3%CE%AF%CE%B1\n",
      "ps: ps - ژبپوهنه: https://ps.wikipedia.org/wiki/%DA%98%D8%A8%D9%BE%D9%88%D9%87%D9%86%D9%87\n",
      "pt: pt - Linguística: https://pt.wikipedia.org/wiki/Lingu%C3%ADstica\n",
      "qu: qu - Simi yachay: https://qu.wikipedia.org/wiki/Simi_yachay\n",
      "rmy: rmy - Chhibavipen: https://rmy.wikipedia.org/wiki/Chhibavipen\n",
      "ro: ro - Lingvistică: https://ro.wikipedia.org/wiki/Lingvistic%C4%83\n",
      "roa-rup: roa-rup - Lingvisticâ: https://roa-rup.wikipedia.org/wiki/Lingvistic%C3%A2\n",
      "ru: ru - Лингвистика: https://ru.wikipedia.org/wiki/%D0%9B%D0%B8%D0%BD%D0%B3%D0%B2%D0%B8%D1%81%D1%82%D0%B8%D0%BA%D0%B0\n",
      "rue: rue - Лінґвістіка: https://rue.wikipedia.org/wiki/%D0%9B%D1%96%D0%BD%D2%91%D0%B2%D1%96%D1%81%D1%82%D1%96%D0%BA%D0%B0\n",
      "sa: sa - भाषाविज्ञानम्: https://sa.wikipedia.org/wiki/%E0%A4%AD%E0%A4%BE%E0%A4%B7%E0%A4%BE%E0%A4%B5%E0%A4%BF%E0%A4%9C%E0%A5%8D%E0%A4%9E%E0%A4%BE%E0%A4%A8%E0%A4%AE%E0%A5%8D\n",
      "sah: sah - Тыл үөрэҕэ: https://sah.wikipedia.org/wiki/%D0%A2%D1%8B%D0%BB_%D2%AF%D3%A9%D1%80%D1%8D%D2%95%D1%8D\n",
      "sat: sat - ᱯᱟᱹᱨᱥᱤ ᱥᱟᱬᱮᱥ: https://sat.wikipedia.org/wiki/%E1%B1%AF%E1%B1%9F%E1%B1%B9%E1%B1%A8%E1%B1%A5%E1%B1%A4_%E1%B1%A5%E1%B1%9F%E1%B1%AC%E1%B1%AE%E1%B1%A5\n",
      "sc: sc - Linguìstica: https://sc.wikipedia.org/wiki/Lingu%C3%ACstica\n",
      "scn: scn - Linguìstica: https://scn.wikipedia.org/wiki/Lingu%C3%ACstica\n",
      "sco: sco - Lingueestics: https://sco.wikipedia.org/wiki/Lingueestics\n",
      "sd: sd - لسانيات: https://sd.wikipedia.org/wiki/%D9%84%D8%B3%D8%A7%D9%86%D9%8A%D8%A7%D8%AA\n",
      "sh: sh - Lingvistika: https://sh.wikipedia.org/wiki/Lingvistika\n",
      "si: si - වාග් විද්‍යාව: https://si.wikipedia.org/wiki/%E0%B7%80%E0%B7%8F%E0%B6%9C%E0%B7%8A_%E0%B7%80%E0%B7%92%E0%B6%AF%E0%B7%8A%E2%80%8D%E0%B6%BA%E0%B7%8F%E0%B7%80\n",
      "simple: simple - Linguistics: https://simple.wikipedia.org/wiki/Linguistics\n",
      "sk: sk - Jazykoveda: https://sk.wikipedia.org/wiki/Jazykoveda\n",
      "sl: sl - Jezikoslovje: https://sl.wikipedia.org/wiki/Jezikoslovje\n",
      "smn: smn - Kielâtieđâ: https://smn.wikipedia.org/wiki/Kiel%C3%A2tie%C4%91%C3%A2\n",
      "sn: sn - Ururimi: https://sn.wikipedia.org/wiki/Ururimi\n",
      "sq: sq - Gjuhësia: https://sq.wikipedia.org/wiki/Gjuh%C3%ABsia\n",
      "sr: sr - Лингвистика: https://sr.wikipedia.org/wiki/%D0%9B%D0%B8%D0%BD%D0%B3%D0%B2%D0%B8%D1%81%D1%82%D0%B8%D0%BA%D0%B0\n",
      "stq: stq - Sproakwietenskup: https://stq.wikipedia.org/wiki/Sproakwietenskup\n",
      "su: su - Linguistik: https://su.wikipedia.org/wiki/Linguistik\n",
      "sv: sv - Språkvetenskap: https://sv.wikipedia.org/wiki/Spr%C3%A5kvetenskap\n",
      "sw: sw - Isimu: https://sw.wikipedia.org/wiki/Isimu\n",
      "ta: ta - மொழியியல்: https://ta.wikipedia.org/wiki/%E0%AE%AE%E0%AF%8A%E0%AE%B4%E0%AE%BF%E0%AE%AF%E0%AE%BF%E0%AE%AF%E0%AE%B2%E0%AF%8D\n",
      "tg: tg - Забоншиносӣ: https://tg.wikipedia.org/wiki/%D0%97%D0%B0%D0%B1%D0%BE%D0%BD%D1%88%D0%B8%D0%BD%D0%BE%D1%81%D3%A3\n",
      "th: th - ภาษาศาสตร์: https://th.wikipedia.org/wiki/%E0%B8%A0%E0%B8%B2%E0%B8%A9%E0%B8%B2%E0%B8%A8%E0%B8%B2%E0%B8%AA%E0%B8%95%E0%B8%A3%E0%B9%8C\n",
      "tl: tl - Lingguwistika: https://tl.wikipedia.org/wiki/Lingguwistika\n",
      "tpi: tpi - Stadi bilong pasin bilong ol tokples: https://tpi.wikipedia.org/wiki/Stadi_bilong_pasin_bilong_ol_tokples\n",
      "tr: tr - Dilbilim: https://tr.wikipedia.org/wiki/Dilbilim\n",
      "trv: trv - Knklaan krkari: https://trv.wikipedia.org/wiki/Knklaan_krkari\n",
      "tt: tt - Tel beleme: https://tt.wikipedia.org/wiki/Tel_beleme\n",
      "ug: ug - تىلشۇناسلىق: https://ug.wikipedia.org/wiki/%D8%AA%D9%89%D9%84%D8%B4%DB%87%D9%86%D8%A7%D8%B3%D9%84%D9%89%D9%82\n",
      "uk: uk - Мовознавство: https://uk.wikipedia.org/wiki/%D0%9C%D0%BE%D0%B2%D0%BE%D0%B7%D0%BD%D0%B0%D0%B2%D1%81%D1%82%D0%B2%D0%BE\n",
      "ur: ur - لسانیات: https://ur.wikipedia.org/wiki/%D9%84%D8%B3%D8%A7%D9%86%DB%8C%D8%A7%D8%AA\n",
      "uz: uz - Tilshunoslik: https://uz.wikipedia.org/wiki/Tilshunoslik\n",
      "vec: vec - Lenguìstega: https://vec.wikipedia.org/wiki/Lengu%C3%ACstega\n",
      "vep: vep - Kelentedo: https://vep.wikipedia.org/wiki/Kelentedo\n",
      "vi: vi - Ngôn ngữ học: https://vi.wikipedia.org/wiki/Ng%C3%B4n_ng%E1%BB%AF_h%E1%BB%8Dc\n",
      "wa: wa - Linwince: https://wa.wikipedia.org/wiki/Linwince\n",
      "war: war - Lingguwistika: https://war.wikipedia.org/wiki/Lingguwistika\n",
      "wuu: wuu - 语言学: https://wuu.wikipedia.org/wiki/%E8%AF%AD%E8%A8%80%E5%AD%A6\n",
      "xmf: xmf - ლინგვისტიკა: https://xmf.wikipedia.org/wiki/%E1%83%9A%E1%83%98%E1%83%9C%E1%83%92%E1%83%95%E1%83%98%E1%83%A1%E1%83%A2%E1%83%98%E1%83%99%E1%83%90\n",
      "yi: yi - לינגוויסטיק: https://yi.wikipedia.org/wiki/%D7%9C%D7%99%D7%A0%D7%92%D7%95%D7%95%D7%99%D7%A1%D7%98%D7%99%D7%A7\n",
      "zea: zea - Taelkunde: https://zea.wikipedia.org/wiki/Taelkunde\n",
      "zh: zh - 语言学: https://zh.wikipedia.org/wiki/%E8%AF%AD%E8%A8%80%E5%AD%A6\n",
      "zh-classical: zh-classical - 語言學: https://zh-classical.wikipedia.org/wiki/%E8%AA%9E%E8%A8%80%E5%AD%B8\n",
      "zh-min-nan: zh-min-nan - Giân-gú-ha̍k: https://zh-min-nan.wikipedia.org/wiki/Gi%C3%A2n-g%C3%BA-ha%CC%8Dk\n",
      "zh-yue: zh-yue - 語言學: https://zh-yue.wikipedia.org/wiki/%E8%AA%9E%E8%A8%80%E5%AD%B8\n"
     ]
    }
   ],
   "source": [
    "def print_langlinks(page):\n",
    "    langlinks = page.langlinks\n",
    "    for k in sorted(langlinks.keys()):\n",
    "        v = langlinks[k]\n",
    "        print(f\"{k}: {v.language} - {v.title}: {v.fullurl}\")\n",
    "\n",
    "print_langlinks(page_py)"
   ]
  }
 ],
 "metadata": {
  "kernelspec": {
   "display_name": "Python 3",
   "language": "python",
   "name": "python3"
  },
  "language_info": {
   "codemirror_mode": {
    "name": "ipython",
    "version": 3
   },
   "file_extension": ".py",
   "mimetype": "text/x-python",
   "name": "python",
   "nbconvert_exporter": "python",
   "pygments_lexer": "ipython3",
   "version": "3.10.2"
  },
  "orig_nbformat": 4
 },
 "nbformat": 4,
 "nbformat_minor": 2
}
